{
 "cells": [
  {
   "cell_type": "markdown",
   "id": "ddf5cd88",
   "metadata": {
    "id": "ddf5cd88"
   },
   "source": [
    "##  Baseline 제공 목적 \n",
    "- 제공한 데이터세트를 활용한 머신러닝 Pipeline(분석절차)이 올바르게 동작하는지를 확인\n",
    "- 제공한 데이터세트를 활용하여 분석 대상 기준 정의 및 제출 결과 파일 생성 방법 등에 참고\n",
    "\n",
    "※ 주어진 베이스라인 모델은 예시이며, 참가자들은 자유롭게 분석 방법 및 항목 변경 가능\n",
    "\n",
    "---------------\n",
    "\n",
    "## Baseline 목차 \n",
    "\n",
    "\n",
    "- [1. 분석환경 구축](#01)\n",
    "    - [1.1  Colab 구글드라이브 연동](#01-01)\n",
    "    - [1.2  라이브러리 임포트](#01-02)\n",
    "- [2. 데이터 읽기](#02)\n",
    "    - [2.1 데이터 통합](#02-01)\n",
    "    - [2.2 데이터 설명](#02-02)  \n",
    "- [3. 탐색적 데이터 분석](#03)\n",
    "\n",
    "    - [3.1 타깃 변수 분포 확인하기](#03-01)\n",
    "    - [3.2 센서 변수와 타깃 변수의 상관관계 파악](#03-02)\n",
    "    - [3.3 범주형 변수에 따른 타깃 변수의 변화](#03-03)\n",
    "    - [3.4 전체 공정 소요시간에 따른 타깃 변수의 변화](#03-04)\n",
    "    - [3.5 센서의 집약된 통계량에 따른 타깃 변수의 변화](#03-05)\n",
    "\n",
    "- [4. 데이터 전처리](#04)\n",
    "    - [4.1 내부 데이터를 통한 변수 생성](#04-01)\n",
    "    - [4.2 이상치 치환하기](#04-02)\n",
    "    - [4.3 분산이 적은 변수 제거](#04-03)\n",
    "    - [4.4 표준화](#04-04)\n",
    "    - [4.5 원-핫 인코딩](#04-05)\n",
    "    - [4.6 변수 선택](#04-06)\n",
    "\n",
    "- [5. 모델링](#05)\n",
    "    - [5.1 데이터 분할](#05-01)\n",
    "    - [5.2 릿지 회귀 모델](#05-02)\n",
    "    - [5.3 랜덤 포레스트 모델](#05-03)\n",
    "    - [5.4 최종 모델 구축](#05-04)\n",
    "    - [5.5 결과 해석](#05-05)\n",
    "    - [5.6 예측 결과 파일 제출](#05-06)\n",
    "\n",
    "\n",
    "\n",
    "\n"
   ]
  },
  {
   "cell_type": "markdown",
   "id": "7f70174a",
   "metadata": {
    "id": "7f70174a"
   },
   "source": [
    "<a name='01'></a>\n",
    "## 1. 분석환경 구축 "
   ]
  },
  {
   "cell_type": "markdown",
   "id": "54777026",
   "metadata": {
    "id": "54777026"
   },
   "source": [
    "<a name='01-01'></a>\n",
    "### 1.1 git에서 데이터 가져오기"
   ]
  },
  {
   "cell_type": "code",
   "execution_count": 1,
   "id": "0129b0eb",
   "metadata": {
    "colab": {
     "base_uri": "https://localhost:8080/"
    },
    "executionInfo": {
     "elapsed": 1932,
     "status": "ok",
     "timestamp": 1657191879907,
     "user": {
      "displayName": "sungil im",
      "userId": "03307293503234277322"
     },
     "user_tz": -540
    },
    "id": "0129b0eb",
    "outputId": "1eed1d41-4198-4325-8ec1-1cafdcd51bbb"
   },
   "outputs": [],
   "source": [
    "# 구글 Colaboratory 를 사용하기 위해 구글 계정으로 로그인합니다. \n",
    "# from google.colab import drive\n",
    "# drive.mount('/content/drive')\n",
    "\n",
    "# !wget https://github.com/intelliguy/study-AI/raw/skai/2nd-skai/predict_sensor.csv  \n",
    "# !wget https://github.com/intelliguy/study-AI/raw/skai/2nd-skai/train_quality.csv  \n",
    "# !wget https://github.com/intelliguy/study-AI/raw/skai/2nd-skai/train_sensor.csv"
   ]
  },
  {
   "cell_type": "markdown",
   "id": "d3016eeb",
   "metadata": {
    "id": "d3016eeb"
   },
   "source": [
    "<a name='01-02'></a>\n",
    "### 1.2 라이브러리 임포트"
   ]
  },
  {
   "cell_type": "code",
   "execution_count": 2,
   "id": "ce2d12a0",
   "metadata": {
    "executionInfo": {
     "elapsed": 1883,
     "status": "ok",
     "timestamp": 1657191881788,
     "user": {
      "displayName": "sungil im",
      "userId": "03307293503234277322"
     },
     "user_tz": -540
    },
    "id": "ce2d12a0"
   },
   "outputs": [],
   "source": [
    "import warnings\n",
    "warnings.filterwarnings('ignore')\n",
    "\n",
    "# 데이터 읽기를 위한 라이브러리\n",
    "import numpy as np\n",
    "np.random.seed(0)\n",
    "import pandas as pd\n",
    "import gc, os, time\n",
    "import scipy as sp\n",
    "import statsmodels.api as sm\n",
    "from pandas import DataFrame, Series\n",
    "from datetime import datetime, date, timedelta\n",
    "from sklearn.preprocessing import StandardScaler, LabelEncoder\n",
    "\n",
    "# 탐색적 데이터 분석을 위한 라이브러리\n",
    "import seaborn as sns\n",
    "import matplotlib.pyplot as plt\n",
    "from scipy.stats import skew, norm, probplot, boxcox\n",
    "\n",
    "# 모델링을 위한 라이브러리\n",
    "from sklearn.linear_model import Ridge\n",
    "from sklearn.ensemble import RandomForestRegressor\n",
    "from sklearn.metrics import mean_squared_error\n",
    "from sklearn.model_selection import train_test_split, GridSearchCV\n",
    "from sklearn.feature_selection import SelectKBest, mutual_info_regression, VarianceThreshold"
   ]
  },
  {
   "cell_type": "markdown",
   "id": "32ab1be0",
   "metadata": {
    "id": "32ab1be0"
   },
   "source": [
    "<a name='02'></a>\n",
    "## 2. 데이터 읽기\n",
    "\n",
    "데이터 파일을 불러옵니다."
   ]
  },
  {
   "cell_type": "code",
   "execution_count": 3,
   "id": "b752d71e",
   "metadata": {
    "executionInfo": {
     "elapsed": 456,
     "status": "ok",
     "timestamp": 1657191882242,
     "user": {
      "displayName": "sungil im",
      "userId": "03307293503234277322"
     },
     "user_tz": -540
    },
    "id": "b752d71e"
   },
   "outputs": [],
   "source": [
    "# 구글 드라이브 내 데이터가 위치한 경로를 설정합니다.\n",
    "# path = 'drive/MyDrive/suni/'\n",
    "\n",
    "# 학습용 데이터 \n",
    "train_sensor = pd.read_csv('train_sensor.csv')\n",
    "train_quality = pd.read_csv('train_quality.csv')\n",
    "\n",
    "# 평가용 데이터 \n",
    "predict_sensor = pd.read_csv('predict_sensor.csv')"
   ]
  },
  {
   "cell_type": "markdown",
   "id": "iPLFrB16LoXG",
   "metadata": {
    "id": "iPLFrB16LoXG"
   },
   "source": [
    "\n",
    "train_sensor.csv : 장비 센서에서 수집한 95개의 파라미터 값들로 총 406,315건\n",
    "\n",
    "<img src=\"https://dev.dt-training.center/static/resources/20220616/24dc6e38-8ed3-40e6-a494-7cb7c6d07145\"\n",
    "     alt=\"Markdown Monster icon\"\n",
    "     style=\"float: left; margin-right: 10px;\" />\n",
    "\n",
    "|name|desc.|pk.|type|sample|\n",
    "|--|--|--|--|--|\n",
    "|module_name|장비ID||str|EQ7_PM2|\n",
    "|key_val|LOT ID + Wafer ID|Y|str|LOT102_18|\n",
    "|param_alias|param ID, 95개의 유형|Y|str|TIME_para7|\n",
    "|mean_val|sensor value(mean)||float|1401.1833|\n",
    "|end_time|공정완료시간||str|2021-10-04 06:37:59|\n",
    "|step_id|7개유형 (4,6,12,13,17,18,20)|Y|int|13|"
   ]
  },
  {
   "cell_type": "code",
   "execution_count": 4,
   "id": "9bb55898",
   "metadata": {
    "colab": {
     "base_uri": "https://localhost:8080/",
     "height": 178
    },
    "executionInfo": {
     "elapsed": 24,
     "status": "ok",
     "timestamp": 1657191882243,
     "user": {
      "displayName": "sungil im",
      "userId": "03307293503234277322"
     },
     "user_tz": -540
    },
    "id": "9bb55898",
    "outputId": "7ebb1ff1-b205-4532-ed06-5378bfb77988"
   },
   "outputs": [
    {
     "name": "stdout",
     "output_type": "stream",
     "text": [
      "총 개수: 406315\n",
      "[Sample]\n"
     ]
    },
    {
     "data": {
      "text/html": [
       "<div>\n",
       "<style scoped>\n",
       "    .dataframe tbody tr th:only-of-type {\n",
       "        vertical-align: middle;\n",
       "    }\n",
       "\n",
       "    .dataframe tbody tr th {\n",
       "        vertical-align: top;\n",
       "    }\n",
       "\n",
       "    .dataframe thead th {\n",
       "        text-align: right;\n",
       "    }\n",
       "</style>\n",
       "<table border=\"1\" class=\"dataframe\">\n",
       "  <thead>\n",
       "    <tr style=\"text-align: right;\">\n",
       "      <th></th>\n",
       "      <th>module_name</th>\n",
       "      <th>key_val</th>\n",
       "      <th>param_alias</th>\n",
       "      <th>mean_val</th>\n",
       "      <th>end_time</th>\n",
       "      <th>step_id</th>\n",
       "    </tr>\n",
       "  </thead>\n",
       "  <tbody>\n",
       "    <tr>\n",
       "      <th>0</th>\n",
       "      <td>EQ4_PM6</td>\n",
       "      <td>LOT64_18</td>\n",
       "      <td>EPD_para4</td>\n",
       "      <td>0.0000</td>\n",
       "      <td>2021-10-11 01:59:49</td>\n",
       "      <td>17</td>\n",
       "    </tr>\n",
       "    <tr>\n",
       "      <th>1</th>\n",
       "      <td>EQ7_PM2</td>\n",
       "      <td>LOT102_18</td>\n",
       "      <td>TIME_para7</td>\n",
       "      <td>1401.1833</td>\n",
       "      <td>2021-10-04 06:37:59</td>\n",
       "      <td>13</td>\n",
       "    </tr>\n",
       "    <tr>\n",
       "      <th>2</th>\n",
       "      <td>EQ8_PM2</td>\n",
       "      <td>LOT8_18</td>\n",
       "      <td>HV_para3</td>\n",
       "      <td>0.0000</td>\n",
       "      <td>2021-10-09 01:31:39</td>\n",
       "      <td>4</td>\n",
       "    </tr>\n",
       "  </tbody>\n",
       "</table>\n",
       "</div>"
      ],
      "text/plain": [
       "  module_name    key_val param_alias   mean_val             end_time  step_id\n",
       "0     EQ4_PM6   LOT64_18   EPD_para4     0.0000  2021-10-11 01:59:49       17\n",
       "1     EQ7_PM2  LOT102_18  TIME_para7  1401.1833  2021-10-04 06:37:59       13\n",
       "2     EQ8_PM2    LOT8_18    HV_para3     0.0000  2021-10-09 01:31:39        4"
      ]
     },
     "execution_count": 4,
     "metadata": {},
     "output_type": "execute_result"
    }
   ],
   "source": [
    "# 센서 변수 데이터프레임의 상위 3개 행을 출력합니다. \n",
    "print(f'총 개수: {len(train_sensor)}\\n[Sample]')\n",
    "train_sensor.head(3)"
   ]
  },
  {
   "cell_type": "markdown",
   "id": "gUu-sgMHNrG5",
   "metadata": {
    "id": "gUu-sgMHNrG5"
   },
   "source": [
    " train_quality.csv : 측정된 품질지표 값들로 총 611건\n",
    "<img src=\"https://dev.dt-training.center/static/resources/20220616/fb73a6c8-f3ca-4240-ae2e-cff9dbd05f05\"\n",
    "     alt=\"Markdown Monster icon\"\n",
    "     style=\"float: left; margin-right: 10px;\" />\n",
    "\n",
    "| order | name | desc. | pk. | type | sample |\n",
    "|--|--|--|--|--|--|\n",
    "|1|key_val|LOT ID + Wafer ID|Y|str|LOT1_21|\n",
    "|2|msure_val|측정값||float|281.14148|\n",
    "|3|end_dt_tm|계측시간||str|2021-10-11 21:00:17|"
   ]
  },
  {
   "cell_type": "code",
   "execution_count": 5,
   "id": "2d272248",
   "metadata": {
    "colab": {
     "base_uri": "https://localhost:8080/",
     "height": 178
    },
    "executionInfo": {
     "elapsed": 22,
     "status": "ok",
     "timestamp": 1657191882244,
     "user": {
      "displayName": "sungil im",
      "userId": "03307293503234277322"
     },
     "user_tz": -540
    },
    "id": "2d272248",
    "outputId": "ba7759a9-f506-4318-b3aa-f71143f2a170"
   },
   "outputs": [
    {
     "name": "stdout",
     "output_type": "stream",
     "text": [
      "총 개수: 611(unique611)\n",
      "[Sample]\n"
     ]
    },
    {
     "data": {
      "text/html": [
       "<div>\n",
       "<style scoped>\n",
       "    .dataframe tbody tr th:only-of-type {\n",
       "        vertical-align: middle;\n",
       "    }\n",
       "\n",
       "    .dataframe tbody tr th {\n",
       "        vertical-align: top;\n",
       "    }\n",
       "\n",
       "    .dataframe thead th {\n",
       "        text-align: right;\n",
       "    }\n",
       "</style>\n",
       "<table border=\"1\" class=\"dataframe\">\n",
       "  <thead>\n",
       "    <tr style=\"text-align: right;\">\n",
       "      <th></th>\n",
       "      <th>key_val</th>\n",
       "      <th>msure_val</th>\n",
       "      <th>end_dt_tm</th>\n",
       "    </tr>\n",
       "  </thead>\n",
       "  <tbody>\n",
       "    <tr>\n",
       "      <th>0</th>\n",
       "      <td>LOT1_21</td>\n",
       "      <td>1281.14148</td>\n",
       "      <td>2021-10-11 21:00:17</td>\n",
       "    </tr>\n",
       "    <tr>\n",
       "      <th>1</th>\n",
       "      <td>LOT2_04</td>\n",
       "      <td>1271.26772</td>\n",
       "      <td>2021-10-12 01:23:50</td>\n",
       "    </tr>\n",
       "    <tr>\n",
       "      <th>2</th>\n",
       "      <td>LOT3_18</td>\n",
       "      <td>1252.67080</td>\n",
       "      <td>2021-10-16 10:35:24</td>\n",
       "    </tr>\n",
       "  </tbody>\n",
       "</table>\n",
       "</div>"
      ],
      "text/plain": [
       "   key_val   msure_val            end_dt_tm\n",
       "0  LOT1_21  1281.14148  2021-10-11 21:00:17\n",
       "1  LOT2_04  1271.26772  2021-10-12 01:23:50\n",
       "2  LOT3_18  1252.67080  2021-10-16 10:35:24"
      ]
     },
     "execution_count": 5,
     "metadata": {},
     "output_type": "execute_result"
    }
   ],
   "source": [
    "# 타깃 변수 데이터프레임의 상위 3개 행을 출력합니다.\n",
    "print(f'총 개수: {len(train_quality)}(unique{len(train_quality[\"key_val\"].unique())})\\n[Sample]')\n",
    "train_quality.head(3)"
   ]
  },
  {
   "cell_type": "markdown",
   "id": "81VC6YznGK9t",
   "metadata": {
    "id": "81VC6YznGK9t"
   },
   "source": [
    "읽어들인 데이터를 기반으로 일단 느낌같은 느낌으로 분석해보면 \n",
    "일단 key_val 기준으로 다음개수가 함쳐져서 하나의 레코드로 나와야함\n"
   ]
  },
  {
   "cell_type": "code",
   "execution_count": 6,
   "id": "VaPS7K8Wwg0l",
   "metadata": {
    "colab": {
     "base_uri": "https://localhost:8080/"
    },
    "executionInfo": {
     "elapsed": 17,
     "status": "ok",
     "timestamp": 1657191882245,
     "user": {
      "displayName": "sungil im",
      "userId": "03307293503234277322"
     },
     "user_tz": -540
    },
    "id": "VaPS7K8Wwg0l",
    "outputId": "8e9b6861-a5ae-46ef-b340-3ed1a94b7659"
   },
   "outputs": [
    {
     "name": "stdout",
     "output_type": "stream",
     "text": [
      "모듈의 개수는 47 이고 모듈당 센서의 값은 95개로 설명에서 밝혔음\n",
      "공정의 개수는 7\n",
      "그래서 기대돼는 key당 sensor데이터는 31255\n",
      "단순하게 주어진 데이터의 개수를 통해 유추하면 665.0가 나와야 하고\n"
     ]
    }
   ],
   "source": [
    "# train_sensor['key_val'].value_counts()\n",
    "print(f\"모듈의 개수는 {len(train_sensor['module_name'].unique())} 이고 모듈당 센서의 값은 95개로 설명에서 밝혔음\")\n",
    "print(f\"공정의 개수는 {len(train_sensor['step_id'].unique())}\")\n",
    "print(f\"그래서 기대돼는 key당 sensor데이터는 {len(train_sensor['step_id'].unique())*len(train_sensor['module_name'].unique())*95}\")\n",
    "print(f\"단순하게 주어진 데이터의 개수를 통해 유추하면 {len(train_sensor)/len(train_quality)}가 나와야 하고\")"
   ]
  },
  {
   "cell_type": "code",
   "execution_count": 7,
   "id": "8PRilX9DwhKY",
   "metadata": {
    "colab": {
     "base_uri": "https://localhost:8080/",
     "height": 424
    },
    "executionInfo": {
     "elapsed": 14,
     "status": "ok",
     "timestamp": 1657191882245,
     "user": {
      "displayName": "sungil im",
      "userId": "03307293503234277322"
     },
     "user_tz": -540
    },
    "id": "8PRilX9DwhKY",
    "outputId": "4f6f2861-a2e4-45c6-fed6-91f3bd97e44a"
   },
   "outputs": [
    {
     "data": {
      "text/html": [
       "<div>\n",
       "<style scoped>\n",
       "    .dataframe tbody tr th:only-of-type {\n",
       "        vertical-align: middle;\n",
       "    }\n",
       "\n",
       "    .dataframe tbody tr th {\n",
       "        vertical-align: top;\n",
       "    }\n",
       "\n",
       "    .dataframe thead th {\n",
       "        text-align: right;\n",
       "    }\n",
       "</style>\n",
       "<table border=\"1\" class=\"dataframe\">\n",
       "  <thead>\n",
       "    <tr style=\"text-align: right;\">\n",
       "      <th></th>\n",
       "      <th>param_alias</th>\n",
       "      <th>mean_val</th>\n",
       "      <th>end_time</th>\n",
       "      <th>step_id</th>\n",
       "    </tr>\n",
       "  </thead>\n",
       "  <tbody>\n",
       "    <tr>\n",
       "      <th>1472</th>\n",
       "      <td>TEMP_para17</td>\n",
       "      <td>0.000000</td>\n",
       "      <td>2021-10-11 00:40:57</td>\n",
       "      <td>4</td>\n",
       "    </tr>\n",
       "    <tr>\n",
       "      <th>216509</th>\n",
       "      <td>TIME_para77</td>\n",
       "      <td>1758.567000</td>\n",
       "      <td>2021-10-11 00:40:57</td>\n",
       "      <td>4</td>\n",
       "    </tr>\n",
       "    <tr>\n",
       "      <th>215865</th>\n",
       "      <td>PRESSURE_para91</td>\n",
       "      <td>45.020000</td>\n",
       "      <td>2021-10-11 00:40:57</td>\n",
       "      <td>4</td>\n",
       "    </tr>\n",
       "    <tr>\n",
       "      <th>213244</th>\n",
       "      <td>TIME_para90</td>\n",
       "      <td>1758.567000</td>\n",
       "      <td>2021-10-11 00:40:57</td>\n",
       "      <td>4</td>\n",
       "    </tr>\n",
       "    <tr>\n",
       "      <th>206775</th>\n",
       "      <td>HV_para45</td>\n",
       "      <td>300.000000</td>\n",
       "      <td>2021-10-11 00:40:57</td>\n",
       "      <td>4</td>\n",
       "    </tr>\n",
       "    <tr>\n",
       "      <th>...</th>\n",
       "      <td>...</td>\n",
       "      <td>...</td>\n",
       "      <td>...</td>\n",
       "      <td>...</td>\n",
       "    </tr>\n",
       "    <tr>\n",
       "      <th>76674</th>\n",
       "      <td>TIME_para29</td>\n",
       "      <td>330.716700</td>\n",
       "      <td>2021-10-11 00:40:57</td>\n",
       "      <td>4</td>\n",
       "    </tr>\n",
       "    <tr>\n",
       "      <th>74811</th>\n",
       "      <td>GAS_para46</td>\n",
       "      <td>0.000000</td>\n",
       "      <td>2021-10-11 00:40:57</td>\n",
       "      <td>4</td>\n",
       "    </tr>\n",
       "    <tr>\n",
       "      <th>73504</th>\n",
       "      <td>GAS_para74</td>\n",
       "      <td>50.100000</td>\n",
       "      <td>2021-10-11 00:40:57</td>\n",
       "      <td>4</td>\n",
       "    </tr>\n",
       "    <tr>\n",
       "      <th>104876</th>\n",
       "      <td>GAS_para39</td>\n",
       "      <td>-0.001061</td>\n",
       "      <td>2021-10-11 00:40:57</td>\n",
       "      <td>4</td>\n",
       "    </tr>\n",
       "    <tr>\n",
       "      <th>286515</th>\n",
       "      <td>TEMP_para86</td>\n",
       "      <td>21.630300</td>\n",
       "      <td>2021-10-11 00:40:57</td>\n",
       "      <td>4</td>\n",
       "    </tr>\n",
       "  </tbody>\n",
       "</table>\n",
       "<p>95 rows × 4 columns</p>\n",
       "</div>"
      ],
      "text/plain": [
       "            param_alias     mean_val             end_time  step_id\n",
       "1472        TEMP_para17     0.000000  2021-10-11 00:40:57        4\n",
       "216509      TIME_para77  1758.567000  2021-10-11 00:40:57        4\n",
       "215865  PRESSURE_para91    45.020000  2021-10-11 00:40:57        4\n",
       "213244      TIME_para90  1758.567000  2021-10-11 00:40:57        4\n",
       "206775        HV_para45   300.000000  2021-10-11 00:40:57        4\n",
       "...                 ...          ...                  ...      ...\n",
       "76674       TIME_para29   330.716700  2021-10-11 00:40:57        4\n",
       "74811        GAS_para46     0.000000  2021-10-11 00:40:57        4\n",
       "73504        GAS_para74    50.100000  2021-10-11 00:40:57        4\n",
       "104876       GAS_para39    -0.001061  2021-10-11 00:40:57        4\n",
       "286515      TEMP_para86    21.630300  2021-10-11 00:40:57        4\n",
       "\n",
       "[95 rows x 4 columns]"
      ]
     },
     "execution_count": 7,
     "metadata": {},
     "output_type": "execute_result"
    }
   ],
   "source": [
    "# print(train_sensor.query(\"key_val=='LOT1_21'\").sort_values('param_alias'))\n",
    "\n",
    "# train_sensor.query(\"key_val=='LOT1_21'\").sort_values('step_id')\n",
    "train_sensor.query(\n",
    "    # \"key_val=='LOT1_21' and module_name=='EQ12_PM1'\"\n",
    "    \"key_val=='LOT1_21' and step_id==4 and module_name=='EQ12_PM1'\"\n",
    "  )[['param_alias','mean_val','end_time','step_id']].sort_values('step_id')\n",
    "\n"
   ]
  },
  {
   "cell_type": "markdown",
   "id": "qut7FWxh5wzT",
   "metadata": {
    "id": "qut7FWxh5wzT"
   },
   "source": [
    "위 내역을 살봤을때 \n",
    "* key_val의 값은 step_id, module_name\n",
    "* 7개의 스텝별로 95개 센서데이터가 발생\n",
    "* 즉, 키별로 95*7개의 데이터 665가 있음"
   ]
  },
  {
   "cell_type": "markdown",
   "id": "1613901b",
   "metadata": {
    "id": "1613901b"
   },
   "source": [
    "<a name='02-01'></a>\n",
    "### 2.1 데이터 통합 \n",
    "\n",
    "학습 데이터의 특징과 타깃 변수가 다른 파일에 존재하므로, 이를 통합하기 위한 작업을 수행합니다. \n",
    "\n",
    "key_val 을 기준으로 train_sensor (X인자)와 train_quality (y인자)의 데이터프레임을 통합합니다.\n",
    "\n",
    "key_val 별 665개의 센서값 컬럼을 생성하기 위해 pandas의 pivot_table 함수를 사용합니다. \n",
    "\n",
    "pivot_table 의 주요 인자는 **index, agg_func, columns** 입니다.\n",
    "\n",
    "1. **index** : key_val 을 기준으로 그룹핑을 하고자 하므로, index 에 key_val 과 그의 상위 그룹인 module_name 을 입력합니다.  \n",
    "2. **agg_func** : values 에 mean_val 을 입력하고, 해당 값에 대한 산식을 sum으로 설정합니다. \n",
    "3. **columns** : step_param 을 columns 인자로 주어, key_val 별 665개의 스텝 단위의 센서 특징을 생성합니다. "
   ]
  },
  {
   "cell_type": "code",
   "execution_count": 8,
   "id": "d7bc0916",
   "metadata": {
    "executionInfo": {
     "elapsed": 291,
     "status": "ok",
     "timestamp": 1657191882524,
     "user": {
      "displayName": "sungil im",
      "userId": "03307293503234277322"
     },
     "user_tz": -540
    },
    "id": "d7bc0916"
   },
   "outputs": [],
   "source": [
    "def make_dataset(X, y=None):\n",
    "    \n",
    "    # -----------------------------------\n",
    "    # train_sensor (X 인자)\n",
    "    # -----------------------------------\n",
    "    df_X = X.copy()\n",
    "    df_X['step_id'] = df_X['step_id'].apply(lambda x: str(x).zfill(2))\n",
    "    # step_id 와 param_alias 를 결합한 임시 컬럼 step_param 을 생성합니다. ex. 17_EPD_para4\n",
    "    df_X['step_param'] = df_X[['step_id', 'param_alias']].apply(lambda x: '_'.join(x), axis=1)\n",
    "    df_X_tmp = df_X.pivot_table(index = ['module_name','key_val'], columns = 'step_param', values='mean_val', aggfunc='sum')\n",
    "    # 데이터 통합을 위해 인덱스를 key_val 로 재설정합니다. \n",
    "    df_X_tmp = df_X_tmp.reset_index(level=[0, 1])\n",
    "    df_X_tmp.set_index('key_val', inplace=True)\n",
    "\n",
    "    # -----------------------------------\n",
    "    # 시간 데이터 \n",
    "    # -----------------------------------\n",
    "    df_X['end_time_tmp'] = df_X.apply(lambda x: x['step_id'] + '_end_time', axis=1)\n",
    "    df_X['end_time'] = pd.to_datetime(df_X['end_time'])\n",
    "    # end_time 은 센서 데이터가 서버에 도달한 시간으로 스텝 내 오차가 발생할 수 있습니다. 동일 스텝 구간내 공정 완료 시간이 다른 경우, max 함수를 사용하여 가장 최근에 수집된 시간을 가져옵니다. \n",
    "    df_time_tmp = df_X.pivot_table(index = ['key_val'], columns = 'end_time_tmp', values='end_time', aggfunc=lambda x : max(x.unique()))\n",
    "    df_time_tmp = df_time_tmp.reset_index()\n",
    "    df_time_tmp.set_index('key_val', inplace=True)\n",
    "\n",
    "    # -----------------------------------\n",
    "    # train_quality (y 인자)\n",
    "    # -----------------------------------\n",
    "\n",
    "    if y is None : # 평가용 데이터 \n",
    "      \n",
    "      col_target = []\n",
    "      col_idx = ['module_name', 'key_val']\n",
    "      df_complete = pd.concat([df_X_tmp, df_time_tmp], axis=1).reset_index()\n",
    "    \n",
    "    else : # 학습용 데이터 \n",
    "      df_y = y.copy()\n",
    "      df_y.set_index('key_val', inplace=True)\n",
    "      \n",
    "      col_target = ['y']\n",
    "      col_idx = ['module_name', 'key_val', 'end_dt_tm']\n",
    "      \n",
    "      # 센서 데이터, 시간데이터, 품질지표에 대하여 인덱스(key_val)기준으로 데이터프레임을 통합합니다.\n",
    "      df_complete = pd.concat([df_X_tmp, df_time_tmp, df_y], axis=1).reset_index()\n",
    "\n",
    "      # 컬럼 이름을 변경합니다.  \n",
    "      df_complete.rename(columns={'msure_val':'y'}, inplace=True)\n",
    "\n",
    "\n",
    "    # 컬럼 순서를 정렬합니다. \n",
    "    col_feats = df_X['step_param'].unique().tolist()\n",
    "    col_feats.sort()\n",
    "    col_time = [s for s in df_complete.columns.tolist() if \"_end_time\" in s]\n",
    "    col_all = col_idx + col_target + col_feats + col_time\n",
    "    df_complete = df_complete[col_all]\n",
    "    \n",
    "    # 컬럼을 소문자로 변경합니다. \n",
    "    df_complete.columns = df_complete.columns.str.lower()\n",
    "\n",
    "    return df_complete\n"
   ]
  },
  {
   "cell_type": "code",
   "execution_count": 9,
   "id": "73fd4a6b",
   "metadata": {
    "executionInfo": {
     "elapsed": 22712,
     "status": "ok",
     "timestamp": 1657191905234,
     "user": {
      "displayName": "sungil im",
      "userId": "03307293503234277322"
     },
     "user_tz": -540
    },
    "id": "73fd4a6b"
   },
   "outputs": [],
   "source": [
    "# 학습용 데이터 \n",
    "train = make_dataset(train_sensor, train_quality)\n",
    "# 평가용 데이터 \n",
    "predict = make_dataset(predict_sensor)"
   ]
  },
  {
   "cell_type": "code",
   "execution_count": 10,
   "id": "SIauyDrLJ5KX",
   "metadata": {
    "colab": {
     "base_uri": "https://localhost:8080/",
     "height": 306
    },
    "executionInfo": {
     "elapsed": 25,
     "status": "ok",
     "timestamp": 1657191905235,
     "user": {
      "displayName": "sungil im",
      "userId": "03307293503234277322"
     },
     "user_tz": -540
    },
    "id": "SIauyDrLJ5KX",
    "outputId": "78264859-fd52-4556-f6e3-6f510fa65132"
   },
   "outputs": [
    {
     "name": "stdout",
     "output_type": "stream",
     "text": [
      "676 = 665개 센서데이터 + 4개의 메타(module, key, end, y) + 7단계의 완료시간\n"
     ]
    },
    {
     "data": {
      "text/html": [
       "<div>\n",
       "<style scoped>\n",
       "    .dataframe tbody tr th:only-of-type {\n",
       "        vertical-align: middle;\n",
       "    }\n",
       "\n",
       "    .dataframe tbody tr th {\n",
       "        vertical-align: top;\n",
       "    }\n",
       "\n",
       "    .dataframe thead th {\n",
       "        text-align: right;\n",
       "    }\n",
       "</style>\n",
       "<table border=\"1\" class=\"dataframe\">\n",
       "  <thead>\n",
       "    <tr style=\"text-align: right;\">\n",
       "      <th></th>\n",
       "      <th>module_name</th>\n",
       "      <th>key_val</th>\n",
       "      <th>end_dt_tm</th>\n",
       "      <th>y</th>\n",
       "      <th>04_efem_para2</th>\n",
       "      <th>04_efem_para25</th>\n",
       "      <th>04_efem_para78</th>\n",
       "      <th>04_epd_para4</th>\n",
       "      <th>04_epd_para40</th>\n",
       "      <th>04_epd_para63</th>\n",
       "      <th>...</th>\n",
       "      <th>20_time_para9</th>\n",
       "      <th>20_time_para90</th>\n",
       "      <th>20_tmp_para31</th>\n",
       "      <th>04_end_time</th>\n",
       "      <th>06_end_time</th>\n",
       "      <th>12_end_time</th>\n",
       "      <th>13_end_time</th>\n",
       "      <th>17_end_time</th>\n",
       "      <th>18_end_time</th>\n",
       "      <th>20_end_time</th>\n",
       "    </tr>\n",
       "  </thead>\n",
       "  <tbody>\n",
       "    <tr>\n",
       "      <th>0</th>\n",
       "      <td>EQ10_PM1</td>\n",
       "      <td>LOT124_21</td>\n",
       "      <td>2021-10-18 18:12:50</td>\n",
       "      <td>1257.84920</td>\n",
       "      <td>1627.636</td>\n",
       "      <td>1638.818</td>\n",
       "      <td>5.140073</td>\n",
       "      <td>0.0</td>\n",
       "      <td>0.0</td>\n",
       "      <td>0.0</td>\n",
       "      <td>...</td>\n",
       "      <td>458.3667</td>\n",
       "      <td>2786.450</td>\n",
       "      <td>3.432500</td>\n",
       "      <td>2021-10-18 11:00:06</td>\n",
       "      <td>2021-10-18 11:02:32</td>\n",
       "      <td>2021-10-18 11:16:38</td>\n",
       "      <td>2021-10-18 11:16:54</td>\n",
       "      <td>2021-10-18 11:24:51</td>\n",
       "      <td>2021-10-18 11:25:07</td>\n",
       "      <td>2021-10-18 11:31:58</td>\n",
       "    </tr>\n",
       "    <tr>\n",
       "      <th>1</th>\n",
       "      <td>EQ10_PM1</td>\n",
       "      <td>LOT126_21</td>\n",
       "      <td>2021-10-04 23:34:27</td>\n",
       "      <td>1253.30152</td>\n",
       "      <td>1627.971</td>\n",
       "      <td>1641.118</td>\n",
       "      <td>5.023404</td>\n",
       "      <td>0.0</td>\n",
       "      <td>0.0</td>\n",
       "      <td>0.0</td>\n",
       "      <td>...</td>\n",
       "      <td>166.2667</td>\n",
       "      <td>2494.350</td>\n",
       "      <td>3.411500</td>\n",
       "      <td>2021-10-04 11:09:20</td>\n",
       "      <td>2021-10-04 11:11:45</td>\n",
       "      <td>2021-10-04 11:25:52</td>\n",
       "      <td>2021-10-04 11:26:08</td>\n",
       "      <td>2021-10-04 11:34:05</td>\n",
       "      <td>2021-10-04 11:34:21</td>\n",
       "      <td>2021-10-04 11:41:12</td>\n",
       "    </tr>\n",
       "    <tr>\n",
       "      <th>2</th>\n",
       "      <td>EQ10_PM1</td>\n",
       "      <td>LOT191_17</td>\n",
       "      <td>2021-10-22 11:59:52</td>\n",
       "      <td>1265.93544</td>\n",
       "      <td>1627.182</td>\n",
       "      <td>1637.000</td>\n",
       "      <td>5.042702</td>\n",
       "      <td>0.0</td>\n",
       "      <td>0.0</td>\n",
       "      <td>0.0</td>\n",
       "      <td>...</td>\n",
       "      <td>515.9500</td>\n",
       "      <td>2844.033</td>\n",
       "      <td>3.436816</td>\n",
       "      <td>2021-10-21 08:25:57</td>\n",
       "      <td>2021-10-21 08:28:23</td>\n",
       "      <td>2021-10-21 08:42:29</td>\n",
       "      <td>2021-10-21 08:42:45</td>\n",
       "      <td>2021-10-21 08:50:41</td>\n",
       "      <td>2021-10-21 08:50:57</td>\n",
       "      <td>2021-10-21 08:57:48</td>\n",
       "    </tr>\n",
       "  </tbody>\n",
       "</table>\n",
       "<p>3 rows × 676 columns</p>\n",
       "</div>"
      ],
      "text/plain": [
       "  module_name    key_val            end_dt_tm           y  04_efem_para2  \\\n",
       "0    EQ10_PM1  LOT124_21  2021-10-18 18:12:50  1257.84920       1627.636   \n",
       "1    EQ10_PM1  LOT126_21  2021-10-04 23:34:27  1253.30152       1627.971   \n",
       "2    EQ10_PM1  LOT191_17  2021-10-22 11:59:52  1265.93544       1627.182   \n",
       "\n",
       "   04_efem_para25  04_efem_para78  04_epd_para4  04_epd_para40  04_epd_para63  \\\n",
       "0        1638.818        5.140073           0.0            0.0            0.0   \n",
       "1        1641.118        5.023404           0.0            0.0            0.0   \n",
       "2        1637.000        5.042702           0.0            0.0            0.0   \n",
       "\n",
       "   ...  20_time_para9  20_time_para90  20_tmp_para31         04_end_time  \\\n",
       "0  ...       458.3667        2786.450       3.432500 2021-10-18 11:00:06   \n",
       "1  ...       166.2667        2494.350       3.411500 2021-10-04 11:09:20   \n",
       "2  ...       515.9500        2844.033       3.436816 2021-10-21 08:25:57   \n",
       "\n",
       "          06_end_time         12_end_time         13_end_time  \\\n",
       "0 2021-10-18 11:02:32 2021-10-18 11:16:38 2021-10-18 11:16:54   \n",
       "1 2021-10-04 11:11:45 2021-10-04 11:25:52 2021-10-04 11:26:08   \n",
       "2 2021-10-21 08:28:23 2021-10-21 08:42:29 2021-10-21 08:42:45   \n",
       "\n",
       "          17_end_time         18_end_time         20_end_time  \n",
       "0 2021-10-18 11:24:51 2021-10-18 11:25:07 2021-10-18 11:31:58  \n",
       "1 2021-10-04 11:34:05 2021-10-04 11:34:21 2021-10-04 11:41:12  \n",
       "2 2021-10-21 08:50:41 2021-10-21 08:50:57 2021-10-21 08:57:48  \n",
       "\n",
       "[3 rows x 676 columns]"
      ]
     },
     "execution_count": 10,
     "metadata": {},
     "output_type": "execute_result"
    }
   ],
   "source": [
    "print(f'676 = 665개 센서데이터 + 4개의 메타(module, key, end, y) + 7단계의 완료시간')\n",
    "train.head(3)"
   ]
  },
  {
   "cell_type": "code",
   "execution_count": 11,
   "id": "87VgfyZSJ726",
   "metadata": {
    "colab": {
     "base_uri": "https://localhost:8080/",
     "height": 289
    },
    "executionInfo": {
     "elapsed": 22,
     "status": "ok",
     "timestamp": 1657191905235,
     "user": {
      "displayName": "sungil im",
      "userId": "03307293503234277322"
     },
     "user_tz": -540
    },
    "id": "87VgfyZSJ726",
    "outputId": "7c10e3cd-1dfd-4c0a-f933-e47981c09dab"
   },
   "outputs": [
    {
     "data": {
      "text/html": [
       "<div>\n",
       "<style scoped>\n",
       "    .dataframe tbody tr th:only-of-type {\n",
       "        vertical-align: middle;\n",
       "    }\n",
       "\n",
       "    .dataframe tbody tr th {\n",
       "        vertical-align: top;\n",
       "    }\n",
       "\n",
       "    .dataframe thead th {\n",
       "        text-align: right;\n",
       "    }\n",
       "</style>\n",
       "<table border=\"1\" class=\"dataframe\">\n",
       "  <thead>\n",
       "    <tr style=\"text-align: right;\">\n",
       "      <th></th>\n",
       "      <th>module_name</th>\n",
       "      <th>key_val</th>\n",
       "      <th>04_efem_para2</th>\n",
       "      <th>04_efem_para25</th>\n",
       "      <th>04_efem_para78</th>\n",
       "      <th>04_epd_para4</th>\n",
       "      <th>04_epd_para40</th>\n",
       "      <th>04_epd_para63</th>\n",
       "      <th>04_epd_para80</th>\n",
       "      <th>04_esc_para84</th>\n",
       "      <th>...</th>\n",
       "      <th>20_time_para9</th>\n",
       "      <th>20_time_para90</th>\n",
       "      <th>20_tmp_para31</th>\n",
       "      <th>04_end_time</th>\n",
       "      <th>06_end_time</th>\n",
       "      <th>12_end_time</th>\n",
       "      <th>13_end_time</th>\n",
       "      <th>17_end_time</th>\n",
       "      <th>18_end_time</th>\n",
       "      <th>20_end_time</th>\n",
       "    </tr>\n",
       "  </thead>\n",
       "  <tbody>\n",
       "    <tr>\n",
       "      <th>0</th>\n",
       "      <td>EQ10_PM1</td>\n",
       "      <td>LOT122_18</td>\n",
       "      <td>1630.2900</td>\n",
       "      <td>1637.1610</td>\n",
       "      <td>5.254062</td>\n",
       "      <td>0.0</td>\n",
       "      <td>0.0</td>\n",
       "      <td>0.0</td>\n",
       "      <td>0.0</td>\n",
       "      <td>2999.0</td>\n",
       "      <td>...</td>\n",
       "      <td>63.63334</td>\n",
       "      <td>63.63334</td>\n",
       "      <td>3.395025</td>\n",
       "      <td>2021-10-29 11:49:11</td>\n",
       "      <td>2021-10-29 11:51:12</td>\n",
       "      <td>2021-10-29 12:04:28</td>\n",
       "      <td>2021-10-29 12:04:44</td>\n",
       "      <td>2021-10-29 12:12:41</td>\n",
       "      <td>2021-10-29 12:12:57</td>\n",
       "      <td>2021-10-29 12:19:48</td>\n",
       "    </tr>\n",
       "    <tr>\n",
       "      <th>1</th>\n",
       "      <td>EQ10_PM1</td>\n",
       "      <td>LOT313_18</td>\n",
       "      <td>1627.2812</td>\n",
       "      <td>1637.3125</td>\n",
       "      <td>5.147371</td>\n",
       "      <td>0.0</td>\n",
       "      <td>0.0</td>\n",
       "      <td>0.0</td>\n",
       "      <td>0.0</td>\n",
       "      <td>2999.0</td>\n",
       "      <td>...</td>\n",
       "      <td>74.03333</td>\n",
       "      <td>74.03333</td>\n",
       "      <td>3.398507</td>\n",
       "      <td>2021-10-29 23:05:49</td>\n",
       "      <td>2021-10-29 23:07:51</td>\n",
       "      <td>2021-10-29 23:21:08</td>\n",
       "      <td>2021-10-29 23:21:24</td>\n",
       "      <td>2021-10-29 23:29:20</td>\n",
       "      <td>2021-10-29 23:29:36</td>\n",
       "      <td>2021-10-29 23:36:27</td>\n",
       "    </tr>\n",
       "    <tr>\n",
       "      <th>2</th>\n",
       "      <td>EQ10_PM1</td>\n",
       "      <td>LOT380_17</td>\n",
       "      <td>1626.8125</td>\n",
       "      <td>1635.9062</td>\n",
       "      <td>5.141955</td>\n",
       "      <td>0.0</td>\n",
       "      <td>0.0</td>\n",
       "      <td>0.0</td>\n",
       "      <td>0.0</td>\n",
       "      <td>2999.0</td>\n",
       "      <td>...</td>\n",
       "      <td>38.20000</td>\n",
       "      <td>38.20000</td>\n",
       "      <td>3.393516</td>\n",
       "      <td>2021-10-28 08:15:36</td>\n",
       "      <td>2021-10-28 08:17:39</td>\n",
       "      <td>2021-10-28 08:30:54</td>\n",
       "      <td>2021-10-28 08:31:10</td>\n",
       "      <td>2021-10-28 08:39:07</td>\n",
       "      <td>2021-10-28 08:39:23</td>\n",
       "      <td>2021-10-28 08:46:13</td>\n",
       "    </tr>\n",
       "  </tbody>\n",
       "</table>\n",
       "<p>3 rows × 674 columns</p>\n",
       "</div>"
      ],
      "text/plain": [
       "  module_name    key_val  04_efem_para2  04_efem_para25  04_efem_para78  \\\n",
       "0    EQ10_PM1  LOT122_18      1630.2900       1637.1610        5.254062   \n",
       "1    EQ10_PM1  LOT313_18      1627.2812       1637.3125        5.147371   \n",
       "2    EQ10_PM1  LOT380_17      1626.8125       1635.9062        5.141955   \n",
       "\n",
       "   04_epd_para4  04_epd_para40  04_epd_para63  04_epd_para80  04_esc_para84  \\\n",
       "0           0.0            0.0            0.0            0.0         2999.0   \n",
       "1           0.0            0.0            0.0            0.0         2999.0   \n",
       "2           0.0            0.0            0.0            0.0         2999.0   \n",
       "\n",
       "   ...  20_time_para9  20_time_para90  20_tmp_para31         04_end_time  \\\n",
       "0  ...       63.63334        63.63334       3.395025 2021-10-29 11:49:11   \n",
       "1  ...       74.03333        74.03333       3.398507 2021-10-29 23:05:49   \n",
       "2  ...       38.20000        38.20000       3.393516 2021-10-28 08:15:36   \n",
       "\n",
       "          06_end_time         12_end_time         13_end_time  \\\n",
       "0 2021-10-29 11:51:12 2021-10-29 12:04:28 2021-10-29 12:04:44   \n",
       "1 2021-10-29 23:07:51 2021-10-29 23:21:08 2021-10-29 23:21:24   \n",
       "2 2021-10-28 08:17:39 2021-10-28 08:30:54 2021-10-28 08:31:10   \n",
       "\n",
       "          17_end_time         18_end_time         20_end_time  \n",
       "0 2021-10-29 12:12:41 2021-10-29 12:12:57 2021-10-29 12:19:48  \n",
       "1 2021-10-29 23:29:20 2021-10-29 23:29:36 2021-10-29 23:36:27  \n",
       "2 2021-10-28 08:39:07 2021-10-28 08:39:23 2021-10-28 08:46:13  \n",
       "\n",
       "[3 rows x 674 columns]"
      ]
     },
     "execution_count": 11,
     "metadata": {},
     "output_type": "execute_result"
    }
   ],
   "source": [
    "predict.head(3)"
   ]
  },
  {
   "cell_type": "markdown",
   "id": "ab164e3b",
   "metadata": {
    "id": "ab164e3b"
   },
   "source": [
    "<a name='02-02'></a>\n",
    "### 2.2 데이터 설명"
   ]
  },
  {
   "cell_type": "code",
   "execution_count": 12,
   "id": "3f0e9e3e",
   "metadata": {
    "executionInfo": {
     "elapsed": 268,
     "status": "ok",
     "timestamp": 1657193027516,
     "user": {
      "displayName": "sungil im",
      "userId": "03307293503234277322"
     },
     "user_tz": -540
    },
    "id": "3f0e9e3e"
   },
   "outputs": [],
   "source": [
    "def rstr(df, pred=None): \n",
    "    \n",
    "    obs = df.shape[0]\n",
    "    types = df.dtypes # 자료형 \n",
    "    counts = df.apply(lambda x: x.count()) # 값의 갯수 \n",
    "    mean = df.mean() # 값의 갯수 \n",
    "    uniques = df.apply(lambda x: x.unique()) # 고유값 \n",
    "    distincts = df.apply(lambda x: x.unique().shape[0]) # 고유값의 갯수 \n",
    "    nulls = df.apply(lambda x: x.isnull().sum()) # 결측치의 갯수  \n",
    "    nulls_ratio = (df.isnull().sum()/ obs) * 100 # 결측 비율 \n",
    "    skewness = df.skew() # 왜도  \n",
    "    kurtosis = df.kurt() # 첨도  \n",
    "    \n",
    "    print('Data shape:', df.shape)\n",
    "    \n",
    "    if pred is None:\n",
    "        cols = ['types', 'counts', 'distincts', 'nulls', 'nulls_ratio', 'uniques', 'skewness', 'kurtosis']\n",
    "        str = pd.concat([types, counts, distincts, nulls, nulls_ratio, uniques, skewness, kurtosis], axis = 1)\n",
    "\n",
    "    else:\n",
    "        corr = df.corr()[pred]\n",
    "        str = pd.concat([types, counts, mean, distincts, nulls, nulls_ratio, uniques, skewness, kurtosis, corr], axis = 1, sort=False)\n",
    "        corr_col = 'corr '  + pred\n",
    "        cols = ['types', 'counts', 'mean', 'distincts', 'nulls', 'nulls_ratio', 'uniques', 'skewness', 'kurtosis', corr_col ]\n",
    "\n",
    "    str.columns = cols\n",
    "    dtypes = str.types.value_counts()\n",
    "    print('___________________________\\nData types:\\n',str.types.value_counts())\n",
    "    print('___________________________')\n",
    "    \n",
    "    return str"
   ]
  },
  {
   "cell_type": "markdown",
   "id": "31fdd142",
   "metadata": {
    "id": "31fdd142"
   },
   "source": [
    "학습 데이터의 수는 611건이며, 665개의 센서 데이터와 7개의 시간 데이터의 특성을 가지고 있습니다. \n",
    "\n",
    "이 데이터들의 [왜도, 첨도](https://support.minitab.com/ko-kr/minitab/18/help-and-how-to/statistics/basic-statistics/supporting-topics/data-concepts/how-skewness-and-kurtosis-affect-your-distribution/), 결측치, 고유값수, 총수, 결과값(y)과의 상관계수 등을 분석한 결과물 반환\n",
    "\n",
    "정규 분포를 기준으로\n",
    "- 왜도는 좌우로 치우침 (좌측+,우측-)\n",
    "- 첨도는 종의 높이 (높은+, 낮은-)\n",
    "\n",
    "---\n",
    "\n"
   ]
  },
  {
   "cell_type": "code",
   "execution_count": 13,
   "id": "8ea6bcd2",
   "metadata": {
    "colab": {
     "base_uri": "https://localhost:8080/",
     "height": 693
    },
    "executionInfo": {
     "elapsed": 1054,
     "status": "ok",
     "timestamp": 1657193031106,
     "user": {
      "displayName": "sungil im",
      "userId": "03307293503234277322"
     },
     "user_tz": -540
    },
    "id": "8ea6bcd2",
    "outputId": "38a398c2-162e-4005-eb5a-ceaab0abacb5"
   },
   "outputs": [
    {
     "name": "stdout",
     "output_type": "stream",
     "text": [
      "Data shape: (611, 676)\n",
      "___________________________\n",
      "Data types:\n",
      " float64           666\n",
      "datetime64[ns]      7\n",
      "object              3\n",
      "Name: types, dtype: int64\n",
      "___________________________\n"
     ]
    },
    {
     "data": {
      "text/html": [
       "<div>\n",
       "<style scoped>\n",
       "    .dataframe tbody tr th:only-of-type {\n",
       "        vertical-align: middle;\n",
       "    }\n",
       "\n",
       "    .dataframe tbody tr th {\n",
       "        vertical-align: top;\n",
       "    }\n",
       "\n",
       "    .dataframe thead th {\n",
       "        text-align: right;\n",
       "    }\n",
       "</style>\n",
       "<table border=\"1\" class=\"dataframe\">\n",
       "  <thead>\n",
       "    <tr style=\"text-align: right;\">\n",
       "      <th></th>\n",
       "      <th>types</th>\n",
       "      <th>counts</th>\n",
       "      <th>mean</th>\n",
       "      <th>distincts</th>\n",
       "      <th>nulls</th>\n",
       "      <th>nulls_ratio</th>\n",
       "      <th>uniques</th>\n",
       "      <th>skewness</th>\n",
       "      <th>kurtosis</th>\n",
       "      <th>corr y</th>\n",
       "    </tr>\n",
       "  </thead>\n",
       "  <tbody>\n",
       "    <tr>\n",
       "      <th>y</th>\n",
       "      <td>float64</td>\n",
       "      <td>611</td>\n",
       "      <td>1263.411254</td>\n",
       "      <td>591</td>\n",
       "      <td>0</td>\n",
       "      <td>0.0</td>\n",
       "      <td>[1257.8492, 1253.30152, 1265.93544, 1248.5508,...</td>\n",
       "      <td>-0.059197</td>\n",
       "      <td>0.342927</td>\n",
       "      <td>1.000000</td>\n",
       "    </tr>\n",
       "    <tr>\n",
       "      <th>20_temp_para24</th>\n",
       "      <td>float64</td>\n",
       "      <td>611</td>\n",
       "      <td>50.873731</td>\n",
       "      <td>575</td>\n",
       "      <td>0</td>\n",
       "      <td>0.0</td>\n",
       "      <td>[50.28713, 51.87376, 49.72592, 51.89357, 49.61...</td>\n",
       "      <td>-0.438729</td>\n",
       "      <td>0.090808</td>\n",
       "      <td>0.196888</td>\n",
       "    </tr>\n",
       "    <tr>\n",
       "      <th>13_temp_para24</th>\n",
       "      <td>float64</td>\n",
       "      <td>611</td>\n",
       "      <td>68.716430</td>\n",
       "      <td>189</td>\n",
       "      <td>0</td>\n",
       "      <td>0.0</td>\n",
       "      <td>[69.5625, 72.6875, 68.3125, 71.125, 66.125, 72...</td>\n",
       "      <td>-0.309862</td>\n",
       "      <td>-0.110704</td>\n",
       "      <td>0.194742</td>\n",
       "    </tr>\n",
       "    <tr>\n",
       "      <th>12_temp_para24</th>\n",
       "      <td>float64</td>\n",
       "      <td>611</td>\n",
       "      <td>67.860794</td>\n",
       "      <td>425</td>\n",
       "      <td>0</td>\n",
       "      <td>0.0</td>\n",
       "      <td>[68.45, 70.56667, 67.43333, 70.66666, 66.55932...</td>\n",
       "      <td>-0.340203</td>\n",
       "      <td>-0.064225</td>\n",
       "      <td>0.189035</td>\n",
       "    </tr>\n",
       "    <tr>\n",
       "      <th>17_temp_para24</th>\n",
       "      <td>float64</td>\n",
       "      <td>611</td>\n",
       "      <td>69.304995</td>\n",
       "      <td>419</td>\n",
       "      <td>0</td>\n",
       "      <td>0.0</td>\n",
       "      <td>[69.63333, 72.21667, 69.96667, 71.73333, 69.35...</td>\n",
       "      <td>-0.439029</td>\n",
       "      <td>0.009083</td>\n",
       "      <td>0.183320</td>\n",
       "    </tr>\n",
       "    <tr>\n",
       "      <th>...</th>\n",
       "      <td>...</td>\n",
       "      <td>...</td>\n",
       "      <td>...</td>\n",
       "      <td>...</td>\n",
       "      <td>...</td>\n",
       "      <td>...</td>\n",
       "      <td>...</td>\n",
       "      <td>...</td>\n",
       "      <td>...</td>\n",
       "      <td>...</td>\n",
       "    </tr>\n",
       "    <tr>\n",
       "      <th>12_end_time</th>\n",
       "      <td>datetime64[ns]</td>\n",
       "      <td>611</td>\n",
       "      <td>NaN</td>\n",
       "      <td>611</td>\n",
       "      <td>0</td>\n",
       "      <td>0.0</td>\n",
       "      <td>[2021-10-18T11:16:38.000000000, 2021-10-04T11:...</td>\n",
       "      <td>NaN</td>\n",
       "      <td>NaN</td>\n",
       "      <td>NaN</td>\n",
       "    </tr>\n",
       "    <tr>\n",
       "      <th>13_end_time</th>\n",
       "      <td>datetime64[ns]</td>\n",
       "      <td>611</td>\n",
       "      <td>NaN</td>\n",
       "      <td>611</td>\n",
       "      <td>0</td>\n",
       "      <td>0.0</td>\n",
       "      <td>[2021-10-18T11:16:54.000000000, 2021-10-04T11:...</td>\n",
       "      <td>NaN</td>\n",
       "      <td>NaN</td>\n",
       "      <td>NaN</td>\n",
       "    </tr>\n",
       "    <tr>\n",
       "      <th>17_end_time</th>\n",
       "      <td>datetime64[ns]</td>\n",
       "      <td>611</td>\n",
       "      <td>NaN</td>\n",
       "      <td>611</td>\n",
       "      <td>0</td>\n",
       "      <td>0.0</td>\n",
       "      <td>[2021-10-18T11:24:51.000000000, 2021-10-04T11:...</td>\n",
       "      <td>NaN</td>\n",
       "      <td>NaN</td>\n",
       "      <td>NaN</td>\n",
       "    </tr>\n",
       "    <tr>\n",
       "      <th>18_end_time</th>\n",
       "      <td>datetime64[ns]</td>\n",
       "      <td>611</td>\n",
       "      <td>NaN</td>\n",
       "      <td>611</td>\n",
       "      <td>0</td>\n",
       "      <td>0.0</td>\n",
       "      <td>[2021-10-18T11:25:07.000000000, 2021-10-04T11:...</td>\n",
       "      <td>NaN</td>\n",
       "      <td>NaN</td>\n",
       "      <td>NaN</td>\n",
       "    </tr>\n",
       "    <tr>\n",
       "      <th>20_end_time</th>\n",
       "      <td>datetime64[ns]</td>\n",
       "      <td>611</td>\n",
       "      <td>NaN</td>\n",
       "      <td>611</td>\n",
       "      <td>0</td>\n",
       "      <td>0.0</td>\n",
       "      <td>[2021-10-18T11:31:58.000000000, 2021-10-04T11:...</td>\n",
       "      <td>NaN</td>\n",
       "      <td>NaN</td>\n",
       "      <td>NaN</td>\n",
       "    </tr>\n",
       "  </tbody>\n",
       "</table>\n",
       "<p>676 rows × 10 columns</p>\n",
       "</div>"
      ],
      "text/plain": [
       "                         types  counts         mean  distincts  nulls  \\\n",
       "y                      float64     611  1263.411254        591      0   \n",
       "20_temp_para24         float64     611    50.873731        575      0   \n",
       "13_temp_para24         float64     611    68.716430        189      0   \n",
       "12_temp_para24         float64     611    67.860794        425      0   \n",
       "17_temp_para24         float64     611    69.304995        419      0   \n",
       "...                        ...     ...          ...        ...    ...   \n",
       "12_end_time     datetime64[ns]     611          NaN        611      0   \n",
       "13_end_time     datetime64[ns]     611          NaN        611      0   \n",
       "17_end_time     datetime64[ns]     611          NaN        611      0   \n",
       "18_end_time     datetime64[ns]     611          NaN        611      0   \n",
       "20_end_time     datetime64[ns]     611          NaN        611      0   \n",
       "\n",
       "                nulls_ratio  \\\n",
       "y                       0.0   \n",
       "20_temp_para24          0.0   \n",
       "13_temp_para24          0.0   \n",
       "12_temp_para24          0.0   \n",
       "17_temp_para24          0.0   \n",
       "...                     ...   \n",
       "12_end_time             0.0   \n",
       "13_end_time             0.0   \n",
       "17_end_time             0.0   \n",
       "18_end_time             0.0   \n",
       "20_end_time             0.0   \n",
       "\n",
       "                                                          uniques  skewness  \\\n",
       "y               [1257.8492, 1253.30152, 1265.93544, 1248.5508,... -0.059197   \n",
       "20_temp_para24  [50.28713, 51.87376, 49.72592, 51.89357, 49.61... -0.438729   \n",
       "13_temp_para24  [69.5625, 72.6875, 68.3125, 71.125, 66.125, 72... -0.309862   \n",
       "12_temp_para24  [68.45, 70.56667, 67.43333, 70.66666, 66.55932... -0.340203   \n",
       "17_temp_para24  [69.63333, 72.21667, 69.96667, 71.73333, 69.35... -0.439029   \n",
       "...                                                           ...       ...   \n",
       "12_end_time     [2021-10-18T11:16:38.000000000, 2021-10-04T11:...       NaN   \n",
       "13_end_time     [2021-10-18T11:16:54.000000000, 2021-10-04T11:...       NaN   \n",
       "17_end_time     [2021-10-18T11:24:51.000000000, 2021-10-04T11:...       NaN   \n",
       "18_end_time     [2021-10-18T11:25:07.000000000, 2021-10-04T11:...       NaN   \n",
       "20_end_time     [2021-10-18T11:31:58.000000000, 2021-10-04T11:...       NaN   \n",
       "\n",
       "                kurtosis    corr y  \n",
       "y               0.342927  1.000000  \n",
       "20_temp_para24  0.090808  0.196888  \n",
       "13_temp_para24 -0.110704  0.194742  \n",
       "12_temp_para24 -0.064225  0.189035  \n",
       "17_temp_para24  0.009083  0.183320  \n",
       "...                  ...       ...  \n",
       "12_end_time          NaN       NaN  \n",
       "13_end_time          NaN       NaN  \n",
       "17_end_time          NaN       NaN  \n",
       "18_end_time          NaN       NaN  \n",
       "20_end_time          NaN       NaN  \n",
       "\n",
       "[676 rows x 10 columns]"
      ]
     },
     "metadata": {},
     "output_type": "display_data"
    }
   ],
   "source": [
    "details = rstr(train, 'y')\n",
    "display(details.sort_values(by='corr y', ascending=False))"
   ]
  },
  {
   "cell_type": "markdown",
   "id": "008a0e3b",
   "metadata": {
    "id": "008a0e3b"
   },
   "source": [
    "<a name='03'></a>\n",
    "## 3. 탐색적 데이터 분석 \n",
    "\n",
    "탐색적 데이터 분석을 통해 **데이터를 이해**하고, 모델에 유용한 **특징을 생성**할 수 있습니다. \n",
    "\n",
    "- 데이터에 대한 이해를 높이기 위해 타깃 변수의 분포 (3.1절) , 각 센서 변수와 타깃 변수와의 상관 관계 (3.2절)를 파악합니다. \n",
    "\n",
    "- 새로운 특징을 도출하기 위해 범주형 변수에 따른 타깃 변수의 변화 (3.3절) , 전체 공정 소요시간에 따른 타깃 변수의 변화 (3.4절) , 센서 변수의 집약된 통계량 (3.5절) 을 확인해봅니다."
   ]
  },
  {
   "cell_type": "code",
   "execution_count": 14,
   "id": "fokGIM4gWb53",
   "metadata": {
    "executionInfo": {
     "elapsed": 366,
     "status": "ok",
     "timestamp": 1657191915877,
     "user": {
      "displayName": "sungil im",
      "userId": "03307293503234277322"
     },
     "user_tz": -540
    },
    "id": "fokGIM4gWb53"
   },
   "outputs": [],
   "source": [
    "# -----------------------------------\n",
    "# 3 장 EDA 분석에 필요한 변수를 선언합니다.\n",
    "# -----------------------------------\n",
    "\n",
    "# \bEDA를 위한 학습 데이터를 복사합니다.\n",
    "df_eda = train.copy()\n",
    "\n",
    "# 센서 컬럼과 날짜 컬럼을 정의합니다. \n",
    "col_sensor = df_eda.iloc[:, 4:-7].columns.tolist() \n",
    "col_time = df_eda.filter(regex='end').columns.tolist() \n",
    "\n",
    "assert len(col_sensor) == 665\n",
    "assert len(col_time) == 8 \n",
    "\n",
    "# \b3.4절 공정 소요시간 분석에 필요한 변수를 정의합니다. \n",
    "lst_steps = ['04','06','12','13','17','18', '20']\n",
    "lst_stepsgap = ['0406','0612','1213','1317','1718','1820']\n",
    "\n",
    "lst_sensors = []\n",
    "for step in lst_steps:\n",
    "    _ = [col for col in col_sensor if col[:2] == step]\n",
    "    lst_sensors.append(_)\n",
    "\n",
    "sensors_nm = list(map(lambda x: x[3:], lst_sensors[0]))\n",
    "\n",
    "# 시간과 관련한 분석을 진행하기 위하여 날짜형으로 변환합니다. \n",
    "df_eda[col_time] = df_eda[col_time].apply(pd.to_datetime)"
   ]
  },
  {
   "cell_type": "code",
   "execution_count": 15,
   "id": "fQSNQunVaIQQ",
   "metadata": {
    "colab": {
     "base_uri": "https://localhost:8080/"
    },
    "executionInfo": {
     "elapsed": 275,
     "status": "ok",
     "timestamp": 1657193586657,
     "user": {
      "displayName": "sungil im",
      "userId": "03307293503234277322"
     },
     "user_tz": -540
    },
    "id": "fQSNQunVaIQQ",
    "outputId": "aba34503-3327-4bc7-d670-a55cea94d787"
   },
   "outputs": [
    {
     "data": {
      "text/html": [
       "<div>\n",
       "<style scoped>\n",
       "    .dataframe tbody tr th:only-of-type {\n",
       "        vertical-align: middle;\n",
       "    }\n",
       "\n",
       "    .dataframe tbody tr th {\n",
       "        vertical-align: top;\n",
       "    }\n",
       "\n",
       "    .dataframe thead th {\n",
       "        text-align: right;\n",
       "    }\n",
       "</style>\n",
       "<table border=\"1\" class=\"dataframe\">\n",
       "  <thead>\n",
       "    <tr style=\"text-align: right;\">\n",
       "      <th></th>\n",
       "      <th>module_name</th>\n",
       "      <th>key_val</th>\n",
       "      <th>end_dt_tm</th>\n",
       "      <th>y</th>\n",
       "      <th>04_efem_para2</th>\n",
       "      <th>04_efem_para25</th>\n",
       "      <th>04_efem_para78</th>\n",
       "      <th>04_epd_para4</th>\n",
       "      <th>04_epd_para40</th>\n",
       "      <th>04_epd_para63</th>\n",
       "      <th>...</th>\n",
       "      <th>20_time_para9</th>\n",
       "      <th>20_time_para90</th>\n",
       "      <th>20_tmp_para31</th>\n",
       "      <th>04_end_time</th>\n",
       "      <th>06_end_time</th>\n",
       "      <th>12_end_time</th>\n",
       "      <th>13_end_time</th>\n",
       "      <th>17_end_time</th>\n",
       "      <th>18_end_time</th>\n",
       "      <th>20_end_time</th>\n",
       "    </tr>\n",
       "  </thead>\n",
       "  <tbody>\n",
       "    <tr>\n",
       "      <th>0</th>\n",
       "      <td>EQ10_PM1</td>\n",
       "      <td>LOT124_21</td>\n",
       "      <td>2021-10-18 18:12:50</td>\n",
       "      <td>1257.84920</td>\n",
       "      <td>1627.6360</td>\n",
       "      <td>1638.8180</td>\n",
       "      <td>5.140073</td>\n",
       "      <td>0.0</td>\n",
       "      <td>0.0</td>\n",
       "      <td>0.0</td>\n",
       "      <td>...</td>\n",
       "      <td>458.36670</td>\n",
       "      <td>2786.45000</td>\n",
       "      <td>3.432500</td>\n",
       "      <td>2021-10-18 11:00:06</td>\n",
       "      <td>2021-10-18 11:02:32</td>\n",
       "      <td>2021-10-18 11:16:38</td>\n",
       "      <td>2021-10-18 11:16:54</td>\n",
       "      <td>2021-10-18 11:24:51</td>\n",
       "      <td>2021-10-18 11:25:07</td>\n",
       "      <td>2021-10-18 11:31:58</td>\n",
       "    </tr>\n",
       "    <tr>\n",
       "      <th>1</th>\n",
       "      <td>EQ10_PM1</td>\n",
       "      <td>LOT126_21</td>\n",
       "      <td>2021-10-04 23:34:27</td>\n",
       "      <td>1253.30152</td>\n",
       "      <td>1627.9710</td>\n",
       "      <td>1641.1180</td>\n",
       "      <td>5.023404</td>\n",
       "      <td>0.0</td>\n",
       "      <td>0.0</td>\n",
       "      <td>0.0</td>\n",
       "      <td>...</td>\n",
       "      <td>166.26670</td>\n",
       "      <td>2494.35000</td>\n",
       "      <td>3.411500</td>\n",
       "      <td>2021-10-04 11:09:20</td>\n",
       "      <td>2021-10-04 11:11:45</td>\n",
       "      <td>2021-10-04 11:25:52</td>\n",
       "      <td>2021-10-04 11:26:08</td>\n",
       "      <td>2021-10-04 11:34:05</td>\n",
       "      <td>2021-10-04 11:34:21</td>\n",
       "      <td>2021-10-04 11:41:12</td>\n",
       "    </tr>\n",
       "    <tr>\n",
       "      <th>2</th>\n",
       "      <td>EQ10_PM1</td>\n",
       "      <td>LOT191_17</td>\n",
       "      <td>2021-10-22 11:59:52</td>\n",
       "      <td>1265.93544</td>\n",
       "      <td>1627.1820</td>\n",
       "      <td>1637.0000</td>\n",
       "      <td>5.042702</td>\n",
       "      <td>0.0</td>\n",
       "      <td>0.0</td>\n",
       "      <td>0.0</td>\n",
       "      <td>...</td>\n",
       "      <td>515.95000</td>\n",
       "      <td>2844.03300</td>\n",
       "      <td>3.436816</td>\n",
       "      <td>2021-10-21 08:25:57</td>\n",
       "      <td>2021-10-21 08:28:23</td>\n",
       "      <td>2021-10-21 08:42:29</td>\n",
       "      <td>2021-10-21 08:42:45</td>\n",
       "      <td>2021-10-21 08:50:41</td>\n",
       "      <td>2021-10-21 08:50:57</td>\n",
       "      <td>2021-10-21 08:57:48</td>\n",
       "    </tr>\n",
       "    <tr>\n",
       "      <th>3</th>\n",
       "      <td>EQ10_PM1</td>\n",
       "      <td>LOT23_21</td>\n",
       "      <td>2021-10-06 07:48:24</td>\n",
       "      <td>1248.55080</td>\n",
       "      <td>1631.0590</td>\n",
       "      <td>1643.8820</td>\n",
       "      <td>5.153204</td>\n",
       "      <td>0.0</td>\n",
       "      <td>0.0</td>\n",
       "      <td>0.0</td>\n",
       "      <td>...</td>\n",
       "      <td>190.28330</td>\n",
       "      <td>2518.36700</td>\n",
       "      <td>3.413965</td>\n",
       "      <td>2021-10-05 14:23:05</td>\n",
       "      <td>2021-10-05 14:25:30</td>\n",
       "      <td>2021-10-05 14:39:38</td>\n",
       "      <td>2021-10-05 14:39:54</td>\n",
       "      <td>2021-10-05 14:47:50</td>\n",
       "      <td>2021-10-05 14:48:06</td>\n",
       "      <td>2021-10-05 14:54:57</td>\n",
       "    </tr>\n",
       "    <tr>\n",
       "      <th>4</th>\n",
       "      <td>EQ10_PM1</td>\n",
       "      <td>LOT243_21</td>\n",
       "      <td>2021-10-24 14:34:01</td>\n",
       "      <td>1254.63380</td>\n",
       "      <td>1627.7500</td>\n",
       "      <td>1637.3120</td>\n",
       "      <td>5.147788</td>\n",
       "      <td>0.0</td>\n",
       "      <td>0.0</td>\n",
       "      <td>0.0</td>\n",
       "      <td>...</td>\n",
       "      <td>567.13340</td>\n",
       "      <td>2895.21700</td>\n",
       "      <td>3.445387</td>\n",
       "      <td>2021-10-23 16:20:49</td>\n",
       "      <td>2021-10-23 16:22:54</td>\n",
       "      <td>2021-10-23 16:36:14</td>\n",
       "      <td>2021-10-23 16:36:30</td>\n",
       "      <td>2021-10-23 16:44:27</td>\n",
       "      <td>2021-10-23 16:44:43</td>\n",
       "      <td>2021-10-23 16:51:33</td>\n",
       "    </tr>\n",
       "    <tr>\n",
       "      <th>...</th>\n",
       "      <td>...</td>\n",
       "      <td>...</td>\n",
       "      <td>...</td>\n",
       "      <td>...</td>\n",
       "      <td>...</td>\n",
       "      <td>...</td>\n",
       "      <td>...</td>\n",
       "      <td>...</td>\n",
       "      <td>...</td>\n",
       "      <td>...</td>\n",
       "      <td>...</td>\n",
       "      <td>...</td>\n",
       "      <td>...</td>\n",
       "      <td>...</td>\n",
       "      <td>...</td>\n",
       "      <td>...</td>\n",
       "      <td>...</td>\n",
       "      <td>...</td>\n",
       "      <td>...</td>\n",
       "      <td>...</td>\n",
       "      <td>...</td>\n",
       "    </tr>\n",
       "    <tr>\n",
       "      <th>606</th>\n",
       "      <td>EQ9_PM5</td>\n",
       "      <td>LOT379_20</td>\n",
       "      <td>2021-10-13 06:20:15</td>\n",
       "      <td>1264.54772</td>\n",
       "      <td>1626.7273</td>\n",
       "      <td>1626.6970</td>\n",
       "      <td>4.984926</td>\n",
       "      <td>0.0</td>\n",
       "      <td>0.0</td>\n",
       "      <td>0.0</td>\n",
       "      <td>...</td>\n",
       "      <td>288.73334</td>\n",
       "      <td>1024.66660</td>\n",
       "      <td>3.474813</td>\n",
       "      <td>2021-10-12 09:39:33</td>\n",
       "      <td>2021-10-12 09:41:58</td>\n",
       "      <td>2021-10-12 09:55:59</td>\n",
       "      <td>2021-10-12 09:56:15</td>\n",
       "      <td>2021-10-12 10:04:12</td>\n",
       "      <td>2021-10-12 10:04:28</td>\n",
       "      <td>2021-10-12 10:11:18</td>\n",
       "    </tr>\n",
       "    <tr>\n",
       "      <th>607</th>\n",
       "      <td>EQ9_PM5</td>\n",
       "      <td>LOT407_19</td>\n",
       "      <td>2021-10-11 14:27:23</td>\n",
       "      <td>1271.06776</td>\n",
       "      <td>1628.6666</td>\n",
       "      <td>1627.6666</td>\n",
       "      <td>5.318251</td>\n",
       "      <td>0.0</td>\n",
       "      <td>0.0</td>\n",
       "      <td>0.0</td>\n",
       "      <td>...</td>\n",
       "      <td>249.30000</td>\n",
       "      <td>985.23334</td>\n",
       "      <td>3.497015</td>\n",
       "      <td>2021-10-10 12:19:52</td>\n",
       "      <td>2021-10-10 12:22:17</td>\n",
       "      <td>2021-10-10 12:36:21</td>\n",
       "      <td>2021-10-10 12:36:37</td>\n",
       "      <td>2021-10-10 12:44:34</td>\n",
       "      <td>2021-10-10 12:44:50</td>\n",
       "      <td>2021-10-10 12:51:40</td>\n",
       "    </tr>\n",
       "    <tr>\n",
       "      <th>608</th>\n",
       "      <td>EQ9_PM5</td>\n",
       "      <td>LOT424_18</td>\n",
       "      <td>2021-10-23 16:43:17</td>\n",
       "      <td>1244.75392</td>\n",
       "      <td>1625.2727</td>\n",
       "      <td>1623.7878</td>\n",
       "      <td>5.047551</td>\n",
       "      <td>0.0</td>\n",
       "      <td>0.0</td>\n",
       "      <td>0.0</td>\n",
       "      <td>...</td>\n",
       "      <td>512.33330</td>\n",
       "      <td>1248.26670</td>\n",
       "      <td>3.501247</td>\n",
       "      <td>2021-10-23 04:11:42</td>\n",
       "      <td>2021-10-23 04:14:08</td>\n",
       "      <td>2021-10-23 04:28:06</td>\n",
       "      <td>2021-10-23 04:28:22</td>\n",
       "      <td>2021-10-23 04:36:18</td>\n",
       "      <td>2021-10-23 04:36:34</td>\n",
       "      <td>2021-10-23 04:43:25</td>\n",
       "    </tr>\n",
       "    <tr>\n",
       "      <th>609</th>\n",
       "      <td>EQ9_PM5</td>\n",
       "      <td>LOT457_20</td>\n",
       "      <td>2021-10-22 09:44:33</td>\n",
       "      <td>1257.32312</td>\n",
       "      <td>1627.2122</td>\n",
       "      <td>1626.2122</td>\n",
       "      <td>5.400269</td>\n",
       "      <td>0.0</td>\n",
       "      <td>0.0</td>\n",
       "      <td>0.0</td>\n",
       "      <td>...</td>\n",
       "      <td>475.38333</td>\n",
       "      <td>1211.30000</td>\n",
       "      <td>3.491542</td>\n",
       "      <td>2021-10-21 10:06:31</td>\n",
       "      <td>2021-10-21 10:08:55</td>\n",
       "      <td>2021-10-21 10:22:53</td>\n",
       "      <td>2021-10-21 10:23:09</td>\n",
       "      <td>2021-10-21 10:31:06</td>\n",
       "      <td>2021-10-21 10:31:22</td>\n",
       "      <td>2021-10-21 10:38:12</td>\n",
       "    </tr>\n",
       "    <tr>\n",
       "      <th>610</th>\n",
       "      <td>EQ9_PM5</td>\n",
       "      <td>LOT83_15</td>\n",
       "      <td>2021-10-11 14:01:31</td>\n",
       "      <td>1268.52920</td>\n",
       "      <td>1630.1210</td>\n",
       "      <td>1630.0910</td>\n",
       "      <td>5.363906</td>\n",
       "      <td>0.0</td>\n",
       "      <td>0.0</td>\n",
       "      <td>0.0</td>\n",
       "      <td>...</td>\n",
       "      <td>255.38330</td>\n",
       "      <td>991.31660</td>\n",
       "      <td>3.471820</td>\n",
       "      <td>2021-10-10 19:01:54</td>\n",
       "      <td>2021-10-10 19:04:16</td>\n",
       "      <td>2021-10-10 19:18:20</td>\n",
       "      <td>2021-10-10 19:18:36</td>\n",
       "      <td>2021-10-10 19:26:33</td>\n",
       "      <td>2021-10-10 19:26:49</td>\n",
       "      <td>2021-10-10 19:33:40</td>\n",
       "    </tr>\n",
       "  </tbody>\n",
       "</table>\n",
       "<p>611 rows × 676 columns</p>\n",
       "</div>"
      ],
      "text/plain": [
       "    module_name    key_val           end_dt_tm           y  04_efem_para2  \\\n",
       "0      EQ10_PM1  LOT124_21 2021-10-18 18:12:50  1257.84920      1627.6360   \n",
       "1      EQ10_PM1  LOT126_21 2021-10-04 23:34:27  1253.30152      1627.9710   \n",
       "2      EQ10_PM1  LOT191_17 2021-10-22 11:59:52  1265.93544      1627.1820   \n",
       "3      EQ10_PM1   LOT23_21 2021-10-06 07:48:24  1248.55080      1631.0590   \n",
       "4      EQ10_PM1  LOT243_21 2021-10-24 14:34:01  1254.63380      1627.7500   \n",
       "..          ...        ...                 ...         ...            ...   \n",
       "606     EQ9_PM5  LOT379_20 2021-10-13 06:20:15  1264.54772      1626.7273   \n",
       "607     EQ9_PM5  LOT407_19 2021-10-11 14:27:23  1271.06776      1628.6666   \n",
       "608     EQ9_PM5  LOT424_18 2021-10-23 16:43:17  1244.75392      1625.2727   \n",
       "609     EQ9_PM5  LOT457_20 2021-10-22 09:44:33  1257.32312      1627.2122   \n",
       "610     EQ9_PM5   LOT83_15 2021-10-11 14:01:31  1268.52920      1630.1210   \n",
       "\n",
       "     04_efem_para25  04_efem_para78  04_epd_para4  04_epd_para40  \\\n",
       "0         1638.8180        5.140073           0.0            0.0   \n",
       "1         1641.1180        5.023404           0.0            0.0   \n",
       "2         1637.0000        5.042702           0.0            0.0   \n",
       "3         1643.8820        5.153204           0.0            0.0   \n",
       "4         1637.3120        5.147788           0.0            0.0   \n",
       "..              ...             ...           ...            ...   \n",
       "606       1626.6970        4.984926           0.0            0.0   \n",
       "607       1627.6666        5.318251           0.0            0.0   \n",
       "608       1623.7878        5.047551           0.0            0.0   \n",
       "609       1626.2122        5.400269           0.0            0.0   \n",
       "610       1630.0910        5.363906           0.0            0.0   \n",
       "\n",
       "     04_epd_para63  ...  20_time_para9  20_time_para90  20_tmp_para31  \\\n",
       "0              0.0  ...      458.36670      2786.45000       3.432500   \n",
       "1              0.0  ...      166.26670      2494.35000       3.411500   \n",
       "2              0.0  ...      515.95000      2844.03300       3.436816   \n",
       "3              0.0  ...      190.28330      2518.36700       3.413965   \n",
       "4              0.0  ...      567.13340      2895.21700       3.445387   \n",
       "..             ...  ...            ...             ...            ...   \n",
       "606            0.0  ...      288.73334      1024.66660       3.474813   \n",
       "607            0.0  ...      249.30000       985.23334       3.497015   \n",
       "608            0.0  ...      512.33330      1248.26670       3.501247   \n",
       "609            0.0  ...      475.38333      1211.30000       3.491542   \n",
       "610            0.0  ...      255.38330       991.31660       3.471820   \n",
       "\n",
       "            04_end_time         06_end_time         12_end_time  \\\n",
       "0   2021-10-18 11:00:06 2021-10-18 11:02:32 2021-10-18 11:16:38   \n",
       "1   2021-10-04 11:09:20 2021-10-04 11:11:45 2021-10-04 11:25:52   \n",
       "2   2021-10-21 08:25:57 2021-10-21 08:28:23 2021-10-21 08:42:29   \n",
       "3   2021-10-05 14:23:05 2021-10-05 14:25:30 2021-10-05 14:39:38   \n",
       "4   2021-10-23 16:20:49 2021-10-23 16:22:54 2021-10-23 16:36:14   \n",
       "..                  ...                 ...                 ...   \n",
       "606 2021-10-12 09:39:33 2021-10-12 09:41:58 2021-10-12 09:55:59   \n",
       "607 2021-10-10 12:19:52 2021-10-10 12:22:17 2021-10-10 12:36:21   \n",
       "608 2021-10-23 04:11:42 2021-10-23 04:14:08 2021-10-23 04:28:06   \n",
       "609 2021-10-21 10:06:31 2021-10-21 10:08:55 2021-10-21 10:22:53   \n",
       "610 2021-10-10 19:01:54 2021-10-10 19:04:16 2021-10-10 19:18:20   \n",
       "\n",
       "            13_end_time         17_end_time         18_end_time  \\\n",
       "0   2021-10-18 11:16:54 2021-10-18 11:24:51 2021-10-18 11:25:07   \n",
       "1   2021-10-04 11:26:08 2021-10-04 11:34:05 2021-10-04 11:34:21   \n",
       "2   2021-10-21 08:42:45 2021-10-21 08:50:41 2021-10-21 08:50:57   \n",
       "3   2021-10-05 14:39:54 2021-10-05 14:47:50 2021-10-05 14:48:06   \n",
       "4   2021-10-23 16:36:30 2021-10-23 16:44:27 2021-10-23 16:44:43   \n",
       "..                  ...                 ...                 ...   \n",
       "606 2021-10-12 09:56:15 2021-10-12 10:04:12 2021-10-12 10:04:28   \n",
       "607 2021-10-10 12:36:37 2021-10-10 12:44:34 2021-10-10 12:44:50   \n",
       "608 2021-10-23 04:28:22 2021-10-23 04:36:18 2021-10-23 04:36:34   \n",
       "609 2021-10-21 10:23:09 2021-10-21 10:31:06 2021-10-21 10:31:22   \n",
       "610 2021-10-10 19:18:36 2021-10-10 19:26:33 2021-10-10 19:26:49   \n",
       "\n",
       "            20_end_time  \n",
       "0   2021-10-18 11:31:58  \n",
       "1   2021-10-04 11:41:12  \n",
       "2   2021-10-21 08:57:48  \n",
       "3   2021-10-05 14:54:57  \n",
       "4   2021-10-23 16:51:33  \n",
       "..                  ...  \n",
       "606 2021-10-12 10:11:18  \n",
       "607 2021-10-10 12:51:40  \n",
       "608 2021-10-23 04:43:25  \n",
       "609 2021-10-21 10:38:12  \n",
       "610 2021-10-10 19:33:40  \n",
       "\n",
       "[611 rows x 676 columns]"
      ]
     },
     "execution_count": 15,
     "metadata": {},
     "output_type": "execute_result"
    }
   ],
   "source": [
    "df_eda"
   ]
  },
  {
   "cell_type": "markdown",
   "id": "8a6093bb",
   "metadata": {
    "id": "8a6093bb"
   },
   "source": [
    "<a name='03-01'></a>\n",
    "### 3.1 타깃 변수 분포 확인하기 \n",
    "\n",
    "학습 데이터를 이용해 타깃 변수의 분포를 살펴보겠습니다. \n",
    "\n",
    "Seaborn 의 **distplot** 과 **probplot** 을 사용하여 타깃 변수의 분포 범위와 해당 값이 특정 구간에 치우쳐 있는지를 확인합니다."
   ]
  },
  {
   "cell_type": "code",
   "execution_count": 16,
   "id": "1a3a5733",
   "metadata": {
    "executionInfo": {
     "elapsed": 4,
     "status": "ok",
     "timestamp": 1657191917345,
     "user": {
      "displayName": "sungil im",
      "userId": "03307293503234277322"
     },
     "user_tz": -540
    },
    "id": "1a3a5733"
   },
   "outputs": [],
   "source": [
    "def QQ_plot(data, measure):\n",
    "    \n",
    "    # 그래프의 크기를 지정합니다.\n",
    "    fig = plt.figure(figsize=(10,4))\n",
    "    \n",
    "    # 1행 2열의 첫번째 히스토그램 그래프입니다.\n",
    "    fig1 = fig.add_subplot(121)\n",
    "    (mu, sigma) = norm.fit(data)\n",
    "    # distplot 으로 타깃 변수의 분포를 확인합니다. kde = True를 입력하면 커널밀도추정 결과를 함께 표기할 수 있습니다.\n",
    "    sns.distplot(data, kde=True, fit=norm)\n",
    "    fig1.legend(['KDE', f'N({round(mu, 2)},{round(sigma**2, 2)})'], loc='upper right')\n",
    "    fig1.set_title(f'{measure} Distribution', loc='center')\n",
    "    fig1.set_xlabel(f'{measure}')\n",
    "\n",
    "    # 1행 2열의 두번째 QQ Plot 그래프입니다.\n",
    "    fig2 = fig.add_subplot(122)\n",
    "    # 정규분포와 타깃변수의 분포를 비교합니다.\n",
    "    res = probplot(data, plot=fig2)\n",
    "    fig2.set_title(f'{measure} Probability Plot', loc='center')\n",
    "\n",
    "    plt.tight_layout()\n",
    "    plt.show()\n"
   ]
  },
  {
   "cell_type": "markdown",
   "id": "12acea32",
   "metadata": {
    "id": "12acea32"
   },
   "source": [
    "타깃은 평균 1263.41, 분산 67.16 인 정규분포를 거의 따른다고 볼 수 있습니다."
   ]
  },
  {
   "cell_type": "code",
   "execution_count": 17,
   "id": "f186ad43",
   "metadata": {
    "colab": {
     "base_uri": "https://localhost:8080/",
     "height": 297
    },
    "executionInfo": {
     "elapsed": 853,
     "status": "ok",
     "timestamp": 1657191920600,
     "user": {
      "displayName": "sungil im",
      "userId": "03307293503234277322"
     },
     "user_tz": -540
    },
    "id": "f186ad43",
    "outputId": "e7e17f2c-ff3e-43eb-dca9-c46722d53e64"
   },
   "outputs": [
    {
     "data": {
      "image/png": "[encoded data removed]",
      "text/plain": [
       "<Figure size 720x288 with 2 Axes>"
      ]
     },
     "metadata": {
      "needs_background": "light"
     },
     "output_type": "display_data"
    }
   ],
   "source": [
    "QQ_plot(df_eda['y'], 'y')"
   ]
  },
  {
   "cell_type": "markdown",
   "id": "4cc729ac",
   "metadata": {
    "id": "4cc729ac"
   },
   "source": [
    "<a name='03-02'></a>\n",
    "### 3.2 센서 변수와 타깃 변수의 상관관계 파악\n",
    "총 665개의 센서 변수와 타깃 변수 y 간의 관련성이 있는지 확인해보겠습니다. \n",
    "\n",
    "95개의 센서 변수는 총 7개의 공정 스텝 (4, 6, 12, 13, 17, 18, 20) 단위로 수집됩니다. "
   ]
  },
  {
   "cell_type": "code",
   "execution_count": 19,
   "id": "7afd4406",
   "metadata": {
    "executionInfo": {
     "elapsed": 279,
     "status": "ok",
     "timestamp": 1657192220458,
     "user": {
      "displayName": "sungil im",
      "userId": "03307293503234277322"
     },
     "user_tz": -540
    },
    "id": "7afd4406"
   },
   "outputs": [],
   "source": [
    "def regplots(cols, data):\n",
    "    \n",
    "    # 각 센서별 7개의 스텝을 가지므로 행이 2개이고, 열이 4개인 서브 플롯을 생성합니다.\n",
    "    fig, axes = plt.subplots(nrows=2, ncols=4, sharey=True, figsize=(15,8))\n",
    "    \n",
    "    # 서브 플롯 간의 세로 간격(hspace) 가로 간격(wspace)을 설정합니다. \n",
    "    fig.subplots_adjust(hspace=.4, wspace=.1)\n",
    "    \n",
    "    for i, ax in zip(range(len(cols)), axes.flat):\n",
    "\n",
    "        sns.regplot(x=cols[i], y='y', data=data, ax=ax)\n",
    "        ax.set_title(f'{cols[i].upper()}')\n",
    "        ax.set_xlabel('')\n",
    "        ax.set_ylabel('')\n",
    "    \n",
    "    # 8번째 서브 플롯은 필요 없으므로 표기하지 않습니다. \n",
    "    axes.flat[-1].set_visible(False)\n",
    "    plt.tight_layout()\n",
    "    plt.show()"
   ]
  },
  {
   "cell_type": "markdown",
   "id": "9wW-V4UdZoow",
   "metadata": {
    "id": "9wW-V4UdZoow"
   },
   "source": [
    "수치형 변수 X 수치형 변수 조합 시각화에 유용한 산점도 그래프 scatter plot 를 작성합니다. \n",
    "\n",
    "**regplot** 을 사용하여 산점도와 함께 데이터의 경향성을 나타내는 추세선까지 함께 표시합니다."
   ]
  },
  {
   "cell_type": "code",
   "execution_count": 20,
   "id": "38f8b9d1",
   "metadata": {
    "colab": {
     "base_uri": "https://localhost:8080/",
     "height": 1000
    },
    "executionInfo": {
     "elapsed": 5503,
     "status": "ok",
     "timestamp": 1657192819055,
     "user": {
      "displayName": "sungil im",
      "userId": "03307293503234277322"
     },
     "user_tz": -540
    },
    "id": "38f8b9d1",
    "outputId": "2c1e1f03-0345-47ac-d007-c79c003cbf02",
    "scrolled": true,
    "tags": []
   },
   "outputs": [
    {
     "name": "stdout",
     "output_type": "stream",
     "text": [
      "*****['efem_para2']\n"
     ]
    },
    {
     "data": {
      "image/png": "[encoded data removed]",
      "text/plain": [
       "<Figure size 1080x576 with 8 Axes>"
      ]
     },
     "metadata": {
      "needs_background": "light"
     },
     "output_type": "display_data"
    }
   ],
   "source": [
    "for ix, sensor_nm in enumerate(sensors_nm):\n",
    "    print(f'*****{[sensor_nm]}')\n",
    "\n",
    "    # tmp_lst 는 {스텝}_{센서명} 형식으로 센서의 총 7개의 스텝 컬럼 리스트를 생성합니다.\n",
    "    # ex. 04_efem_para2, 06_efem_para2, ..., 20_efem_para2\n",
    "    tmp_lst = list(map(lambda x: f'{x}_{sensor_nm}', lst_steps))\n",
    "    regplots(tmp_lst, df_eda)\n",
    "    \n",
    "    # 총 95개의 센서를 시각화를 할 경우 아래 코드를 주석 처리 합니다.\n",
    "    if ix == 0:\n",
    "        break"
   ]
  },
  {
   "cell_type": "code",
   "execution_count": 21,
   "id": "aXerrCojYG4B",
   "metadata": {
    "colab": {
     "base_uri": "https://localhost:8080/",
     "height": 166
    },
    "executionInfo": {
     "elapsed": 435,
     "status": "error",
     "timestamp": 1657192613104,
     "user": {
      "displayName": "sungil im",
      "userId": "03307293503234277322"
     },
     "user_tz": -540
    },
    "id": "aXerrCojYG4B",
    "outputId": "d6b3e4f9-fb6d-4526-ac24-68f59b363794"
   },
   "outputs": [],
   "source": [
    "# outlier 체크해볼까\n",
    "# for ix, sensor_nm in enumerate(sensors_nm):\n",
    "#     print(f'*****{[sensor_nm]}')\n",
    "#     selected_sensor_lst = list(map(lambda x: f'{x}_{sensor_nm}', lst_steps))\n",
    "\n",
    "#     plt.figure(figsize=(20,3))\n",
    "\n",
    "#     i=1\n",
    "#     for sname in selected_sensor_lst:\n",
    "#     # 각 센서별 7개의 스텝을 가지므로 행이 2개이고, 열이 4개인 서브 플롯을 생성합니다.\n",
    "#       plt.subplot(1,7,i)\n",
    "#       sns.boxplot(y=train[sname])\n",
    "#       plt.title(sname, fontsize=10)\n",
    "#       i += 1\n",
    "#     plt.show()\n",
    "    "
   ]
  },
  {
   "cell_type": "markdown",
   "id": "3rYgrRocaLZW",
   "metadata": {
    "id": "3rYgrRocaLZW"
   },
   "source": [
    "<a name='03-03'></a>\n",
    "### 3.3 범주형 변수에 따른 타깃 변수의 변화\n",
    "\n",
    "총 모듈(module_name)의 고유값의 갯수는 47개입니다. 모듈 이름은 _ 를 기준으로 EQ와 PM 식별자로 조합되어 있습니다."
   ]
  },
  {
   "cell_type": "code",
   "execution_count": 22,
   "id": "QOlA9HjZl-ri",
   "metadata": {
    "colab": {
     "base_uri": "https://localhost:8080/"
    },
    "executionInfo": {
     "elapsed": 293,
     "status": "ok",
     "timestamp": 1657173965467,
     "user": {
      "displayName": "sungil im",
      "userId": "03307293503234277322"
     },
     "user_tz": -540
    },
    "id": "QOlA9HjZl-ri",
    "outputId": "4ff65ac2-5aa6-415f-d237-55d680bc1ece"
   },
   "outputs": [
    {
     "name": "stdout",
     "output_type": "stream",
     "text": [
      "***\n",
      "\bNo. of Module : 47\n",
      "['EQ10_PM1' 'EQ10_PM2' 'EQ10_PM5' 'EQ10_PM6' 'EQ11_PM1' 'EQ11_PM2'\n",
      " 'EQ11_PM5' 'EQ11_PM6' 'EQ12_PM1' 'EQ12_PM2' 'EQ12_PM5' 'EQ12_PM6'\n",
      " 'EQ1_PM1' 'EQ1_PM2' 'EQ1_PM5' 'EQ1_PM6' 'EQ2_PM1' 'EQ2_PM2' 'EQ2_PM5'\n",
      " 'EQ2_PM6' 'EQ3_PM1' 'EQ3_PM2' 'EQ3_PM5' 'EQ3_PM6' 'EQ4_PM1' 'EQ4_PM2'\n",
      " 'EQ4_PM5' 'EQ4_PM6' 'EQ5_PM1' 'EQ5_PM2' 'EQ5_PM5' 'EQ5_PM6' 'EQ6_PM1'\n",
      " 'EQ6_PM2' 'EQ6_PM5' 'EQ6_PM6' 'EQ7_PM1' 'EQ7_PM2' 'EQ7_PM5' 'EQ7_PM6'\n",
      " 'EQ8_PM1' 'EQ8_PM2' 'EQ8_PM5' 'EQ8_PM6' 'EQ9_PM1' 'EQ9_PM2' 'EQ9_PM5']\n"
     ]
    }
   ],
   "source": [
    "idx = 'module_name'\n",
    "# 모듈의 고유값과 고유값의 갯수를 구합니다.\n",
    "module_unq = df_eda[idx].unique()\n",
    "module_nunq = df_eda[idx].nunique()\n",
    "\n",
    "print(f'***\\n\bNo. of Module : {module_nunq}')\n",
    "print(f'{module_unq}')"
   ]
  },
  {
   "cell_type": "markdown",
   "id": "J0ZIuJpGkLfO",
   "metadata": {
    "id": "J0ZIuJpGkLfO"
   },
   "source": [
    "범주의 정도를 상위 레벨에서 보기 위하여 EQ를 기준으로 재범주화 해보겠습니다.\n",
    "\n",
    "apply 를 사용하여 모듈 이름의 EQ 식별자 부분만 추출하여 module_name_eq 컬럼에 값을 저장합니다."
   ]
  },
  {
   "cell_type": "code",
   "execution_count": 26,
   "id": "HLEQHcKumxr0",
   "metadata": {
    "colab": {
     "base_uri": "https://localhost:8080/",
     "height": 298
    },
    "executionInfo": {
     "elapsed": 310,
     "status": "ok",
     "timestamp": 1657173986957,
     "user": {
      "displayName": "sungil im",
      "userId": "03307293503234277322"
     },
     "user_tz": -540
    },
    "id": "HLEQHcKumxr0",
    "outputId": "b9e4e236-1f24-40f5-fb17-4dc99916fa0e"
   },
   "outputs": [
    {
     "data": {
      "text/plain": [
       "<AxesSubplot:xlabel='module_name_eq', ylabel='y'>"
      ]
     },
     "execution_count": 26,
     "metadata": {},
     "output_type": "execute_result"
    },
    {
     "data": {
      "image/png": "[encoded data removed]",
      "text/plain": [
       "<Figure size 432x288 with 1 Axes>"
      ]
     },
     "metadata": {
      "needs_background": "light"
     },
     "output_type": "display_data"
    }
   ],
   "source": [
    "# 모듈 이름의 상위 집계단위를 나타내는 module_name_eq 범주형 변수를 생성하는 함수입니다.\n",
    "def gen_cate_feats(df):\n",
    "  df['module_name_eq'] = df['module_name'].apply(lambda x : x.split('_')[0])\n",
    "  return df \n",
    "   \n",
    "df_eda = gen_cate_feats(df_eda)\n",
    "sns.boxplot(x='module_name_eq', y='y', data=df_eda)"
   ]
  },
  {
   "cell_type": "code",
   "execution_count": 24,
   "id": "c0789f4c-5c17-461a-950d-a3a0ce80aca8",
   "metadata": {},
   "outputs": [
    {
     "data": {
      "text/plain": [
       "<AxesSubplot:xlabel='module_name_eq', ylabel='y'>"
      ]
     },
     "execution_count": 24,
     "metadata": {},
     "output_type": "execute_result"
    },
    {
     "data": {
      "image/png": "[encoded data removed]",
      "text/plain": [
       "<Figure size 432x288 with 1 Axes>"
      ]
     },
     "metadata": {
      "needs_background": "light"
     },
     "output_type": "display_data"
    }
   ],
   "source": [
    "# 모듈 이름의 상위 집계단위를 나타내는 module_name_eq 범주형 변수를 생성하는 함수입니다.\n",
    "# def gen_cate_feats2(df):\n",
    "#   df['module_name_eq'] = df['module_name'].apply(lambda x : x.split('_')[1])\n",
    "#   return df \n",
    "   \n",
    "# df_eda = gen_cate_feats2(df_eda)\n",
    "# sns.boxplot(x='module_name_eq', y='y', data=df_eda)"
   ]
  },
  {
   "cell_type": "markdown",
   "id": "23d0981e",
   "metadata": {
    "id": "23d0981e"
   },
   "source": [
    "<a name='03-04'></a>\n",
    "### 3.4 전체 공정 소요시간에 따른 타깃 변수의 변화 \n",
    "\n",
    "전체 및 개별 공정 소요시간 변수를 생성하는 함수를 작성합니다. \n",
    "\n",
    "전체 공정 소요시간은 마지막 공정 완료시간 ***20_end_time*** 과 첫번째 공정 완료시간 **04_end_time** 의 차이(초)를 계산한 값입니다."
   ]
  },
  {
   "cell_type": "code",
   "execution_count": 27,
   "id": "a5524cee",
   "metadata": {
    "executionInfo": {
     "elapsed": 293,
     "status": "ok",
     "timestamp": 1657174517742,
     "user": {
      "displayName": "sungil im",
      "userId": "03307293503234277322"
     },
     "user_tz": -540
    },
    "id": "a5524cee"
   },
   "outputs": [],
   "source": [
    "# 전체 및 개별 공정 소요시간 변수를 생성하는 함수입니다.\n",
    "def gen_duration_feats(df, lst_stepsgap):\n",
    "    \n",
    "    # 전체 공정 소요시간(초) 변수를 생성합니다. \n",
    "    df['gen_tmdiff'] = (df['20_end_time'] - df['04_end_time']).dt.total_seconds()\n",
    "    \n",
    "    # 개별 스텝간 공정 소요시간(초) 변수를 생성합니다. \n",
    "    # ex. gen_\btmdiff_0406 : 04 스텝 공정 완료 시간과 06 스텝 공정 완료 시간의 차이 \n",
    "    for stepgap in lst_stepsgap:\n",
    "        df[f'gen_tmdiff_{stepgap}'] = (df[f'{stepgap[2:]}_end_time'] - df[f'{stepgap[:2]}_end_time']).dt.total_seconds()\n",
    "\n",
    "    return df\n",
    "\n",
    "df_eda = gen_duration_feats(df_eda, lst_stepsgap)"
   ]
  },
  {
   "cell_type": "markdown",
   "id": "0cb07d84",
   "metadata": {
    "id": "0cb07d84"
   },
   "source": [
    "전체 공정 소요시간은 최소 30.6분에서 최대 31.9분입니다. \n",
    "\n",
    "개별 스텝간 공정 소요시간도 확인하였을 시, 6번째 스텝에서 12번째 스텝 간 소요시간이 가장 길었습니다. "
   ]
  },
  {
   "cell_type": "code",
   "execution_count": 28,
   "id": "F3jmUKbu_vtd",
   "metadata": {
    "colab": {
     "base_uri": "https://localhost:8080/",
     "height": 269
    },
    "executionInfo": {
     "elapsed": 290,
     "status": "ok",
     "timestamp": 1657174521725,
     "user": {
      "displayName": "sungil im",
      "userId": "03307293503234277322"
     },
     "user_tz": -540
    },
    "id": "F3jmUKbu_vtd",
    "outputId": "346003ec-4364-4383-aa44-dac82a5eafa9"
   },
   "outputs": [
    {
     "data": {
      "text/html": [
       "<div>\n",
       "<style scoped>\n",
       "    .dataframe tbody tr th:only-of-type {\n",
       "        vertical-align: middle;\n",
       "    }\n",
       "\n",
       "    .dataframe tbody tr th {\n",
       "        vertical-align: top;\n",
       "    }\n",
       "\n",
       "    .dataframe thead th {\n",
       "        text-align: right;\n",
       "    }\n",
       "</style>\n",
       "<table border=\"1\" class=\"dataframe\">\n",
       "  <thead>\n",
       "    <tr style=\"text-align: right;\">\n",
       "      <th></th>\n",
       "      <th>MIN</th>\n",
       "      <th>MAX</th>\n",
       "      <th>MEAN</th>\n",
       "    </tr>\n",
       "  </thead>\n",
       "  <tbody>\n",
       "    <tr>\n",
       "      <th>gen_tmdiff</th>\n",
       "      <td>30.6</td>\n",
       "      <td>31.9</td>\n",
       "      <td>31.5</td>\n",
       "    </tr>\n",
       "    <tr>\n",
       "      <th>gen_tmdiff_0406</th>\n",
       "      <td>2.0</td>\n",
       "      <td>2.5</td>\n",
       "      <td>2.3</td>\n",
       "    </tr>\n",
       "    <tr>\n",
       "      <th>gen_tmdiff_0612</th>\n",
       "      <td>13.3</td>\n",
       "      <td>14.2</td>\n",
       "      <td>13.9</td>\n",
       "    </tr>\n",
       "    <tr>\n",
       "      <th>gen_tmdiff_1213</th>\n",
       "      <td>0.3</td>\n",
       "      <td>0.3</td>\n",
       "      <td>0.3</td>\n",
       "    </tr>\n",
       "    <tr>\n",
       "      <th>gen_tmdiff_1317</th>\n",
       "      <td>7.9</td>\n",
       "      <td>8.0</td>\n",
       "      <td>7.9</td>\n",
       "    </tr>\n",
       "    <tr>\n",
       "      <th>gen_tmdiff_1718</th>\n",
       "      <td>0.3</td>\n",
       "      <td>0.3</td>\n",
       "      <td>0.3</td>\n",
       "    </tr>\n",
       "    <tr>\n",
       "      <th>gen_tmdiff_1820</th>\n",
       "      <td>6.8</td>\n",
       "      <td>6.9</td>\n",
       "      <td>6.8</td>\n",
       "    </tr>\n",
       "  </tbody>\n",
       "</table>\n",
       "</div>"
      ],
      "text/plain": [
       "                  MIN   MAX  MEAN\n",
       "gen_tmdiff       30.6  31.9  31.5\n",
       "gen_tmdiff_0406   2.0   2.5   2.3\n",
       "gen_tmdiff_0612  13.3  14.2  13.9\n",
       "gen_tmdiff_1213   0.3   0.3   0.3\n",
       "gen_tmdiff_1317   7.9   8.0   7.9\n",
       "gen_tmdiff_1718   0.3   0.3   0.3\n",
       "gen_tmdiff_1820   6.8   6.9   6.8"
      ]
     },
     "execution_count": 28,
     "metadata": {},
     "output_type": "execute_result"
    }
   ],
   "source": [
    "# 전체 공정 소요시간 및 개별 공정 소요시간 컬럼을 리스트 형태로 추출합니다. \n",
    "col_tmdiff = df_eda.filter(regex='gen_tmdiff($|_\\d)').columns.tolist()\n",
    "\n",
    "# 공정 소요시간의 통계값(최소, 최대, 평균)을 추출하는 함수입니다.\n",
    "def tmdiff_stats(x):\n",
    "  return [round(x.min()/60,1), round(x.max()/60,1), round(x.mean()/60,1)]\n",
    "\n",
    "df_tmp = df_eda[col_tmdiff].apply(tmdiff_stats).T\n",
    "df_tmp.columns = ['MIN', 'MAX', 'MEAN']\n",
    "df_tmp"
   ]
  },
  {
   "cell_type": "markdown",
   "id": "1U9R-Jwa74S1",
   "metadata": {
    "id": "1U9R-Jwa74S1"
   },
   "source": [
    "전체 공정 소요시간은 30분대 공정이 완료된 장비와 31분대에 공정이 완료된 장비로 뚜렷이 구분됩니다. \n",
    "\n",
    "대부분의 장비는 31분대에 완료되었으며, 일찍 공정을 마친 장비는 주로 EQ7, EQ8 모듈입니다.\n"
   ]
  },
  {
   "cell_type": "code",
   "execution_count": 29,
   "id": "7d92739c",
   "metadata": {
    "colab": {
     "base_uri": "https://localhost:8080/",
     "height": 352
    },
    "executionInfo": {
     "elapsed": 1016,
     "status": "ok",
     "timestamp": 1657174529299,
     "user": {
      "displayName": "sungil im",
      "userId": "03307293503234277322"
     },
     "user_tz": -540
    },
    "id": "7d92739c",
    "outputId": "af336a2e-9540-42ac-cfea-e36cf4b90cd8"
   },
   "outputs": [
    {
     "data": {
      "text/plain": [
       "<matplotlib.legend.Legend at 0x7f458b82f100>"
      ]
     },
     "execution_count": 29,
     "metadata": {},
     "output_type": "execute_result"
    },
    {
     "data": {
      "image/png": "[encoded data removed]",
      "text/plain": [
       "<Figure size 720x360 with 2 Axes>"
      ]
     },
     "metadata": {
      "needs_background": "light"
     },
     "output_type": "display_data"
    }
   ],
   "source": [
    "# 시각화를 위하여 1870초를 기준으로 일찍 마친 장비와 늦께 마친 장비를 구분합니다.\n",
    "df_eda.loc[df_eda['gen_tmdiff'] < 1870, 'tmdiff_speed'] = 'E' # Early \n",
    "df_eda.loc[df_eda['gen_tmdiff'] > 1870, 'tmdiff_speed'] = 'L' # Late\n",
    "\n",
    "fig, axes = plt.subplots(nrows=1, ncols=2, sharey=True, figsize=(10,5))\n",
    "sns.scatterplot(x='gen_tmdiff', y='y', hue='tmdiff_speed', data = df_eda, ax=axes[0])\n",
    "sns.scatterplot(x='gen_tmdiff', y='y', hue='module_name_eq', data = df_eda, ax=axes[1])\n",
    "axes[0].legend(loc='lower left', ncol=2, title='tmdiff_speed')\n",
    "axes[1].legend(loc='lower left', ncol=1, title='module_name_eq', bbox_to_anchor=(1.04, 0))"
   ]
  },
  {
   "cell_type": "markdown",
   "id": "D7eUhu-s8CgI",
   "metadata": {
    "id": "D7eUhu-s8CgI"
   },
   "source": [
    "<a name='03-05'></a>\n",
    "### 3.5 센서의 집약된 통계량에 따른 타깃 변수의 변화\n",
    "\n",
    "센서 측정치에 대해 총 7개의 스텝을 집약한 표준편차를 확인해보겠습니다. 전 구간에서 센서 측정치의 흩어진 정도를 알 수 있습니다. "
   ]
  },
  {
   "cell_type": "code",
   "execution_count": 30,
   "id": "L9yzrXsX8Hz0",
   "metadata": {
    "executionInfo": {
     "elapsed": 309,
     "status": "ok",
     "timestamp": 1657174542681,
     "user": {
      "displayName": "sungil im",
      "userId": "03307293503234277322"
     },
     "user_tz": -540
    },
    "id": "L9yzrXsX8Hz0"
   },
   "outputs": [],
   "source": [
    "# 센서의 집약된 표준편차 변수를 생성하는 함수입니다.\n",
    "def gen_stats_feats(df, sensors_nm, lst_steps):\n",
    "    \n",
    "    for sensor_nm in sensors_nm:\n",
    "\n",
    "        # 센서별 총 7개의 스텝 컬럼 리스트를 생성합니다.\n",
    "        # ex. 04_efem_para2, 06_efem_para2, ..., 20_efem_para2\n",
    "        tmp_lst = list(map(lambda x: f'{x}_{sensor_nm}', lst_steps))\n",
    "\n",
    "        # 전 스텝을 집약하여 센서의 표준편차 변수를 생성합니다. \n",
    "        df[f'gen_{sensor_nm}_std'] = df[tmp_lst].std(axis=1)\n",
    "        \n",
    "    return df\n",
    "\n",
    "df_eda = gen_stats_feats(df_eda, sensors_nm, lst_steps)"
   ]
  },
  {
   "cell_type": "code",
   "execution_count": 31,
   "id": "6872c868-9f51-4412-829e-dea8e64c7a61",
   "metadata": {},
   "outputs": [
    {
     "data": {
      "text/html": [
       "<div>\n",
       "<style scoped>\n",
       "    .dataframe tbody tr th:only-of-type {\n",
       "        vertical-align: middle;\n",
       "    }\n",
       "\n",
       "    .dataframe tbody tr th {\n",
       "        vertical-align: top;\n",
       "    }\n",
       "\n",
       "    .dataframe thead th {\n",
       "        text-align: right;\n",
       "    }\n",
       "</style>\n",
       "<table border=\"1\" class=\"dataframe\">\n",
       "  <thead>\n",
       "    <tr style=\"text-align: right;\">\n",
       "      <th></th>\n",
       "      <th>module_name</th>\n",
       "      <th>key_val</th>\n",
       "      <th>end_dt_tm</th>\n",
       "      <th>y</th>\n",
       "      <th>04_efem_para2</th>\n",
       "      <th>04_efem_para25</th>\n",
       "      <th>04_efem_para78</th>\n",
       "      <th>04_epd_para4</th>\n",
       "      <th>04_epd_para40</th>\n",
       "      <th>04_epd_para63</th>\n",
       "      <th>...</th>\n",
       "      <th>gen_time_para7_std</th>\n",
       "      <th>gen_time_para75_std</th>\n",
       "      <th>gen_time_para77_std</th>\n",
       "      <th>gen_time_para8_std</th>\n",
       "      <th>gen_time_para81_std</th>\n",
       "      <th>gen_time_para83_std</th>\n",
       "      <th>gen_time_para89_std</th>\n",
       "      <th>gen_time_para9_std</th>\n",
       "      <th>gen_time_para90_std</th>\n",
       "      <th>gen_tmp_para31_std</th>\n",
       "    </tr>\n",
       "  </thead>\n",
       "  <tbody>\n",
       "    <tr>\n",
       "      <th>0</th>\n",
       "      <td>EQ10_PM1</td>\n",
       "      <td>LOT124_21</td>\n",
       "      <td>2021-10-18 18:12:50</td>\n",
       "      <td>1257.84920</td>\n",
       "      <td>1627.6360</td>\n",
       "      <td>1638.8180</td>\n",
       "      <td>5.140073</td>\n",
       "      <td>0.0</td>\n",
       "      <td>0.0</td>\n",
       "      <td>0.0</td>\n",
       "      <td>...</td>\n",
       "      <td>0.163207</td>\n",
       "      <td>0.163356</td>\n",
       "      <td>0.163356</td>\n",
       "      <td>0.163207</td>\n",
       "      <td>0.163356</td>\n",
       "      <td>0.163207</td>\n",
       "      <td>0.163356</td>\n",
       "      <td>0.163207</td>\n",
       "      <td>0.163356</td>\n",
       "      <td>0.549630</td>\n",
       "    </tr>\n",
       "    <tr>\n",
       "      <th>1</th>\n",
       "      <td>EQ10_PM1</td>\n",
       "      <td>LOT126_21</td>\n",
       "      <td>2021-10-04 23:34:27</td>\n",
       "      <td>1253.30152</td>\n",
       "      <td>1627.9710</td>\n",
       "      <td>1641.1180</td>\n",
       "      <td>5.023404</td>\n",
       "      <td>0.0</td>\n",
       "      <td>0.0</td>\n",
       "      <td>0.0</td>\n",
       "      <td>...</td>\n",
       "      <td>0.163207</td>\n",
       "      <td>0.165981</td>\n",
       "      <td>0.165981</td>\n",
       "      <td>0.163211</td>\n",
       "      <td>0.165981</td>\n",
       "      <td>0.163207</td>\n",
       "      <td>0.165981</td>\n",
       "      <td>0.163207</td>\n",
       "      <td>0.165981</td>\n",
       "      <td>0.556890</td>\n",
       "    </tr>\n",
       "    <tr>\n",
       "      <th>2</th>\n",
       "      <td>EQ10_PM1</td>\n",
       "      <td>LOT191_17</td>\n",
       "      <td>2021-10-22 11:59:52</td>\n",
       "      <td>1265.93544</td>\n",
       "      <td>1627.1820</td>\n",
       "      <td>1637.0000</td>\n",
       "      <td>5.042702</td>\n",
       "      <td>0.0</td>\n",
       "      <td>0.0</td>\n",
       "      <td>0.0</td>\n",
       "      <td>...</td>\n",
       "      <td>0.163207</td>\n",
       "      <td>0.165661</td>\n",
       "      <td>0.165661</td>\n",
       "      <td>0.163207</td>\n",
       "      <td>0.165661</td>\n",
       "      <td>0.163207</td>\n",
       "      <td>0.165661</td>\n",
       "      <td>0.163207</td>\n",
       "      <td>0.165661</td>\n",
       "      <td>0.548485</td>\n",
       "    </tr>\n",
       "    <tr>\n",
       "      <th>3</th>\n",
       "      <td>EQ10_PM1</td>\n",
       "      <td>LOT23_21</td>\n",
       "      <td>2021-10-06 07:48:24</td>\n",
       "      <td>1248.55080</td>\n",
       "      <td>1631.0590</td>\n",
       "      <td>1643.8820</td>\n",
       "      <td>5.153204</td>\n",
       "      <td>0.0</td>\n",
       "      <td>0.0</td>\n",
       "      <td>0.0</td>\n",
       "      <td>...</td>\n",
       "      <td>0.163216</td>\n",
       "      <td>0.163108</td>\n",
       "      <td>0.163108</td>\n",
       "      <td>0.163216</td>\n",
       "      <td>0.163108</td>\n",
       "      <td>0.163216</td>\n",
       "      <td>0.163108</td>\n",
       "      <td>0.163216</td>\n",
       "      <td>0.163108</td>\n",
       "      <td>0.556407</td>\n",
       "    </tr>\n",
       "    <tr>\n",
       "      <th>4</th>\n",
       "      <td>EQ10_PM1</td>\n",
       "      <td>LOT243_21</td>\n",
       "      <td>2021-10-24 14:34:01</td>\n",
       "      <td>1254.63380</td>\n",
       "      <td>1627.7500</td>\n",
       "      <td>1637.3120</td>\n",
       "      <td>5.147788</td>\n",
       "      <td>0.0</td>\n",
       "      <td>0.0</td>\n",
       "      <td>0.0</td>\n",
       "      <td>...</td>\n",
       "      <td>0.158144</td>\n",
       "      <td>0.158044</td>\n",
       "      <td>0.158044</td>\n",
       "      <td>0.158144</td>\n",
       "      <td>0.158081</td>\n",
       "      <td>0.158144</td>\n",
       "      <td>0.158044</td>\n",
       "      <td>0.158144</td>\n",
       "      <td>0.158044</td>\n",
       "      <td>0.559949</td>\n",
       "    </tr>\n",
       "    <tr>\n",
       "      <th>...</th>\n",
       "      <td>...</td>\n",
       "      <td>...</td>\n",
       "      <td>...</td>\n",
       "      <td>...</td>\n",
       "      <td>...</td>\n",
       "      <td>...</td>\n",
       "      <td>...</td>\n",
       "      <td>...</td>\n",
       "      <td>...</td>\n",
       "      <td>...</td>\n",
       "      <td>...</td>\n",
       "      <td>...</td>\n",
       "      <td>...</td>\n",
       "      <td>...</td>\n",
       "      <td>...</td>\n",
       "      <td>...</td>\n",
       "      <td>...</td>\n",
       "      <td>...</td>\n",
       "      <td>...</td>\n",
       "      <td>...</td>\n",
       "      <td>...</td>\n",
       "    </tr>\n",
       "    <tr>\n",
       "      <th>606</th>\n",
       "      <td>EQ9_PM5</td>\n",
       "      <td>LOT379_20</td>\n",
       "      <td>2021-10-13 06:20:15</td>\n",
       "      <td>1264.54772</td>\n",
       "      <td>1626.7273</td>\n",
       "      <td>1626.6970</td>\n",
       "      <td>4.984926</td>\n",
       "      <td>0.0</td>\n",
       "      <td>0.0</td>\n",
       "      <td>0.0</td>\n",
       "      <td>...</td>\n",
       "      <td>0.161508</td>\n",
       "      <td>0.161508</td>\n",
       "      <td>0.161508</td>\n",
       "      <td>0.158950</td>\n",
       "      <td>0.161508</td>\n",
       "      <td>0.158950</td>\n",
       "      <td>0.161508</td>\n",
       "      <td>0.158950</td>\n",
       "      <td>0.161508</td>\n",
       "      <td>0.552455</td>\n",
       "    </tr>\n",
       "    <tr>\n",
       "      <th>607</th>\n",
       "      <td>EQ9_PM5</td>\n",
       "      <td>LOT407_19</td>\n",
       "      <td>2021-10-11 14:27:23</td>\n",
       "      <td>1271.06776</td>\n",
       "      <td>1628.6666</td>\n",
       "      <td>1627.6666</td>\n",
       "      <td>5.318251</td>\n",
       "      <td>0.0</td>\n",
       "      <td>0.0</td>\n",
       "      <td>0.0</td>\n",
       "      <td>...</td>\n",
       "      <td>0.163223</td>\n",
       "      <td>0.163223</td>\n",
       "      <td>0.163223</td>\n",
       "      <td>0.161549</td>\n",
       "      <td>0.163223</td>\n",
       "      <td>0.161549</td>\n",
       "      <td>0.163223</td>\n",
       "      <td>0.161549</td>\n",
       "      <td>0.163223</td>\n",
       "      <td>0.556421</td>\n",
       "    </tr>\n",
       "    <tr>\n",
       "      <th>608</th>\n",
       "      <td>EQ9_PM5</td>\n",
       "      <td>LOT424_18</td>\n",
       "      <td>2021-10-23 16:43:17</td>\n",
       "      <td>1244.75392</td>\n",
       "      <td>1625.2727</td>\n",
       "      <td>1623.7878</td>\n",
       "      <td>5.047551</td>\n",
       "      <td>0.0</td>\n",
       "      <td>0.0</td>\n",
       "      <td>0.0</td>\n",
       "      <td>...</td>\n",
       "      <td>0.163227</td>\n",
       "      <td>0.163227</td>\n",
       "      <td>0.163227</td>\n",
       "      <td>0.163211</td>\n",
       "      <td>0.163227</td>\n",
       "      <td>0.163211</td>\n",
       "      <td>0.163227</td>\n",
       "      <td>0.163211</td>\n",
       "      <td>0.163227</td>\n",
       "      <td>0.548801</td>\n",
       "    </tr>\n",
       "    <tr>\n",
       "      <th>609</th>\n",
       "      <td>EQ9_PM5</td>\n",
       "      <td>LOT457_20</td>\n",
       "      <td>2021-10-22 09:44:33</td>\n",
       "      <td>1257.32312</td>\n",
       "      <td>1627.2122</td>\n",
       "      <td>1626.2122</td>\n",
       "      <td>5.400269</td>\n",
       "      <td>0.0</td>\n",
       "      <td>0.0</td>\n",
       "      <td>0.0</td>\n",
       "      <td>...</td>\n",
       "      <td>0.158943</td>\n",
       "      <td>0.158943</td>\n",
       "      <td>0.158943</td>\n",
       "      <td>0.163217</td>\n",
       "      <td>0.158943</td>\n",
       "      <td>0.163217</td>\n",
       "      <td>0.158943</td>\n",
       "      <td>0.163217</td>\n",
       "      <td>0.158943</td>\n",
       "      <td>0.549734</td>\n",
       "    </tr>\n",
       "    <tr>\n",
       "      <th>610</th>\n",
       "      <td>EQ9_PM5</td>\n",
       "      <td>LOT83_15</td>\n",
       "      <td>2021-10-11 14:01:31</td>\n",
       "      <td>1268.52920</td>\n",
       "      <td>1630.1210</td>\n",
       "      <td>1630.0910</td>\n",
       "      <td>5.363906</td>\n",
       "      <td>0.0</td>\n",
       "      <td>0.0</td>\n",
       "      <td>0.0</td>\n",
       "      <td>...</td>\n",
       "      <td>0.163206</td>\n",
       "      <td>0.163206</td>\n",
       "      <td>0.163206</td>\n",
       "      <td>0.163216</td>\n",
       "      <td>0.163206</td>\n",
       "      <td>0.163216</td>\n",
       "      <td>0.163206</td>\n",
       "      <td>0.163216</td>\n",
       "      <td>0.163206</td>\n",
       "      <td>0.558679</td>\n",
       "    </tr>\n",
       "  </tbody>\n",
       "</table>\n",
       "<p>611 rows × 780 columns</p>\n",
       "</div>"
      ],
      "text/plain": [
       "    module_name    key_val           end_dt_tm           y  04_efem_para2  \\\n",
       "0      EQ10_PM1  LOT124_21 2021-10-18 18:12:50  1257.84920      1627.6360   \n",
       "1      EQ10_PM1  LOT126_21 2021-10-04 23:34:27  1253.30152      1627.9710   \n",
       "2      EQ10_PM1  LOT191_17 2021-10-22 11:59:52  1265.93544      1627.1820   \n",
       "3      EQ10_PM1   LOT23_21 2021-10-06 07:48:24  1248.55080      1631.0590   \n",
       "4      EQ10_PM1  LOT243_21 2021-10-24 14:34:01  1254.63380      1627.7500   \n",
       "..          ...        ...                 ...         ...            ...   \n",
       "606     EQ9_PM5  LOT379_20 2021-10-13 06:20:15  1264.54772      1626.7273   \n",
       "607     EQ9_PM5  LOT407_19 2021-10-11 14:27:23  1271.06776      1628.6666   \n",
       "608     EQ9_PM5  LOT424_18 2021-10-23 16:43:17  1244.75392      1625.2727   \n",
       "609     EQ9_PM5  LOT457_20 2021-10-22 09:44:33  1257.32312      1627.2122   \n",
       "610     EQ9_PM5   LOT83_15 2021-10-11 14:01:31  1268.52920      1630.1210   \n",
       "\n",
       "     04_efem_para25  04_efem_para78  04_epd_para4  04_epd_para40  \\\n",
       "0         1638.8180        5.140073           0.0            0.0   \n",
       "1         1641.1180        5.023404           0.0            0.0   \n",
       "2         1637.0000        5.042702           0.0            0.0   \n",
       "3         1643.8820        5.153204           0.0            0.0   \n",
       "4         1637.3120        5.147788           0.0            0.0   \n",
       "..              ...             ...           ...            ...   \n",
       "606       1626.6970        4.984926           0.0            0.0   \n",
       "607       1627.6666        5.318251           0.0            0.0   \n",
       "608       1623.7878        5.047551           0.0            0.0   \n",
       "609       1626.2122        5.400269           0.0            0.0   \n",
       "610       1630.0910        5.363906           0.0            0.0   \n",
       "\n",
       "     04_epd_para63  ...  gen_time_para7_std  gen_time_para75_std  \\\n",
       "0              0.0  ...            0.163207             0.163356   \n",
       "1              0.0  ...            0.163207             0.165981   \n",
       "2              0.0  ...            0.163207             0.165661   \n",
       "3              0.0  ...            0.163216             0.163108   \n",
       "4              0.0  ...            0.158144             0.158044   \n",
       "..             ...  ...                 ...                  ...   \n",
       "606            0.0  ...            0.161508             0.161508   \n",
       "607            0.0  ...            0.163223             0.163223   \n",
       "608            0.0  ...            0.163227             0.163227   \n",
       "609            0.0  ...            0.158943             0.158943   \n",
       "610            0.0  ...            0.163206             0.163206   \n",
       "\n",
       "     gen_time_para77_std  gen_time_para8_std  gen_time_para81_std  \\\n",
       "0               0.163356            0.163207             0.163356   \n",
       "1               0.165981            0.163211             0.165981   \n",
       "2               0.165661            0.163207             0.165661   \n",
       "3               0.163108            0.163216             0.163108   \n",
       "4               0.158044            0.158144             0.158081   \n",
       "..                   ...                 ...                  ...   \n",
       "606             0.161508            0.158950             0.161508   \n",
       "607             0.163223            0.161549             0.163223   \n",
       "608             0.163227            0.163211             0.163227   \n",
       "609             0.158943            0.163217             0.158943   \n",
       "610             0.163206            0.163216             0.163206   \n",
       "\n",
       "     gen_time_para83_std  gen_time_para89_std  gen_time_para9_std  \\\n",
       "0               0.163207             0.163356            0.163207   \n",
       "1               0.163207             0.165981            0.163207   \n",
       "2               0.163207             0.165661            0.163207   \n",
       "3               0.163216             0.163108            0.163216   \n",
       "4               0.158144             0.158044            0.158144   \n",
       "..                   ...                  ...                 ...   \n",
       "606             0.158950             0.161508            0.158950   \n",
       "607             0.161549             0.163223            0.161549   \n",
       "608             0.163211             0.163227            0.163211   \n",
       "609             0.163217             0.158943            0.163217   \n",
       "610             0.163216             0.163206            0.163216   \n",
       "\n",
       "     gen_time_para90_std  gen_tmp_para31_std  \n",
       "0               0.163356            0.549630  \n",
       "1               0.165981            0.556890  \n",
       "2               0.165661            0.548485  \n",
       "3               0.163108            0.556407  \n",
       "4               0.158044            0.559949  \n",
       "..                   ...                 ...  \n",
       "606             0.161508            0.552455  \n",
       "607             0.163223            0.556421  \n",
       "608             0.163227            0.548801  \n",
       "609             0.158943            0.549734  \n",
       "610             0.163206            0.558679  \n",
       "\n",
       "[611 rows x 780 columns]"
      ]
     },
     "execution_count": 31,
     "metadata": {},
     "output_type": "execute_result"
    }
   ],
   "source": [
    "df_eda"
   ]
  },
  {
   "cell_type": "code",
   "execution_count": 32,
   "id": "0EhboncAQtgq",
   "metadata": {
    "colab": {
     "base_uri": "https://localhost:8080/",
     "height": 352
    },
    "executionInfo": {
     "elapsed": 616,
     "status": "ok",
     "timestamp": 1657174544988,
     "user": {
      "displayName": "sungil im",
      "userId": "03307293503234277322"
     },
     "user_tz": -540
    },
    "id": "0EhboncAQtgq",
    "outputId": "1400127a-1f78-4842-ad60-b0e67a71063d"
   },
   "outputs": [
    {
     "data": {
      "text/plain": [
       "<AxesSubplot:xlabel='gen_time_para5_std', ylabel='y'>"
      ]
     },
     "execution_count": 32,
     "metadata": {},
     "output_type": "execute_result"
    },
    {
     "data": {
      "image/png": "[encoded data removed]",
      "text/plain": [
       "<Figure size 720x360 with 4 Axes>"
      ]
     },
     "metadata": {
      "needs_background": "light"
     },
     "output_type": "display_data"
    }
   ],
   "source": [
    "fig, axes = plt.subplots(nrows=2, ncols=2, sharey=True, figsize=(10,5))\n",
    "fig.subplots_adjust(hspace=.4, wspace=.1)\n",
    "\n",
    "sns.scatterplot(x='gen_hv_para3_std', y='y', data = df_eda, ax=axes[0,0], legend=False)\n",
    "sns.scatterplot(x='gen_hv_para45_std', y='y', data = df_eda, ax=axes[0,1], legend=False)\n",
    "sns.scatterplot(x='gen_pressure_para91_std', y='y',  data = df_eda, ax=axes[1,0], legend=False)\n",
    "sns.scatterplot(x='gen_time_para5_std', y='y', data = df_eda, ax=axes[1,1], legend=False)\n"
   ]
  },
  {
   "cell_type": "code",
   "execution_count": 33,
   "id": "_j7xH20VB_8f",
   "metadata": {
    "executionInfo": {
     "elapsed": 421,
     "status": "ok",
     "timestamp": 1657174549179,
     "user": {
      "displayName": "sungil im",
      "userId": "03307293503234277322"
     },
     "user_tz": -540
    },
    "id": "_j7xH20VB_8f"
   },
   "outputs": [],
   "source": [
    "# EDA를 위한 데이터 프레임 제거합니다.\n",
    "del df_eda"
   ]
  },
  {
   "cell_type": "markdown",
   "id": "2fcae3e0",
   "metadata": {
    "id": "2fcae3e0"
   },
   "source": [
    "<a name='04'></a>\n",
    "## 4. 데이터 전처리\n",
    "\n",
    "탐색적 데이터 분석을 통해 도출한 추가 변수를 생성(4.1절)합니다. \n",
    "\n",
    "이상치 확인(4.2절), 분산이 적은 특징 제거(4.3절), 수치형 변수의 표준화(4.4절) 그리고 범주형 변수의 원-핫 인코딩(4.5절) 변환을 하여 데이터를 전처리합니다."
   ]
  },
  {
   "cell_type": "markdown",
   "id": "L-QaF6M8YR5B",
   "metadata": {
    "id": "L-QaF6M8YR5B"
   },
   "source": [
    "<a name='04-01'></a>\n",
    "### 4.1 내부 데이터를 통한 변수 생성 \n",
    "\n"
   ]
  },
  {
   "cell_type": "code",
   "execution_count": 34,
   "id": "33cf1fa6",
   "metadata": {
    "executionInfo": {
     "elapsed": 281,
     "status": "ok",
     "timestamp": 1657174551083,
     "user": {
      "displayName": "sungil im",
      "userId": "03307293503234277322"
     },
     "user_tz": -540
    },
    "id": "33cf1fa6"
   },
   "outputs": [],
   "source": [
    "# \b전처리를 위한 학습용 데이터와 평가용 데이터를 복사합니다.\n",
    "df_prep_train = train.copy()\n",
    "df_prep_predict = predict.copy()"
   ]
  },
  {
   "cell_type": "markdown",
   "id": "XRZy3Q2bZXcA",
   "metadata": {
    "id": "XRZy3Q2bZXcA"
   },
   "source": [
    "탐색적 데이터 분석(3.3~3.5절)에서 분석한 결과를 활용해 새로운 특징을 생성합니다. \n",
    "\n",
    "\n",
    "*   모듈 이름의 상위 집계 단위를 나타내는 1개의 범주형 변수 (3.3절)\n",
    "*   전체 및 개별 공정 소요시간을 나타내는 7개의 변수(3.4절)\n",
    "*   센서 변수의 집약된 표준편차를 나타내는 95개의 변수 (3.5절)\n",
    "\n",
    "\n"
   ]
  },
  {
   "cell_type": "code",
   "execution_count": 35,
   "id": "z6peWNiIZYmN",
   "metadata": {
    "colab": {
     "base_uri": "https://localhost:8080/",
     "height": 112
    },
    "executionInfo": {
     "elapsed": 341,
     "status": "ok",
     "timestamp": 1657174553813,
     "user": {
      "displayName": "sungil im",
      "userId": "03307293503234277322"
     },
     "user_tz": -540
    },
    "id": "z6peWNiIZYmN",
    "outputId": "a4e9185e-3971-4e3b-e47d-8e516e79aefc"
   },
   "outputs": [
    {
     "data": {
      "text/html": [
       "<div>\n",
       "<style scoped>\n",
       "    .dataframe tbody tr th:only-of-type {\n",
       "        vertical-align: middle;\n",
       "    }\n",
       "\n",
       "    .dataframe tbody tr th {\n",
       "        vertical-align: top;\n",
       "    }\n",
       "\n",
       "    .dataframe thead th {\n",
       "        text-align: right;\n",
       "    }\n",
       "</style>\n",
       "<table border=\"1\" class=\"dataframe\">\n",
       "  <thead>\n",
       "    <tr style=\"text-align: right;\">\n",
       "      <th></th>\n",
       "      <th>module_name_eq</th>\n",
       "    </tr>\n",
       "  </thead>\n",
       "  <tbody>\n",
       "    <tr>\n",
       "      <th>0</th>\n",
       "      <td>EQ10</td>\n",
       "    </tr>\n",
       "    <tr>\n",
       "      <th>1</th>\n",
       "      <td>EQ10</td>\n",
       "    </tr>\n",
       "  </tbody>\n",
       "</table>\n",
       "</div>"
      ],
      "text/plain": [
       "  module_name_eq\n",
       "0           EQ10\n",
       "1           EQ10"
      ]
     },
     "execution_count": 35,
     "metadata": {},
     "output_type": "execute_result"
    }
   ],
   "source": [
    "# 모듈 이름의 상위 집계 단위를 나타내는 1개의 범주형 변수를 생성합니다(3.3절)\n",
    "df_prep_train = gen_cate_feats(df_prep_train)\n",
    "df_prep_predict = gen_cate_feats(df_prep_predict)\n",
    "df_prep_train.filter(regex='module_name_eq').head(2)"
   ]
  },
  {
   "cell_type": "code",
   "execution_count": 36,
   "id": "VJIRV70daNzk",
   "metadata": {
    "colab": {
     "base_uri": "https://localhost:8080/",
     "height": 112
    },
    "executionInfo": {
     "elapsed": 301,
     "status": "ok",
     "timestamp": 1657174557800,
     "user": {
      "displayName": "sungil im",
      "userId": "03307293503234277322"
     },
     "user_tz": -540
    },
    "id": "VJIRV70daNzk",
    "outputId": "6fa92bd1-1670-4ab7-9b18-eb7cd75c62e3"
   },
   "outputs": [
    {
     "data": {
      "text/html": [
       "<div>\n",
       "<style scoped>\n",
       "    .dataframe tbody tr th:only-of-type {\n",
       "        vertical-align: middle;\n",
       "    }\n",
       "\n",
       "    .dataframe tbody tr th {\n",
       "        vertical-align: top;\n",
       "    }\n",
       "\n",
       "    .dataframe thead th {\n",
       "        text-align: right;\n",
       "    }\n",
       "</style>\n",
       "<table border=\"1\" class=\"dataframe\">\n",
       "  <thead>\n",
       "    <tr style=\"text-align: right;\">\n",
       "      <th></th>\n",
       "      <th>gen_tmdiff</th>\n",
       "      <th>gen_tmdiff_0406</th>\n",
       "      <th>gen_tmdiff_0612</th>\n",
       "      <th>gen_tmdiff_1213</th>\n",
       "      <th>gen_tmdiff_1317</th>\n",
       "      <th>gen_tmdiff_1718</th>\n",
       "      <th>gen_tmdiff_1820</th>\n",
       "    </tr>\n",
       "  </thead>\n",
       "  <tbody>\n",
       "    <tr>\n",
       "      <th>0</th>\n",
       "      <td>1912.0</td>\n",
       "      <td>146.0</td>\n",
       "      <td>846.0</td>\n",
       "      <td>16.0</td>\n",
       "      <td>477.0</td>\n",
       "      <td>16.0</td>\n",
       "      <td>411.0</td>\n",
       "    </tr>\n",
       "    <tr>\n",
       "      <th>1</th>\n",
       "      <td>1912.0</td>\n",
       "      <td>145.0</td>\n",
       "      <td>847.0</td>\n",
       "      <td>16.0</td>\n",
       "      <td>477.0</td>\n",
       "      <td>16.0</td>\n",
       "      <td>411.0</td>\n",
       "    </tr>\n",
       "  </tbody>\n",
       "</table>\n",
       "</div>"
      ],
      "text/plain": [
       "   gen_tmdiff  gen_tmdiff_0406  gen_tmdiff_0612  gen_tmdiff_1213  \\\n",
       "0      1912.0            146.0            846.0             16.0   \n",
       "1      1912.0            145.0            847.0             16.0   \n",
       "\n",
       "   gen_tmdiff_1317  gen_tmdiff_1718  gen_tmdiff_1820  \n",
       "0            477.0             16.0            411.0  \n",
       "1            477.0             16.0            411.0  "
      ]
     },
     "execution_count": 36,
     "metadata": {},
     "output_type": "execute_result"
    }
   ],
   "source": [
    "# 전체 및 개별 공정 소요시간 7개의 변수를 생성합니다(3.4절)\n",
    "df_prep_train = gen_duration_feats(df_prep_train, lst_stepsgap)\n",
    "df_prep_predict = gen_duration_feats(df_prep_predict, lst_stepsgap)\n",
    "df_prep_train.filter(regex='tmdiff').head(2)"
   ]
  },
  {
   "cell_type": "code",
   "execution_count": 37,
   "id": "_RErio6aaN75",
   "metadata": {
    "colab": {
     "base_uri": "https://localhost:8080/",
     "height": 205
    },
    "executionInfo": {
     "elapsed": 945,
     "status": "ok",
     "timestamp": 1657174561171,
     "user": {
      "displayName": "sungil im",
      "userId": "03307293503234277322"
     },
     "user_tz": -540
    },
    "id": "_RErio6aaN75",
    "outputId": "cf6701aa-ac8d-464f-c5d1-1e90ce9c29c2"
   },
   "outputs": [
    {
     "data": {
      "text/html": [
       "<div>\n",
       "<style scoped>\n",
       "    .dataframe tbody tr th:only-of-type {\n",
       "        vertical-align: middle;\n",
       "    }\n",
       "\n",
       "    .dataframe tbody tr th {\n",
       "        vertical-align: top;\n",
       "    }\n",
       "\n",
       "    .dataframe thead th {\n",
       "        text-align: right;\n",
       "    }\n",
       "</style>\n",
       "<table border=\"1\" class=\"dataframe\">\n",
       "  <thead>\n",
       "    <tr style=\"text-align: right;\">\n",
       "      <th></th>\n",
       "      <th>gen_efem_para2_std</th>\n",
       "      <th>gen_efem_para25_std</th>\n",
       "      <th>gen_efem_para78_std</th>\n",
       "      <th>gen_epd_para4_std</th>\n",
       "      <th>gen_epd_para40_std</th>\n",
       "      <th>gen_epd_para63_std</th>\n",
       "      <th>gen_epd_para80_std</th>\n",
       "      <th>gen_esc_para84_std</th>\n",
       "      <th>gen_esc_para94_std</th>\n",
       "      <th>gen_fr_para28_std</th>\n",
       "      <th>...</th>\n",
       "      <th>gen_time_para7_std</th>\n",
       "      <th>gen_time_para75_std</th>\n",
       "      <th>gen_time_para77_std</th>\n",
       "      <th>gen_time_para8_std</th>\n",
       "      <th>gen_time_para81_std</th>\n",
       "      <th>gen_time_para83_std</th>\n",
       "      <th>gen_time_para89_std</th>\n",
       "      <th>gen_time_para9_std</th>\n",
       "      <th>gen_time_para90_std</th>\n",
       "      <th>gen_tmp_para31_std</th>\n",
       "    </tr>\n",
       "  </thead>\n",
       "  <tbody>\n",
       "    <tr>\n",
       "      <th>0</th>\n",
       "      <td>1.540604</td>\n",
       "      <td>1.487185</td>\n",
       "      <td>0.045480</td>\n",
       "      <td>377.964435</td>\n",
       "      <td>0.382780</td>\n",
       "      <td>0.0</td>\n",
       "      <td>0.0</td>\n",
       "      <td>0.000000</td>\n",
       "      <td>0.0</td>\n",
       "      <td>2926.724319</td>\n",
       "      <td>...</td>\n",
       "      <td>0.163207</td>\n",
       "      <td>0.163356</td>\n",
       "      <td>0.163356</td>\n",
       "      <td>0.163207</td>\n",
       "      <td>0.163356</td>\n",
       "      <td>0.163207</td>\n",
       "      <td>0.163356</td>\n",
       "      <td>0.163207</td>\n",
       "      <td>0.163356</td>\n",
       "      <td>0.54963</td>\n",
       "    </tr>\n",
       "    <tr>\n",
       "      <th>1</th>\n",
       "      <td>1.313742</td>\n",
       "      <td>1.372572</td>\n",
       "      <td>0.045224</td>\n",
       "      <td>377.964435</td>\n",
       "      <td>0.462813</td>\n",
       "      <td>0.0</td>\n",
       "      <td>0.0</td>\n",
       "      <td>0.003024</td>\n",
       "      <td>0.0</td>\n",
       "      <td>2926.724319</td>\n",
       "      <td>...</td>\n",
       "      <td>0.163207</td>\n",
       "      <td>0.165981</td>\n",
       "      <td>0.165981</td>\n",
       "      <td>0.163211</td>\n",
       "      <td>0.165981</td>\n",
       "      <td>0.163207</td>\n",
       "      <td>0.165981</td>\n",
       "      <td>0.163207</td>\n",
       "      <td>0.165981</td>\n",
       "      <td>0.55689</td>\n",
       "    </tr>\n",
       "  </tbody>\n",
       "</table>\n",
       "<p>2 rows × 95 columns</p>\n",
       "</div>"
      ],
      "text/plain": [
       "   gen_efem_para2_std  gen_efem_para25_std  gen_efem_para78_std  \\\n",
       "0            1.540604             1.487185             0.045480   \n",
       "1            1.313742             1.372572             0.045224   \n",
       "\n",
       "   gen_epd_para4_std  gen_epd_para40_std  gen_epd_para63_std  \\\n",
       "0         377.964435            0.382780                 0.0   \n",
       "1         377.964435            0.462813                 0.0   \n",
       "\n",
       "   gen_epd_para80_std  gen_esc_para84_std  gen_esc_para94_std  \\\n",
       "0                 0.0            0.000000                 0.0   \n",
       "1                 0.0            0.003024                 0.0   \n",
       "\n",
       "   gen_fr_para28_std  ...  gen_time_para7_std  gen_time_para75_std  \\\n",
       "0        2926.724319  ...            0.163207             0.163356   \n",
       "1        2926.724319  ...            0.163207             0.165981   \n",
       "\n",
       "   gen_time_para77_std  gen_time_para8_std  gen_time_para81_std  \\\n",
       "0             0.163356            0.163207             0.163356   \n",
       "1             0.165981            0.163211             0.165981   \n",
       "\n",
       "   gen_time_para83_std  gen_time_para89_std  gen_time_para9_std  \\\n",
       "0             0.163207             0.163356            0.163207   \n",
       "1             0.163207             0.165981            0.163207   \n",
       "\n",
       "   gen_time_para90_std  gen_tmp_para31_std  \n",
       "0             0.163356             0.54963  \n",
       "1             0.165981             0.55689  \n",
       "\n",
       "[2 rows x 95 columns]"
      ]
     },
     "execution_count": 37,
     "metadata": {},
     "output_type": "execute_result"
    }
   ],
   "source": [
    "# 센서 변수의 집약된 95개의 표준편차 변수를 생성합니다(3.5절)\n",
    "df_prep_train = gen_stats_feats(df_prep_train, sensors_nm, lst_steps)\n",
    "df_prep_predict = gen_stats_feats(df_prep_predict, sensors_nm, lst_steps)\n",
    "df_prep_train.filter(regex='_std').head(2)"
   ]
  },
  {
   "cell_type": "markdown",
   "id": "931c5006",
   "metadata": {
    "id": "931c5006"
   },
   "source": [
    "<a name='04-02'></a>\n",
    "### 4.2 이상치 치환하기 \n",
    "\n",
    "분위점을 임계값으로 삼아 이상치를 치환합니다. \n",
    "\n",
    "학습 데이터의 1%점을 하한, 99%점을 상한으로 잡고 해당 범위를 벗어나는 값을 각각 **하한값과 상한값으로 치환**합니다. \n"
   ]
  },
  {
   "cell_type": "code",
   "execution_count": 38,
   "id": "xQy5tKXp6ZCP",
   "metadata": {
    "executionInfo": {
     "elapsed": 287,
     "status": "ok",
     "timestamp": 1657174567102,
     "user": {
      "displayName": "sungil im",
      "userId": "03307293503234277322"
     },
     "user_tz": -540
    },
    "id": "xQy5tKXp6ZCP"
   },
   "outputs": [],
   "source": [
    "# 이상치 확인을 위한 데이터 복사 \n",
    "df_outlier = df_prep_train.copy()"
   ]
  },
  {
   "cell_type": "code",
   "execution_count": 39,
   "id": "wyyXXMix7cfx",
   "metadata": {
    "executionInfo": {
     "elapsed": 370,
     "status": "ok",
     "timestamp": 1657174568575,
     "user": {
      "displayName": "sungil im",
      "userId": "03307293503234277322"
     },
     "user_tz": -540
    },
    "id": "wyyXXMix7cfx"
   },
   "outputs": [],
   "source": [
    "def outlier(x, p01, p99):\n",
    "\n",
    "  if x < p01 or x > p99:\n",
    "    return 'Y'\n",
    "  else:\n",
    "    return 'N'\n",
    "\n",
    "# 특정 컬럼의 이상치를 확인해봅니다. \n",
    "tmp_lst = ['04_fr_para35', '04_gas_para36', '04_fr_para28', '04_temp_para66']\n",
    "\n",
    "for col in tmp_lst:\n",
    "\n",
    "    p01 = df_outlier[col].quantile(0.01) \n",
    "    p99 = df_outlier[col].quantile(0.99) \n",
    "\n",
    "    df_outlier[f'{col}_outlier'] = df_outlier[col].apply(outlier, args=(p01, p99))\n"
   ]
  },
  {
   "cell_type": "markdown",
   "id": "t4TnvrI6-gWd",
   "metadata": {
    "id": "t4TnvrI6-gWd"
   },
   "source": [
    "상한값과 하한값을 벗어나는 데이터 포인트를 확인합니다."
   ]
  },
  {
   "cell_type": "code",
   "execution_count": 40,
   "id": "gTs7wrF28c_1",
   "metadata": {
    "colab": {
     "base_uri": "https://localhost:8080/",
     "height": 352
    },
    "executionInfo": {
     "elapsed": 1019,
     "status": "ok",
     "timestamp": 1657174572906,
     "user": {
      "displayName": "sungil im",
      "userId": "03307293503234277322"
     },
     "user_tz": -540
    },
    "id": "gTs7wrF28c_1",
    "outputId": "b56c56ed-3d74-4518-f386-facbd2de1aa9"
   },
   "outputs": [
    {
     "data": {
      "text/plain": [
       "<matplotlib.legend.Legend at 0x7f458a39b820>"
      ]
     },
     "execution_count": 40,
     "metadata": {},
     "output_type": "execute_result"
    },
    {
     "data": {
      "image/png": "[encoded data removed]",
      "text/plain": [
       "<Figure size 720x360 with 4 Axes>"
      ]
     },
     "metadata": {
      "needs_background": "light"
     },
     "output_type": "display_data"
    }
   ],
   "source": [
    "fig, axes = plt.subplots(nrows=2, ncols=2, sharey=True, figsize=(10,5))\n",
    "fig.subplots_adjust(hspace=.4, wspace=.1)\n",
    "\n",
    "sns.scatterplot(x='04_fr_para35', y='y', hue='04_fr_para35_outlier', data = df_outlier, ax=axes[0,0], legend=False)\n",
    "sns.scatterplot(x='04_gas_para36', y='y', hue='04_gas_para36_outlier', data = df_outlier, ax=axes[0,1])\n",
    "sns.scatterplot(x='04_fr_para28', y='y',  hue='04_fr_para28_outlier', data = df_outlier, ax=axes[1,0], legend=False)\n",
    "sns.scatterplot(x='04_temp_para66', y='y', hue='04_temp_para66_outlier', data = df_outlier, ax=axes[1,1], legend=False)\n",
    "axes[0,1].legend(loc='lower left', ncol=1, title='Outlier', bbox_to_anchor=(1.04, -0.5))"
   ]
  },
  {
   "cell_type": "code",
   "execution_count": 43,
   "id": "33be8c10",
   "metadata": {
    "executionInfo": {
     "elapsed": 280,
     "status": "ok",
     "timestamp": 1657174577346,
     "user": {
      "displayName": "sungil im",
      "userId": "03307293503234277322"
     },
     "user_tz": -540
    },
    "id": "33be8c10"
   },
   "outputs": [],
   "source": [
    "# 기존 센서 변수(665개)와 생성 변수 중 수치형 변수(102개) 컬럼을 정의합니다. \n",
    "col_numerical = col_sensor + df_prep_train.filter(regex='^gen_').columns.tolist()"
   ]
  },
  {
   "cell_type": "code",
   "execution_count": 44,
   "id": "z7KZTqq-f3U7",
   "metadata": {
    "executionInfo": {
     "elapsed": 2703,
     "status": "ok",
     "timestamp": 1657174582402,
     "user": {
      "displayName": "sungil im",
      "userId": "03307293503234277322"
     },
     "user_tz": -540
    },
    "id": "z7KZTqq-f3U7"
   },
   "outputs": [],
   "source": [
    "for col in col_numerical:\n",
    "    # 열마다 학습 데이터의 1%, 99% 지점을 확인합니다.\n",
    "    p01 = df_prep_train[col].quantile(0.01) \n",
    "    p99 = df_prep_train[col].quantile(0.99) \n",
    "\n",
    "    # 1%점 이하의 값은 1%점으로, 99%점 이상의 값은 99%점으로 클리핑합니다. \n",
    "    df_prep_train[col] = df_prep_train[col].clip(p01, p99)\n",
    "    df_prep_predict[col] = df_prep_predict[col].clip(p01, p99)\n",
    "\n"
   ]
  },
  {
   "cell_type": "markdown",
   "id": "BsNY4_yJ_Gjn",
   "metadata": {
    "id": "BsNY4_yJ_Gjn"
   },
   "source": [
    "이상치 처리후 결과를 확인합니다."
   ]
  },
  {
   "cell_type": "code",
   "execution_count": 46,
   "id": "NEYCLhbtf9Tb",
   "metadata": {
    "colab": {
     "base_uri": "https://localhost:8080/",
     "height": 352
    },
    "executionInfo": {
     "elapsed": 973,
     "status": "ok",
     "timestamp": 1657174583802,
     "user": {
      "displayName": "sungil im",
      "userId": "03307293503234277322"
     },
     "user_tz": -540
    },
    "id": "NEYCLhbtf9Tb",
    "outputId": "efa75f14-7791-405a-d945-87d0a99e0a9d"
   },
   "outputs": [
    {
     "data": {
      "text/plain": [
       "<AxesSubplot:xlabel='04_temp_para66', ylabel='y'>"
      ]
     },
     "execution_count": 46,
     "metadata": {},
     "output_type": "execute_result"
    },
    {
     "data": {
      "image/png": "[encoded data removed]",
      "text/plain": [
       "<Figure size 720x360 with 4 Axes>"
      ]
     },
     "metadata": {
      "needs_background": "light"
     },
     "output_type": "display_data"
    }
   ],
   "source": [
    "fig, axes = plt.subplots(nrows=2, ncols=2, sharey=True, figsize=(10,5))\n",
    "fig.subplots_adjust(hspace=.4, wspace=.1)\n",
    "\n",
    "sns.scatterplot(x='04_fr_para35', y='y', data = df_prep_train, ax=axes[0,0])\n",
    "sns.scatterplot(x='04_gas_para36', y='y', data = df_prep_train, ax=axes[0,1])\n",
    "sns.scatterplot(x='04_fr_para28', y='y',  data = df_prep_train, ax=axes[1,0])\n",
    "sns.scatterplot(x='04_temp_para66', y='y', data = df_prep_train, ax=axes[1,1])"
   ]
  },
  {
   "cell_type": "markdown",
   "id": "76b7ca94",
   "metadata": {
    "id": "76b7ca94"
   },
   "source": [
    "<a name='04-03'></a>\n",
    "### 4.3 분산이 적은 변수 제거\n",
    "분산 기준 설정(Variance Thresholding)은 가장 기본적인 특성 선택 방법 중 하나입니다. \n",
    "\n",
    "분산이 0 인 특징은 정보가 없으므로 해당 특징을 삭제합니다."
   ]
  },
  {
   "cell_type": "code",
   "execution_count": 47,
   "id": "affa633e",
   "metadata": {
    "colab": {
     "base_uri": "https://localhost:8080/"
    },
    "executionInfo": {
     "elapsed": 535,
     "status": "ok",
     "timestamp": 1657174597857,
     "user": {
      "displayName": "sungil im",
      "userId": "03307293503234277322"
     },
     "user_tz": -540
    },
    "id": "affa633e",
    "outputId": "28ed076d-af26-408f-9fee-749f94573820"
   },
   "outputs": [
    {
     "name": "stdout",
     "output_type": "stream",
     "text": [
      "** 86 Features to Drop by Low Variance\n",
      "['04_epd_para4', '04_epd_para40', '04_epd_para63', '04_epd_para80', '04_esc_para84', '04_fr_para35', '04_fr_para69', '04_he_para1', '04_he_para95', '04_power_para14', '04_power_para49', '04_power_para68', '04_power_para82', '04_temp_para24', '04_time_para5', '06_epd_para80', '06_fr_para35', '06_he_para1', '06_he_para95', '06_hv_para3', '06_hv_para45', '06_hv_para47', '06_hv_para56', '06_power_para14', '06_power_para68', '06_power_para82', '06_temp_para24', '06_time_para5', '12_epd_para4', '12_epd_para40', '12_epd_para63', '12_epd_para80', '12_he_para1', '12_he_para95', '12_power_para49', '12_power_para68', '12_temp_para54', '13_epd_para4', '13_epd_para40', '13_epd_para63', '13_epd_para80', '13_esc_para84', '13_fr_para28', '13_fr_para69', '13_he_para1', '13_he_para95', '13_power_para49', '13_power_para68', '13_temp_para54', '17_epd_para4', '17_epd_para40', '17_epd_para63', '17_epd_para80', '17_esc_para84', '17_fr_para28', '17_he_para1', '17_he_para95', '17_power_para49', '17_power_para68', '17_temp_para54', '18_epd_para4', '18_epd_para40', '18_epd_para63', '18_epd_para80', '18_esc_para84', '18_fr_para28', '18_fr_para69', '18_he_para1', '18_he_para95', '18_power_para49', '18_power_para68', '18_temp_para23', '18_temp_para54', '20_epd_para40', '20_epd_para63', '20_epd_para80', '20_he_para1', '20_he_para95', '20_hv_para45', '20_hv_para47', '20_power_para49', '20_temp_para54', 'gen_tmdiff_1718', 'gen_epd_para80_std', 'gen_he_para1_std', 'gen_he_para95_std']\n"
     ]
    }
   ],
   "source": [
    "# threshold 인자를 변경하여 분산의 기준값을 수동으로 선택할 수 있습니다.\n",
    "thresholder = VarianceThreshold(threshold=0)\n",
    "_ = thresholder.fit_transform(df_prep_train[col_numerical])\n",
    "\n",
    " # 분산이 0이면 True 이므로 제거할 컬럼을 추출합니다.  \n",
    "mask = ~thresholder.get_support()\n",
    "cols_var_drop = np.asarray(col_numerical)[mask].tolist()\n",
    "print(f'** {len(cols_var_drop)} Features to Drop by Low Variance')\n",
    "print(f'{cols_var_drop}')"
   ]
  },
  {
   "cell_type": "code",
   "execution_count": 57,
   "id": "8a051786-2c9c-48c3-baea-2875a6402904",
   "metadata": {},
   "outputs": [
    {
     "data": {
      "image/png": "[encoded data removed]",
      "text/plain": [
       "<Figure size 2160x2160 with 90 Axes>"
      ]
     },
     "metadata": {
      "needs_background": "light"
     },
     "output_type": "display_data"
    }
   ],
   "source": [
    "fig, axes = plt.subplots(nrows=round(len(cols_var_drop)/6)+1, ncols=6, sharey=True, figsize=(30,30))\n",
    "fig.subplots_adjust(hspace=.4, wspace=.1)\n",
    "\n",
    "x=y=0\n",
    "for col in cols_var_drop:\n",
    "    sns.scatterplot(x=col, y='y', data = df_prep_train, ax=axes[x,y])\n",
    "    y = y+1\n",
    "    if (y>5):\n",
    "        x = x+1\n",
    "        y = 0\n"
   ]
  },
  {
   "cell_type": "markdown",
   "id": "_hdJERrgowdK",
   "metadata": {
    "id": "_hdJERrgowdK"
   },
   "source": [
    "분산이 0인 특징에 대해 확인해보겠습니다."
   ]
  },
  {
   "cell_type": "code",
   "execution_count": 58,
   "id": "kYjfRuh2gNoz",
   "metadata": {
    "colab": {
     "base_uri": "https://localhost:8080/",
     "height": 298
    },
    "executionInfo": {
     "elapsed": 337,
     "status": "ok",
     "timestamp": 1657174606813,
     "user": {
      "displayName": "sungil im",
      "userId": "03307293503234277322"
     },
     "user_tz": -540
    },
    "id": "kYjfRuh2gNoz",
    "outputId": "a122e589-2412-485f-e598-8799360deed5"
   },
   "outputs": [
    {
     "data": {
      "text/plain": [
       "<AxesSubplot:xlabel='04_epd_para4', ylabel='y'>"
      ]
     },
     "execution_count": 58,
     "metadata": {},
     "output_type": "execute_result"
    },
    {
     "data": {
      "image/png": "[encoded data removed]",
      "text/plain": [
       "<Figure size 432x288 with 1 Axes>"
      ]
     },
     "metadata": {
      "needs_background": "light"
     },
     "output_type": "display_data"
    }
   ],
   "source": [
    "sns.scatterplot(x=cols_var_drop[0], y='y', data=df_prep_train)"
   ]
  },
  {
   "cell_type": "markdown",
   "id": "qguXsWxDlS5P",
   "metadata": {
    "id": "qguXsWxDlS5P"
   },
   "source": [
    "<a name='04-04'></a>\n",
    "### 4.4 표준화\n",
    "\n",
    "선형 모델에서는 값의 범위가 큰 변수일수록 회귀계수가 작아지므로 변수의 정규화가 어려워집니다. \n",
    "\n",
    "StandardScaler 클래스를 사용하여 수치형 독립 변수에 대해 평균 0, 표준편차 1로 표준화를 수행합니다.  \n",
    "\n",
    "먼저, 독립 변수의 평균과 표준편차를 확인해봅니다.\n",
    "\n"
   ]
  },
  {
   "cell_type": "code",
   "execution_count": null,
   "id": "qiQORz3ejNEF",
   "metadata": {
    "colab": {
     "base_uri": "https://localhost:8080/"
    },
    "executionInfo": {
     "elapsed": 288,
     "status": "ok",
     "timestamp": 1657174616229,
     "user": {
      "displayName": "sungil im",
      "userId": "03307293503234277322"
     },
     "user_tz": -540
    },
    "id": "qiQORz3ejNEF",
    "outputId": "dc73fd5c-308c-490e-e035-a3fb57a98546"
   },
   "outputs": [],
   "source": [
    "# 각 변수의 평균을 확인합니다.\n",
    "sp.mean(df_prep_train[col_numerical], axis=0).head(3)"
   ]
  },
  {
   "cell_type": "code",
   "execution_count": null,
   "id": "Yn4PO2u_jOmx",
   "metadata": {
    "colab": {
     "base_uri": "https://localhost:8080/"
    },
    "executionInfo": {
     "elapsed": 391,
     "status": "ok",
     "timestamp": 1657174619041,
     "user": {
      "displayName": "sungil im",
      "userId": "03307293503234277322"
     },
     "user_tz": -540
    },
    "id": "Yn4PO2u_jOmx",
    "outputId": "4203f9b9-a53a-440d-d700-427926f61370"
   },
   "outputs": [],
   "source": [
    "# 각 변수의 표준편차를 확인합니다.\n",
    "sp.std(df_prep_train[col_numerical], ddof =1, axis=0).head(3)"
   ]
  },
  {
   "cell_type": "markdown",
   "id": "LiU2FOyMmvpx",
   "metadata": {
    "id": "LiU2FOyMmvpx"
   },
   "source": [
    "표준화를 수행한 후 각 수치형 변수 컬럼을 치환합니다."
   ]
  },
  {
   "cell_type": "code",
   "execution_count": null,
   "id": "Biaf-Ct4lMfo",
   "metadata": {
    "executionInfo": {
     "elapsed": 277,
     "status": "ok",
     "timestamp": 1657174623778,
     "user": {
      "displayName": "sungil im",
      "userId": "03307293503234277322"
     },
     "user_tz": -540
    },
    "id": "Biaf-Ct4lMfo"
   },
   "outputs": [],
   "source": [
    "scaler = StandardScaler()\n",
    "# 학습 데이터 각 변수의 평균값과 표준편차를 저장한 후, 이를 사용하여 학습 및 평가용 데이터를 변환합니다.\n",
    "df_prep_train[col_numerical] = scaler.fit_transform(df_prep_train[col_numerical])\n",
    "df_prep_predict[col_numerical] = scaler.fit_transform(df_prep_predict[col_numerical])"
   ]
  },
  {
   "cell_type": "markdown",
   "id": "oENATQSwmZtM",
   "metadata": {
    "id": "oENATQSwmZtM"
   },
   "source": [
    "학습 데이터의 평균이 0, 표준편차가 1로 변환되었는지 확인합니다."
   ]
  },
  {
   "cell_type": "code",
   "execution_count": null,
   "id": "Hdz_H3Zviura",
   "metadata": {
    "colab": {
     "base_uri": "https://localhost:8080/"
    },
    "executionInfo": {
     "elapsed": 291,
     "status": "ok",
     "timestamp": 1657174628964,
     "user": {
      "displayName": "sungil im",
      "userId": "03307293503234277322"
     },
     "user_tz": -540
    },
    "id": "Hdz_H3Zviura",
    "outputId": "920d236e-c5d5-41f9-dd87-5ba1a9ca69f5"
   },
   "outputs": [],
   "source": [
    "# 표준화된 변수의 평균을 확인합니다.\n",
    "sp.mean(df_prep_train[col_numerical], axis=0).head(3).round(3)"
   ]
  },
  {
   "cell_type": "code",
   "execution_count": null,
   "id": "ZTaIJqzdjXzV",
   "metadata": {
    "colab": {
     "base_uri": "https://localhost:8080/"
    },
    "executionInfo": {
     "elapsed": 768,
     "status": "ok",
     "timestamp": 1657174632308,
     "user": {
      "displayName": "sungil im",
      "userId": "03307293503234277322"
     },
     "user_tz": -540
    },
    "id": "ZTaIJqzdjXzV",
    "outputId": "661f974d-1652-4ce1-e8ac-36f75912fe49"
   },
   "outputs": [],
   "source": [
    "# 표준화된 변수의 표준편차를 확인합니다.\n",
    "sp.std(df_prep_train[col_numerical], axis=0).head(3)"
   ]
  },
  {
   "cell_type": "markdown",
   "id": "uW6MtE37jVxX",
   "metadata": {
    "id": "uW6MtE37jVxX"
   },
   "source": [
    "<a name='04-05'></a>\n",
    "### 4.5 원-핫 인코딩\n",
    "\n",
    "**module_name_eq** 는 문자열로 나타난 범주형 변수입니다.\n",
    "\n",
    "범주형 변수의 대표적인 변환 기법인 원-핫 인코딩을 사용하여 변환합니다. "
   ]
  },
  {
   "cell_type": "code",
   "execution_count": null,
   "id": "aBZNZTxwntSA",
   "metadata": {
    "colab": {
     "base_uri": "https://localhost:8080/",
     "height": 143
    },
    "executionInfo": {
     "elapsed": 331,
     "status": "ok",
     "timestamp": 1657174636892,
     "user": {
      "displayName": "sungil im",
      "userId": "03307293503234277322"
     },
     "user_tz": -540
    },
    "id": "aBZNZTxwntSA",
    "outputId": "373395e7-a67d-4049-e862-5e5a5aa330a1"
   },
   "outputs": [],
   "source": [
    "df_prep_train.filter(regex='module_name_eq').head(3)"
   ]
  },
  {
   "cell_type": "code",
   "execution_count": null,
   "id": "OWv5YxrNZ1Dw",
   "metadata": {
    "executionInfo": {
     "elapsed": 297,
     "status": "ok",
     "timestamp": 1657174640863,
     "user": {
      "displayName": "sungil im",
      "userId": "03307293503234277322"
     },
     "user_tz": -540
    },
    "id": "OWv5YxrNZ1Dw"
   },
   "outputs": [],
   "source": [
    "def prep_cate_feats(df_tr, df_te, feat_nm):\n",
    "\n",
    "  df_merge = pd.concat([df_tr, df_te])\n",
    "\n",
    "  # 컬럼명과 범주형 변수의 레벨명을 이용한 새로운 컬럼명을 자동생성합니다. \n",
    "  # ex. module_name_eq -> module_name_eq_EQ01, module_name_eq_EQ02, etc.\n",
    "  df_merge = pd.get_dummies(df_merge, columns=[feat_nm])\n",
    "\n",
    "  df_tr = df_merge.iloc[:df_tr.shape[0], :].reset_index(drop=True)\n",
    "  df_te = df_merge.iloc[df_tr.shape[0]:, :].reset_index(drop=True)\n",
    "\n",
    "  return df_tr, df_te\n",
    "\n",
    "# module_name_eq 의 원-핫 인코딩 변수를 생성합니다.\n",
    "df_prep_train, df_prep_predict = prep_cate_feats(df_prep_train, df_prep_predict, 'module_name_eq')"
   ]
  },
  {
   "cell_type": "code",
   "execution_count": null,
   "id": "QsCnam0ynj6t",
   "metadata": {
    "colab": {
     "base_uri": "https://localhost:8080/",
     "height": 207
    },
    "executionInfo": {
     "elapsed": 304,
     "status": "ok",
     "timestamp": 1657174642862,
     "user": {
      "displayName": "sungil im",
      "userId": "03307293503234277322"
     },
     "user_tz": -540
    },
    "id": "QsCnam0ynj6t",
    "outputId": "6a484f21-f431-46ea-c107-4205ea9770a6"
   },
   "outputs": [],
   "source": [
    "# 원-핫 인코딩 변환 후 결과를 확인합니다.\n",
    "df_prep_train.filter(regex='module_name_eq').head(3)"
   ]
  },
  {
   "cell_type": "markdown",
   "id": "zxMfd6WmGd4B",
   "metadata": {
    "id": "zxMfd6WmGd4B"
   },
   "source": [
    "<a name='04-06'></a>\n",
    "### 4.6 변수 선택 \n",
    "\n",
    "변수 선택은 주어진 데이터의 변수 중에서 모델링의 가장 적절한 변수만 선택하는 과정입니다. \n",
    "\n",
    "변수 선택 방법은 필터 방법(Filter method), 래퍼 방법(Wrapper method), 임베디드 방법(Embeded method)이 있습니다. \n",
    "\n",
    "- **필터 방법** : 통계량(ex. 상관계수, 카이제곱, 상호정보량)을 구하여 가장 뛰어난 특성을 선택하는 기법 (ex. SelectKBest)\n",
    "- **래퍼 방법** : 시행착오를 통해 가장 높은 품질의 예측을 만드는 특성의 부분조합을 찾는 기법 (ex. RFE, RFECV)\n",
    "- **임베디드 방법** : 결정트리 모델로부터 생성된 특징 중요도를 이용하여 특성을 선택하는 기법 (ex. SelectFromModel)\n",
    "\n",
    "다음은 필터 방법중 상호정보량을 사용하여 중요 특성을 추출하는 예제코드입니다.\n",
    "\n",
    "참가자들은 자유롭게 분석하며, 변수 선택 중 한가지 방법으로 참고할 수 있습니다."
   ]
  },
  {
   "cell_type": "code",
   "execution_count": null,
   "id": "ewk5ZY2GG0UP",
   "metadata": {
    "executionInfo": {
     "elapsed": 278,
     "status": "ok",
     "timestamp": 1657174647085,
     "user": {
      "displayName": "sungil im",
      "userId": "03307293503234277322"
     },
     "user_tz": -540
    },
    "id": "ewk5ZY2GG0UP"
   },
   "outputs": [],
   "source": [
    "# skb = SelectKBest(score_func=mutual_info_regression, k=100) \n",
    "# skb.fit(df_prep_train[col_sensor], df_prep_train['y'])\n",
    "# select_features_kbest = skb.get_support()\n",
    "# col_featsIDX = pd.Index(df_prep_train[col_sensor].columns.tolist())\n",
    "# col_selected_mutual = col_featsIDX[select_features_kbest]"
   ]
  },
  {
   "cell_type": "markdown",
   "id": "99dc3a22",
   "metadata": {
    "id": "99dc3a22"
   },
   "source": [
    "<a name='05'></a>\n",
    "## 5. 모델링"
   ]
  },
  {
   "cell_type": "markdown",
   "id": "-7zQXRQfzCQ0",
   "metadata": {
    "id": "-7zQXRQfzCQ0"
   },
   "source": [
    "<a name='05-01'></a>\n",
    "### 5.1 데이터 분할\n",
    "\n",
    "모델의 일반화 성능을 평가하기 위해 학습 데이터 중 일부를 검증용 데이터로 분할합니다. \n",
    "\n",
    "train_test_split 함수를 이용하여 학습용 데이터 중 10% 데이터를 검증 데이터로 분류합니다."
   ]
  },
  {
   "cell_type": "code",
   "execution_count": null,
   "id": "ff33df35",
   "metadata": {
    "executionInfo": {
     "elapsed": 278,
     "status": "ok",
     "timestamp": 1657174658023,
     "user": {
      "displayName": "sungil im",
      "userId": "03307293503234277322"
     },
     "user_tz": -540
    },
    "id": "ff33df35"
   },
   "outputs": [],
   "source": [
    "# 학습에 사용할 수치형 변수 컬럼을 정의합니다. \n",
    "# 앞서 정의한 col_numerical 에서 분산이 0 인 컬럼을 제거합니다.\n",
    "col_numerical = [col for col in col_numerical if col not in cols_var_drop]\n",
    "\n",
    "# 학습에 사용할 원-핫 인코딩된 범주형 변수 컬럼을 정의합니다. \n",
    "col_cate_module_name_eq = df_prep_train.filter(regex='^module_name_eq').columns.tolist()\n",
    "col_cate = col_cate_module_name_eq\n",
    "\n",
    "# 모델에 입력으로 사용될 최종 컬럼을 정의합니다.\n",
    "col_X = col_numerical + col_cate\n",
    "col_y = 'y'\n",
    "\n",
    "# 학습용 데이터를 정의합니다.\n",
    "x_train_raw = df_prep_train[col_X]\n",
    "y_train_raw = df_prep_train[col_y]\n",
    "\n",
    "# 평가용 데이터를 정의합니다.\n",
    "x_predict = df_prep_predict[col_X]\n",
    "\n",
    "# 학습 데이터 중 일부를 검증 데이터 셋으로 분할합니다. \n",
    "x_train, x_valid, y_train, y_valid = train_test_split(x_train_raw, y_train_raw, test_size=0.1, shuffle=True, random_state=71)"
   ]
  },
  {
   "cell_type": "markdown",
   "id": "ns1Ofgfyfbqv",
   "metadata": {
    "id": "ns1Ofgfyfbqv"
   },
   "source": [
    "모델의 성능 평가를 위해 제곱근평균제곱오차(RMSE)를 반환하는 함수를 작성합니다. "
   ]
  },
  {
   "cell_type": "code",
   "execution_count": null,
   "id": "GfCmw1CbkhG1",
   "metadata": {
    "executionInfo": {
     "elapsed": 395,
     "status": "ok",
     "timestamp": 1657174663686,
     "user": {
      "displayName": "sungil im",
      "userId": "03307293503234277322"
     },
     "user_tz": -540
    },
    "id": "GfCmw1CbkhG1"
   },
   "outputs": [],
   "source": [
    "# mean_squared_error 의 매개변수 squared 가 False 이면 RMSE 를 반환합니다.\n",
    "def rmse(y_true, y_pred):\n",
    "  return round(mean_squared_error(y_true, y_pred, squared=False), 4)"
   ]
  },
  {
   "cell_type": "markdown",
   "id": "6f6d13a0",
   "metadata": {
    "id": "6f6d13a0"
   },
   "source": [
    "<a name='05-02'></a>\n",
    "### 5.2 릿지 회귀 모델\n",
    "선형 모델 중 하나인 릿지 모델을 사용\b합니다. 릿지 모델은 계수의 제곱에 비례하여 벌칙을 부여하는 **L2 정규화**를 사용합니다. \n",
    "\n",
    "릿지 회귀 모델에서 튜닝해야할 매개변수는 정규화의 세기를 나타내는 **alpha** 입니다.  \n"
   ]
  },
  {
   "cell_type": "code",
   "execution_count": null,
   "id": "mm9V81SLFECV",
   "metadata": {
    "executionInfo": {
     "elapsed": 278,
     "status": "ok",
     "timestamp": 1657174673301,
     "user": {
      "displayName": "sungil im",
      "userId": "03307293503234277322"
     },
     "user_tz": -540
    },
    "id": "mm9V81SLFECV"
   },
   "outputs": [],
   "source": [
    "# log 단위(1e+01)로 1.e-02 ~ 1.e+01 구간에 대해 매개변수를 탐색합니다.\n",
    "ridge_params = {'alpha': np.logspace(-2,1,6)}"
   ]
  },
  {
   "cell_type": "markdown",
   "id": "hRPEWxK1Fo5x",
   "metadata": {
    "id": "hRPEWxK1Fo5x"
   },
   "source": [
    "매개변수 탐색을 위해 그리드 서치 기법을 사용합니다. \n",
    "\n",
    "GridSearchCV는 매개변수 각 조합에 대해 모델을 훈련하고, K-폴드 교차검증으로 평가합니다. cv의 디폴트는 5 입니다. \n",
    "\n",
    "refit=True 로 설정할 경우, 매개변수 탐색 후, 전체 데이터셋에서 최적의 하이퍼파라미터를 사용하여 모델을 재학습시킵니다."
   ]
  },
  {
   "cell_type": "code",
   "execution_count": null,
   "id": "7bf4e87d",
   "metadata": {
    "colab": {
     "base_uri": "https://localhost:8080/"
    },
    "executionInfo": {
     "elapsed": 1709,
     "status": "ok",
     "timestamp": 1657174677541,
     "user": {
      "displayName": "sungil im",
      "userId": "03307293503234277322"
     },
     "user_tz": -540
    },
    "id": "7bf4e87d",
    "outputId": "c5d8970d-85b6-4227-cec2-df502fe7ebe4"
   },
   "outputs": [],
   "source": [
    "# GridSearchCV를 이용하여 Ridge 모델을 저장합니다.\n",
    "ridge_model = GridSearchCV(Ridge(), param_grid=ridge_params, refit=True, scoring='neg_root_mean_squared_error')\n",
    "ridge_model.fit(x_train, y_train)"
   ]
  },
  {
   "cell_type": "markdown",
   "id": "lmOG0YrImSSz",
   "metadata": {
    "id": "lmOG0YrImSSz"
   },
   "source": [
    "alpha 가 10인 경우, 모델의 성능이 가장 우수하였습니다."
   ]
  },
  {
   "cell_type": "code",
   "execution_count": null,
   "id": "cqDQZ9M740uj",
   "metadata": {
    "colab": {
     "base_uri": "https://localhost:8080/",
     "height": 238
    },
    "executionInfo": {
     "elapsed": 289,
     "status": "ok",
     "timestamp": 1657174680095,
     "user": {
      "displayName": "sungil im",
      "userId": "03307293503234277322"
     },
     "user_tz": -540
    },
    "id": "cqDQZ9M740uj",
    "outputId": "da1d7a22-e0ea-4ee5-c18b-25045db6326f"
   },
   "outputs": [],
   "source": [
    "col_cv_results = ['params', 'mean_test_score', 'rank_test_score']\n",
    "pd.DataFrame(ridge_model.cv_results_)[col_cv_results]"
   ]
  },
  {
   "cell_type": "markdown",
   "id": "NazERQf16PD9",
   "metadata": {
    "id": "NazERQf16PD9"
   },
   "source": [
    "<a name=\"05-03\"></a>\n",
    "### 5.3 랜덤 포레스트 모델 \n",
    "랜덤 포레스트는 행 데이터를 샘플링한 후, 병렬로 수행된 다수의 결정 트리로부터 예측한 평균값을 출력합니다. \n",
    "\n",
    "랜덤 포레스트에서 튜닝해야할 변수는 다음과 같습니다.\n",
    "\n",
    "*  n_estimators : 결정 트리 갯수 ( default : 100 )\n",
    "*  max_depth : 트리의 최대 깊이 ( default : \bNone ) \n",
    "*  min_samples_split : 노드를 분할하기 위한 최소 샘플 갯수 ( default : 2 )\n",
    "*  min_samples_leaf : 리프 노드가 되기 위한 최소 샘플 갯수 ( default : 1 )\n",
    "*  max_features : 각 노드에서 분기시 사용할 최대 특성 갯수 ( default : 1.0 - 전체 특성 갯수 )\n",
    "*  bootstrap : 중복을 허용한 샘플링 여부 ( default : True ) \n",
    "\n",
    "\n",
    "결정 트리의 갯수가 커질수록 계산시간이 증가하므로, 시간과 성능의 트레이드 오프로 결정합니다. "
   ]
  },
  {
   "cell_type": "code",
   "execution_count": null,
   "id": "VY8oXLOXqisg",
   "metadata": {
    "colab": {
     "base_uri": "https://localhost:8080/"
    },
    "executionInfo": {
     "elapsed": 7936,
     "status": "ok",
     "timestamp": 1657174695803,
     "user": {
      "displayName": "sungil im",
      "userId": "03307293503234277322"
     },
     "user_tz": -540
    },
    "id": "VY8oXLOXqisg",
    "outputId": "d197cd46-d67e-43db-f031-bf8ebd6213f8"
   },
   "outputs": [],
   "source": [
    "rf_params = {'n_estimators': [120, 200], 'max_features' : [5, 6]} \n",
    "\n",
    "# GridSearchCV를 이용하여 Randomforest 모델을 저장합니다.\n",
    "rf_model = GridSearchCV(RandomForestRegressor(), param_grid=rf_params, scoring='neg_root_mean_squared_error')\n",
    "rf_model.fit(x_train, y_train)"
   ]
  },
  {
   "cell_type": "code",
   "execution_count": null,
   "id": "mrWqpoCF7ByT",
   "metadata": {
    "colab": {
     "base_uri": "https://localhost:8080/",
     "height": 175
    },
    "executionInfo": {
     "elapsed": 8,
     "status": "ok",
     "timestamp": 1657174695804,
     "user": {
      "displayName": "sungil im",
      "userId": "03307293503234277322"
     },
     "user_tz": -540
    },
    "id": "mrWqpoCF7ByT",
    "outputId": "30e00320-15c1-426c-871a-a2ce6af300be"
   },
   "outputs": [],
   "source": [
    "pd.DataFrame(rf_model.cv_results_)[col_cv_results]"
   ]
  },
  {
   "cell_type": "markdown",
   "id": "2PcYeQBInymH",
   "metadata": {
    "id": "2PcYeQBInymH"
   },
   "source": [
    "<a name='05-04'></a>\n",
    "### 5.4 최종 모델 구축 \n",
    "\n",
    "릿지 모델과 랜덤 포레스트 모델을 평가하고, 이 둘의 조합인 앙상블 모델을 구축합니다.\n"
   ]
  },
  {
   "cell_type": "code",
   "execution_count": null,
   "id": "Ceof_g8Um_Tv",
   "metadata": {
    "colab": {
     "base_uri": "https://localhost:8080/"
    },
    "executionInfo": {
     "elapsed": 276,
     "status": "ok",
     "timestamp": 1657174704947,
     "user": {
      "displayName": "sungil im",
      "userId": "03307293503234277322"
     },
     "user_tz": -540
    },
    "id": "Ceof_g8Um_Tv",
    "outputId": "cf5de5aa-c98c-469a-97b9-eb3cd62c2dc1"
   },
   "outputs": [],
   "source": [
    "# 최적의 하이퍼파라미터로 학습된 릿지 회귀 모델을 저장합니다. \n",
    "best_ridge = ridge_model.best_estimator_\n",
    "\n",
    "# 최적의 하이퍼파라미터로 학습된 랜덤포레스트 모델을 저장합니다. \n",
    "best_rf = rf_model.best_estimator_\n",
    "\n",
    "# 학습용 데이터셋의 타깃 변수 예측 \n",
    "y_pred_tr_ridge = best_ridge.predict(x_train)\n",
    "y_pred_tr_rf = best_rf.predict(x_train)\n",
    "\n",
    "# 검증용 데이터셋의 타깃 변수 예측 \n",
    "y_pred_va_ridge = best_ridge.predict(x_valid)\n",
    "y_pred_va_rf = best_rf.predict(x_valid)\n",
    "\n",
    "# 평가용 데이터셋의 타깃 변수 예측 \n",
    "y_pred_te_ridge = best_ridge.predict(x_predict)\n",
    "y_pred_te_rf = best_rf.predict(x_predict)\n",
    "\n",
    "# 앙상블 모형의 학습 및 검증 데이터에 대한 타깃 변수 예측 \n",
    "y_pred_tr_en= np.mean([y_pred_tr_ridge, y_pred_tr_rf], axis=0)\n",
    "y_pred_va_en= np.mean([y_pred_va_ridge, y_pred_va_rf], axis=0)\n",
    "y_pred_te_en= np.mean([y_pred_te_ridge, y_pred_te_rf], axis=0)\n",
    "\n",
    "# 학습 데이터셋의 RMSE 계산 \n",
    "rmse_tr_ridge = rmse(y_train, y_pred_tr_ridge)\n",
    "rmse_tr_rf = rmse(y_train, y_pred_tr_rf)\n",
    "rmse_tr_en = rmse(y_train, y_pred_tr_en)\n",
    "\n",
    "# 검증 데이터셋의 RMSE 계산 \n",
    "rmse_va_ridge = rmse(y_valid, y_pred_va_ridge)\n",
    "rmse_va_rf = rmse(y_valid, y_pred_va_rf)\n",
    "rmse_va_en = rmse(y_valid, y_pred_va_en)\n",
    "\n",
    "print(f'\\n**** RIDGE\\n')\n",
    "print(f'Train RMSE: {round(rmse_tr_ridge, 4)}\\n')\n",
    "print(f'\bValid RMSE: {round(rmse_va_ridge, 4)}')\n",
    "\n",
    "print(f'\\n**** Random Forest\\n')\n",
    "print(f'Train RMSE: {round(rmse_tr_rf, 4)}\\n')\n",
    "print(f'\bValid RMSE: {round(rmse_va_rf, 4)}')\n",
    "\n",
    "print(f'\\n**** Ensemble\\n\\n')\n",
    "print(f'\bTrain RMSE: {round(rmse_tr_en, 4)}\\n')\n",
    "print(f'\bValid RMSE: {round(rmse_va_en, 4)}')"
   ]
  },
  {
   "cell_type": "markdown",
   "id": "kNTiZkBar4Ti",
   "metadata": {
    "id": "kNTiZkBar4Ti"
   },
   "source": [
    "검증용 데이터로 세가지 모델에 대한 성능을 비교합니다."
   ]
  },
  {
   "cell_type": "code",
   "execution_count": null,
   "id": "fp2tYvMbJRTv",
   "metadata": {
    "colab": {
     "base_uri": "https://localhost:8080/",
     "height": 300
    },
    "executionInfo": {
     "elapsed": 441,
     "status": "ok",
     "timestamp": 1657174711516,
     "user": {
      "displayName": "sungil im",
      "userId": "03307293503234277322"
     },
     "user_tz": -540
    },
    "id": "fp2tYvMbJRTv",
    "outputId": "c7187bd5-0466-4b65-8aee-f4198f245047"
   },
   "outputs": [],
   "source": [
    "rmse_valid = [rmse_va_ridge, rmse_va_rf, rmse_va_en]\n",
    "recap_model = ['RIDGE', 'RF', 'Ensemble']\n",
    "df_recap = pd.DataFrame({'Model': recap_model, 'Valid_RMSE' : rmse_valid})\n",
    "ax = sns.barplot(x='Model', y='Valid_RMSE', data=df_recap, palette=\"Blues_d\")\n",
    "ax.set_ylim([5, 9]) "
   ]
  },
  {
   "cell_type": "markdown",
   "id": "80_8WZ2yr7o4",
   "metadata": {
    "id": "80_8WZ2yr7o4"
   },
   "source": [
    "검증 데이터에 대한 앙상블 모델 예측 결과를 시각화합니다. "
   ]
  },
  {
   "cell_type": "code",
   "execution_count": null,
   "id": "ceaR1xmO1KWb",
   "metadata": {
    "colab": {
     "base_uri": "https://localhost:8080/",
     "height": 298
    },
    "executionInfo": {
     "elapsed": 1087,
     "status": "ok",
     "timestamp": 1657174721630,
     "user": {
      "displayName": "sungil im",
      "userId": "03307293503234277322"
     },
     "user_tz": -540
    },
    "id": "ceaR1xmO1KWb",
    "outputId": "34eb001a-aeac-4df8-81c8-559c53af5ad4"
   },
   "outputs": [],
   "source": [
    "df_train = pd.DataFrame({'y_true': y_train.values, 'y_pred': y_pred_tr_en})\n",
    "df_valid = pd.DataFrame({'y_true': y_valid.values, 'y_pred': y_pred_va_en})\n",
    "\n",
    "fig, axes = plt.subplots(nrows=1, ncols=2, sharey=True, figsize=(18,4))\n",
    "fig.subplots_adjust(hspace=.4, wspace=.1)\n",
    "\n",
    "sns.lineplot(data = df_train, ax=axes[0])\n",
    "sns.lineplot(data = df_valid, ax=axes[1])\n",
    "\n",
    "axes[0].set_title('Train Dataset')\n",
    "axes[1].set_title('Validation Dataset')\n",
    "\n",
    "axes[0].legend(loc='lower right', ncol=2)\n",
    "axes[1].legend(loc='lower right', ncol=2)\n",
    "\n",
    "plt.show()\n",
    "plt.clf() "
   ]
  },
  {
   "cell_type": "markdown",
   "id": "LrNKtoZcCM5a",
   "metadata": {
    "id": "LrNKtoZcCM5a"
   },
   "source": [
    "<a name='05-05'></a>\n",
    "### 5.5 결과 해석 \n"
   ]
  },
  {
   "cell_type": "markdown",
   "id": "hpZkW3HRHTwI",
   "metadata": {
    "id": "hpZkW3HRHTwI"
   },
   "source": [
    "릿지 회귀 모델에서의 계수(coefficient)는 각 변수의 곱해지는 가중치를 의미합니다."
   ]
  },
  {
   "cell_type": "code",
   "execution_count": null,
   "id": "z6fx9L9BwiNp",
   "metadata": {
    "colab": {
     "base_uri": "https://localhost:8080/",
     "height": 191
    },
    "executionInfo": {
     "elapsed": 307,
     "status": "ok",
     "timestamp": 1657174727536,
     "user": {
      "displayName": "sungil im",
      "userId": "03307293503234277322"
     },
     "user_tz": -540
    },
    "id": "z6fx9L9BwiNp",
    "outputId": "70563f66-477e-4735-8453-3968d991d2c8"
   },
   "outputs": [],
   "source": [
    "# Ridge 에서 GridSearchCV로 탐색한 최적의 alpha값 출력합니다. \n",
    "print(f'Alpha : {best_ridge.alpha}')\n",
    "_ = pd.DataFrame(best_ridge.coef_.reshape(-1, df_prep_train[col_X].columns.shape[0]), columns=df_prep_train[col_X].columns, index=['coefficient'])\n",
    "_"
   ]
  },
  {
   "cell_type": "markdown",
   "id": "VxaSYzmwsWeW",
   "metadata": {
    "id": "VxaSYzmwsWeW"
   },
   "source": [
    "랜덤 포레스트와 같은 트리 기반 모델에서는 각 변수의 중요도 정보를 함께 제공합니다. \n",
    "\n",
    "특정 변수로 분기되었을 시 제곱오차(squared_error)가 크게 감소한 변수일수록 중요도가 높아집니다.\n",
    "\n",
    "분류 문제일 경우에는, 불순도(Gini, entropy)가 크게 감소할수록 해당 특성의 중요도가 높아집니다.\n",
    "\n",
    "전체 변수의 중요도 합은 1이며, 이는 상대적 의미를 가집니다.  \n",
    "\n"
   ]
  },
  {
   "cell_type": "code",
   "execution_count": null,
   "id": "JkNz25d24t8B",
   "metadata": {
    "colab": {
     "base_uri": "https://localhost:8080/",
     "height": 282
    },
    "executionInfo": {
     "elapsed": 316,
     "status": "ok",
     "timestamp": 1657174733797,
     "user": {
      "displayName": "sungil im",
      "userId": "03307293503234277322"
     },
     "user_tz": -540
    },
    "id": "JkNz25d24t8B",
    "outputId": "7c806162-9337-4d88-a806-8ebafafc24db"
   },
   "outputs": [],
   "source": [
    "feat_importances = pd.Series(best_rf.feature_importances_, index=df_prep_train[col_X].columns)\n",
    "feat_importances.nlargest(15).plot(kind='barh')"
   ]
  },
  {
   "cell_type": "markdown",
   "id": "7bc5e184",
   "metadata": {
    "id": "7bc5e184"
   },
   "source": [
    "<a name='05-06'></a>\n",
    "### 5.6 예측 결과 파일 제출 "
   ]
  },
  {
   "cell_type": "code",
   "execution_count": null,
   "id": "faU2PsDDz3nf",
   "metadata": {
    "colab": {
     "base_uri": "https://localhost:8080/",
     "height": 206
    },
    "executionInfo": {
     "elapsed": 281,
     "status": "ok",
     "timestamp": 1657174744427,
     "user": {
      "displayName": "sungil im",
      "userId": "03307293503234277322"
     },
     "user_tz": -540
    },
    "id": "faU2PsDDz3nf",
    "outputId": "a026fdfd-4e48-4a6d-9f0a-7b8b6f43246b"
   },
   "outputs": [],
   "source": [
    "predict['msure_val'] = list(y_pred_te_en)\n",
    "df_submission = predict[['key_val', 'msure_val']] \n",
    "df_submission.head()"
   ]
  },
  {
   "cell_type": "code",
   "execution_count": null,
   "id": "t_Dmq76OawcM",
   "metadata": {
    "colab": {
     "base_uri": "https://localhost:8080/"
    },
    "executionInfo": {
     "elapsed": 314,
     "status": "ok",
     "timestamp": 1657174754859,
     "user": {
      "displayName": "sungil im",
      "userId": "03307293503234277322"
     },
     "user_tz": -540
    },
    "id": "t_Dmq76OawcM",
    "outputId": "10d4d831-a91f-42e9-e5eb-21cf671988a2"
   },
   "outputs": [],
   "source": [
    "# 예측값에 결측치가 포함되어 있는지 확인합니다.\n",
    "df_submission.isnull().sum()"
   ]
  },
  {
   "cell_type": "code",
   "execution_count": null,
   "id": "VafErHfrbK4T",
   "metadata": {
    "colab": {
     "base_uri": "https://localhost:8080/"
    },
    "executionInfo": {
     "elapsed": 351,
     "status": "ok",
     "timestamp": 1657174761701,
     "user": {
      "displayName": "sungil im",
      "userId": "03307293503234277322"
     },
     "user_tz": -540
    },
    "id": "VafErHfrbK4T",
    "outputId": "f111242a-09d1-4cae-9ecb-d3ba5cb15786"
   },
   "outputs": [],
   "source": [
    "# 예측값의 갯수가 평가용 데이터의 갯수와 동일한지 확인합니다.\n",
    "assert len(df_submission) == len(predict)\n",
    "print(f'No. of Predict DataSet : {len(predict)}\\nNo. of Submission DataSet : {len(df_submission)}')"
   ]
  },
  {
   "cell_type": "code",
   "execution_count": null,
   "id": "Sm2fMII4iwJR",
   "metadata": {
    "executionInfo": {
     "elapsed": 295,
     "status": "ok",
     "timestamp": 1657174767131,
     "user": {
      "displayName": "sungil im",
      "userId": "03307293503234277322"
     },
     "user_tz": -540
    },
    "id": "Sm2fMII4iwJR"
   },
   "outputs": [],
   "source": [
    "# 예측 파일을 저장합니다. \n",
    "# 제출용 파일 이름은 cds_submission_팀명_차수.csv 형태로 제출합니다.\n",
    "df_submission.set_index('key_val', inplace=True)\n",
    "df_submission.to_csv('cds_submission_BetaGo_1.csv')"
   ]
  },
  {
   "cell_type": "code",
   "execution_count": null,
   "id": "zmgSLBBRm8s_",
   "metadata": {
    "id": "zmgSLBBRm8s_"
   },
   "outputs": [],
   "source": []
  }
 ],
 "metadata": {
  "accelerator": "GPU",
  "colab": {
   "collapsed_sections": [],
   "name": "skai_Baseline_v3.ipynb",
   "provenance": [
    {
     "file_id": "https://github.com/intelliguy/study-AI/blob/skai/2nd-skai/CDS_Baseline.ipynb",
     "timestamp": 1656668186198
    },
    {
     "file_id": "1ynSoSk_DvRnmlSM1kR4ujZGI4k29V-xT",
     "timestamp": 1655369833821
    },
    {
     "file_id": "1rS-qMHHrpu6xJ6m0AKHl1G-NfDIscl_P",
     "timestamp": 1655265865556
    },
    {
     "file_id": "1jGXNtny-Ml57cj6SVz8EXiyrbNhO7lEb",
     "timestamp": 1654654842839
    }
   ]
  },
  "kernelspec": {
   "display_name": "Python 3 (ipykernel)",
   "language": "python",
   "name": "python3"
  },
  "language_info": {
   "codemirror_mode": {
    "name": "ipython",
    "version": 3
   },
   "file_extension": ".py",
   "mimetype": "text/x-python",
   "name": "python",
   "nbconvert_exporter": "python",
   "pygments_lexer": "ipython3",
   "version": "3.10.5"
  }
 },
 "nbformat": 4,
 "nbformat_minor": 5
}
