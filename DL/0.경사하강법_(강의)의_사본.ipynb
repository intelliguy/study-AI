{
  "cells": [
    {
      "cell_type": "markdown",
      "metadata": {
        "id": "ryxF5RiKUqxx"
      },
      "source": [
        "# 경사하강법 (Gradient Descent)"
      ]
    },
    {
      "cell_type": "markdown",
      "metadata": {
        "id": "uj8r5IFZUqxx"
      },
      "source": [
        "기본 개념은 함수의 기울기(경사)를 구하여 기울기가 낮은 쪽으로 계속 이동시켜서 극값에 이를 때까지 반복시키는 것입니다.\n",
        "\n",
        "**비용 함수 (Cost Function 혹은 Loss Function)를 최소화**하기 위해 반복해서 파라미터를 업데이트 해 나가는 방식입니다."
      ]
    },
    {
      "cell_type": "code",
      "execution_count": 1,
      "metadata": {
        "id": "w7mltdDGUqxy",
        "colab": {
          "base_uri": "https://localhost:8080/",
          "height": 340
        },
        "outputId": "1363c5b7-8f99-46ae-edea-85a34763b3e1"
      },
      "outputs": [
        {
          "output_type": "execute_result",
          "data": {
            "text/html": [
              "<img src=\"https://img.pngio.com/scikit-learn-batch-gradient-descent-versus-stochastic-gradient-descent-png-592_319.png\"/>"
            ],
            "text/plain": [
              "<IPython.core.display.Image object>"
            ]
          },
          "metadata": {},
          "execution_count": 1
        }
      ],
      "source": [
        "from IPython.display import Image\n",
        "import numpy as np\n",
        "import matplotlib.pyplot as plt\n",
        "import warnings\n",
        "\n",
        "# 경고 메시지 출력 표기 생략\n",
        "warnings.filterwarnings('ignore')\n",
        "\n",
        "Image(url='https://img.pngio.com/scikit-learn-batch-gradient-descent-versus-stochastic-gradient-descent-png-592_319.png')"
      ]
    },
    {
      "cell_type": "markdown",
      "metadata": {
        "id": "ZRuLBqohLMsY"
      },
      "source": [
        "## 샘플에 활용할 데이터 셋 만들기"
      ]
    },
    {
      "cell_type": "code",
      "execution_count": 2,
      "metadata": {
        "id": "pzZRFqeZUqx9"
      },
      "outputs": [],
      "source": [
        "def make_linear(w=0.5, b=0.8, size=50, noise=1.0):\n",
        "    x = np.random.rand(size)\n",
        "    y = w * x + b\n",
        "    noise = np.random.uniform(-abs(noise), abs(noise), size=y.shape)\n",
        "    yy = y + noise\n",
        "    plt.figure(figsize=(10, 7))\n",
        "    plt.plot(x, y, color='r', label=f'y = {w}x + {b}')\n",
        "    plt.scatter(x, yy, label='data')\n",
        "    plt.legend(fontsize=15)\n",
        "    plt.show()\n",
        "    print(f'w: {w}, b: {b}')\n",
        "    return x, yy"
      ]
    },
    {
      "cell_type": "code",
      "execution_count": 3,
      "metadata": {
        "id": "-qcmWy8JUqx_",
        "colab": {
          "base_uri": "https://localhost:8080/",
          "height": 445
        },
        "outputId": "db2ca194-18e9-46e5-bb6c-b696943ab342"
      },
      "outputs": [
        {
          "output_type": "display_data",
          "data": {
            "text/plain": [
              "<Figure size 720x504 with 1 Axes>"
            ],
            "image/png": "[encoded data removed]"
          },
          "metadata": {
            "needs_background": "light"
          }
        },
        {
          "output_type": "stream",
          "name": "stdout",
          "text": [
            "w: 0.3, b: 0.5\n"
          ]
        }
      ],
      "source": [
        "x, y = make_linear(w=0.3, b=0.5, size=100, noise=0.01)"
      ]
    },
    {
      "cell_type": "markdown",
      "metadata": {
        "id": "CM-u7na_LMsf"
      },
      "source": [
        "## 초기값 (Initializer)과 y_hat (예측, prediction) 함수 정의"
      ]
    },
    {
      "cell_type": "markdown",
      "metadata": {
        "id": "tauo0pixUqyC"
      },
      "source": [
        "w, b 값에 대하여 random한 초기 값을 설정해 줍니다."
      ]
    },
    {
      "cell_type": "code",
      "execution_count": 5,
      "metadata": {
        "id": "w-_dJXtfpYGB",
        "colab": {
          "base_uri": "https://localhost:8080/"
        },
        "outputId": "bb22ef65-8b42-4225-c171-9c75aeedc86e"
      },
      "outputs": [
        {
          "output_type": "execute_result",
          "data": {
            "text/plain": [
              "(0.3468582574620698, 0.9538667405610166)"
            ]
          },
          "metadata": {},
          "execution_count": 5
        }
      ],
      "source": [
        "w = np.random.uniform(low=0.0, high=1.0)\n",
        "b = np.random.uniform(low=0.0, high=1.0)\n",
        "w, b"
      ]
    },
    {
      "cell_type": "code",
      "source": [
        ""
      ],
      "metadata": {
        "id": "nXltF7yLScbD"
      },
      "execution_count": null,
      "outputs": []
    },
    {
      "cell_type": "markdown",
      "metadata": {
        "id": "WuTVUI03UqyE"
      },
      "source": [
        "`y_hat`은 `prediction`은 값 입니다. 즉, 가설함수에서 실제 값 (y)를 뺀 함수를 정의합니다."
      ]
    },
    {
      "cell_type": "code",
      "execution_count": 7,
      "metadata": {
        "id": "trVygK4GLMsg",
        "colab": {
          "base_uri": "https://localhost:8080/"
        },
        "outputId": "b2f90e4f-a182-416b-e9f0-dbfc1142eafe"
      },
      "outputs": [
        {
          "output_type": "execute_result",
          "data": {
            "text/plain": [
              "array([1.28973411, 1.20704555, 1.24333288, 1.29191647, 1.08542982,\n",
              "       1.08269697, 1.18521215, 1.20258686, 1.01220748, 0.95755314,\n",
              "       1.27525545, 1.15844311, 1.11798294, 1.06309897, 1.11153933,\n",
              "       1.14214851, 1.29000257, 1.0594991 , 1.29482179, 1.14277511,\n",
              "       1.08380514, 1.02226607, 1.12221282, 1.13606386, 1.20758505,\n",
              "       0.96969276, 0.99864414, 1.28577296, 1.24372629, 1.14493849,\n",
              "       1.17774278, 1.27136738, 0.96822928, 1.07227546, 0.96422613,\n",
              "       1.13043637, 0.98259865, 0.99502886, 1.28280939, 1.1325465 ,\n",
              "       1.13214624, 1.07917993, 1.17900325, 1.25066067, 1.12188261,\n",
              "       1.20973978, 1.26941538, 1.04390896, 0.97197423, 1.11515221,\n",
              "       1.07815475, 1.10381025, 1.02804974, 1.12170309, 1.16111572,\n",
              "       1.28537655, 0.95998778, 1.17272543, 1.04273648, 1.07299229,\n",
              "       1.17450732, 0.96413203, 1.04640191, 1.13274706, 1.14417164,\n",
              "       1.00654246, 1.21706497, 1.03252351, 1.17278961, 1.2897775 ,\n",
              "       1.0980074 , 1.05529408, 1.18235211, 1.10479086, 1.03907823,\n",
              "       1.07682692, 1.25239918, 1.02729678, 1.12787956, 1.09473344,\n",
              "       1.18346551, 1.1026996 , 1.08774593, 0.97437901, 0.97131931,\n",
              "       1.26026301, 1.00309687, 1.05066938, 1.08190849, 1.17906672,\n",
              "       1.09378265, 1.17610097, 1.15516712, 0.96350648, 1.05390093,\n",
              "       1.2137869 , 1.09793505, 1.29191368, 1.14834411, 1.28871244])"
            ]
          },
          "metadata": {},
          "execution_count": 7
        }
      ],
      "source": [
        "# 코드를 입력해 주세요\n",
        "y_hat = w * x + b\n",
        "y_hat"
      ]
    },
    {
      "cell_type": "markdown",
      "metadata": {
        "id": "4N6MK4elLMsi"
      },
      "source": [
        "## 오차(Error) 정의"
      ]
    },
    {
      "cell_type": "markdown",
      "metadata": {
        "id": "r19eta8MLMsj"
      },
      "source": [
        "Loss Function 혹은 Cost Function을 정의 합니다.\n",
        "\n",
        "Loss (Cost) Function은 예측값인 `y_hat`과 `y`의 차이에 **제곱의 평균**으로 정의합니다.\n",
        "\n",
        "제곱은 오차에 대한 음수 값을 허용하지 않으며, 이는 **Mean Squared Error(MSE)**인 평균 제곱 오차 평가 지표와 관련 있습니다."
      ]
    },
    {
      "cell_type": "code",
      "execution_count": 21,
      "metadata": {
        "id": "ygZPHM2xLMsj",
        "colab": {
          "base_uri": "https://localhost:8080/"
        },
        "outputId": "01c4a3d7-6226-4d59-d9b0-4a7f214940be"
      },
      "outputs": [
        {
          "output_type": "execute_result",
          "data": {
            "text/plain": [
              "9.435459639356727e+19"
            ]
          },
          "metadata": {},
          "execution_count": 21
        }
      ],
      "source": [
        "# 코드를 입력해 주세요\n",
        "error =((y_hat - y)**2).mean()\n",
        "error"
      ]
    },
    {
      "cell_type": "markdown",
      "metadata": {
        "id": "VwzjytZvUqyI"
      },
      "source": [
        "## 학습률 (Learning Rate)"
      ]
    },
    {
      "cell_type": "code",
      "execution_count": 22,
      "metadata": {
        "id": "9t_hsbBUUqyJ",
        "colab": {
          "base_uri": "https://localhost:8080/",
          "height": 236
        },
        "outputId": "ede02c48-18e0-40b7-efdf-98faf9898619"
      },
      "outputs": [
        {
          "output_type": "execute_result",
          "data": {
            "text/html": [
              "<img src=\"https://www.deeplearningwizard.com/deep_learning/boosting_models_pytorch/images/lr1.png\" width=\"800\"/>"
            ],
            "text/plain": [
              "<IPython.core.display.Image object>"
            ]
          },
          "metadata": {},
          "execution_count": 22
        }
      ],
      "source": [
        "Image(url='https://www.deeplearningwizard.com/deep_learning/boosting_models_pytorch/images/lr1.png', width=800)"
      ]
    },
    {
      "cell_type": "markdown",
      "metadata": {
        "id": "NJMFH9wTUqyL"
      },
      "source": [
        "한 번 학습할 때 **얼마만큼 가중치(weight)를 업데이트** 해야 하는지 학습 양을 의미합니다.\n",
        "\n",
        "너무 큰 학습률 (Learning Rate)은 가중치 갱신이 크게 되어 **자칫 Error가 수렴하지 못하고 발산**할 수 있으며,\n",
        "\n",
        "너무 작은 학습률은 가중치 갱신이 작게 되어 **가중치 갱신이 충분히 되지 않고, 학습이 끝나** 버릴 수 있습니다. 즉 과소 적합되어 있는 상태로 남아 있을 수 있습니다.\n",
        "\n"
      ]
    },
    {
      "cell_type": "markdown",
      "metadata": {
        "id": "ajAr6o76LMsm"
      },
      "source": [
        "## Gradient Descent 구현 (단항식)"
      ]
    },
    {
      "cell_type": "code",
      "execution_count": 36,
      "metadata": {
        "id": "1iIYNKTyLMsm"
      },
      "outputs": [],
      "source": [
        "# 최대 반복 횟수\n",
        "num_epoch = 500\n",
        "\n",
        "# 학습율 (learning_rate)\n",
        "learning_rate = 1.2"
      ]
    },
    {
      "cell_type": "code",
      "execution_count": 37,
      "metadata": {
        "id": "IpQ6BcuMLMso",
        "colab": {
          "base_uri": "https://localhost:8080/"
        },
        "outputId": "9fbc6ae8-c286-4ce6-84c3-28f8c05fd505"
      },
      "outputs": [
        {
          "output_type": "stream",
          "name": "stdout",
          "text": [
            " 0 w = 0.46552, b = 0.35821 error = 0.01506\n",
            " 5 w = 0.42879, b = 0.43495 error = 0.00153\n",
            "10 w = 0.38719, b = 0.45479 error = 0.00071\n",
            "15 w = 0.35964, b = 0.46929 error = 0.00034\n",
            "20 w = 0.34100, b = 0.47905 error = 0.00018\n",
            "25 w = 0.32841, b = 0.48565 error = 0.00010\n",
            "30 w = 0.31990, b = 0.49012 error = 0.00006\n",
            "------------------------------------------------------------\n",
            "35 w = 0.3, b = 0.5 error = 0.00005\n"
          ]
        }
      ],
      "source": [
        "errors = []\n",
        "\n",
        "# random 한 값으로 w, b를 초기화 합니다.\n",
        "w = np.random.uniform(low=0.0, high=1.0)\n",
        "b = np.random.uniform(low=0.0, high=1.0)\n",
        "\n",
        "for epoch in range(num_epoch):\n",
        "    # 코드를 입력해 주세요\n",
        "    y_hat = w * x + b\n",
        "\n",
        "\n",
        "    # 코드를 입력해 주세요\n",
        "    error = ((y_hat-y)**2).mean()\n",
        "    if error < 0.00005:\n",
        "        break\n",
        "\n",
        "    # 코드를 입력해 주세요\n",
        "    w = w - learning_rate * ((y_hat-y)*x).mean()\n",
        "    b = b - learning_rate * ((y_hat-y)).mean()\n",
        "    \n",
        "    errors.append(error)\n",
        "\n",
        "    if epoch % 5 == 0:\n",
        "        print(\"{0:2} w = {1:.5f}, b = {2:.5f} error = {3:.5f}\".format(epoch, w, b, error))\n",
        "    \n",
        "print(\"----\" * 15)\n",
        "print(\"{0:2} w = {1:.1f}, b = {2:.1f} error = {3:.5f}\".format(epoch, w, b, error))"
      ]
    },
    {
      "cell_type": "markdown",
      "metadata": {
        "id": "gZnRP06EUqyP"
      },
      "source": [
        "**시각화**\n",
        "\n",
        "학습 진행(epoch)에 따른 오차를 시각화 합니다."
      ]
    },
    {
      "cell_type": "code",
      "execution_count": 38,
      "metadata": {
        "id": "IblSaamPLMss",
        "colab": {
          "base_uri": "https://localhost:8080/",
          "height": 442
        },
        "outputId": "12e64ed4-b872-44e1-80a2-0b5d8e1f97fd"
      },
      "outputs": [
        {
          "output_type": "display_data",
          "data": {
            "text/plain": [
              "<Figure size 720x504 with 1 Axes>"
            ],
            "image/png": "[encoded data removed]"
          },
          "metadata": {
            "needs_background": "light"
          }
        }
      ],
      "source": [
        "plt.figure(figsize=(10, 7))\n",
        "plt.plot(errors)\n",
        "plt.xlabel('Epochs')\n",
        "plt.ylabel('Error')\n",
        "plt.show()"
      ]
    },
    {
      "cell_type": "markdown",
      "metadata": {
        "id": "Q8iw7WZNpR_I"
      },
      "source": [
        "## 다항식"
      ]
    },
    {
      "cell_type": "markdown",
      "metadata": {
        "id": "VpgsozbDUqyR"
      },
      "source": [
        "**샘플 데이터**를 생성합니다."
      ]
    },
    {
      "cell_type": "markdown",
      "metadata": {
        "id": "PAdOEqXCUqyR"
      },
      "source": [
        "이번에는 Feature Data, 즉 X 값이 여러 개인 다항식의 경우에 대해서도 구해보도록 하겠습니다.\n",
        "\n",
        "다항식에서는 X의 갯수 만큼, W 갯수도 늘어날 것입니다.\n",
        "\n",
        "다만, bias (b)의 계수는 1개인 점에 유의해 주세요."
      ]
    },
    {
      "cell_type": "code",
      "execution_count": 46,
      "metadata": {
        "id": "woNtXYodpSFm"
      },
      "outputs": [],
      "source": [
        "x1 = np.random.rand(100)\n",
        "x2 = np.random.rand(100)\n",
        "x3 = np.random.rand(100)"
      ]
    },
    {
      "cell_type": "markdown",
      "metadata": {
        "id": "SsWfNXITvMWt"
      },
      "source": [
        "**다항식을 정의**합니다."
      ]
    },
    {
      "cell_type": "code",
      "execution_count": 47,
      "metadata": {
        "id": "5aNdmIf8pvJ6"
      },
      "outputs": [],
      "source": [
        "y = 0.3 * x1 + 0.5 * x2 + 0.7 * x3 + 0.9"
      ]
    },
    {
      "cell_type": "markdown",
      "metadata": {
        "id": "sgLRY_MoUqyW"
      },
      "source": [
        "## Gradient Descent 구현 (다항식)"
      ]
    },
    {
      "cell_type": "code",
      "execution_count": 50,
      "metadata": {
        "id": "Z5IuMfOMqAWq",
        "colab": {
          "base_uri": "https://localhost:8080/"
        },
        "outputId": "595e89f4-a883-4e82-ea27-42a138a7385b"
      },
      "outputs": [
        {
          "output_type": "stream",
          "name": "stdout",
          "text": [
            " 0 w1 = 0.60409, w2 = 0.60442, w3 = 0.34004, b = 0.88692 error = 0.05536\n",
            " 5 w1 = 0.53686, w2 = 0.57525, w3 = 0.41087, b = 0.88528 error = 0.01469\n",
            "10 w1 = 0.48727, w2 = 0.55639, w3 = 0.47048, b = 0.89050 error = 0.00917\n",
            "15 w1 = 0.44796, w2 = 0.54200, w3 = 0.51762, b = 0.89439 error = 0.00573\n",
            "20 w1 = 0.41681, w2 = 0.53105, w3 = 0.55493, b = 0.89727 error = 0.00358\n",
            "25 w1 = 0.39213, w2 = 0.52275, w3 = 0.58446, b = 0.89936 error = 0.00224\n",
            "30 w1 = 0.37258, w2 = 0.51647, w3 = 0.60786, b = 0.90086 error = 0.00140\n",
            "35 w1 = 0.35711, w2 = 0.51174, w3 = 0.62640, b = 0.90190 error = 0.00088\n",
            "40 w1 = 0.34487, w2 = 0.50820, w3 = 0.64112, b = 0.90260 error = 0.00055\n",
            "45 w1 = 0.33519, w2 = 0.50556, w3 = 0.65281, b = 0.90304 error = 0.00034\n",
            "50 w1 = 0.32754, w2 = 0.50362, w3 = 0.66209, b = 0.90328 error = 0.00022\n",
            "55 w1 = 0.32150, w2 = 0.50219, w3 = 0.66948, b = 0.90339 error = 0.00014\n",
            "60 w1 = 0.31673, w2 = 0.50116, w3 = 0.67537, b = 0.90339 error = 0.00009\n",
            "65 w1 = 0.31298, w2 = 0.50043, w3 = 0.68007, b = 0.90332 error = 0.00005\n",
            "70 w1 = 0.31002, w2 = 0.49992, w3 = 0.68383, b = 0.90320 error = 0.00003\n",
            "75 w1 = 0.30770, w2 = 0.49957, w3 = 0.68683, b = 0.90305 error = 0.00002\n",
            "80 w1 = 0.30588, w2 = 0.49934, w3 = 0.68924, b = 0.90288 error = 0.00001\n",
            "------------------------------------------------------------\n",
            "84 w1 = 0.3, w2 = 0.5, w3 = 0.7, b = 0.9 error = 0.00001\n"
          ]
        }
      ],
      "source": [
        "errors = []\n",
        "w1_grad = []\n",
        "w2_grad = []\n",
        "w3_grad = []\n",
        "\n",
        "num_epoch=5000\n",
        "learning_rate=0.5\n",
        "\n",
        "w1 = np.random.uniform(low=0.0, high=1.0)\n",
        "w2 = np.random.uniform(low=0.0, high=1.0)\n",
        "w3 = np.random.uniform(low=0.0, high=1.0)\n",
        "\n",
        "b = np.random.uniform(low=0.0, high=1.0)\n",
        "\n",
        "for epoch in range(num_epoch):\n",
        "    # 코드를 입력해 주세요\n",
        "    y_hat = w1*x1 + w2 *x2 + w3*x3 + b\n",
        "\n",
        "    # 코드를 입력해 주세요\n",
        "    error = ((y_hat-y)**2).mean()\n",
        "    if error < 0.00001:\n",
        "        break\n",
        "\n",
        "    # 코드를 입력해 주세요\n",
        "    # 미분값 적용 (Gradient)\n",
        "    w1 = w1 - learning_rate * ((y_hat-y)*x1).mean()\n",
        "    w2 = w2 - learning_rate * ((y_hat-y)*x2).mean()\n",
        "    w3 = w3 - learning_rate * ((y_hat-y)*x3).mean()\n",
        "\n",
        "    b = b - learning_rate * (y_hat-y).mean()\n",
        "    \n",
        "    w1_grad.append(w1)\n",
        "    w2_grad.append(w2)\n",
        "    w3_grad.append(w3)\n",
        "    \n",
        "    errors.append(error)\n",
        "\n",
        "    if epoch % 5 == 0:\n",
        "        print(\"{0:2} w1 = {1:.5f}, w2 = {2:.5f}, w3 = {3:.5f}, b = {4:.5f} error = {5:.5f}\".format(epoch, w1, w2, w3, b, error))\n",
        "    \n",
        "print(\"----\" * 15)\n",
        "print(\"{0:2} w1 = {1:.1f}, w2 = {2:.1f}, w3 = {3:.1f}, b = {4:.1f} error = {5:.5f}\".format(epoch, w1, w2, w3, b, error))"
      ]
    },
    {
      "cell_type": "code",
      "execution_count": 51,
      "metadata": {
        "id": "BoIzU-K-qbWZ",
        "colab": {
          "base_uri": "https://localhost:8080/",
          "height": 444
        },
        "outputId": "3bbc34a4-da4e-4155-ccad-8649852457c9"
      },
      "outputs": [
        {
          "output_type": "display_data",
          "data": {
            "text/plain": [
              "<Figure size 720x504 with 1 Axes>"
            ],
            "image/png": "[encoded data removed]"
          },
          "metadata": {
            "needs_background": "light"
          }
        }
      ],
      "source": [
        "plt.figure(figsize=(10, 7))\n",
        "plt.plot(errors)\n",
        "plt.title('Errors')\n",
        "plt.show()"
      ]
    },
    {
      "cell_type": "markdown",
      "metadata": {
        "id": "zq85a7Asw5ZG"
      },
      "source": [
        "## 가중치 (W1, W2, W3) 값들의 변화량 시각화"
      ]
    },
    {
      "cell_type": "markdown",
      "metadata": {
        "id": "DcDPnN3JUqyb"
      },
      "source": [
        "`Epoch`가 지남에 따라 어떻게 가중치들이 업데이트 되는지 시각화 해 봅니다."
      ]
    },
    {
      "cell_type": "code",
      "execution_count": 52,
      "metadata": {
        "id": "n4vdXxMcwQaq",
        "colab": {
          "base_uri": "https://localhost:8080/",
          "height": 446
        },
        "outputId": "28b72582-4a33-4bf9-b4f9-88276dc86373"
      },
      "outputs": [
        {
          "output_type": "display_data",
          "data": {
            "text/plain": [
              "<Figure size 720x504 with 1 Axes>"
            ],
            "image/png": "[encoded data removed]"
          },
          "metadata": {
            "needs_background": "light"
          }
        }
      ],
      "source": [
        "plt.figure(figsize=(10, 7))\n",
        "\n",
        "plt.hlines(y=0.3, xmin=0, xmax=len(w1_grad), color='r')\n",
        "plt.plot(w1_grad, color='g')\n",
        "plt.ylim(0, 1)\n",
        "plt.title('W1', fontsize=16)\n",
        "plt.legend(['W1 Change', 'W1'])\n",
        "plt.show()"
      ]
    },
    {
      "cell_type": "code",
      "execution_count": 56,
      "metadata": {
        "id": "YL1YMw8xwfO2",
        "colab": {
          "base_uri": "https://localhost:8080/",
          "height": 446
        },
        "outputId": "80627329-44a4-4725-dbb1-5fea3ba0044c"
      },
      "outputs": [
        {
          "output_type": "display_data",
          "data": {
            "text/plain": [
              "<Figure size 720x504 with 1 Axes>"
            ],
            "image/png": "[encoded data removed]"
          },
          "metadata": {
            "needs_background": "light"
          }
        }
      ],
      "source": [
        "plt.figure(figsize=(10, 7))\n",
        "\n",
        "plt.hlines(y=0.5, xmin=0, xmax=len(w2_grad), color='r')\n",
        "plt.plot(w2_grad, color='g')\n",
        "plt.ylim(0, 1)\n",
        "plt.title('W2', fontsize=16)\n",
        "plt.legend(['W2 Change', 'W2'])\n",
        "plt.show()"
      ]
    },
    {
      "cell_type": "code",
      "execution_count": 54,
      "metadata": {
        "id": "AIJgOedAx1E1",
        "colab": {
          "base_uri": "https://localhost:8080/",
          "height": 446
        },
        "outputId": "5dd37d23-703c-45b6-8c69-d02698d7928b"
      },
      "outputs": [
        {
          "output_type": "display_data",
          "data": {
            "text/plain": [
              "<Figure size 720x504 with 1 Axes>"
            ],
            "image/png": "[encoded data removed]"
          },
          "metadata": {
            "needs_background": "light"
          }
        }
      ],
      "source": [
        "plt.figure(figsize=(10, 7))\n",
        "\n",
        "plt.hlines(y=0.7, xmin=0, xmax=len(w3_grad), color='r')\n",
        "plt.plot(w3_grad, color='g')\n",
        "plt.ylim(0, 1)\n",
        "plt.title('W3', fontsize=16)\n",
        "plt.legend(['W3 Change', 'W3'])\n",
        "plt.show()"
      ]
    }
  ],
  "metadata": {
    "colab": {
      "collapsed_sections": [],
      "name": "경사하강법 (강의)의 사본",
      "provenance": []
    },
    "kernelspec": {
      "display_name": "Python 3",
      "language": "python",
      "name": "python3"
    },
    "language_info": {
      "codemirror_mode": {
        "name": "ipython",
        "version": 3
      },
      "file_extension": ".py",
      "mimetype": "text/x-python",
      "name": "python",
      "nbconvert_exporter": "python",
      "pygments_lexer": "ipython3",
      "version": "3.7.10"
    }
  },
  "nbformat": 4,
  "nbformat_minor": 0
}