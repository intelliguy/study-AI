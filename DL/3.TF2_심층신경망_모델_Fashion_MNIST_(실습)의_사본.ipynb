{
  "nbformat": 4,
  "nbformat_minor": 0,
  "metadata": {
    "accelerator": "GPU",
    "colab": {
      "name": "TF2 심층신경망 모델 - Fashion MNIST (실습)의 사본",
      "provenance": [],
      "collapsed_sections": []
    },
    "kernelspec": {
      "display_name": "Python 3",
      "language": "python",
      "name": "python3"
    },
    "language_info": {
      "codemirror_mode": {
        "name": "ipython",
        "version": 3
      },
      "file_extension": ".py",
      "mimetype": "text/x-python",
      "name": "python",
      "nbconvert_exporter": "python",
      "pygments_lexer": "ipython3",
      "version": "3.6.6"
    }
  },
  "cells": [
    {
      "cell_type": "markdown",
      "metadata": {
        "id": "vY-Ca0dhGTAk"
      },
      "source": [
        "# TF2 심층신경망 모델 - Fashion MNIST (실습)\n",
        "\n",
        "Fully Connected Layer (Dense)를 활용한 이미지 분류 (Image Classification)"
      ]
    },
    {
      "cell_type": "markdown",
      "metadata": {
        "id": "ww0hxcaSGb0m"
      },
      "source": [
        "## 확인"
      ]
    },
    {
      "cell_type": "markdown",
      "metadata": {
        "id": "FI6oK1X-GdJJ"
      },
      "source": [
        "1. GPU 옵션 켜져 있는지 확인할 것!!! (수정 - 노트설정 - 하드웨어설정 (GPU))"
      ]
    },
    {
      "cell_type": "markdown",
      "metadata": {
        "id": "1yoe-K38GQ4b"
      },
      "source": [
        "## 순서"
      ]
    },
    {
      "cell_type": "markdown",
      "metadata": {
        "id": "Bc6iTV8DGPop"
      },
      "source": [
        "1. **import**: 필요한 모듈 import\n",
        "2. **전처리**: 학습에 필요한 데이터 전처리를 수행합니다.\n",
        "3. **모델링(model)**: 모델을 정의합니다.\n",
        "4. **컴파일(compile)**: 모델을 생성합니다.\n",
        "5. **학습 (fit)**: 모델을 학습시킵니다."
      ]
    },
    {
      "cell_type": "markdown",
      "metadata": {
        "id": "rK6HdzR7nil3"
      },
      "source": [
        "## 문제"
      ]
    },
    {
      "cell_type": "markdown",
      "metadata": {
        "id": "1JDqQLWCnil4"
      },
      "source": [
        "Fashion MNIST 데이터 셋에 대한 분류기 생성\n",
        "테스트는 10 개의 클래스를 분류 할 것으로 예상하고\n",
        "\n",
        "입력 모양은 Fashion MNIST 데이터 세트의 기본 크기 여야합니다.28x28 단색. \n",
        "\n",
        "데이터 크기를 조정하지 마십시오. input_shape는\n",
        "(28,28)을 입력 모양으로 만 사용합니다. "
      ]
    },
    {
      "cell_type": "markdown",
      "metadata": {
        "id": "OAvRmF3_HMIu"
      },
      "source": [
        "------------------------------------"
      ]
    },
    {
      "cell_type": "markdown",
      "metadata": {
        "id": "1dWL4Kn7G4eH"
      },
      "source": [
        "# 실습"
      ]
    },
    {
      "cell_type": "markdown",
      "metadata": {
        "id": "UrUNBY6xHH6m"
      },
      "source": [
        "## STEP 1. import"
      ]
    },
    {
      "cell_type": "code",
      "metadata": {
        "id": "G9M_SARJnil5"
      },
      "source": [
        "import numpy as np\n",
        "import matplotlib.pyplot as plt\n",
        "import tensorflow as tf\n",
        "\n",
        "from tensorflow.keras.layers import Dense, Flatten\n",
        "from tensorflow.keras.models import Sequential\n",
        "from tensorflow.keras.callbacks import ModelCheckpoint"
      ],
      "execution_count": 2,
      "outputs": []
    },
    {
      "cell_type": "markdown",
      "metadata": {
        "id": "2HGYCJ1Tnil7"
      },
      "source": [
        "## STEP 2. 전처리 (pre-processing)"
      ]
    },
    {
      "cell_type": "markdown",
      "metadata": {
        "id": "Kg0sXFW2nil7"
      },
      "source": [
        "**tf.keras.datasets** 에는 다양한 샘플 데이터를 제공해줍니다."
      ]
    },
    {
      "cell_type": "markdown",
      "metadata": {
        "id": "H43uLfTrHERV"
      },
      "source": [
        "\n",
        "[tf.keras.datasets](https://www.tensorflow.org/api_docs/python/tf/keras/datasets)\n",
        "\n",
        "* **fashion_mnist**: Fashion-MNIST 옷(패션) 데이터 셋\n",
        "\n",
        "* **mnist**: MNIST 손글씨 데이터 셋"
      ]
    },
    {
      "cell_type": "markdown",
      "metadata": {
        "id": "PPpM4Xy5HsoH"
      },
      "source": [
        "데이터 셋을 **로드** 합니다. (mnist)"
      ]
    },
    {
      "cell_type": "markdown",
      "metadata": {
        "id": "vV5IsHOqMLnl"
      },
      "source": [
        "[코드]"
      ]
    },
    {
      "cell_type": "code",
      "metadata": {
        "id": "nWsdj7Dgnil8"
      },
      "source": [
        "fashion_mnist = tf.keras.datasets.fashion_mnist"
      ],
      "execution_count": 3,
      "outputs": []
    },
    {
      "cell_type": "markdown",
      "metadata": {
        "id": "H05dHM_HoSYO"
      },
      "source": [
        "데이터 셋 로드: \n",
        "* **mnist.load_data()**\n",
        "* **fashion_mnist.load_data()**"
      ]
    },
    {
      "cell_type": "markdown",
      "metadata": {
        "id": "yvRH71ADI_dw"
      },
      "source": [
        "데이터 셋을 불러와, train / validation 세트를 구성합니다."
      ]
    },
    {
      "cell_type": "markdown",
      "metadata": {
        "id": "1kv3nb02MJfj"
      },
      "source": [
        "[코드] "
      ]
    },
    {
      "cell_type": "code",
      "metadata": {
        "id": "JWSZUSoWnil_"
      },
      "source": [
        "(x_train, y_train), (x_valid, y_valid) = fashion_mnist.load_data()"
      ],
      "execution_count": 11,
      "outputs": []
    },
    {
      "cell_type": "markdown",
      "metadata": {
        "id": "uUCrDWFcH5O3"
      },
      "source": [
        "정상적으로 로드되었는지, **확인**합니다. "
      ]
    },
    {
      "cell_type": "code",
      "metadata": {
        "id": "tQINRel7nimB",
        "colab": {
          "base_uri": "https://localhost:8080/"
        },
        "outputId": "c4bf493a-d25c-4677-b27c-b76f897147dd"
      },
      "source": [
        "x_train.shape, x_valid.shape"
      ],
      "execution_count": 5,
      "outputs": [
        {
          "output_type": "execute_result",
          "data": {
            "text/plain": [
              "((60000, 28, 28), (10000, 28, 28))"
            ]
          },
          "metadata": {},
          "execution_count": 5
        }
      ]
    },
    {
      "cell_type": "code",
      "metadata": {
        "id": "xU_nKXIuH8O-",
        "colab": {
          "base_uri": "https://localhost:8080/"
        },
        "outputId": "aaf5efeb-29be-4752-cdff-222996ed7bad"
      },
      "source": [
        "y_train.shape, y_valid.shape"
      ],
      "execution_count": 6,
      "outputs": [
        {
          "output_type": "execute_result",
          "data": {
            "text/plain": [
              "((60000,), (10000,))"
            ]
          },
          "metadata": {},
          "execution_count": 6
        }
      ]
    },
    {
      "cell_type": "markdown",
      "metadata": {
        "id": "SpCEhf6njRqs"
      },
      "source": [
        "**데이터셋 시각화**"
      ]
    },
    {
      "cell_type": "code",
      "metadata": {
        "id": "oioceOg4jVhv",
        "outputId": "0185c7b9-26e9-4bd4-b474-e8ae3975841f",
        "colab": {
          "base_uri": "https://localhost:8080/",
          "height": 350
        }
      },
      "source": [
        "fig, axes = plt.subplots(2, 5)\n",
        "fig.set_size_inches(10, 5)\n",
        "\n",
        "for i in range(10):\n",
        "    axes[i//5, i%5].imshow(x_train[i], cmap='gray')\n",
        "    axes[i//5, i%5].set_title('No. %02d' % y_train[i], fontsize=18)\n",
        "    plt.setp( axes[i//5, i%5].get_xticklabels(), visible=False)\n",
        "    plt.setp( axes[i//5, i%5].get_yticklabels(), visible=False)\n",
        "    axes[i//5, i%5].axis('off')\n",
        "\n",
        "plt.tight_layout()\n",
        "plt.show()"
      ],
      "execution_count": 7,
      "outputs": [
        {
          "output_type": "display_data",
          "data": {
            "text/plain": [
              "<Figure size 720x360 with 10 Axes>"
            ],
            "image/png": "[encoded data removed]"
          },
          "metadata": {}
        }
      ]
    },
    {
      "cell_type": "markdown",
      "metadata": {
        "id": "JwOpcgkRny5W"
      },
      "source": [
        "**이미지 정규화 (Normalization)**\n",
        "\n",
        "* 모든 이미지 픽셀(pixel)값들을 0~1 사이의 값으로 정규화 해 줍니다.\n",
        "* x_train, x_valid 에 대해서만 정규화합니다."
      ]
    },
    {
      "cell_type": "markdown",
      "metadata": {
        "id": "BPF65YnpO7-8"
      },
      "source": [
        "정규화(Normalization) 전의 최소값(min), 최대값(max)을 확인합니다."
      ]
    },
    {
      "cell_type": "code",
      "metadata": {
        "id": "psrsKNe7PFrn",
        "colab": {
          "base_uri": "https://localhost:8080/"
        },
        "outputId": "4fe40986-e626-42e5-a04f-19ed67fccc28"
      },
      "source": [
        "x_train.min(), x_train.max()"
      ],
      "execution_count": 12,
      "outputs": [
        {
          "output_type": "execute_result",
          "data": {
            "text/plain": [
              "(0, 255)"
            ]
          },
          "metadata": {},
          "execution_count": 12
        }
      ]
    },
    {
      "cell_type": "markdown",
      "metadata": {
        "id": "fYMtbN69MPkm"
      },
      "source": [
        "[코드]"
      ]
    },
    {
      "cell_type": "code",
      "metadata": {
        "id": "lFArqzZCntDh"
      },
      "source": [
        "x_train = x_train / 255\n",
        "x_valid = x_valid / 255"
      ],
      "execution_count": 13,
      "outputs": []
    },
    {
      "cell_type": "markdown",
      "metadata": {
        "id": "dZK1P_g4PNCy"
      },
      "source": [
        "정규화 후 최소값/최대값 확인"
      ]
    },
    {
      "cell_type": "code",
      "metadata": {
        "id": "FWJTNdezPQ2h",
        "colab": {
          "base_uri": "https://localhost:8080/"
        },
        "outputId": "2d198dc0-16d9-4581-d1f4-8084ba9cce92"
      },
      "source": [
        "x_train.min(), x_train.max()"
      ],
      "execution_count": 14,
      "outputs": [
        {
          "output_type": "execute_result",
          "data": {
            "text/plain": [
              "(0.0, 1.0)"
            ]
          },
          "metadata": {},
          "execution_count": 14
        }
      ]
    },
    {
      "cell_type": "markdown",
      "metadata": {
        "id": "qus44o00Jo77"
      },
      "source": [
        "## STEP 3. 모델 정의 (Sequential)"
      ]
    },
    {
      "cell_type": "markdown",
      "metadata": {
        "id": "azRvYVbQnim5"
      },
      "source": [
        "이제 Modeling을 할 차례입니다.\n",
        "\n",
        "`Sequential` 모델 안에서 층을 깊게 쌓아 올려 주면 됩니다.\n",
        "\n",
        "1. Dense 레이어는 2D 형태의 데이터를 받아들이지 못합니다. Flatten 레이어로 2D -> 1D로 변환해주세요\n",
        "2. 깊은 출력층과 더 많은 Layer를 쌓습니다.\n",
        "3. Dense Layer에 `activation='relu'`를 적용합니다.\n",
        "4. 분류(Classification)의 마지막 층의 출력 숫자는 분류하고자 하는 클래스 갯수와 **같아야** 합니다.\n"
      ]
    },
    {
      "cell_type": "markdown",
      "metadata": {
        "id": "uPXabQxgMGCp"
      },
      "source": [
        "[코드]"
      ]
    },
    {
      "cell_type": "code",
      "metadata": {
        "id": "PCDinGHSnim5"
      },
      "source": [
        "model = Sequential([\n",
        "    # Flatten으로 shape 펼치기, input_shape는 (28, 28)로 지정합니다.\n",
        "  Flatten(input_shape=(28,28)),\n",
        "    # Dense Layer\n",
        "  Dense(1024, activation='relu'),\n",
        "  Dense(512, activation='relu'),\n",
        "  Dense(256, activation='relu'),\n",
        "  Dense(128, activation='relu'),\n",
        "  Dense(64, activation='relu'),\n",
        "  Dense(32, activation='relu'),\n",
        "  Dense(16, activation='relu'),\n",
        "    # Classification을 위한 Softmax \n",
        "    # 출력층의 갯수는 클래스의 갯수와 동일하게 맞춰줍니다 (10개), activation도 잊지마세요!\n",
        "  Dense(10, activation='softmax'),\n",
        "])"
      ],
      "execution_count": 17,
      "outputs": []
    },
    {
      "cell_type": "markdown",
      "metadata": {
        "id": "3aR788REKyB3"
      },
      "source": [
        "모델에 대한 **요약**을 확인합니다."
      ]
    },
    {
      "cell_type": "code",
      "metadata": {
        "id": "5u4rp7tB-4A1",
        "colab": {
          "base_uri": "https://localhost:8080/"
        },
        "outputId": "b22ac43f-80cf-4c85-de92-561df2bc0f2b"
      },
      "source": [
        "model.summary()"
      ],
      "execution_count": 18,
      "outputs": [
        {
          "output_type": "stream",
          "name": "stdout",
          "text": [
            "Model: \"sequential_1\"\n",
            "_________________________________________________________________\n",
            " Layer (type)                Output Shape              Param #   \n",
            "=================================================================\n",
            " flatten_1 (Flatten)         (None, 784)               0         \n",
            "                                                                 \n",
            " dense_6 (Dense)             (None, 1024)              803840    \n",
            "                                                                 \n",
            " dense_7 (Dense)             (None, 512)               524800    \n",
            "                                                                 \n",
            " dense_8 (Dense)             (None, 256)               131328    \n",
            "                                                                 \n",
            " dense_9 (Dense)             (None, 128)               32896     \n",
            "                                                                 \n",
            " dense_10 (Dense)            (None, 64)                8256      \n",
            "                                                                 \n",
            " dense_11 (Dense)            (None, 32)                2080      \n",
            "                                                                 \n",
            " dense_12 (Dense)            (None, 16)                528       \n",
            "                                                                 \n",
            " dense_13 (Dense)            (None, 10)                170       \n",
            "                                                                 \n",
            "=================================================================\n",
            "Total params: 1,503,898\n",
            "Trainable params: 1,503,898\n",
            "Non-trainable params: 0\n",
            "_________________________________________________________________\n"
          ]
        }
      ]
    },
    {
      "cell_type": "markdown",
      "metadata": {
        "id": "wnmQV-fDnim8"
      },
      "source": [
        "## STEP 4. 컴파일 (compile)"
      ]
    },
    {
      "cell_type": "markdown",
      "metadata": {
        "id": "pHQ1abHXK8e9"
      },
      "source": [
        "1. `optimizer`는 가장 최적화가 잘되는 알고리즘인 'adam'을 사용합니다.\n",
        "2. `loss`는 무엇을 지정하면 좋을까요? (`categorical_crossentropy` / `sparse_categorical_crossentropy`)\n",
        "3. `metrics`를 'acc' 혹은 'accuracy'로 지정하면, 학습시 정확도를 모니터링 할 수 있습니다."
      ]
    },
    {
      "cell_type": "markdown",
      "metadata": {
        "id": "J2cOSOycMReV"
      },
      "source": [
        "[코드]"
      ]
    },
    {
      "cell_type": "code",
      "metadata": {
        "id": "QCLw6RMZnim-"
      },
      "source": [
        "model.compile(optimizer='adam', loss='sparse_categorical_crossentropy', metrics=['acc'])"
      ],
      "execution_count": 19,
      "outputs": []
    },
    {
      "cell_type": "markdown",
      "metadata": {
        "id": "NyLUPgGCninB"
      },
      "source": [
        "## STEP 5. ModelCheckpoint"
      ]
    },
    {
      "cell_type": "markdown",
      "metadata": {
        "id": "46Oi04ZMLtEB"
      },
      "source": [
        "`val_loss` 기준으로 epoch 마다 최적의 모델을 저장하기 위하여, ModelCheckpoint를 만듭니다.\n",
        "* `checkpoint_path`는 모델이 저장될 파일 명을 설정합니다.\n",
        "* `ModelCheckpoint`을 선언하고, 적절한 옵션 값을 지정합니다."
      ]
    },
    {
      "cell_type": "markdown",
      "metadata": {
        "id": "r_rJ4iAdMSc8"
      },
      "source": [
        "[코드]"
      ]
    },
    {
      "cell_type": "code",
      "metadata": {
        "id": "qJwGq3PoninB"
      },
      "source": [
        "checkpoint_path = \"lab_cp.ckpt\"\n",
        "checkpoint = ModelCheckpoint(filepath=checkpoint_path, \n",
        "                             save_weights_only=True, \n",
        "                             save_best_only=True, \n",
        "                             monitor='val_loss', \n",
        "                             verbose=1)"
      ],
      "execution_count": 20,
      "outputs": []
    },
    {
      "cell_type": "markdown",
      "metadata": {
        "id": "v3mjb5EAninE"
      },
      "source": [
        "## STEP 6. 학습 (fit)"
      ]
    },
    {
      "cell_type": "markdown",
      "metadata": {
        "id": "3-X6hK_DMYZH"
      },
      "source": [
        "1. `validation_data`를 반드시 지정합니다.\n",
        "2. `epochs`을 적절하게 지정합니다.\n",
        "3. `callbacks`에 바로 위에서 만든 checkpoint를 지정합니다."
      ]
    },
    {
      "cell_type": "markdown",
      "metadata": {
        "id": "7ic2FoiBMTgp"
      },
      "source": [
        "[코드]"
      ]
    },
    {
      "cell_type": "code",
      "metadata": {
        "id": "2uHXDA_vninF",
        "colab": {
          "base_uri": "https://localhost:8080/"
        },
        "outputId": "08f16db4-4861-4d86-b9d0-838721ec8458"
      },
      "source": [
        "history = model.fit(x_train, y_train,\n",
        "                    validation_data=(x_valid, y_valid),\n",
        "                    epochs=20,\n",
        "                    callbacks=[checkpoint],\n",
        "                   )"
      ],
      "execution_count": 21,
      "outputs": [
        {
          "output_type": "stream",
          "name": "stdout",
          "text": [
            "Epoch 1/20\n",
            "1869/1875 [============================>.] - ETA: 0s - loss: 0.5479 - acc: 0.8029\n",
            "Epoch 1: val_loss improved from inf to 0.43711, saving model to lab_cp.ckpt\n",
            "1875/1875 [==============================] - 11s 4ms/step - loss: 0.5475 - acc: 0.8030 - val_loss: 0.4371 - val_acc: 0.8437\n",
            "Epoch 2/20\n",
            "1860/1875 [============================>.] - ETA: 0s - loss: 0.3959 - acc: 0.8595\n",
            "Epoch 2: val_loss improved from 0.43711 to 0.41844, saving model to lab_cp.ckpt\n",
            "1875/1875 [==============================] - 7s 3ms/step - loss: 0.3962 - acc: 0.8592 - val_loss: 0.4184 - val_acc: 0.8489\n",
            "Epoch 3/20\n",
            "1865/1875 [============================>.] - ETA: 0s - loss: 0.3553 - acc: 0.8721\n",
            "Epoch 3: val_loss improved from 0.41844 to 0.36833, saving model to lab_cp.ckpt\n",
            "1875/1875 [==============================] - 7s 3ms/step - loss: 0.3550 - acc: 0.8723 - val_loss: 0.3683 - val_acc: 0.8659\n",
            "Epoch 4/20\n",
            "1859/1875 [============================>.] - ETA: 0s - loss: 0.3280 - acc: 0.8816\n",
            "Epoch 4: val_loss did not improve from 0.36833\n",
            "1875/1875 [==============================] - 6s 3ms/step - loss: 0.3281 - acc: 0.8815 - val_loss: 0.3813 - val_acc: 0.8642\n",
            "Epoch 5/20\n",
            "1875/1875 [==============================] - ETA: 0s - loss: 0.3067 - acc: 0.8882\n",
            "Epoch 5: val_loss improved from 0.36833 to 0.35374, saving model to lab_cp.ckpt\n",
            "1875/1875 [==============================] - 7s 4ms/step - loss: 0.3067 - acc: 0.8882 - val_loss: 0.3537 - val_acc: 0.8768\n",
            "Epoch 6/20\n",
            "1867/1875 [============================>.] - ETA: 0s - loss: 0.2925 - acc: 0.8938\n",
            "Epoch 6: val_loss improved from 0.35374 to 0.32830, saving model to lab_cp.ckpt\n",
            "1875/1875 [==============================] - 8s 4ms/step - loss: 0.2925 - acc: 0.8938 - val_loss: 0.3283 - val_acc: 0.8873\n",
            "Epoch 7/20\n",
            "1868/1875 [============================>.] - ETA: 0s - loss: 0.2806 - acc: 0.8973\n",
            "Epoch 7: val_loss did not improve from 0.32830\n",
            "1875/1875 [==============================] - 6s 3ms/step - loss: 0.2807 - acc: 0.8972 - val_loss: 0.3348 - val_acc: 0.8817\n",
            "Epoch 8/20\n",
            "1875/1875 [==============================] - ETA: 0s - loss: 0.2676 - acc: 0.8999\n",
            "Epoch 8: val_loss did not improve from 0.32830\n",
            "1875/1875 [==============================] - 7s 4ms/step - loss: 0.2676 - acc: 0.8999 - val_loss: 0.3406 - val_acc: 0.8817\n",
            "Epoch 9/20\n",
            "1864/1875 [============================>.] - ETA: 0s - loss: 0.2564 - acc: 0.9052\n",
            "Epoch 9: val_loss did not improve from 0.32830\n",
            "1875/1875 [==============================] - 6s 3ms/step - loss: 0.2561 - acc: 0.9052 - val_loss: 0.4000 - val_acc: 0.8694\n",
            "Epoch 10/20\n",
            "1874/1875 [============================>.] - ETA: 0s - loss: 0.2499 - acc: 0.9076\n",
            "Epoch 10: val_loss did not improve from 0.32830\n",
            "1875/1875 [==============================] - 8s 4ms/step - loss: 0.2500 - acc: 0.9075 - val_loss: 0.3532 - val_acc: 0.8870\n",
            "Epoch 11/20\n",
            "1862/1875 [============================>.] - ETA: 0s - loss: 0.2375 - acc: 0.9111\n",
            "Epoch 11: val_loss did not improve from 0.32830\n",
            "1875/1875 [==============================] - 7s 4ms/step - loss: 0.2374 - acc: 0.9111 - val_loss: 0.3790 - val_acc: 0.8833\n",
            "Epoch 12/20\n",
            "1859/1875 [============================>.] - ETA: 0s - loss: 0.2344 - acc: 0.9115\n",
            "Epoch 12: val_loss did not improve from 0.32830\n",
            "1875/1875 [==============================] - 7s 3ms/step - loss: 0.2346 - acc: 0.9115 - val_loss: 0.3690 - val_acc: 0.8787\n",
            "Epoch 13/20\n",
            "1861/1875 [============================>.] - ETA: 0s - loss: 0.2266 - acc: 0.9176\n",
            "Epoch 13: val_loss did not improve from 0.32830\n",
            "1875/1875 [==============================] - 6s 3ms/step - loss: 0.2266 - acc: 0.9176 - val_loss: 0.3445 - val_acc: 0.8895\n",
            "Epoch 14/20\n",
            "1874/1875 [============================>.] - ETA: 0s - loss: 0.2194 - acc: 0.9171\n",
            "Epoch 14: val_loss did not improve from 0.32830\n",
            "1875/1875 [==============================] - 7s 3ms/step - loss: 0.2193 - acc: 0.9171 - val_loss: 0.3474 - val_acc: 0.8890\n",
            "Epoch 15/20\n",
            "1869/1875 [============================>.] - ETA: 0s - loss: 0.2077 - acc: 0.9212\n",
            "Epoch 15: val_loss did not improve from 0.32830\n",
            "1875/1875 [==============================] - 7s 4ms/step - loss: 0.2077 - acc: 0.9213 - val_loss: 0.3364 - val_acc: 0.8955\n",
            "Epoch 16/20\n",
            "1870/1875 [============================>.] - ETA: 0s - loss: 0.2071 - acc: 0.9225\n",
            "Epoch 16: val_loss did not improve from 0.32830\n",
            "1875/1875 [==============================] - 6s 3ms/step - loss: 0.2071 - acc: 0.9225 - val_loss: 0.3408 - val_acc: 0.8907\n",
            "Epoch 17/20\n",
            "1863/1875 [============================>.] - ETA: 0s - loss: 0.1986 - acc: 0.9254\n",
            "Epoch 17: val_loss did not improve from 0.32830\n",
            "1875/1875 [==============================] - 6s 3ms/step - loss: 0.1987 - acc: 0.9254 - val_loss: 0.3437 - val_acc: 0.8884\n",
            "Epoch 18/20\n",
            "1861/1875 [============================>.] - ETA: 0s - loss: 0.1951 - acc: 0.9267\n",
            "Epoch 18: val_loss did not improve from 0.32830\n",
            "1875/1875 [==============================] - 7s 4ms/step - loss: 0.1950 - acc: 0.9268 - val_loss: 0.3484 - val_acc: 0.8936\n",
            "Epoch 19/20\n",
            "1865/1875 [============================>.] - ETA: 0s - loss: 0.1878 - acc: 0.9296\n",
            "Epoch 19: val_loss did not improve from 0.32830\n",
            "1875/1875 [==============================] - 6s 3ms/step - loss: 0.1875 - acc: 0.9297 - val_loss: 0.4016 - val_acc: 0.8920\n",
            "Epoch 20/20\n",
            "1869/1875 [============================>.] - ETA: 0s - loss: 0.1822 - acc: 0.9317\n",
            "Epoch 20: val_loss did not improve from 0.32830\n",
            "1875/1875 [==============================] - 6s 3ms/step - loss: 0.1820 - acc: 0.9318 - val_loss: 0.3669 - val_acc: 0.8905\n"
          ]
        }
      ]
    },
    {
      "cell_type": "markdown",
      "metadata": {
        "id": "shzhTOjAninH"
      },
      "source": [
        "## STEP 7. 학습 완료 후 Load Weights (ModelCheckpoint)"
      ]
    },
    {
      "cell_type": "markdown",
      "metadata": {
        "id": "kLqb_6XrMvdq"
      },
      "source": [
        "학습이 완료된 후에는 반드시 `load_weights`를 해주어야 합니다.\n",
        "\n",
        "그렇지 않으면, 열심히 ModelCheckpoint를 만든 의미가 없습니다."
      ]
    },
    {
      "cell_type": "markdown",
      "metadata": {
        "id": "jcXHQ_pNM_zA"
      },
      "source": [
        "[코드]"
      ]
    },
    {
      "cell_type": "code",
      "metadata": {
        "id": "4jO1ucZ9ninH",
        "colab": {
          "base_uri": "https://localhost:8080/"
        },
        "outputId": "6c43662e-401b-4270-9d92-5f887746be85"
      },
      "source": [
        "# checkpoint 를 저장한 파일명을 입력합니다.\n",
        "model.load_weights(checkpoint_path)\n",
        "model.evaluate(x_valid, y_valid)\n",
        "\n"
      ],
      "execution_count": 22,
      "outputs": [
        {
          "output_type": "stream",
          "name": "stdout",
          "text": [
            "313/313 [==============================] - 1s 3ms/step - loss: 0.3283 - acc: 0.8873\n"
          ]
        },
        {
          "output_type": "execute_result",
          "data": {
            "text/plain": [
              "[0.3283005356788635, 0.8873000144958496]"
            ]
          },
          "metadata": {},
          "execution_count": 22
        }
      ]
    },
    {
      "cell_type": "code",
      "source": [
        "plt.figure(figsize=(12, 9))\n",
        "plt.plot(np.arange(1, 21), history.history['loss'])\n",
        "plt.plot(np.arange(1, 21), history.history['val_loss'])\n",
        "plt.title('Loss / Val Loss', fontsize=20)\n",
        "plt.xlabel('Epochs')\n",
        "plt.ylabel('Loss')\n",
        "plt.legend(['loss', 'val_loss'], fontsize=15)\n",
        "plt.show()\n",
        "\n",
        "plt.figure(figsize=(12, 9))\n",
        "plt.plot(np.arange(1, 21), history.history['acc'])\n",
        "plt.plot(np.arange(1, 21), history.history['val_acc'])\n",
        "plt.title('Acc / Val Acc', fontsize=20)\n",
        "plt.xlabel('Epochs')\n",
        "plt.ylabel('Acc')\n",
        "plt.legend(['acc', 'val_acc'], fontsize=15)\n",
        "plt.show()"
      ],
      "metadata": {
        "colab": {
          "base_uri": "https://localhost:8080/",
          "height": 1000
        },
        "id": "OdrpLusSVH8S",
        "outputId": "7a9a4672-245d-48bc-c967-a1a068a499f7"
      },
      "execution_count": 23,
      "outputs": [
        {
          "output_type": "display_data",
          "data": {
            "text/plain": [
              "<Figure size 864x648 with 1 Axes>"
            ],
            "image/png": "[encoded data removed]"
          },
          "metadata": {
            "needs_background": "light"
          }
        },
        {
          "output_type": "display_data",
          "data": {
            "text/plain": [
              "<Figure size 864x648 with 1 Axes>"
            ],
            "image/png": "[encoded data removed]"
          },
          "metadata": {
            "needs_background": "light"
          }
        }
      ]
    },
    {
      "cell_type": "code",
      "source": [
        ""
      ],
      "metadata": {
        "id": "w9f1nI0XVSxV"
      },
      "execution_count": null,
      "outputs": []
    }
  ]
}