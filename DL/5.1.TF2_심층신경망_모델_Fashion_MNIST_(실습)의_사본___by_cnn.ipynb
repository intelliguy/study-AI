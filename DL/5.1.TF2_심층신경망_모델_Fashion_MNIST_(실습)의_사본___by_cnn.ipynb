{
  "nbformat": 4,
  "nbformat_minor": 0,
  "metadata": {
    "accelerator": "GPU",
    "colab": {
      "name": "TF2 심층신경망 모델 - Fashion MNIST (실습)의 사본 _ by cnn",
      "provenance": [],
      "collapsed_sections": []
    },
    "kernelspec": {
      "display_name": "Python 3",
      "language": "python",
      "name": "python3"
    },
    "language_info": {
      "codemirror_mode": {
        "name": "ipython",
        "version": 3
      },
      "file_extension": ".py",
      "mimetype": "text/x-python",
      "name": "python",
      "nbconvert_exporter": "python",
      "pygments_lexer": "ipython3",
      "version": "3.6.6"
    }
  },
  "cells": [
    {
      "cell_type": "markdown",
      "metadata": {
        "id": "vY-Ca0dhGTAk"
      },
      "source": [
        "# TF2 심층신경망 모델 - Fashion MNIST (실습)\n",
        "\n",
        "Fully Connected Layer (Dense)를 활용한 이미지 분류 (Image Classification)"
      ]
    },
    {
      "cell_type": "markdown",
      "metadata": {
        "id": "ww0hxcaSGb0m"
      },
      "source": [
        "## 확인"
      ]
    },
    {
      "cell_type": "markdown",
      "metadata": {
        "id": "FI6oK1X-GdJJ"
      },
      "source": [
        "1. GPU 옵션 켜져 있는지 확인할 것!!! (수정 - 노트설정 - 하드웨어설정 (GPU))"
      ]
    },
    {
      "cell_type": "markdown",
      "metadata": {
        "id": "1yoe-K38GQ4b"
      },
      "source": [
        "## 순서"
      ]
    },
    {
      "cell_type": "markdown",
      "metadata": {
        "id": "Bc6iTV8DGPop"
      },
      "source": [
        "1. **import**: 필요한 모듈 import\n",
        "2. **전처리**: 학습에 필요한 데이터 전처리를 수행합니다.\n",
        "3. **모델링(model)**: 모델을 정의합니다.\n",
        "4. **컴파일(compile)**: 모델을 생성합니다.\n",
        "5. **학습 (fit)**: 모델을 학습시킵니다."
      ]
    },
    {
      "cell_type": "markdown",
      "metadata": {
        "id": "rK6HdzR7nil3"
      },
      "source": [
        "## 문제"
      ]
    },
    {
      "cell_type": "markdown",
      "metadata": {
        "id": "1JDqQLWCnil4"
      },
      "source": [
        "Fashion MNIST 데이터 셋에 대한 분류기 생성\n",
        "테스트는 10 개의 클래스를 분류 할 것으로 예상하고\n",
        "\n",
        "입력 모양은 Fashion MNIST 데이터 세트의 기본 크기 여야합니다.28x28 단색. \n",
        "\n",
        "데이터 크기를 조정하지 마십시오. input_shape는\n",
        "(28,28)을 입력 모양으로 만 사용합니다. "
      ]
    },
    {
      "cell_type": "markdown",
      "metadata": {
        "id": "OAvRmF3_HMIu"
      },
      "source": [
        "------------------------------------"
      ]
    },
    {
      "cell_type": "markdown",
      "metadata": {
        "id": "1dWL4Kn7G4eH"
      },
      "source": [
        "# 실습"
      ]
    },
    {
      "cell_type": "markdown",
      "metadata": {
        "id": "UrUNBY6xHH6m"
      },
      "source": [
        "## STEP 1. import"
      ]
    },
    {
      "cell_type": "code",
      "metadata": {
        "id": "G9M_SARJnil5"
      },
      "source": [
        "import urllib.request\n",
        "import zipfile\n",
        "import numpy as np\n",
        "from IPython.display import Image\n",
        "import matplotlib.pyplot as plt\n",
        "\n",
        "import tensorflow as tf\n",
        "from tensorflow.keras.layers import Conv2D, MaxPooling2D, Flatten, Dropout, Dense\n",
        "from tensorflow.keras.models import Sequential\n",
        "from tensorflow.keras.preprocessing.image import ImageDataGenerator\n",
        "from tensorflow.keras.callbacks import ModelCheckpoint"
      ],
      "execution_count": 49,
      "outputs": []
    },
    {
      "cell_type": "markdown",
      "metadata": {
        "id": "2HGYCJ1Tnil7"
      },
      "source": [
        "## STEP 2. 전처리 (pre-processing)"
      ]
    },
    {
      "cell_type": "markdown",
      "metadata": {
        "id": "Kg0sXFW2nil7"
      },
      "source": [
        "**tf.keras.datasets** 에는 다양한 샘플 데이터를 제공해줍니다."
      ]
    },
    {
      "cell_type": "markdown",
      "metadata": {
        "id": "H43uLfTrHERV"
      },
      "source": [
        "\n",
        "[tf.keras.datasets](https://www.tensorflow.org/api_docs/python/tf/keras/datasets)\n",
        "\n",
        "* **fashion_mnist**: Fashion-MNIST 옷(패션) 데이터 셋\n",
        "\n",
        "* **mnist**: MNIST 손글씨 데이터 셋"
      ]
    },
    {
      "cell_type": "markdown",
      "metadata": {
        "id": "PPpM4Xy5HsoH"
      },
      "source": [
        "데이터 셋을 **로드** 합니다. (mnist)"
      ]
    },
    {
      "cell_type": "markdown",
      "metadata": {
        "id": "vV5IsHOqMLnl"
      },
      "source": [
        "[코드]"
      ]
    },
    {
      "cell_type": "code",
      "metadata": {
        "id": "nWsdj7Dgnil8"
      },
      "source": [
        "fashion_mnist = tf.keras.datasets.fashion_mnist"
      ],
      "execution_count": 25,
      "outputs": []
    },
    {
      "cell_type": "markdown",
      "metadata": {
        "id": "H05dHM_HoSYO"
      },
      "source": [
        "데이터 셋 로드: \n",
        "* **mnist.load_data()**\n",
        "* **fashion_mnist.load_data()**"
      ]
    },
    {
      "cell_type": "markdown",
      "metadata": {
        "id": "yvRH71ADI_dw"
      },
      "source": [
        "데이터 셋을 불러와, train / validation 세트를 구성합니다."
      ]
    },
    {
      "cell_type": "markdown",
      "metadata": {
        "id": "1kv3nb02MJfj"
      },
      "source": [
        "[코드] "
      ]
    },
    {
      "cell_type": "code",
      "metadata": {
        "id": "JWSZUSoWnil_"
      },
      "source": [
        "(x_train, y_train), (x_valid, y_valid) = fashion_mnist.load_data()"
      ],
      "execution_count": 60,
      "outputs": []
    },
    {
      "cell_type": "markdown",
      "metadata": {
        "id": "uUCrDWFcH5O3"
      },
      "source": [
        "정상적으로 로드되었는지, **확인**합니다. "
      ]
    },
    {
      "cell_type": "code",
      "metadata": {
        "id": "tQINRel7nimB",
        "colab": {
          "base_uri": "https://localhost:8080/"
        },
        "outputId": "c031ba58-38a7-4ba4-ba8e-d3c59b83a9ed"
      },
      "source": [
        "x_train.shape, x_valid.shape"
      ],
      "execution_count": 61,
      "outputs": [
        {
          "output_type": "execute_result",
          "data": {
            "text/plain": [
              "((60000, 28, 28), (10000, 28, 28))"
            ]
          },
          "metadata": {},
          "execution_count": 61
        }
      ]
    },
    {
      "cell_type": "code",
      "metadata": {
        "id": "xU_nKXIuH8O-",
        "colab": {
          "base_uri": "https://localhost:8080/"
        },
        "outputId": "a36ff728-8f12-4736-add0-2286464e0420"
      },
      "source": [
        "y_train.shape, y_valid.shape"
      ],
      "execution_count": 62,
      "outputs": [
        {
          "output_type": "execute_result",
          "data": {
            "text/plain": [
              "((60000,), (10000,))"
            ]
          },
          "metadata": {},
          "execution_count": 62
        }
      ]
    },
    {
      "cell_type": "markdown",
      "metadata": {
        "id": "SpCEhf6njRqs"
      },
      "source": [
        "**데이터셋 시각화**"
      ]
    },
    {
      "cell_type": "code",
      "metadata": {
        "id": "oioceOg4jVhv",
        "outputId": "26ee03f5-21dc-4ccf-99d5-8ebaa7c5ad8f",
        "colab": {
          "base_uri": "https://localhost:8080/",
          "height": 688
        }
      },
      "source": [
        "fig, axes = plt.subplots(2, 5)\n",
        "fig.set_size_inches(10, 5)\n",
        "\n",
        "for i in range(10):\n",
        "    axes[i//5, i%5].imshow(x_train[i], cmap='gray')\n",
        "    axes[i//5, i%5].set_title('No. %02d' % y_train[i], fontsize=18)\n",
        "    plt.setp( axes[i//5, i%5].get_xticklabels(), visible=False)\n",
        "    plt.setp( axes[i//5, i%5].get_yticklabels(), visible=False)\n",
        "    axes[i//5, i%5].axis('off')\n",
        "\n",
        "plt.tight_layout()\n",
        "plt.show()"
      ],
      "execution_count": 65,
      "outputs": [
        {
          "output_type": "error",
          "ename": "TypeError",
          "evalue": "ignored",
          "traceback": [
            "\u001b[0;31m---------------------------------------------------------------------------\u001b[0m",
            "\u001b[0;31mTypeError\u001b[0m                                 Traceback (most recent call last)",
            "\u001b[0;32m<ipython-input-65-af53dfdcfe75>\u001b[0m in \u001b[0;36m<module>\u001b[0;34m\u001b[0m\n\u001b[1;32m      3\u001b[0m \u001b[0;34m\u001b[0m\u001b[0m\n\u001b[1;32m      4\u001b[0m \u001b[0;32mfor\u001b[0m \u001b[0mi\u001b[0m \u001b[0;32min\u001b[0m \u001b[0mrange\u001b[0m\u001b[0;34m(\u001b[0m\u001b[0;36m10\u001b[0m\u001b[0;34m)\u001b[0m\u001b[0;34m:\u001b[0m\u001b[0;34m\u001b[0m\u001b[0;34m\u001b[0m\u001b[0m\n\u001b[0;32m----> 5\u001b[0;31m     \u001b[0maxes\u001b[0m\u001b[0;34m[\u001b[0m\u001b[0mi\u001b[0m\u001b[0;34m//\u001b[0m\u001b[0;36m5\u001b[0m\u001b[0;34m,\u001b[0m \u001b[0mi\u001b[0m\u001b[0;34m%\u001b[0m\u001b[0;36m5\u001b[0m\u001b[0;34m]\u001b[0m\u001b[0;34m.\u001b[0m\u001b[0mimshow\u001b[0m\u001b[0;34m(\u001b[0m\u001b[0mx_train\u001b[0m\u001b[0;34m[\u001b[0m\u001b[0mi\u001b[0m\u001b[0;34m]\u001b[0m\u001b[0;34m,\u001b[0m \u001b[0mcmap\u001b[0m\u001b[0;34m=\u001b[0m\u001b[0;34m'gray'\u001b[0m\u001b[0;34m)\u001b[0m\u001b[0;34m\u001b[0m\u001b[0;34m\u001b[0m\u001b[0m\n\u001b[0m\u001b[1;32m      6\u001b[0m     \u001b[0maxes\u001b[0m\u001b[0;34m[\u001b[0m\u001b[0mi\u001b[0m\u001b[0;34m//\u001b[0m\u001b[0;36m5\u001b[0m\u001b[0;34m,\u001b[0m \u001b[0mi\u001b[0m\u001b[0;34m%\u001b[0m\u001b[0;36m5\u001b[0m\u001b[0;34m]\u001b[0m\u001b[0;34m.\u001b[0m\u001b[0mset_title\u001b[0m\u001b[0;34m(\u001b[0m\u001b[0;34m'No. %02d'\u001b[0m \u001b[0;34m%\u001b[0m \u001b[0my_train\u001b[0m\u001b[0;34m[\u001b[0m\u001b[0mi\u001b[0m\u001b[0;34m]\u001b[0m\u001b[0;34m,\u001b[0m \u001b[0mfontsize\u001b[0m\u001b[0;34m=\u001b[0m\u001b[0;36m18\u001b[0m\u001b[0;34m)\u001b[0m\u001b[0;34m\u001b[0m\u001b[0;34m\u001b[0m\u001b[0m\n\u001b[1;32m      7\u001b[0m     \u001b[0mplt\u001b[0m\u001b[0;34m.\u001b[0m\u001b[0msetp\u001b[0m\u001b[0;34m(\u001b[0m \u001b[0maxes\u001b[0m\u001b[0;34m[\u001b[0m\u001b[0mi\u001b[0m\u001b[0;34m//\u001b[0m\u001b[0;36m5\u001b[0m\u001b[0;34m,\u001b[0m \u001b[0mi\u001b[0m\u001b[0;34m%\u001b[0m\u001b[0;36m5\u001b[0m\u001b[0;34m]\u001b[0m\u001b[0;34m.\u001b[0m\u001b[0mget_xticklabels\u001b[0m\u001b[0;34m(\u001b[0m\u001b[0;34m)\u001b[0m\u001b[0;34m,\u001b[0m \u001b[0mvisible\u001b[0m\u001b[0;34m=\u001b[0m\u001b[0;32mFalse\u001b[0m\u001b[0;34m)\u001b[0m\u001b[0;34m\u001b[0m\u001b[0;34m\u001b[0m\u001b[0m\n",
            "\u001b[0;32m/usr/local/lib/python3.7/dist-packages/matplotlib/__init__.py\u001b[0m in \u001b[0;36minner\u001b[0;34m(ax, data, *args, **kwargs)\u001b[0m\n\u001b[1;32m   1563\u001b[0m     \u001b[0;32mdef\u001b[0m \u001b[0minner\u001b[0m\u001b[0;34m(\u001b[0m\u001b[0max\u001b[0m\u001b[0;34m,\u001b[0m \u001b[0;34m*\u001b[0m\u001b[0margs\u001b[0m\u001b[0;34m,\u001b[0m \u001b[0mdata\u001b[0m\u001b[0;34m=\u001b[0m\u001b[0;32mNone\u001b[0m\u001b[0;34m,\u001b[0m \u001b[0;34m**\u001b[0m\u001b[0mkwargs\u001b[0m\u001b[0;34m)\u001b[0m\u001b[0;34m:\u001b[0m\u001b[0;34m\u001b[0m\u001b[0;34m\u001b[0m\u001b[0m\n\u001b[1;32m   1564\u001b[0m         \u001b[0;32mif\u001b[0m \u001b[0mdata\u001b[0m \u001b[0;32mis\u001b[0m \u001b[0;32mNone\u001b[0m\u001b[0;34m:\u001b[0m\u001b[0;34m\u001b[0m\u001b[0;34m\u001b[0m\u001b[0m\n\u001b[0;32m-> 1565\u001b[0;31m             \u001b[0;32mreturn\u001b[0m \u001b[0mfunc\u001b[0m\u001b[0;34m(\u001b[0m\u001b[0max\u001b[0m\u001b[0;34m,\u001b[0m \u001b[0;34m*\u001b[0m\u001b[0mmap\u001b[0m\u001b[0;34m(\u001b[0m\u001b[0msanitize_sequence\u001b[0m\u001b[0;34m,\u001b[0m \u001b[0margs\u001b[0m\u001b[0;34m)\u001b[0m\u001b[0;34m,\u001b[0m \u001b[0;34m**\u001b[0m\u001b[0mkwargs\u001b[0m\u001b[0;34m)\u001b[0m\u001b[0;34m\u001b[0m\u001b[0;34m\u001b[0m\u001b[0m\n\u001b[0m\u001b[1;32m   1566\u001b[0m \u001b[0;34m\u001b[0m\u001b[0m\n\u001b[1;32m   1567\u001b[0m         \u001b[0mbound\u001b[0m \u001b[0;34m=\u001b[0m \u001b[0mnew_sig\u001b[0m\u001b[0;34m.\u001b[0m\u001b[0mbind\u001b[0m\u001b[0;34m(\u001b[0m\u001b[0max\u001b[0m\u001b[0;34m,\u001b[0m \u001b[0;34m*\u001b[0m\u001b[0margs\u001b[0m\u001b[0;34m,\u001b[0m \u001b[0;34m**\u001b[0m\u001b[0mkwargs\u001b[0m\u001b[0;34m)\u001b[0m\u001b[0;34m\u001b[0m\u001b[0;34m\u001b[0m\u001b[0m\n",
            "\u001b[0;32m/usr/local/lib/python3.7/dist-packages/matplotlib/cbook/deprecation.py\u001b[0m in \u001b[0;36mwrapper\u001b[0;34m(*args, **kwargs)\u001b[0m\n\u001b[1;32m    356\u001b[0m                 \u001b[0;34mf\"%(removal)s.  If any parameter follows {name!r}, they \"\u001b[0m\u001b[0;34m\u001b[0m\u001b[0;34m\u001b[0m\u001b[0m\n\u001b[1;32m    357\u001b[0m                 f\"should be pass as keyword, not positionally.\")\n\u001b[0;32m--> 358\u001b[0;31m         \u001b[0;32mreturn\u001b[0m \u001b[0mfunc\u001b[0m\u001b[0;34m(\u001b[0m\u001b[0;34m*\u001b[0m\u001b[0margs\u001b[0m\u001b[0;34m,\u001b[0m \u001b[0;34m**\u001b[0m\u001b[0mkwargs\u001b[0m\u001b[0;34m)\u001b[0m\u001b[0;34m\u001b[0m\u001b[0;34m\u001b[0m\u001b[0m\n\u001b[0m\u001b[1;32m    359\u001b[0m \u001b[0;34m\u001b[0m\u001b[0m\n\u001b[1;32m    360\u001b[0m     \u001b[0;32mreturn\u001b[0m \u001b[0mwrapper\u001b[0m\u001b[0;34m\u001b[0m\u001b[0;34m\u001b[0m\u001b[0m\n",
            "\u001b[0;32m/usr/local/lib/python3.7/dist-packages/matplotlib/cbook/deprecation.py\u001b[0m in \u001b[0;36mwrapper\u001b[0;34m(*args, **kwargs)\u001b[0m\n\u001b[1;32m    356\u001b[0m                 \u001b[0;34mf\"%(removal)s.  If any parameter follows {name!r}, they \"\u001b[0m\u001b[0;34m\u001b[0m\u001b[0;34m\u001b[0m\u001b[0m\n\u001b[1;32m    357\u001b[0m                 f\"should be pass as keyword, not positionally.\")\n\u001b[0;32m--> 358\u001b[0;31m         \u001b[0;32mreturn\u001b[0m \u001b[0mfunc\u001b[0m\u001b[0;34m(\u001b[0m\u001b[0;34m*\u001b[0m\u001b[0margs\u001b[0m\u001b[0;34m,\u001b[0m \u001b[0;34m**\u001b[0m\u001b[0mkwargs\u001b[0m\u001b[0;34m)\u001b[0m\u001b[0;34m\u001b[0m\u001b[0;34m\u001b[0m\u001b[0m\n\u001b[0m\u001b[1;32m    359\u001b[0m \u001b[0;34m\u001b[0m\u001b[0m\n\u001b[1;32m    360\u001b[0m     \u001b[0;32mreturn\u001b[0m \u001b[0mwrapper\u001b[0m\u001b[0;34m\u001b[0m\u001b[0;34m\u001b[0m\u001b[0m\n",
            "\u001b[0;32m/usr/local/lib/python3.7/dist-packages/matplotlib/axes/_axes.py\u001b[0m in \u001b[0;36mimshow\u001b[0;34m(self, X, cmap, norm, aspect, interpolation, alpha, vmin, vmax, origin, extent, shape, filternorm, filterrad, imlim, resample, url, **kwargs)\u001b[0m\n\u001b[1;32m   5624\u001b[0m                               resample=resample, **kwargs)\n\u001b[1;32m   5625\u001b[0m \u001b[0;34m\u001b[0m\u001b[0m\n\u001b[0;32m-> 5626\u001b[0;31m         \u001b[0mim\u001b[0m\u001b[0;34m.\u001b[0m\u001b[0mset_data\u001b[0m\u001b[0;34m(\u001b[0m\u001b[0mX\u001b[0m\u001b[0;34m)\u001b[0m\u001b[0;34m\u001b[0m\u001b[0;34m\u001b[0m\u001b[0m\n\u001b[0m\u001b[1;32m   5627\u001b[0m         \u001b[0mim\u001b[0m\u001b[0;34m.\u001b[0m\u001b[0mset_alpha\u001b[0m\u001b[0;34m(\u001b[0m\u001b[0malpha\u001b[0m\u001b[0;34m)\u001b[0m\u001b[0;34m\u001b[0m\u001b[0;34m\u001b[0m\u001b[0m\n\u001b[1;32m   5628\u001b[0m         \u001b[0;32mif\u001b[0m \u001b[0mim\u001b[0m\u001b[0;34m.\u001b[0m\u001b[0mget_clip_path\u001b[0m\u001b[0;34m(\u001b[0m\u001b[0;34m)\u001b[0m \u001b[0;32mis\u001b[0m \u001b[0;32mNone\u001b[0m\u001b[0;34m:\u001b[0m\u001b[0;34m\u001b[0m\u001b[0;34m\u001b[0m\u001b[0m\n",
            "\u001b[0;32m/usr/local/lib/python3.7/dist-packages/matplotlib/image.py\u001b[0m in \u001b[0;36mset_data\u001b[0;34m(self, A)\u001b[0m\n\u001b[1;32m    697\u001b[0m                 or self._A.ndim == 3 and self._A.shape[-1] in [3, 4]):\n\u001b[1;32m    698\u001b[0m             raise TypeError(\"Invalid shape {} for image data\"\n\u001b[0;32m--> 699\u001b[0;31m                             .format(self._A.shape))\n\u001b[0m\u001b[1;32m    700\u001b[0m \u001b[0;34m\u001b[0m\u001b[0m\n\u001b[1;32m    701\u001b[0m         \u001b[0;32mif\u001b[0m \u001b[0mself\u001b[0m\u001b[0;34m.\u001b[0m\u001b[0m_A\u001b[0m\u001b[0;34m.\u001b[0m\u001b[0mndim\u001b[0m \u001b[0;34m==\u001b[0m \u001b[0;36m3\u001b[0m\u001b[0;34m:\u001b[0m\u001b[0;34m\u001b[0m\u001b[0;34m\u001b[0m\u001b[0m\n",
            "\u001b[0;31mTypeError\u001b[0m: Invalid shape (28, 28, 1) for image data"
          ]
        },
        {
          "output_type": "display_data",
          "data": {
            "text/plain": [
              "<Figure size 720x360 with 10 Axes>"
            ],
            "image/png": "[encoded data removed]"
          },
          "metadata": {
            "needs_background": "light"
          }
        }
      ]
    },
    {
      "cell_type": "markdown",
      "metadata": {
        "id": "JwOpcgkRny5W"
      },
      "source": [
        "**이미지 정규화 (Normalization)**\n",
        "\n",
        "* 모든 이미지 픽셀(pixel)값들을 0~1 사이의 값으로 정규화 해 줍니다.\n",
        "* x_train, x_valid 에 대해서만 정규화합니다."
      ]
    },
    {
      "cell_type": "markdown",
      "metadata": {
        "id": "BPF65YnpO7-8"
      },
      "source": [
        "정규화(Normalization) 전의 최소값(min), 최대값(max)을 확인합니다."
      ]
    },
    {
      "cell_type": "code",
      "metadata": {
        "id": "psrsKNe7PFrn",
        "colab": {
          "base_uri": "https://localhost:8080/"
        },
        "outputId": "5d5d6a94-b345-4d51-f99a-b51183cc269f"
      },
      "source": [
        "x_train.min(), x_train.max()"
      ],
      "execution_count": 31,
      "outputs": [
        {
          "output_type": "execute_result",
          "data": {
            "text/plain": [
              "(0, 255)"
            ]
          },
          "metadata": {},
          "execution_count": 31
        }
      ]
    },
    {
      "cell_type": "markdown",
      "metadata": {
        "id": "fYMtbN69MPkm"
      },
      "source": [
        "[코드]"
      ]
    },
    {
      "cell_type": "code",
      "metadata": {
        "id": "lFArqzZCntDh"
      },
      "source": [
        "x_train = x_train / 255\n",
        "x_valid = x_valid / 255\n",
        "\n",
        "x_train = x_train.reshape(-1,28,28,1)\n",
        "x_valid = x_valid.reshape(-1,28,28,1)"
      ],
      "execution_count": 64,
      "outputs": []
    },
    {
      "cell_type": "markdown",
      "metadata": {
        "id": "dZK1P_g4PNCy"
      },
      "source": [
        "정규화 후 최소값/최대값 확인"
      ]
    },
    {
      "cell_type": "code",
      "metadata": {
        "id": "FWJTNdezPQ2h",
        "colab": {
          "base_uri": "https://localhost:8080/"
        },
        "outputId": "23fd4644-001d-4b1e-9e92-7fd4545a815f"
      },
      "source": [
        "x_train.min(), x_train.max()"
      ],
      "execution_count": 33,
      "outputs": [
        {
          "output_type": "execute_result",
          "data": {
            "text/plain": [
              "(0.0, 1.0)"
            ]
          },
          "metadata": {},
          "execution_count": 33
        }
      ]
    },
    {
      "cell_type": "code",
      "source": [
        "x_train.shape, x_valid.shape, y_train.shape, y_valid.shape"
      ],
      "metadata": {
        "colab": {
          "base_uri": "https://localhost:8080/"
        },
        "id": "xgeevB-ShYER",
        "outputId": "023e38f7-3256-4f68-bd12-0936bcaaac4f"
      },
      "execution_count": 66,
      "outputs": [
        {
          "output_type": "execute_result",
          "data": {
            "text/plain": [
              "((60000, 28, 28, 1), (10000, 28, 28, 1), (60000,), (10000,))"
            ]
          },
          "metadata": {},
          "execution_count": 66
        }
      ]
    },
    {
      "cell_type": "markdown",
      "metadata": {
        "id": "qus44o00Jo77"
      },
      "source": [
        "## STEP 3. 모델 정의 (Sequential)"
      ]
    },
    {
      "cell_type": "markdown",
      "metadata": {
        "id": "azRvYVbQnim5"
      },
      "source": [
        "이제 Modeling을 할 차례입니다.\n",
        "\n",
        "`Sequential` 모델 안에서 층을 깊게 쌓아 올려 주면 됩니다.\n",
        "\n",
        "1. Dense 레이어는 2D 형태의 데이터를 받아들이지 못합니다. Flatten 레이어로 2D -> 1D로 변환해주세요\n",
        "2. 깊은 출력층과 더 많은 Layer를 쌓습니다.\n",
        "3. Dense Layer에 `activation='relu'`를 적용합니다.\n",
        "4. 분류(Classification)의 마지막 층의 출력 숫자는 분류하고자 하는 클래스 갯수와 **같아야** 합니다.\n"
      ]
    },
    {
      "cell_type": "markdown",
      "metadata": {
        "id": "uPXabQxgMGCp"
      },
      "source": [
        "[코드]"
      ]
    },
    {
      "cell_type": "code",
      "metadata": {
        "id": "PCDinGHSnim5"
      },
      "source": [
        "model = Sequential([\n",
        "    # Conv2D, MaxPooling2D 조합으로 층을 쌓습니다. 첫번째 입력층의 input_shape은 (28,28,1)으로 지정합니다.\n",
        "    Conv2D(64, (3, 3), activation='relu', input_shape=(28, 28, 1)),\n",
        "    MaxPooling2D(2, 2), \n",
        "    Conv2D(128, (3, 3), activation='relu'),\n",
        "    MaxPooling2D(2, 2), \n",
        "    # 2D -> 1D로 변환을 위하여 Flatten 합니다.\n",
        "    Flatten(), \n",
        "    # 과적합 방지를 위하여 Dropout을 적용합니다.\n",
        "    Dropout(0.3),\n",
        "    Dense(1024, activation='relu'),\n",
        "    # 과적합 방지를 위하여 Dropout을 적용합니다.\n",
        "    Dropout(0.3),\n",
        "    Dense(512, activation='relu'),\n",
        "    # Classification을 위한 Softmax \n",
        "    # 출력층의 갯수는 클래스의 갯수와 동일하게 맞춰줍니다 (3개), activation도 잊지마세요!\n",
        "    Dense(10, activation='softmax'),\n",
        "])"
      ],
      "execution_count": 67,
      "outputs": []
    },
    {
      "cell_type": "markdown",
      "metadata": {
        "id": "3aR788REKyB3"
      },
      "source": [
        "모델에 대한 **요약**을 확인합니다."
      ]
    },
    {
      "cell_type": "code",
      "metadata": {
        "id": "5u4rp7tB-4A1",
        "colab": {
          "base_uri": "https://localhost:8080/"
        },
        "outputId": "6132f475-7feb-440e-a39b-cc9f15ce42ed"
      },
      "source": [
        "model.summary()"
      ],
      "execution_count": 68,
      "outputs": [
        {
          "output_type": "stream",
          "name": "stdout",
          "text": [
            "Model: \"sequential_5\"\n",
            "_________________________________________________________________\n",
            " Layer (type)                Output Shape              Param #   \n",
            "=================================================================\n",
            " conv2d_12 (Conv2D)          (None, 26, 26, 64)        640       \n",
            "                                                                 \n",
            " max_pooling2d_12 (MaxPoolin  (None, 13, 13, 64)       0         \n",
            " g2D)                                                            \n",
            "                                                                 \n",
            " conv2d_13 (Conv2D)          (None, 11, 11, 128)       73856     \n",
            "                                                                 \n",
            " max_pooling2d_13 (MaxPoolin  (None, 5, 5, 128)        0         \n",
            " g2D)                                                            \n",
            "                                                                 \n",
            " flatten_5 (Flatten)         (None, 3200)              0         \n",
            "                                                                 \n",
            " dropout_6 (Dropout)         (None, 3200)              0         \n",
            "                                                                 \n",
            " dense_12 (Dense)            (None, 1024)              3277824   \n",
            "                                                                 \n",
            " dropout_7 (Dropout)         (None, 1024)              0         \n",
            "                                                                 \n",
            " dense_13 (Dense)            (None, 512)               524800    \n",
            "                                                                 \n",
            " dense_14 (Dense)            (None, 10)                5130      \n",
            "                                                                 \n",
            "=================================================================\n",
            "Total params: 3,882,250\n",
            "Trainable params: 3,882,250\n",
            "Non-trainable params: 0\n",
            "_________________________________________________________________\n"
          ]
        }
      ]
    },
    {
      "cell_type": "markdown",
      "metadata": {
        "id": "wnmQV-fDnim8"
      },
      "source": [
        "## STEP 4. 컴파일 (compile)"
      ]
    },
    {
      "cell_type": "markdown",
      "metadata": {
        "id": "pHQ1abHXK8e9"
      },
      "source": [
        "1. `optimizer`는 가장 최적화가 잘되는 알고리즘인 'adam'을 사용합니다.\n",
        "2. `loss`는 무엇을 지정하면 좋을까요? (`categorical_crossentropy` / `sparse_categorical_crossentropy`)\n",
        "3. `metrics`를 'acc' 혹은 'accuracy'로 지정하면, 학습시 정확도를 모니터링 할 수 있습니다."
      ]
    },
    {
      "cell_type": "markdown",
      "metadata": {
        "id": "J2cOSOycMReV"
      },
      "source": [
        "[코드]"
      ]
    },
    {
      "cell_type": "code",
      "metadata": {
        "id": "QCLw6RMZnim-"
      },
      "source": [
        "model.compile(optimizer='adam', loss='sparse_categorical_crossentropy', metrics=['acc'])"
      ],
      "execution_count": 69,
      "outputs": []
    },
    {
      "cell_type": "markdown",
      "metadata": {
        "id": "NyLUPgGCninB"
      },
      "source": [
        "## STEP 5. ModelCheckpoint"
      ]
    },
    {
      "cell_type": "markdown",
      "metadata": {
        "id": "46Oi04ZMLtEB"
      },
      "source": [
        "`val_loss` 기준으로 epoch 마다 최적의 모델을 저장하기 위하여, ModelCheckpoint를 만듭니다.\n",
        "* `checkpoint_path`는 모델이 저장될 파일 명을 설정합니다.\n",
        "* `ModelCheckpoint`을 선언하고, 적절한 옵션 값을 지정합니다."
      ]
    },
    {
      "cell_type": "markdown",
      "metadata": {
        "id": "r_rJ4iAdMSc8"
      },
      "source": [
        "[코드]"
      ]
    },
    {
      "cell_type": "code",
      "metadata": {
        "id": "qJwGq3PoninB"
      },
      "source": [
        "checkpoint_path = \"lab_cp.ckpt\"\n",
        "checkpoint = ModelCheckpoint(filepath=checkpoint_path, \n",
        "                             save_weights_only=True, \n",
        "                             save_best_only=True, \n",
        "                             monitor='val_loss', \n",
        "                             verbose=1)"
      ],
      "execution_count": 70,
      "outputs": []
    },
    {
      "cell_type": "markdown",
      "metadata": {
        "id": "v3mjb5EAninE"
      },
      "source": [
        "## STEP 6. 학습 (fit)"
      ]
    },
    {
      "cell_type": "markdown",
      "metadata": {
        "id": "3-X6hK_DMYZH"
      },
      "source": [
        "1. `validation_data`를 반드시 지정합니다.\n",
        "2. `epochs`을 적절하게 지정합니다.\n",
        "3. `callbacks`에 바로 위에서 만든 checkpoint를 지정합니다."
      ]
    },
    {
      "cell_type": "markdown",
      "metadata": {
        "id": "7ic2FoiBMTgp"
      },
      "source": [
        "[코드]"
      ]
    },
    {
      "cell_type": "code",
      "metadata": {
        "id": "2uHXDA_vninF",
        "colab": {
          "base_uri": "https://localhost:8080/"
        },
        "outputId": "32b8ec4e-8577-43a1-b3b5-7fc337dd3851"
      },
      "source": [
        "history = model.fit(x_train, y_train,\n",
        "                    validation_data=(x_valid, y_valid),\n",
        "                    epochs=20,\n",
        "                    callbacks=[checkpoint],\n",
        "                   )"
      ],
      "execution_count": 71,
      "outputs": [
        {
          "output_type": "stream",
          "name": "stdout",
          "text": [
            "Epoch 1/20\n",
            "1863/1875 [============================>.] - ETA: 0s - loss: 0.4149 - acc: 0.8471\n",
            "Epoch 1: val_loss improved from inf to 0.33243, saving model to lab_cp.ckpt\n",
            "1875/1875 [==============================] - 8s 4ms/step - loss: 0.4145 - acc: 0.8473 - val_loss: 0.3324 - val_acc: 0.8781\n",
            "Epoch 2/20\n",
            "1870/1875 [============================>.] - ETA: 0s - loss: 0.2781 - acc: 0.8961\n",
            "Epoch 2: val_loss improved from 0.33243 to 0.29397, saving model to lab_cp.ckpt\n",
            "1875/1875 [==============================] - 8s 4ms/step - loss: 0.2784 - acc: 0.8961 - val_loss: 0.2940 - val_acc: 0.8894\n",
            "Epoch 3/20\n",
            "1867/1875 [============================>.] - ETA: 0s - loss: 0.2347 - acc: 0.9120\n",
            "Epoch 3: val_loss improved from 0.29397 to 0.27181, saving model to lab_cp.ckpt\n",
            "1875/1875 [==============================] - 8s 5ms/step - loss: 0.2348 - acc: 0.9118 - val_loss: 0.2718 - val_acc: 0.8991\n",
            "Epoch 4/20\n",
            "1871/1875 [============================>.] - ETA: 0s - loss: 0.2044 - acc: 0.9231\n",
            "Epoch 4: val_loss did not improve from 0.27181\n",
            "1875/1875 [==============================] - 8s 4ms/step - loss: 0.2044 - acc: 0.9231 - val_loss: 0.2795 - val_acc: 0.9016\n",
            "Epoch 5/20\n",
            "1868/1875 [============================>.] - ETA: 0s - loss: 0.1782 - acc: 0.9339\n",
            "Epoch 5: val_loss improved from 0.27181 to 0.25870, saving model to lab_cp.ckpt\n",
            "1875/1875 [==============================] - 10s 5ms/step - loss: 0.1781 - acc: 0.9339 - val_loss: 0.2587 - val_acc: 0.9076\n",
            "Epoch 6/20\n",
            "1867/1875 [============================>.] - ETA: 0s - loss: 0.1540 - acc: 0.9415\n",
            "Epoch 6: val_loss did not improve from 0.25870\n",
            "1875/1875 [==============================] - 8s 4ms/step - loss: 0.1540 - acc: 0.9415 - val_loss: 0.2730 - val_acc: 0.9075\n",
            "Epoch 7/20\n",
            "1872/1875 [============================>.] - ETA: 0s - loss: 0.1353 - acc: 0.9480\n",
            "Epoch 7: val_loss did not improve from 0.25870\n",
            "1875/1875 [==============================] - 10s 5ms/step - loss: 0.1352 - acc: 0.9480 - val_loss: 0.3083 - val_acc: 0.9105\n",
            "Epoch 8/20\n",
            "1865/1875 [============================>.] - ETA: 0s - loss: 0.1187 - acc: 0.9546\n",
            "Epoch 8: val_loss did not improve from 0.25870\n",
            "1875/1875 [==============================] - 8s 4ms/step - loss: 0.1187 - acc: 0.9545 - val_loss: 0.3014 - val_acc: 0.9136\n",
            "Epoch 9/20\n",
            "1872/1875 [============================>.] - ETA: 0s - loss: 0.1079 - acc: 0.9587\n",
            "Epoch 9: val_loss did not improve from 0.25870\n",
            "1875/1875 [==============================] - 8s 4ms/step - loss: 0.1079 - acc: 0.9587 - val_loss: 0.3216 - val_acc: 0.9159\n",
            "Epoch 10/20\n",
            "1872/1875 [============================>.] - ETA: 0s - loss: 0.0951 - acc: 0.9635\n",
            "Epoch 10: val_loss did not improve from 0.25870\n",
            "1875/1875 [==============================] - 8s 4ms/step - loss: 0.0950 - acc: 0.9635 - val_loss: 0.3297 - val_acc: 0.9164\n",
            "Epoch 11/20\n",
            "1874/1875 [============================>.] - ETA: 0s - loss: 0.0867 - acc: 0.9670\n",
            "Epoch 11: val_loss did not improve from 0.25870\n",
            "1875/1875 [==============================] - 8s 4ms/step - loss: 0.0867 - acc: 0.9670 - val_loss: 0.3907 - val_acc: 0.9153\n",
            "Epoch 12/20\n",
            "1871/1875 [============================>.] - ETA: 0s - loss: 0.0814 - acc: 0.9695\n",
            "Epoch 12: val_loss did not improve from 0.25870\n",
            "1875/1875 [==============================] - 8s 4ms/step - loss: 0.0814 - acc: 0.9695 - val_loss: 0.3599 - val_acc: 0.9148\n",
            "Epoch 13/20\n",
            "1868/1875 [============================>.] - ETA: 0s - loss: 0.0709 - acc: 0.9737\n",
            "Epoch 13: val_loss did not improve from 0.25870\n",
            "1875/1875 [==============================] - 8s 4ms/step - loss: 0.0711 - acc: 0.9736 - val_loss: 0.3851 - val_acc: 0.9197\n",
            "Epoch 14/20\n",
            "1867/1875 [============================>.] - ETA: 0s - loss: 0.0677 - acc: 0.9747\n",
            "Epoch 14: val_loss did not improve from 0.25870\n",
            "1875/1875 [==============================] - 8s 4ms/step - loss: 0.0676 - acc: 0.9747 - val_loss: 0.4106 - val_acc: 0.9131\n",
            "Epoch 15/20\n",
            "1863/1875 [============================>.] - ETA: 0s - loss: 0.0629 - acc: 0.9777\n",
            "Epoch 15: val_loss did not improve from 0.25870\n",
            "1875/1875 [==============================] - 8s 4ms/step - loss: 0.0630 - acc: 0.9776 - val_loss: 0.3992 - val_acc: 0.9155\n",
            "Epoch 16/20\n",
            "1866/1875 [============================>.] - ETA: 0s - loss: 0.0559 - acc: 0.9793\n",
            "Epoch 16: val_loss did not improve from 0.25870\n",
            "1875/1875 [==============================] - 8s 4ms/step - loss: 0.0560 - acc: 0.9793 - val_loss: 0.4977 - val_acc: 0.9149\n",
            "Epoch 17/20\n",
            "1873/1875 [============================>.] - ETA: 0s - loss: 0.0553 - acc: 0.9802\n",
            "Epoch 17: val_loss did not improve from 0.25870\n",
            "1875/1875 [==============================] - 9s 5ms/step - loss: 0.0553 - acc: 0.9802 - val_loss: 0.4745 - val_acc: 0.9155\n",
            "Epoch 18/20\n",
            "1868/1875 [============================>.] - ETA: 0s - loss: 0.0548 - acc: 0.9808\n",
            "Epoch 18: val_loss did not improve from 0.25870\n",
            "1875/1875 [==============================] - 8s 4ms/step - loss: 0.0549 - acc: 0.9808 - val_loss: 0.4740 - val_acc: 0.9125\n",
            "Epoch 19/20\n",
            "1863/1875 [============================>.] - ETA: 0s - loss: 0.0479 - acc: 0.9829\n",
            "Epoch 19: val_loss did not improve from 0.25870\n",
            "1875/1875 [==============================] - 8s 4ms/step - loss: 0.0478 - acc: 0.9829 - val_loss: 0.5400 - val_acc: 0.9144\n",
            "Epoch 20/20\n",
            "1868/1875 [============================>.] - ETA: 0s - loss: 0.0461 - acc: 0.9841\n",
            "Epoch 20: val_loss did not improve from 0.25870\n",
            "1875/1875 [==============================] - 8s 4ms/step - loss: 0.0461 - acc: 0.9841 - val_loss: 0.5038 - val_acc: 0.9153\n"
          ]
        }
      ]
    },
    {
      "cell_type": "markdown",
      "metadata": {
        "id": "shzhTOjAninH"
      },
      "source": [
        "## STEP 7. 학습 완료 후 Load Weights (ModelCheckpoint)"
      ]
    },
    {
      "cell_type": "markdown",
      "metadata": {
        "id": "kLqb_6XrMvdq"
      },
      "source": [
        "학습이 완료된 후에는 반드시 `load_weights`를 해주어야 합니다.\n",
        "\n",
        "그렇지 않으면, 열심히 ModelCheckpoint를 만든 의미가 없습니다."
      ]
    },
    {
      "cell_type": "markdown",
      "metadata": {
        "id": "jcXHQ_pNM_zA"
      },
      "source": [
        "[코드]"
      ]
    },
    {
      "cell_type": "code",
      "metadata": {
        "id": "4jO1ucZ9ninH",
        "colab": {
          "base_uri": "https://localhost:8080/"
        },
        "outputId": "95227444-347f-4a70-8c0c-15c78b2c749d"
      },
      "source": [
        "# checkpoint 를 저장한 파일명을 입력합니다.\n",
        "model.load_weights(checkpoint_path)\n",
        "model.evaluate(x_valid, y_valid)\n",
        "\n"
      ],
      "execution_count": 73,
      "outputs": [
        {
          "output_type": "stream",
          "name": "stdout",
          "text": [
            "313/313 [==============================] - 1s 4ms/step - loss: 0.2587 - acc: 0.9076\n"
          ]
        },
        {
          "output_type": "execute_result",
          "data": {
            "text/plain": [
              "[0.2587042450904846, 0.9075999855995178]"
            ]
          },
          "metadata": {},
          "execution_count": 73
        }
      ]
    },
    {
      "cell_type": "code",
      "source": [
        "plt.figure(figsize=(12, 9))\n",
        "plt.plot(np.arange(1, 21), history.history['loss'])\n",
        "plt.plot(np.arange(1, 21), history.history['val_loss'])\n",
        "plt.title('Loss / Val Loss', fontsize=20)\n",
        "plt.xlabel('Epochs')\n",
        "plt.ylabel('Loss')\n",
        "plt.legend(['loss', 'val_loss'], fontsize=15)\n",
        "plt.show()\n",
        "\n",
        "plt.figure(figsize=(12, 9))\n",
        "plt.plot(np.arange(1, 21), history.history['acc'])\n",
        "plt.plot(np.arange(1, 21), history.history['val_acc'])\n",
        "plt.title('Acc / Val Acc', fontsize=20)\n",
        "plt.xlabel('Epochs')\n",
        "plt.ylabel('Acc')\n",
        "plt.legend(['acc', 'val_acc'], fontsize=15)\n",
        "plt.show()"
      ],
      "metadata": {
        "colab": {
          "base_uri": "https://localhost:8080/",
          "height": 1000
        },
        "id": "OdrpLusSVH8S",
        "outputId": "82590509-4cf3-4db0-bd6d-49d369b95285"
      },
      "execution_count": 74,
      "outputs": [
        {
          "output_type": "display_data",
          "data": {
            "text/plain": [
              "<Figure size 864x648 with 1 Axes>"
            ],
            "image/png": "[encoded data removed]"
          },
          "metadata": {
            "needs_background": "light"
          }
        },
        {
          "output_type": "display_data",
          "data": {
            "text/plain": [
              "<Figure size 864x648 with 1 Axes>"
            ],
            "image/png": "[encoded data removed]"
          },
          "metadata": {
            "needs_background": "light"
          }
        }
      ]
    },
    {
      "cell_type": "code",
      "source": [
        ""
      ],
      "metadata": {
        "id": "w9f1nI0XVSxV"
      },
      "execution_count": null,
      "outputs": []
    }
  ]
}