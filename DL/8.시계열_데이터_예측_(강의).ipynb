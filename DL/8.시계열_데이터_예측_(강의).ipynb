{
  "nbformat": 4,
  "nbformat_minor": 0,
  "metadata": {
    "accelerator": "GPU",
    "colab": {
      "name": "시계열 데이터 예측 (강의)",
      "provenance": [],
      "collapsed_sections": []
    },
    "kernelspec": {
      "display_name": "Python 3",
      "language": "python",
      "name": "python3"
    },
    "language_info": {
      "codemirror_mode": {
        "name": "ipython",
        "version": 3
      },
      "file_extension": ".py",
      "mimetype": "text/x-python",
      "name": "python",
      "nbconvert_exporter": "python",
      "pygments_lexer": "ipython3",
      "version": "3.6.6"
    }
  },
  "cells": [
    {
      "cell_type": "markdown",
      "metadata": {
        "id": "sCmtzkeGPI2Q"
      },
      "source": [
        "# 시계열 예측 모델\n",
        "\n",
        "Sequence (시계열) 데이터 다루기"
      ]
    },
    {
      "cell_type": "markdown",
      "metadata": {
        "id": "iRSKbgK8PRs5"
      },
      "source": [
        "## 확인"
      ]
    },
    {
      "cell_type": "markdown",
      "metadata": {
        "id": "Fc4QcKvRPSj-"
      },
      "source": [
        "1. GPU 옵션 켜져 있는지 확인할 것!!! (수정 - 노트설정 - 하드웨어설정 (GPU))"
      ]
    },
    {
      "cell_type": "markdown",
      "metadata": {
        "id": "JNPjnA62PXVn"
      },
      "source": [
        "## 순서"
      ]
    },
    {
      "cell_type": "markdown",
      "metadata": {
        "id": "T463L0aPPX_n"
      },
      "source": [
        "1. **import**: 필요한 모듈 import\n",
        "2. **전처리**: 학습에 필요한 데이터 전처리를 수행합니다.\n",
        "3. **모델링(model)**: 모델을 정의합니다.\n",
        "4. **컴파일(compile)**: 모델을 생성합니다.\n",
        "5. **학습 (fit)**: 모델을 학습시킵니다."
      ]
    },
    {
      "cell_type": "markdown",
      "metadata": {
        "id": "W1Hj9c1NPbPu"
      },
      "source": [
        "## 문제"
      ]
    },
    {
      "cell_type": "markdown",
      "metadata": {
        "id": "RcvEYUuhPb3f"
      },
      "source": [
        "**금융 데이터**를 활용한 시계열 데이터 예측\n",
        "\n",
        "Finance DataReader를 활용하여 시계열 데이터를 로드하고 금융 데이터를 예측합니다."
      ]
    },
    {
      "cell_type": "markdown",
      "metadata": {
        "id": "NTUdLmS7TE40"
      },
      "source": [
        "## 필요한 모듈 import"
      ]
    },
    {
      "cell_type": "code",
      "metadata": {
        "id": "uqt0NBn4MZl5"
      },
      "source": [
        "import csv\n",
        "import tensorflow as tf\n",
        "import numpy as np\n",
        "import urllib\n",
        "import pandas as pd\n",
        "\n",
        "from tensorflow.keras.layers import Dense, LSTM, GRU \n",
        "from tensorflow.keras.models import Sequential\n",
        "from tensorflow.keras.callbacks import ModelCheckpoint\n",
        "from tensorflow.keras.optimizers import Adam"
      ],
      "execution_count": null,
      "outputs": []
    },
    {
      "cell_type": "markdown",
      "source": [
        "## Finace DataReader\n",
        "\n",
        "[링크](https://github.com/FinanceData/FinanceDataReader)"
      ],
      "metadata": {
        "id": "QZN9c1vvsXq8"
      }
    },
    {
      "cell_type": "code",
      "metadata": {
        "id": "ixYVm16KMZl7"
      },
      "source": [
        "# 데이터를 받아오기 위해 finance-datareader 모듈을 설치합니다.\n",
        "!pip install -U finance-datareader"
      ],
      "execution_count": null,
      "outputs": []
    },
    {
      "cell_type": "code",
      "source": [
        "import FinanceDataReader as fdr"
      ],
      "metadata": {
        "id": "MFXJN3K6sRoF"
      },
      "execution_count": null,
      "outputs": []
    },
    {
      "cell_type": "code",
      "source": [
        "# SK 회사 주식 코드(034730), 시작 일자\n",
        "data = fdr.DataReader('034730', '2010')\n",
        "data"
      ],
      "metadata": {
        "id": "SYxQdvgqsSRc"
      },
      "execution_count": null,
      "outputs": []
    },
    {
      "cell_type": "code",
      "source": [
        "data['Close'].plot(figsize=(10, 5))"
      ],
      "metadata": {
        "id": "HPERlmlqseLk"
      },
      "execution_count": null,
      "outputs": []
    },
    {
      "cell_type": "code",
      "source": [
        "# 아래 컬럼의 데이터만 추출하여 최초 최대 정규화를 적용하세요.\n",
        "# ['Open', 'High', 'Low', 'Close', 'Volume']\n",
        "from sklearn.preprocessing import MinMaxScaler\n",
        "\n",
        "scaler = MinMaxScaler()\n",
        "scale_cols = ['Open', 'High', 'Low', 'Close', 'Volume']\n",
        "df_scaled = scaler.fit_transform(data[scale_cols])\n",
        "\n",
        "df_scaled = pd.DataFrame(df_scaled)\n",
        "df_scaled.columns = scale_cols\n",
        "df_scaled"
      ],
      "metadata": {
        "id": "wmhMFHGvsguU"
      },
      "execution_count": null,
      "outputs": []
    },
    {
      "cell_type": "markdown",
      "metadata": {
        "id": "H-YdTCYeMZmc"
      },
      "source": [
        "## Train Set, Validation Set 생성"
      ]
    },
    {
      "cell_type": "markdown",
      "metadata": {
        "id": "WRfGcPJET7Dq"
      },
      "source": [
        "Train Set / Validation Set 를 분할 합니다.\n",
        "\n",
        "- ~최근 600개: Train Set\n",
        "- 최근 600개~: Valid Set"
      ]
    },
    {
      "cell_type": "code",
      "metadata": {
        "id": "1QXuDIkTMZmd"
      },
      "source": [
        "train = df_scaled.iloc[:-600]\n",
        "valid = df_scaled.iloc[-600:]"
      ],
      "execution_count": null,
      "outputs": []
    },
    {
      "cell_type": "code",
      "source": [
        "train.shape, valid.shape"
      ],
      "metadata": {
        "id": "ACYRM6d9tO7y"
      },
      "execution_count": null,
      "outputs": []
    },
    {
      "cell_type": "code",
      "source": [
        "df_scaled"
      ],
      "metadata": {
        "id": "IOCx6mlmYOBW"
      },
      "execution_count": null,
      "outputs": []
    },
    {
      "cell_type": "markdown",
      "metadata": {
        "id": "amk_ksmDMZmb"
      },
      "source": [
        "## Window Dataset Loader"
      ]
    },
    {
      "cell_type": "markdown",
      "metadata": {
        "id": "u9VGhKTIMZmQ"
      },
      "source": [
        "자세한 Dataset 활용법은 [블로그 링크](https://teddylee777.github.io/tensorflow/dataset-batch-window)를 참고해 보시고, 연습해보세요!\n",
        "\n",
        "- Dataset 구성에 대한 [유튜브](https://www.youtube.com/watch?v=NUMzrqxQ4zk)"
      ]
    },
    {
      "cell_type": "code",
      "metadata": {
        "id": "k161f1YQMZmR"
      },
      "source": [
        "# 윈도우 사이즈\n",
        "window_size=20\n",
        "# 배치 사이즈\n",
        "batch_size = 32\n",
        "# 셔플 사이즈\n",
        "shuffle_size = 1000"
      ],
      "execution_count": null,
      "outputs": []
    },
    {
      "cell_type": "code",
      "metadata": {
        "id": "TfyNoztDMZmb"
      },
      "source": [
        "def windowed_dataset(series, window_size, batch_size, shuffle, shuffle_buffer):\n",
        "    series = tf.expand_dims(series, axis=-1)\n",
        "    ds = tf.data.Dataset.from_tensor_slices(series)\n",
        "    ds = ds.window(window_size + 1, shift=1, drop_remainder=True)\n",
        "    ds = ds.flat_map(lambda w: w.batch(window_size + 1))\n",
        "    if shuffle:\n",
        "        ds = ds.shuffle(shuffle_buffer)\n",
        "    ds = ds.map(lambda w: (w[:-1], w[-1]))\n",
        "    return ds.batch(batch_size).prefetch(1)"
      ],
      "execution_count": null,
      "outputs": []
    },
    {
      "cell_type": "markdown",
      "metadata": {
        "id": "cPxvjABJWDro"
      },
      "source": [
        "`train_set`와 `validation_set`를 만듭니다."
      ]
    },
    {
      "cell_type": "code",
      "metadata": {
        "id": "1mLFgMMBMZmg"
      },
      "source": [
        "train_set = windowed_dataset(train['Close'], \n",
        "                             window_size=window_size, \n",
        "                             batch_size=batch_size,\n",
        "                             shuffle=True,\n",
        "                             shuffle_buffer=shuffle_size)\n",
        "\n",
        "validation_set = windowed_dataset(valid['Close'], \n",
        "                                  window_size=window_size,\n",
        "                                  batch_size=1,\n",
        "                                  shuffle=False,\n",
        "                                  shuffle_buffer=shuffle_size)"
      ],
      "execution_count": null,
      "outputs": []
    },
    {
      "cell_type": "code",
      "source": [
        "x, y = next(iter(train_set))"
      ],
      "metadata": {
        "id": "uW9U0BXdtebE"
      },
      "execution_count": null,
      "outputs": []
    },
    {
      "cell_type": "code",
      "source": [
        "x.shape, y.shape"
      ],
      "metadata": {
        "id": "0RZh9B-Ptnn0"
      },
      "execution_count": null,
      "outputs": []
    },
    {
      "cell_type": "code",
      "source": [
        "x, y = next(iter(validation_set))"
      ],
      "metadata": {
        "id": "UQPAl5jhvoW1"
      },
      "execution_count": null,
      "outputs": []
    },
    {
      "cell_type": "code",
      "source": [
        "x.shape, y.shape"
      ],
      "metadata": {
        "id": "pR0tD9KjvpZi"
      },
      "execution_count": null,
      "outputs": []
    },
    {
      "cell_type": "markdown",
      "metadata": {
        "id": "Y2k1dYQcMZmj"
      },
      "source": [
        "## 모델 정의 (Sequential)"
      ]
    },
    {
      "cell_type": "code",
      "metadata": {
        "id": "nLJ21qRtMZmp"
      },
      "source": [
        "model = Sequential([\n",
        "    LSTM(16, input_shape=(window_size, 1)),\n",
        "    Dense(16, activation=\"relu\"),\n",
        "    Dense(1),\n",
        "])"
      ],
      "execution_count": null,
      "outputs": []
    },
    {
      "cell_type": "code",
      "source": [
        "model = Sequential([\n",
        "    GRU(16, input_shape=(window_size, 1)),\n",
        "    Dense(16, activation=\"relu\"),\n",
        "    Dense(1),\n",
        "])"
      ],
      "metadata": {
        "id": "MenwJuBo6cxR"
      },
      "execution_count": null,
      "outputs": []
    },
    {
      "cell_type": "markdown",
      "metadata": {
        "id": "E1bif1TuUl1m"
      },
      "source": [
        "모델의 구조 요약을 확인합니다."
      ]
    },
    {
      "cell_type": "code",
      "metadata": {
        "id": "VgET749LMZmt"
      },
      "source": [
        "model.summary()"
      ],
      "execution_count": null,
      "outputs": []
    },
    {
      "cell_type": "markdown",
      "metadata": {
        "id": "FXKGQ3rmMZmv"
      },
      "source": [
        "## 컴파일 (compile)"
      ]
    },
    {
      "cell_type": "markdown",
      "metadata": {
        "id": "jZ1ETr6mUuqB"
      },
      "source": [
        "**Optimizer**의 `learning_rate`을 별도 설정합니다."
      ]
    },
    {
      "cell_type": "code",
      "metadata": {
        "id": "7NrbT-cAMZm2"
      },
      "source": [
        "model.compile(loss='mse',\n",
        "              optimizer=Adam(learning_rate=0.0005),\n",
        "              metrics=[\"mse\"])"
      ],
      "execution_count": null,
      "outputs": []
    },
    {
      "cell_type": "markdown",
      "metadata": {
        "id": "yJ0gsuoqSv7z"
      },
      "source": [
        "## ModelCheckpoint: 체크포인트 생성"
      ]
    },
    {
      "cell_type": "markdown",
      "metadata": {
        "id": "oXHmDZ2aSx4O"
      },
      "source": [
        "`val_loss` 기준으로 epoch 마다 최적의 모델을 저장하기 위하여, ModelCheckpoint를 만듭니다.\n",
        "* `checkpoint_path`는 모델이 저장될 파일 명을 설정합니다.\n",
        "* `ModelCheckpoint`을 선언하고, 적절한 옵션 값을 지정합니다."
      ]
    },
    {
      "cell_type": "code",
      "metadata": {
        "id": "O1JJZyg0MZm5"
      },
      "source": [
        "checkpoint_path = 'tmp_checkpoint.ckpt'\n",
        "checkpoint = ModelCheckpoint(checkpoint_path, \n",
        "                             save_weights_only=True, \n",
        "                             save_best_only=True, \n",
        "                             monitor='val_loss',\n",
        "                             verbose=1)"
      ],
      "execution_count": null,
      "outputs": []
    },
    {
      "cell_type": "markdown",
      "metadata": {
        "id": "1leCk2zKMZm7"
      },
      "source": [
        "## 학습 (fit)"
      ]
    },
    {
      "cell_type": "code",
      "metadata": {
        "id": "lrDA4DzbMZm8"
      },
      "source": [
        "model.fit(train_set, \n",
        "          validation_data=(validation_set), \n",
        "          epochs=30, \n",
        "          callbacks=[checkpoint],\n",
        "          )"
      ],
      "execution_count": null,
      "outputs": []
    },
    {
      "cell_type": "markdown",
      "metadata": {
        "id": "shzhTOjAninH"
      },
      "source": [
        "## 학습 완료 후 Load Weights (ModelCheckpoint)"
      ]
    },
    {
      "cell_type": "markdown",
      "metadata": {
        "id": "kLqb_6XrMvdq"
      },
      "source": [
        "학습이 완료된 후에는 반드시 `load_weights`를 해주어야 합니다.\n",
        "\n",
        "그렇지 않으면, 열심히 ModelCheckpoint를 만든 의미가 없습니다."
      ]
    },
    {
      "cell_type": "code",
      "metadata": {
        "id": "4jO1ucZ9ninH"
      },
      "source": [
        "model.load_weights(checkpoint_path)"
      ],
      "execution_count": null,
      "outputs": []
    },
    {
      "cell_type": "markdown",
      "source": [
        "## 예측"
      ],
      "metadata": {
        "id": "Y3zVUObO8S-5"
      }
    },
    {
      "cell_type": "code",
      "source": [
        "result = model.predict(validation_set)"
      ],
      "metadata": {
        "id": "oU8iPNqOvHO9"
      },
      "execution_count": null,
      "outputs": []
    },
    {
      "cell_type": "code",
      "source": [
        "result.shape"
      ],
      "metadata": {
        "id": "479uaGEXxDqF"
      },
      "execution_count": null,
      "outputs": []
    },
    {
      "cell_type": "markdown",
      "source": [
        "## 예측 데이터 시각화"
      ],
      "metadata": {
        "id": "0cJdQDpT05G3"
      }
    },
    {
      "cell_type": "code",
      "source": [
        "import matplotlib.pyplot as plt\n",
        "\n",
        "# 테스트의 실제값과 예측값을 시각화 하세요.\n",
        "plt.figure(figsize=(12, 9))\n",
        "plt.plot(valid['Close'].iloc[window_size:].values, label='actual')\n",
        "plt.plot(result.reshape(-1), label='prediction')\n",
        "plt.legend()\n",
        "plt.show()"
      ],
      "metadata": {
        "id": "vt4VgRPDxC0l"
      },
      "execution_count": null,
      "outputs": []
    }
  ]
}