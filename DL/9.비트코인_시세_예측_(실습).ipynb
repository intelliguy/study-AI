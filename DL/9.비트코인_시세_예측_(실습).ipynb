{
  "nbformat": 4,
  "nbformat_minor": 0,
  "metadata": {
    "accelerator": "GPU",
    "colab": {
      "name": "비트코인 시세 예측 (실습)",
      "provenance": [],
      "collapsed_sections": []
    },
    "kernelspec": {
      "display_name": "Python 3",
      "language": "python",
      "name": "python3"
    },
    "language_info": {
      "codemirror_mode": {
        "name": "ipython",
        "version": 3
      },
      "file_extension": ".py",
      "mimetype": "text/x-python",
      "name": "python",
      "nbconvert_exporter": "python",
      "pygments_lexer": "ipython3",
      "version": "3.6.6"
    }
  },
  "cells": [
    {
      "cell_type": "markdown",
      "metadata": {
        "id": "sCmtzkeGPI2Q"
      },
      "source": [
        "# 시계열 예측 모델\n",
        "\n",
        "Sequence (시계열) 데이터 다루기"
      ]
    },
    {
      "cell_type": "markdown",
      "metadata": {
        "id": "iRSKbgK8PRs5"
      },
      "source": [
        "## 확인"
      ]
    },
    {
      "cell_type": "markdown",
      "metadata": {
        "id": "Fc4QcKvRPSj-"
      },
      "source": [
        "1. GPU 옵션 켜져 있는지 확인할 것!!! (수정 - 노트설정 - 하드웨어설정 (GPU))"
      ]
    },
    {
      "cell_type": "markdown",
      "metadata": {
        "id": "JNPjnA62PXVn"
      },
      "source": [
        "## 순서"
      ]
    },
    {
      "cell_type": "markdown",
      "metadata": {
        "id": "T463L0aPPX_n"
      },
      "source": [
        "1. **import**: 필요한 모듈 import\n",
        "2. **전처리**: 학습에 필요한 데이터 전처리를 수행합니다.\n",
        "3. **모델링(model)**: 모델을 정의합니다.\n",
        "4. **컴파일(compile)**: 모델을 생성합니다.\n",
        "5. **학습 (fit)**: 모델을 학습시킵니다."
      ]
    },
    {
      "cell_type": "markdown",
      "metadata": {
        "id": "W1Hj9c1NPbPu"
      },
      "source": [
        "## 문제"
      ]
    },
    {
      "cell_type": "markdown",
      "metadata": {
        "id": "RcvEYUuhPb3f"
      },
      "source": [
        "**금융 데이터**를 활용한 시계열 데이터 예측\n",
        "\n",
        "Finance DataReader를 활용하여 시계열 데이터를 로드하고 금융 데이터를 예측합니다."
      ]
    },
    {
      "cell_type": "markdown",
      "metadata": {
        "id": "NTUdLmS7TE40"
      },
      "source": [
        "## 필요한 모듈 import"
      ]
    },
    {
      "cell_type": "code",
      "metadata": {
        "id": "uqt0NBn4MZl5"
      },
      "source": [
        "import csv\n",
        "import tensorflow as tf\n",
        "import numpy as np\n",
        "import urllib\n",
        "import pandas as pd\n",
        "\n",
        "# module import\n"
      ],
      "execution_count": null,
      "outputs": []
    },
    {
      "cell_type": "markdown",
      "source": [
        "## Finace DataReader\n",
        "\n",
        "[링크](https://github.com/FinanceData/FinanceDataReader)"
      ],
      "metadata": {
        "id": "QZN9c1vvsXq8"
      }
    },
    {
      "cell_type": "code",
      "metadata": {
        "id": "ixYVm16KMZl7"
      },
      "source": [
        "# 데이터를 받아오기 위해 finance-datareader 모듈을 설치합니다.\n",
        "!pip install -U finance-datareader"
      ],
      "execution_count": null,
      "outputs": []
    },
    {
      "cell_type": "code",
      "source": [
        "import FinanceDataReader as fdr"
      ],
      "metadata": {
        "id": "MFXJN3K6sRoF"
      },
      "execution_count": null,
      "outputs": []
    },
    {
      "cell_type": "code",
      "source": [
        "# 비트코인 시세를 가져옵니다.\n",
        "data = fdr.DataReader('BTC/KRW')\n",
        "data"
      ],
      "metadata": {
        "id": "SYxQdvgqsSRc"
      },
      "execution_count": null,
      "outputs": []
    },
    {
      "cell_type": "code",
      "source": [
        "data['Close'].plot(figsize=(10, 5))"
      ],
      "metadata": {
        "id": "HPERlmlqseLk"
      },
      "execution_count": null,
      "outputs": []
    },
    {
      "cell_type": "code",
      "source": [
        "# 아래 컬럼의 데이터만 추출하여 최초 최대 정규화를 적용하세요.\n",
        "# ['Open', 'High', 'Low', 'Close', 'Volume']\n",
        "from sklearn.preprocessing import MinMaxScaler\n",
        "\n",
        "scaler = MinMaxScaler()\n",
        "scale_cols = ['Open', 'High', 'Low', 'Close', 'Volume']\n",
        "df_scaled = scaler.fit_transform(data[scale_cols])\n",
        "\n",
        "df_scaled = pd.DataFrame(df_scaled)\n",
        "df_scaled.columns = scale_cols\n",
        "df_scaled"
      ],
      "metadata": {
        "id": "wmhMFHGvsguU"
      },
      "execution_count": null,
      "outputs": []
    },
    {
      "cell_type": "markdown",
      "metadata": {
        "id": "H-YdTCYeMZmc"
      },
      "source": [
        "## Train Set, Validation Set 생성"
      ]
    },
    {
      "cell_type": "markdown",
      "metadata": {
        "id": "WRfGcPJET7Dq"
      },
      "source": [
        "Train Set / Validation Set 를 분할 합니다.\n",
        "\n",
        "- ~최근 500개: Train Set\n",
        "- 최근 500개~: Valid Set"
      ]
    },
    {
      "cell_type": "code",
      "metadata": {
        "id": "1QXuDIkTMZmd"
      },
      "source": [
        "train = # 코드를 입력해 주세요\n",
        "valid = # 코드를 입력해 주세요"
      ],
      "execution_count": null,
      "outputs": []
    },
    {
      "cell_type": "code",
      "source": [
        "train.shape, valid.shape"
      ],
      "metadata": {
        "id": "ACYRM6d9tO7y"
      },
      "execution_count": null,
      "outputs": []
    },
    {
      "cell_type": "markdown",
      "metadata": {
        "id": "amk_ksmDMZmb"
      },
      "source": [
        "## Window Dataset Loader"
      ]
    },
    {
      "cell_type": "markdown",
      "metadata": {
        "id": "u9VGhKTIMZmQ"
      },
      "source": [
        "`window_size`, `batch_size`, `shuffle_buffer`는 자유롭게 설정합니다."
      ]
    },
    {
      "cell_type": "code",
      "metadata": {
        "id": "k161f1YQMZmR"
      },
      "source": [
        "window_size= # 코드를 입력해 주세요\n",
        "batch_size = # 코드를 입력해 주세요\n",
        "shuffle_size = # 코드를 입력해 주세요"
      ],
      "execution_count": null,
      "outputs": []
    },
    {
      "cell_type": "code",
      "metadata": {
        "id": "TfyNoztDMZmb"
      },
      "source": [
        "def windowed_dataset(series, window_size, batch_size, shuffle, shuffle_buffer):\n",
        "    series = tf.expand_dims(series, axis=-1)\n",
        "    ds = tf.data.Dataset.from_tensor_slices(series)\n",
        "    ds = ds.window(window_size + 1, shift=1, drop_remainder=True)\n",
        "    ds = ds.flat_map(lambda w: w.batch(window_size + 1))\n",
        "    if shuffle:\n",
        "        ds = ds.shuffle(shuffle_buffer)\n",
        "    ds = ds.map(lambda w: (w[:-1], w[-1]))\n",
        "    return ds.batch(batch_size).prefetch(1)"
      ],
      "execution_count": null,
      "outputs": []
    },
    {
      "cell_type": "markdown",
      "metadata": {
        "id": "cPxvjABJWDro"
      },
      "source": [
        "`train_set`와 `validation_set`를 만듭니다."
      ]
    },
    {
      "cell_type": "code",
      "metadata": {
        "id": "1mLFgMMBMZmg"
      },
      "source": [
        "train_set = # 코드를 입력해 주세요\n",
        "\n",
        "validation_set = # 코드를 입력해 주세요"
      ],
      "execution_count": null,
      "outputs": []
    },
    {
      "cell_type": "markdown",
      "metadata": {
        "id": "Y2k1dYQcMZmj"
      },
      "source": [
        "## 모델 정의 (Sequential)"
      ]
    },
    {
      "cell_type": "code",
      "metadata": {
        "id": "nLJ21qRtMZmp"
      },
      "source": [
        "model = Sequential([\n",
        "    # 코드를 입력해 주세요\n",
        "])"
      ],
      "execution_count": null,
      "outputs": []
    },
    {
      "cell_type": "markdown",
      "metadata": {
        "id": "E1bif1TuUl1m"
      },
      "source": [
        "모델의 구조 요약을 확인합니다."
      ]
    },
    {
      "cell_type": "code",
      "metadata": {
        "id": "VgET749LMZmt"
      },
      "source": [
        "model.summary()"
      ],
      "execution_count": null,
      "outputs": []
    },
    {
      "cell_type": "markdown",
      "metadata": {
        "id": "FXKGQ3rmMZmv"
      },
      "source": [
        "## 컴파일 (compile)"
      ]
    },
    {
      "cell_type": "markdown",
      "metadata": {
        "id": "jZ1ETr6mUuqB"
      },
      "source": [
        "**Optimizer**의 `learning_rate`을 별도 설정합니다."
      ]
    },
    {
      "cell_type": "code",
      "metadata": {
        "id": "7NrbT-cAMZm2"
      },
      "source": [
        "model.compile(# 코드를 입력해 주세요)"
      ],
      "execution_count": null,
      "outputs": []
    },
    {
      "cell_type": "markdown",
      "metadata": {
        "id": "yJ0gsuoqSv7z"
      },
      "source": [
        "## ModelCheckpoint: 체크포인트 생성"
      ]
    },
    {
      "cell_type": "markdown",
      "metadata": {
        "id": "oXHmDZ2aSx4O"
      },
      "source": [
        "`val_loss` 기준으로 epoch 마다 최적의 모델을 저장하기 위하여, ModelCheckpoint를 만듭니다.\n",
        "* `checkpoint_path`는 모델이 저장될 파일 명을 설정합니다.\n",
        "* `ModelCheckpoint`을 선언하고, 적절한 옵션 값을 지정합니다."
      ]
    },
    {
      "cell_type": "code",
      "metadata": {
        "id": "O1JJZyg0MZm5"
      },
      "source": [
        "# 코드를 입력해 주세요\n"
      ],
      "execution_count": null,
      "outputs": []
    },
    {
      "cell_type": "markdown",
      "metadata": {
        "id": "1leCk2zKMZm7"
      },
      "source": [
        "## 학습 (fit)"
      ]
    },
    {
      "cell_type": "code",
      "metadata": {
        "id": "lrDA4DzbMZm8"
      },
      "source": [
        "model.fit(# 코드를 입력해 주세요)"
      ],
      "execution_count": null,
      "outputs": []
    },
    {
      "cell_type": "markdown",
      "metadata": {
        "id": "shzhTOjAninH"
      },
      "source": [
        "## 학습 완료 후 Load Weights (ModelCheckpoint)"
      ]
    },
    {
      "cell_type": "markdown",
      "metadata": {
        "id": "kLqb_6XrMvdq"
      },
      "source": [
        "학습이 완료된 후에는 반드시 `load_weights`를 해주어야 합니다.\n",
        "\n",
        "그렇지 않으면, 열심히 ModelCheckpoint를 만든 의미가 없습니다."
      ]
    },
    {
      "cell_type": "code",
      "metadata": {
        "id": "4jO1ucZ9ninH"
      },
      "source": [
        "model.# 코드를 입력해 주세요"
      ],
      "execution_count": null,
      "outputs": []
    },
    {
      "cell_type": "markdown",
      "source": [
        "## 예측"
      ],
      "metadata": {
        "id": "Y3zVUObO8S-5"
      }
    },
    {
      "cell_type": "code",
      "source": [
        "result = model.predict(validation_set)"
      ],
      "metadata": {
        "id": "oU8iPNqOvHO9"
      },
      "execution_count": null,
      "outputs": []
    },
    {
      "cell_type": "code",
      "source": [
        "result.shape"
      ],
      "metadata": {
        "id": "479uaGEXxDqF"
      },
      "execution_count": null,
      "outputs": []
    },
    {
      "cell_type": "markdown",
      "source": [
        "## 예측 데이터 시각화"
      ],
      "metadata": {
        "id": "0cJdQDpT05G3"
      }
    },
    {
      "cell_type": "code",
      "source": [
        "import matplotlib.pyplot as plt\n",
        "\n",
        "# 테스트의 실제값과 예측값을 시각화 하세요.\n",
        "plt.figure(figsize=(12, 9))\n",
        "plt.plot(valid['Close'].iloc[window_size:].values, label='actual')\n",
        "plt.plot(result.reshape(-1), label='prediction')\n",
        "plt.legend()\n",
        "plt.show()"
      ],
      "metadata": {
        "id": "vt4VgRPDxC0l"
      },
      "execution_count": null,
      "outputs": []
    }
  ]
}