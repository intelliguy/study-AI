{
  "nbformat": 4,
  "nbformat_minor": 0,
  "metadata": {
    "accelerator": "GPU",
    "colab": {
      "name": "비트코인 시세 예측 (실습)의 사본",
      "provenance": [],
      "collapsed_sections": []
    },
    "kernelspec": {
      "display_name": "Python 3",
      "language": "python",
      "name": "python3"
    },
    "language_info": {
      "codemirror_mode": {
        "name": "ipython",
        "version": 3
      },
      "file_extension": ".py",
      "mimetype": "text/x-python",
      "name": "python",
      "nbconvert_exporter": "python",
      "pygments_lexer": "ipython3",
      "version": "3.6.6"
    }
  },
  "cells": [
    {
      "cell_type": "markdown",
      "metadata": {
        "id": "sCmtzkeGPI2Q"
      },
      "source": [
        "# 시계열 예측 모델\n",
        "\n",
        "Sequence (시계열) 데이터 다루기"
      ]
    },
    {
      "cell_type": "markdown",
      "metadata": {
        "id": "iRSKbgK8PRs5"
      },
      "source": [
        "## 확인"
      ]
    },
    {
      "cell_type": "markdown",
      "metadata": {
        "id": "Fc4QcKvRPSj-"
      },
      "source": [
        "1. GPU 옵션 켜져 있는지 확인할 것!!! (수정 - 노트설정 - 하드웨어설정 (GPU))"
      ]
    },
    {
      "cell_type": "markdown",
      "metadata": {
        "id": "JNPjnA62PXVn"
      },
      "source": [
        "## 순서"
      ]
    },
    {
      "cell_type": "markdown",
      "metadata": {
        "id": "T463L0aPPX_n"
      },
      "source": [
        "1. **import**: 필요한 모듈 import\n",
        "2. **전처리**: 학습에 필요한 데이터 전처리를 수행합니다.\n",
        "3. **모델링(model)**: 모델을 정의합니다.\n",
        "4. **컴파일(compile)**: 모델을 생성합니다.\n",
        "5. **학습 (fit)**: 모델을 학습시킵니다."
      ]
    },
    {
      "cell_type": "markdown",
      "metadata": {
        "id": "W1Hj9c1NPbPu"
      },
      "source": [
        "## 문제"
      ]
    },
    {
      "cell_type": "markdown",
      "metadata": {
        "id": "RcvEYUuhPb3f"
      },
      "source": [
        "**금융 데이터**를 활용한 시계열 데이터 예측\n",
        "\n",
        "Finance DataReader를 활용하여 시계열 데이터를 로드하고 금융 데이터를 예측합니다."
      ]
    },
    {
      "cell_type": "markdown",
      "metadata": {
        "id": "NTUdLmS7TE40"
      },
      "source": [
        "## 필요한 모듈 import"
      ]
    },
    {
      "cell_type": "code",
      "metadata": {
        "id": "uqt0NBn4MZl5"
      },
      "source": [
        "import csv\n",
        "import tensorflow as tf\n",
        "import numpy as np\n",
        "import urllib\n",
        "import pandas as pd\n",
        "\n",
        "# module import\n",
        "from tensorflow.keras.layers import Dense, LSTM, GRU \n",
        "from tensorflow.keras.models import Sequential\n",
        "from tensorflow.keras.callbacks import ModelCheckpoint\n",
        "from tensorflow.keras.optimizers import Adam\n"
      ],
      "execution_count": 1,
      "outputs": []
    },
    {
      "cell_type": "markdown",
      "source": [
        "## Finace DataReader\n",
        "\n",
        "[링크](https://github.com/FinanceData/FinanceDataReader)"
      ],
      "metadata": {
        "id": "QZN9c1vvsXq8"
      }
    },
    {
      "cell_type": "code",
      "metadata": {
        "id": "ixYVm16KMZl7",
        "colab": {
          "base_uri": "https://localhost:8080/"
        },
        "outputId": "822b5183-4981-4d61-fb09-c8c414dac973"
      },
      "source": [
        "# 데이터를 받아오기 위해 finance-datareader 모듈을 설치합니다.\n",
        "!pip install -U finance-datareader"
      ],
      "execution_count": 2,
      "outputs": [
        {
          "output_type": "stream",
          "name": "stdout",
          "text": [
            "Looking in indexes: https://pypi.org/simple, https://us-python.pkg.dev/colab-wheels/public/simple/\n",
            "Collecting finance-datareader\n",
            "  Downloading finance_datareader-0.9.34-py3-none-any.whl (17 kB)\n",
            "Requirement already satisfied: requests>=2.3.0 in /usr/local/lib/python3.7/dist-packages (from finance-datareader) (2.23.0)\n",
            "Requirement already satisfied: pandas>=0.19.2 in /usr/local/lib/python3.7/dist-packages (from finance-datareader) (1.3.5)\n",
            "Requirement already satisfied: lxml in /usr/local/lib/python3.7/dist-packages (from finance-datareader) (4.9.1)\n",
            "Requirement already satisfied: tqdm in /usr/local/lib/python3.7/dist-packages (from finance-datareader) (4.64.0)\n",
            "Collecting requests-file\n",
            "  Downloading requests_file-1.5.1-py2.py3-none-any.whl (3.7 kB)\n",
            "Requirement already satisfied: python-dateutil>=2.7.3 in /usr/local/lib/python3.7/dist-packages (from pandas>=0.19.2->finance-datareader) (2.8.2)\n",
            "Requirement already satisfied: numpy>=1.17.3 in /usr/local/lib/python3.7/dist-packages (from pandas>=0.19.2->finance-datareader) (1.21.6)\n",
            "Requirement already satisfied: pytz>=2017.3 in /usr/local/lib/python3.7/dist-packages (from pandas>=0.19.2->finance-datareader) (2022.2.1)\n",
            "Requirement already satisfied: six>=1.5 in /usr/local/lib/python3.7/dist-packages (from python-dateutil>=2.7.3->pandas>=0.19.2->finance-datareader) (1.15.0)\n",
            "Requirement already satisfied: urllib3!=1.25.0,!=1.25.1,<1.26,>=1.21.1 in /usr/local/lib/python3.7/dist-packages (from requests>=2.3.0->finance-datareader) (1.24.3)\n",
            "Requirement already satisfied: certifi>=2017.4.17 in /usr/local/lib/python3.7/dist-packages (from requests>=2.3.0->finance-datareader) (2022.6.15)\n",
            "Requirement already satisfied: idna<3,>=2.5 in /usr/local/lib/python3.7/dist-packages (from requests>=2.3.0->finance-datareader) (2.10)\n",
            "Requirement already satisfied: chardet<4,>=3.0.2 in /usr/local/lib/python3.7/dist-packages (from requests>=2.3.0->finance-datareader) (3.0.4)\n",
            "Installing collected packages: requests-file, finance-datareader\n",
            "Successfully installed finance-datareader-0.9.34 requests-file-1.5.1\n"
          ]
        }
      ]
    },
    {
      "cell_type": "code",
      "source": [
        "import FinanceDataReader as fdr"
      ],
      "metadata": {
        "id": "MFXJN3K6sRoF"
      },
      "execution_count": 3,
      "outputs": []
    },
    {
      "cell_type": "code",
      "source": [
        "# 비트코인 시세를 가져옵니다.\n",
        "data = fdr.DataReader('BTC/KRW')\n",
        "data"
      ],
      "metadata": {
        "id": "SYxQdvgqsSRc",
        "colab": {
          "base_uri": "https://localhost:8080/",
          "height": 455
        },
        "outputId": "89a4aa9d-0095-427a-d977-392ad5f6655b"
      },
      "execution_count": 4,
      "outputs": [
        {
          "output_type": "execute_result",
          "data": {
            "text/plain": [
              "               Close      Open      High       Low   Volume  Change\n",
              "Date                                                               \n",
              "2017-05-23   3206000   3104000   3281000   3081000  21580.0  0.0329\n",
              "2017-05-24   4175000   3206000   4314000   3206000  34680.0  0.3022\n",
              "2017-05-25   4199000   4175000   4840000   3102000  35910.0  0.0057\n",
              "2017-05-26   3227000   4199000   4200000   2900000  36650.0 -0.2315\n",
              "2017-05-27   3152000   3227000   3288000   2460000  33750.0 -0.0232\n",
              "...              ...       ...       ...       ...      ...     ...\n",
              "2022-08-21  29471000  29350000  29641000  29009000    320.0  0.0041\n",
              "2022-08-22  29236000  29461000  29553000  28811000    770.0 -0.0080\n",
              "2022-08-23  29255000  29238000  29508000  28609000    480.0  0.0006\n",
              "2022-08-24  29086000  29255000  29668000  28917000    440.0 -0.0058\n",
              "2022-08-25  29411000  29086000  29426000  29000000    970.0  0.0112\n",
              "\n",
              "[1919 rows x 6 columns]"
            ],
            "text/html": [
              "\n",
              "  <div id=\"df-2aaea6af-b32e-45cc-ba68-4afd76d67469\">\n",
              "    <div class=\"colab-df-container\">\n",
              "      <div>\n",
              "<style scoped>\n",
              "    .dataframe tbody tr th:only-of-type {\n",
              "        vertical-align: middle;\n",
              "    }\n",
              "\n",
              "    .dataframe tbody tr th {\n",
              "        vertical-align: top;\n",
              "    }\n",
              "\n",
              "    .dataframe thead th {\n",
              "        text-align: right;\n",
              "    }\n",
              "</style>\n",
              "<table border=\"1\" class=\"dataframe\">\n",
              "  <thead>\n",
              "    <tr style=\"text-align: right;\">\n",
              "      <th></th>\n",
              "      <th>Close</th>\n",
              "      <th>Open</th>\n",
              "      <th>High</th>\n",
              "      <th>Low</th>\n",
              "      <th>Volume</th>\n",
              "      <th>Change</th>\n",
              "    </tr>\n",
              "    <tr>\n",
              "      <th>Date</th>\n",
              "      <th></th>\n",
              "      <th></th>\n",
              "      <th></th>\n",
              "      <th></th>\n",
              "      <th></th>\n",
              "      <th></th>\n",
              "    </tr>\n",
              "  </thead>\n",
              "  <tbody>\n",
              "    <tr>\n",
              "      <th>2017-05-23</th>\n",
              "      <td>3206000</td>\n",
              "      <td>3104000</td>\n",
              "      <td>3281000</td>\n",
              "      <td>3081000</td>\n",
              "      <td>21580.0</td>\n",
              "      <td>0.0329</td>\n",
              "    </tr>\n",
              "    <tr>\n",
              "      <th>2017-05-24</th>\n",
              "      <td>4175000</td>\n",
              "      <td>3206000</td>\n",
              "      <td>4314000</td>\n",
              "      <td>3206000</td>\n",
              "      <td>34680.0</td>\n",
              "      <td>0.3022</td>\n",
              "    </tr>\n",
              "    <tr>\n",
              "      <th>2017-05-25</th>\n",
              "      <td>4199000</td>\n",
              "      <td>4175000</td>\n",
              "      <td>4840000</td>\n",
              "      <td>3102000</td>\n",
              "      <td>35910.0</td>\n",
              "      <td>0.0057</td>\n",
              "    </tr>\n",
              "    <tr>\n",
              "      <th>2017-05-26</th>\n",
              "      <td>3227000</td>\n",
              "      <td>4199000</td>\n",
              "      <td>4200000</td>\n",
              "      <td>2900000</td>\n",
              "      <td>36650.0</td>\n",
              "      <td>-0.2315</td>\n",
              "    </tr>\n",
              "    <tr>\n",
              "      <th>2017-05-27</th>\n",
              "      <td>3152000</td>\n",
              "      <td>3227000</td>\n",
              "      <td>3288000</td>\n",
              "      <td>2460000</td>\n",
              "      <td>33750.0</td>\n",
              "      <td>-0.0232</td>\n",
              "    </tr>\n",
              "    <tr>\n",
              "      <th>...</th>\n",
              "      <td>...</td>\n",
              "      <td>...</td>\n",
              "      <td>...</td>\n",
              "      <td>...</td>\n",
              "      <td>...</td>\n",
              "      <td>...</td>\n",
              "    </tr>\n",
              "    <tr>\n",
              "      <th>2022-08-21</th>\n",
              "      <td>29471000</td>\n",
              "      <td>29350000</td>\n",
              "      <td>29641000</td>\n",
              "      <td>29009000</td>\n",
              "      <td>320.0</td>\n",
              "      <td>0.0041</td>\n",
              "    </tr>\n",
              "    <tr>\n",
              "      <th>2022-08-22</th>\n",
              "      <td>29236000</td>\n",
              "      <td>29461000</td>\n",
              "      <td>29553000</td>\n",
              "      <td>28811000</td>\n",
              "      <td>770.0</td>\n",
              "      <td>-0.0080</td>\n",
              "    </tr>\n",
              "    <tr>\n",
              "      <th>2022-08-23</th>\n",
              "      <td>29255000</td>\n",
              "      <td>29238000</td>\n",
              "      <td>29508000</td>\n",
              "      <td>28609000</td>\n",
              "      <td>480.0</td>\n",
              "      <td>0.0006</td>\n",
              "    </tr>\n",
              "    <tr>\n",
              "      <th>2022-08-24</th>\n",
              "      <td>29086000</td>\n",
              "      <td>29255000</td>\n",
              "      <td>29668000</td>\n",
              "      <td>28917000</td>\n",
              "      <td>440.0</td>\n",
              "      <td>-0.0058</td>\n",
              "    </tr>\n",
              "    <tr>\n",
              "      <th>2022-08-25</th>\n",
              "      <td>29411000</td>\n",
              "      <td>29086000</td>\n",
              "      <td>29426000</td>\n",
              "      <td>29000000</td>\n",
              "      <td>970.0</td>\n",
              "      <td>0.0112</td>\n",
              "    </tr>\n",
              "  </tbody>\n",
              "</table>\n",
              "<p>1919 rows × 6 columns</p>\n",
              "</div>\n",
              "      <button class=\"colab-df-convert\" onclick=\"convertToInteractive('df-2aaea6af-b32e-45cc-ba68-4afd76d67469')\"\n",
              "              title=\"Convert this dataframe to an interactive table.\"\n",
              "              style=\"display:none;\">\n",
              "        \n",
              "  <svg xmlns=\"http://www.w3.org/2000/svg\" height=\"24px\"viewBox=\"0 0 24 24\"\n",
              "       width=\"24px\">\n",
              "    <path d=\"M0 0h24v24H0V0z\" fill=\"none\"/>\n",
              "    <path d=\"M18.56 5.44l.94 2.06.94-2.06 2.06-.94-2.06-.94-.94-2.06-.94 2.06-2.06.94zm-11 1L8.5 8.5l.94-2.06 2.06-.94-2.06-.94L8.5 2.5l-.94 2.06-2.06.94zm10 10l.94 2.06.94-2.06 2.06-.94-2.06-.94-.94-2.06-.94 2.06-2.06.94z\"/><path d=\"M17.41 7.96l-1.37-1.37c-.4-.4-.92-.59-1.43-.59-.52 0-1.04.2-1.43.59L10.3 9.45l-7.72 7.72c-.78.78-.78 2.05 0 2.83L4 21.41c.39.39.9.59 1.41.59.51 0 1.02-.2 1.41-.59l7.78-7.78 2.81-2.81c.8-.78.8-2.07 0-2.86zM5.41 20L4 18.59l7.72-7.72 1.47 1.35L5.41 20z\"/>\n",
              "  </svg>\n",
              "      </button>\n",
              "      \n",
              "  <style>\n",
              "    .colab-df-container {\n",
              "      display:flex;\n",
              "      flex-wrap:wrap;\n",
              "      gap: 12px;\n",
              "    }\n",
              "\n",
              "    .colab-df-convert {\n",
              "      background-color: #E8F0FE;\n",
              "      border: none;\n",
              "      border-radius: 50%;\n",
              "      cursor: pointer;\n",
              "      display: none;\n",
              "      fill: #1967D2;\n",
              "      height: 32px;\n",
              "      padding: 0 0 0 0;\n",
              "      width: 32px;\n",
              "    }\n",
              "\n",
              "    .colab-df-convert:hover {\n",
              "      background-color: #E2EBFA;\n",
              "      box-shadow: 0px 1px 2px rgba(60, 64, 67, 0.3), 0px 1px 3px 1px rgba(60, 64, 67, 0.15);\n",
              "      fill: #174EA6;\n",
              "    }\n",
              "\n",
              "    [theme=dark] .colab-df-convert {\n",
              "      background-color: #3B4455;\n",
              "      fill: #D2E3FC;\n",
              "    }\n",
              "\n",
              "    [theme=dark] .colab-df-convert:hover {\n",
              "      background-color: #434B5C;\n",
              "      box-shadow: 0px 1px 3px 1px rgba(0, 0, 0, 0.15);\n",
              "      filter: drop-shadow(0px 1px 2px rgba(0, 0, 0, 0.3));\n",
              "      fill: #FFFFFF;\n",
              "    }\n",
              "  </style>\n",
              "\n",
              "      <script>\n",
              "        const buttonEl =\n",
              "          document.querySelector('#df-2aaea6af-b32e-45cc-ba68-4afd76d67469 button.colab-df-convert');\n",
              "        buttonEl.style.display =\n",
              "          google.colab.kernel.accessAllowed ? 'block' : 'none';\n",
              "\n",
              "        async function convertToInteractive(key) {\n",
              "          const element = document.querySelector('#df-2aaea6af-b32e-45cc-ba68-4afd76d67469');\n",
              "          const dataTable =\n",
              "            await google.colab.kernel.invokeFunction('convertToInteractive',\n",
              "                                                     [key], {});\n",
              "          if (!dataTable) return;\n",
              "\n",
              "          const docLinkHtml = 'Like what you see? Visit the ' +\n",
              "            '<a target=\"_blank\" href=https://colab.research.google.com/notebooks/data_table.ipynb>data table notebook</a>'\n",
              "            + ' to learn more about interactive tables.';\n",
              "          element.innerHTML = '';\n",
              "          dataTable['output_type'] = 'display_data';\n",
              "          await google.colab.output.renderOutput(dataTable, element);\n",
              "          const docLink = document.createElement('div');\n",
              "          docLink.innerHTML = docLinkHtml;\n",
              "          element.appendChild(docLink);\n",
              "        }\n",
              "      </script>\n",
              "    </div>\n",
              "  </div>\n",
              "  "
            ]
          },
          "metadata": {},
          "execution_count": 4
        }
      ]
    },
    {
      "cell_type": "code",
      "source": [
        "data['Close'].plot(figsize=(10, 5))"
      ],
      "metadata": {
        "id": "HPERlmlqseLk",
        "colab": {
          "base_uri": "https://localhost:8080/",
          "height": 346
        },
        "outputId": "d95562ae-edac-459f-e507-2f7cf5c7dea2"
      },
      "execution_count": 5,
      "outputs": [
        {
          "output_type": "execute_result",
          "data": {
            "text/plain": [
              "<matplotlib.axes._subplots.AxesSubplot at 0x7f21cefd9710>"
            ]
          },
          "metadata": {},
          "execution_count": 5
        },
        {
          "output_type": "display_data",
          "data": {
            "text/plain": [
              "<Figure size 720x360 with 1 Axes>"
            ],
            "image/png": "[encoded data removed]"
          },
          "metadata": {
            "needs_background": "light"
          }
        }
      ]
    },
    {
      "cell_type": "code",
      "source": [
        "# 아래 컬럼의 데이터만 추출하여 최초 최대 정규화를 적용하세요.\n",
        "# ['Open', 'High', 'Low', 'Close', 'Volume']\n",
        "from sklearn.preprocessing import MinMaxScaler\n",
        "\n",
        "scaler = MinMaxScaler()\n",
        "scale_cols = ['Open', 'High', 'Low', 'Close', 'Volume']\n",
        "df_scaled = scaler.fit_transform(data[scale_cols])\n",
        "\n",
        "df_scaled = pd.DataFrame(df_scaled)\n",
        "df_scaled.columns = scale_cols\n",
        "df_scaled"
      ],
      "metadata": {
        "id": "wmhMFHGvsguU",
        "colab": {
          "base_uri": "https://localhost:8080/",
          "height": 424
        },
        "outputId": "030f074c-f84b-4ecc-d72c-9326db902f07"
      },
      "execution_count": 6,
      "outputs": [
        {
          "output_type": "execute_result",
          "data": {
            "text/plain": [
              "          Open      High       Low     Close    Volume\n",
              "0     0.011237  0.011817  0.016351  0.012523  0.175837\n",
              "1     0.012523  0.024706  0.017946  0.024744  0.282776\n",
              "2     0.024744  0.031270  0.016619  0.025047  0.292816\n",
              "3     0.025047  0.023284  0.014040  0.012788  0.298857\n",
              "4     0.012788  0.011904  0.008424  0.011842  0.275184\n",
              "...        ...       ...       ...       ...       ...\n",
              "1914  0.342246  0.340737  0.347293  0.343772  0.002286\n",
              "1915  0.343646  0.339639  0.344766  0.340808  0.005959\n",
              "1916  0.340833  0.339077  0.342187  0.341048  0.003592\n",
              "1917  0.341048  0.341074  0.346118  0.338916  0.003265\n",
              "1918  0.338916  0.338054  0.347178  0.343015  0.007592\n",
              "\n",
              "[1919 rows x 5 columns]"
            ],
            "text/html": [
              "\n",
              "  <div id=\"df-f03a53ac-27b5-4688-875c-036a5bc32b33\">\n",
              "    <div class=\"colab-df-container\">\n",
              "      <div>\n",
              "<style scoped>\n",
              "    .dataframe tbody tr th:only-of-type {\n",
              "        vertical-align: middle;\n",
              "    }\n",
              "\n",
              "    .dataframe tbody tr th {\n",
              "        vertical-align: top;\n",
              "    }\n",
              "\n",
              "    .dataframe thead th {\n",
              "        text-align: right;\n",
              "    }\n",
              "</style>\n",
              "<table border=\"1\" class=\"dataframe\">\n",
              "  <thead>\n",
              "    <tr style=\"text-align: right;\">\n",
              "      <th></th>\n",
              "      <th>Open</th>\n",
              "      <th>High</th>\n",
              "      <th>Low</th>\n",
              "      <th>Close</th>\n",
              "      <th>Volume</th>\n",
              "    </tr>\n",
              "  </thead>\n",
              "  <tbody>\n",
              "    <tr>\n",
              "      <th>0</th>\n",
              "      <td>0.011237</td>\n",
              "      <td>0.011817</td>\n",
              "      <td>0.016351</td>\n",
              "      <td>0.012523</td>\n",
              "      <td>0.175837</td>\n",
              "    </tr>\n",
              "    <tr>\n",
              "      <th>1</th>\n",
              "      <td>0.012523</td>\n",
              "      <td>0.024706</td>\n",
              "      <td>0.017946</td>\n",
              "      <td>0.024744</td>\n",
              "      <td>0.282776</td>\n",
              "    </tr>\n",
              "    <tr>\n",
              "      <th>2</th>\n",
              "      <td>0.024744</td>\n",
              "      <td>0.031270</td>\n",
              "      <td>0.016619</td>\n",
              "      <td>0.025047</td>\n",
              "      <td>0.292816</td>\n",
              "    </tr>\n",
              "    <tr>\n",
              "      <th>3</th>\n",
              "      <td>0.025047</td>\n",
              "      <td>0.023284</td>\n",
              "      <td>0.014040</td>\n",
              "      <td>0.012788</td>\n",
              "      <td>0.298857</td>\n",
              "    </tr>\n",
              "    <tr>\n",
              "      <th>4</th>\n",
              "      <td>0.012788</td>\n",
              "      <td>0.011904</td>\n",
              "      <td>0.008424</td>\n",
              "      <td>0.011842</td>\n",
              "      <td>0.275184</td>\n",
              "    </tr>\n",
              "    <tr>\n",
              "      <th>...</th>\n",
              "      <td>...</td>\n",
              "      <td>...</td>\n",
              "      <td>...</td>\n",
              "      <td>...</td>\n",
              "      <td>...</td>\n",
              "    </tr>\n",
              "    <tr>\n",
              "      <th>1914</th>\n",
              "      <td>0.342246</td>\n",
              "      <td>0.340737</td>\n",
              "      <td>0.347293</td>\n",
              "      <td>0.343772</td>\n",
              "      <td>0.002286</td>\n",
              "    </tr>\n",
              "    <tr>\n",
              "      <th>1915</th>\n",
              "      <td>0.343646</td>\n",
              "      <td>0.339639</td>\n",
              "      <td>0.344766</td>\n",
              "      <td>0.340808</td>\n",
              "      <td>0.005959</td>\n",
              "    </tr>\n",
              "    <tr>\n",
              "      <th>1916</th>\n",
              "      <td>0.340833</td>\n",
              "      <td>0.339077</td>\n",
              "      <td>0.342187</td>\n",
              "      <td>0.341048</td>\n",
              "      <td>0.003592</td>\n",
              "    </tr>\n",
              "    <tr>\n",
              "      <th>1917</th>\n",
              "      <td>0.341048</td>\n",
              "      <td>0.341074</td>\n",
              "      <td>0.346118</td>\n",
              "      <td>0.338916</td>\n",
              "      <td>0.003265</td>\n",
              "    </tr>\n",
              "    <tr>\n",
              "      <th>1918</th>\n",
              "      <td>0.338916</td>\n",
              "      <td>0.338054</td>\n",
              "      <td>0.347178</td>\n",
              "      <td>0.343015</td>\n",
              "      <td>0.007592</td>\n",
              "    </tr>\n",
              "  </tbody>\n",
              "</table>\n",
              "<p>1919 rows × 5 columns</p>\n",
              "</div>\n",
              "      <button class=\"colab-df-convert\" onclick=\"convertToInteractive('df-f03a53ac-27b5-4688-875c-036a5bc32b33')\"\n",
              "              title=\"Convert this dataframe to an interactive table.\"\n",
              "              style=\"display:none;\">\n",
              "        \n",
              "  <svg xmlns=\"http://www.w3.org/2000/svg\" height=\"24px\"viewBox=\"0 0 24 24\"\n",
              "       width=\"24px\">\n",
              "    <path d=\"M0 0h24v24H0V0z\" fill=\"none\"/>\n",
              "    <path d=\"M18.56 5.44l.94 2.06.94-2.06 2.06-.94-2.06-.94-.94-2.06-.94 2.06-2.06.94zm-11 1L8.5 8.5l.94-2.06 2.06-.94-2.06-.94L8.5 2.5l-.94 2.06-2.06.94zm10 10l.94 2.06.94-2.06 2.06-.94-2.06-.94-.94-2.06-.94 2.06-2.06.94z\"/><path d=\"M17.41 7.96l-1.37-1.37c-.4-.4-.92-.59-1.43-.59-.52 0-1.04.2-1.43.59L10.3 9.45l-7.72 7.72c-.78.78-.78 2.05 0 2.83L4 21.41c.39.39.9.59 1.41.59.51 0 1.02-.2 1.41-.59l7.78-7.78 2.81-2.81c.8-.78.8-2.07 0-2.86zM5.41 20L4 18.59l7.72-7.72 1.47 1.35L5.41 20z\"/>\n",
              "  </svg>\n",
              "      </button>\n",
              "      \n",
              "  <style>\n",
              "    .colab-df-container {\n",
              "      display:flex;\n",
              "      flex-wrap:wrap;\n",
              "      gap: 12px;\n",
              "    }\n",
              "\n",
              "    .colab-df-convert {\n",
              "      background-color: #E8F0FE;\n",
              "      border: none;\n",
              "      border-radius: 50%;\n",
              "      cursor: pointer;\n",
              "      display: none;\n",
              "      fill: #1967D2;\n",
              "      height: 32px;\n",
              "      padding: 0 0 0 0;\n",
              "      width: 32px;\n",
              "    }\n",
              "\n",
              "    .colab-df-convert:hover {\n",
              "      background-color: #E2EBFA;\n",
              "      box-shadow: 0px 1px 2px rgba(60, 64, 67, 0.3), 0px 1px 3px 1px rgba(60, 64, 67, 0.15);\n",
              "      fill: #174EA6;\n",
              "    }\n",
              "\n",
              "    [theme=dark] .colab-df-convert {\n",
              "      background-color: #3B4455;\n",
              "      fill: #D2E3FC;\n",
              "    }\n",
              "\n",
              "    [theme=dark] .colab-df-convert:hover {\n",
              "      background-color: #434B5C;\n",
              "      box-shadow: 0px 1px 3px 1px rgba(0, 0, 0, 0.15);\n",
              "      filter: drop-shadow(0px 1px 2px rgba(0, 0, 0, 0.3));\n",
              "      fill: #FFFFFF;\n",
              "    }\n",
              "  </style>\n",
              "\n",
              "      <script>\n",
              "        const buttonEl =\n",
              "          document.querySelector('#df-f03a53ac-27b5-4688-875c-036a5bc32b33 button.colab-df-convert');\n",
              "        buttonEl.style.display =\n",
              "          google.colab.kernel.accessAllowed ? 'block' : 'none';\n",
              "\n",
              "        async function convertToInteractive(key) {\n",
              "          const element = document.querySelector('#df-f03a53ac-27b5-4688-875c-036a5bc32b33');\n",
              "          const dataTable =\n",
              "            await google.colab.kernel.invokeFunction('convertToInteractive',\n",
              "                                                     [key], {});\n",
              "          if (!dataTable) return;\n",
              "\n",
              "          const docLinkHtml = 'Like what you see? Visit the ' +\n",
              "            '<a target=\"_blank\" href=https://colab.research.google.com/notebooks/data_table.ipynb>data table notebook</a>'\n",
              "            + ' to learn more about interactive tables.';\n",
              "          element.innerHTML = '';\n",
              "          dataTable['output_type'] = 'display_data';\n",
              "          await google.colab.output.renderOutput(dataTable, element);\n",
              "          const docLink = document.createElement('div');\n",
              "          docLink.innerHTML = docLinkHtml;\n",
              "          element.appendChild(docLink);\n",
              "        }\n",
              "      </script>\n",
              "    </div>\n",
              "  </div>\n",
              "  "
            ]
          },
          "metadata": {},
          "execution_count": 6
        }
      ]
    },
    {
      "cell_type": "markdown",
      "metadata": {
        "id": "H-YdTCYeMZmc"
      },
      "source": [
        "## Train Set, Validation Set 생성"
      ]
    },
    {
      "cell_type": "markdown",
      "metadata": {
        "id": "WRfGcPJET7Dq"
      },
      "source": [
        "Train Set / Validation Set 를 분할 합니다.\n",
        "\n",
        "- ~최근 500개: Train Set\n",
        "- 최근 500개~: Valid Set"
      ]
    },
    {
      "cell_type": "code",
      "metadata": {
        "id": "1QXuDIkTMZmd"
      },
      "source": [
        "train = df_scaled.iloc[:-500]\n",
        "valid = df_scaled.iloc[-500:]"
      ],
      "execution_count": 8,
      "outputs": []
    },
    {
      "cell_type": "code",
      "source": [
        "train.shape, valid.shape"
      ],
      "metadata": {
        "id": "ACYRM6d9tO7y",
        "colab": {
          "base_uri": "https://localhost:8080/"
        },
        "outputId": "fa1505f1-757d-49bf-d67f-57ea7505caa7"
      },
      "execution_count": 9,
      "outputs": [
        {
          "output_type": "execute_result",
          "data": {
            "text/plain": [
              "((1419, 5), (500, 5))"
            ]
          },
          "metadata": {},
          "execution_count": 9
        }
      ]
    },
    {
      "cell_type": "markdown",
      "metadata": {
        "id": "amk_ksmDMZmb"
      },
      "source": [
        "## Window Dataset Loader"
      ]
    },
    {
      "cell_type": "markdown",
      "metadata": {
        "id": "u9VGhKTIMZmQ"
      },
      "source": [
        "`window_size`, `batch_size`, `shuffle_buffer`는 자유롭게 설정합니다."
      ]
    },
    {
      "cell_type": "code",
      "metadata": {
        "id": "k161f1YQMZmR"
      },
      "source": [
        "# 윈도우 사이즈\n",
        "window_size=20\n",
        "# 배치 사이즈\n",
        "batch_size = 32\n",
        "# 셔플 사이즈\n",
        "shuffle_size = 1000"
      ],
      "execution_count": 10,
      "outputs": []
    },
    {
      "cell_type": "code",
      "metadata": {
        "id": "TfyNoztDMZmb"
      },
      "source": [
        "def windowed_dataset(series, window_size, batch_size, shuffle, shuffle_buffer):\n",
        "    series = tf.expand_dims(series, axis=-1)\n",
        "    ds = tf.data.Dataset.from_tensor_slices(series)\n",
        "    ds = ds.window(window_size + 1, shift=1, drop_remainder=True)\n",
        "    ds = ds.flat_map(lambda w: w.batch(window_size + 1))\n",
        "    if shuffle:\n",
        "        ds = ds.shuffle(shuffle_buffer)\n",
        "    ds = ds.map(lambda w: (w[:-1], w[-1]))\n",
        "    return ds.batch(batch_size).prefetch(1)"
      ],
      "execution_count": 11,
      "outputs": []
    },
    {
      "cell_type": "markdown",
      "metadata": {
        "id": "cPxvjABJWDro"
      },
      "source": [
        "`train_set`와 `validation_set`를 만듭니다."
      ]
    },
    {
      "cell_type": "code",
      "metadata": {
        "id": "1mLFgMMBMZmg"
      },
      "source": [
        "train_set = windowed_dataset(train['Close'], \n",
        "                             window_size=window_size, \n",
        "                             batch_size=batch_size,\n",
        "                             shuffle=True,\n",
        "                             shuffle_buffer=shuffle_size)\n",
        "\n",
        "validation_set = windowed_dataset(valid['Close'], \n",
        "                                  window_size=window_size,\n",
        "                                  batch_size=1,\n",
        "                                  shuffle=False,\n",
        "                                  shuffle_buffer=shuffle_size)"
      ],
      "execution_count": 12,
      "outputs": []
    },
    {
      "cell_type": "markdown",
      "metadata": {
        "id": "Y2k1dYQcMZmj"
      },
      "source": [
        "## 모델 정의 (Sequential)"
      ]
    },
    {
      "cell_type": "code",
      "metadata": {
        "id": "nLJ21qRtMZmp"
      },
      "source": [
        "model = Sequential([\n",
        "    GRU(16, input_shape=(window_size, 1)),\n",
        "    Dense(16, activation=\"relu\"),\n",
        "    Dense(1),\n",
        "])"
      ],
      "execution_count": 13,
      "outputs": []
    },
    {
      "cell_type": "markdown",
      "metadata": {
        "id": "E1bif1TuUl1m"
      },
      "source": [
        "모델의 구조 요약을 확인합니다."
      ]
    },
    {
      "cell_type": "code",
      "metadata": {
        "id": "VgET749LMZmt",
        "colab": {
          "base_uri": "https://localhost:8080/"
        },
        "outputId": "e226b174-a797-469a-cda2-b7843fdf39d2"
      },
      "source": [
        "model.summary()"
      ],
      "execution_count": 14,
      "outputs": [
        {
          "output_type": "stream",
          "name": "stdout",
          "text": [
            "Model: \"sequential\"\n",
            "_________________________________________________________________\n",
            " Layer (type)                Output Shape              Param #   \n",
            "=================================================================\n",
            " gru (GRU)                   (None, 16)                912       \n",
            "                                                                 \n",
            " dense (Dense)               (None, 16)                272       \n",
            "                                                                 \n",
            " dense_1 (Dense)             (None, 1)                 17        \n",
            "                                                                 \n",
            "=================================================================\n",
            "Total params: 1,201\n",
            "Trainable params: 1,201\n",
            "Non-trainable params: 0\n",
            "_________________________________________________________________\n"
          ]
        }
      ]
    },
    {
      "cell_type": "markdown",
      "metadata": {
        "id": "FXKGQ3rmMZmv"
      },
      "source": [
        "## 컴파일 (compile)"
      ]
    },
    {
      "cell_type": "markdown",
      "metadata": {
        "id": "jZ1ETr6mUuqB"
      },
      "source": [
        "**Optimizer**의 `learning_rate`을 별도 설정합니다."
      ]
    },
    {
      "cell_type": "code",
      "metadata": {
        "id": "7NrbT-cAMZm2"
      },
      "source": [
        "model.compile(loss='mse',\n",
        "              optimizer=Adam(learning_rate=0.0005),\n",
        "              metrics=[\"mse\"])"
      ],
      "execution_count": 15,
      "outputs": []
    },
    {
      "cell_type": "markdown",
      "metadata": {
        "id": "yJ0gsuoqSv7z"
      },
      "source": [
        "## ModelCheckpoint: 체크포인트 생성"
      ]
    },
    {
      "cell_type": "markdown",
      "metadata": {
        "id": "oXHmDZ2aSx4O"
      },
      "source": [
        "`val_loss` 기준으로 epoch 마다 최적의 모델을 저장하기 위하여, ModelCheckpoint를 만듭니다.\n",
        "* `checkpoint_path`는 모델이 저장될 파일 명을 설정합니다.\n",
        "* `ModelCheckpoint`을 선언하고, 적절한 옵션 값을 지정합니다."
      ]
    },
    {
      "cell_type": "code",
      "metadata": {
        "id": "O1JJZyg0MZm5"
      },
      "source": [
        "checkpoint_path = 'tmp_checkpoint.ckpt'\n",
        "checkpoint = ModelCheckpoint(checkpoint_path, \n",
        "                             save_weights_only=True, \n",
        "                             save_best_only=True, \n",
        "                             monitor='val_loss',\n",
        "                             verbose=1)\n"
      ],
      "execution_count": 16,
      "outputs": []
    },
    {
      "cell_type": "markdown",
      "metadata": {
        "id": "1leCk2zKMZm7"
      },
      "source": [
        "## 학습 (fit)"
      ]
    },
    {
      "cell_type": "code",
      "metadata": {
        "id": "lrDA4DzbMZm8",
        "colab": {
          "base_uri": "https://localhost:8080/"
        },
        "outputId": "cc9c9597-9f93-4518-89f7-159bcacb90d9"
      },
      "source": [
        "model.fit(train_set, \n",
        "          validation_data=(validation_set), \n",
        "          epochs=30, \n",
        "          callbacks=[checkpoint],\n",
        "          )"
      ],
      "execution_count": 17,
      "outputs": [
        {
          "output_type": "stream",
          "name": "stdout",
          "text": [
            "Epoch 1/30\n",
            "     44/Unknown - 8s 5ms/step - loss: 0.0109 - mse: 0.0109\n",
            "Epoch 1: val_loss improved from inf to 0.02969, saving model to tmp_checkpoint.ckpt\n",
            "44/44 [==============================] - 10s 50ms/step - loss: 0.0109 - mse: 0.0109 - val_loss: 0.0297 - val_mse: 0.0297\n",
            "Epoch 2/30\n",
            "44/44 [==============================] - ETA: 0s - loss: 0.0015 - mse: 0.0015\n",
            "Epoch 2: val_loss improved from 0.02969 to 0.00311, saving model to tmp_checkpoint.ckpt\n",
            "44/44 [==============================] - 2s 35ms/step - loss: 0.0015 - mse: 0.0015 - val_loss: 0.0031 - val_mse: 0.0031\n",
            "Epoch 3/30\n",
            "41/44 [==========================>...] - ETA: 0s - loss: 2.5489e-04 - mse: 2.5489e-04\n",
            "Epoch 3: val_loss improved from 0.00311 to 0.00096, saving model to tmp_checkpoint.ckpt\n",
            "44/44 [==============================] - 2s 36ms/step - loss: 2.6212e-04 - mse: 2.6212e-04 - val_loss: 9.5937e-04 - val_mse: 9.5937e-04\n",
            "Epoch 4/30\n",
            "40/44 [==========================>...] - ETA: 0s - loss: 1.5891e-04 - mse: 1.5891e-04\n",
            "Epoch 4: val_loss did not improve from 0.00096\n",
            "44/44 [==============================] - 2s 40ms/step - loss: 1.5830e-04 - mse: 1.5830e-04 - val_loss: 9.6474e-04 - val_mse: 9.6474e-04\n",
            "Epoch 5/30\n",
            "38/44 [========================>.....] - ETA: 0s - loss: 1.3855e-04 - mse: 1.3855e-04\n",
            "Epoch 5: val_loss improved from 0.00096 to 0.00089, saving model to tmp_checkpoint.ckpt\n",
            "44/44 [==============================] - 2s 47ms/step - loss: 1.4621e-04 - mse: 1.4621e-04 - val_loss: 8.8687e-04 - val_mse: 8.8687e-04\n",
            "Epoch 6/30\n",
            "41/44 [==========================>...] - ETA: 0s - loss: 1.4179e-04 - mse: 1.4179e-04\n",
            "Epoch 6: val_loss improved from 0.00089 to 0.00077, saving model to tmp_checkpoint.ckpt\n",
            "44/44 [==============================] - 2s 41ms/step - loss: 1.3726e-04 - mse: 1.3726e-04 - val_loss: 7.6804e-04 - val_mse: 7.6804e-04\n",
            "Epoch 7/30\n",
            "42/44 [===========================>..] - ETA: 0s - loss: 1.2149e-04 - mse: 1.2149e-04\n",
            "Epoch 7: val_loss improved from 0.00077 to 0.00071, saving model to tmp_checkpoint.ckpt\n",
            "44/44 [==============================] - 2s 36ms/step - loss: 1.3276e-04 - mse: 1.3276e-04 - val_loss: 7.0979e-04 - val_mse: 7.0979e-04\n",
            "Epoch 8/30\n",
            "33/44 [=====================>........] - ETA: 0s - loss: 1.2402e-04 - mse: 1.2402e-04\n",
            "Epoch 8: val_loss did not improve from 0.00071\n",
            "44/44 [==============================] - 2s 35ms/step - loss: 1.3260e-04 - mse: 1.3260e-04 - val_loss: 7.7273e-04 - val_mse: 7.7273e-04\n",
            "Epoch 9/30\n",
            "43/44 [============================>.] - ETA: 0s - loss: 1.3096e-04 - mse: 1.3096e-04\n",
            "Epoch 9: val_loss did not improve from 0.00071\n",
            "44/44 [==============================] - 1s 28ms/step - loss: 1.3206e-04 - mse: 1.3206e-04 - val_loss: 8.0248e-04 - val_mse: 8.0248e-04\n",
            "Epoch 10/30\n",
            "42/44 [===========================>..] - ETA: 0s - loss: 1.2526e-04 - mse: 1.2526e-04\n",
            "Epoch 10: val_loss improved from 0.00071 to 0.00069, saving model to tmp_checkpoint.ckpt\n",
            "44/44 [==============================] - 1s 29ms/step - loss: 1.2719e-04 - mse: 1.2719e-04 - val_loss: 6.9363e-04 - val_mse: 6.9363e-04\n",
            "Epoch 11/30\n",
            "44/44 [==============================] - ETA: 0s - loss: 1.3010e-04 - mse: 1.3010e-04\n",
            "Epoch 11: val_loss did not improve from 0.00069\n",
            "44/44 [==============================] - 2s 34ms/step - loss: 1.3010e-04 - mse: 1.3010e-04 - val_loss: 9.8192e-04 - val_mse: 9.8192e-04\n",
            "Epoch 12/30\n",
            "32/44 [====================>.........] - ETA: 0s - loss: 1.1453e-04 - mse: 1.1453e-04\n",
            "Epoch 12: val_loss improved from 0.00069 to 0.00061, saving model to tmp_checkpoint.ckpt\n",
            "44/44 [==============================] - 3s 65ms/step - loss: 1.3337e-04 - mse: 1.3337e-04 - val_loss: 6.0659e-04 - val_mse: 6.0659e-04\n",
            "Epoch 13/30\n",
            "41/44 [==========================>...] - ETA: 0s - loss: 1.2659e-04 - mse: 1.2659e-04\n",
            "Epoch 13: val_loss did not improve from 0.00061\n",
            "44/44 [==============================] - 2s 35ms/step - loss: 1.2538e-04 - mse: 1.2538e-04 - val_loss: 6.9911e-04 - val_mse: 6.9911e-04\n",
            "Epoch 14/30\n",
            "43/44 [============================>.] - ETA: 0s - loss: 1.2781e-04 - mse: 1.2781e-04\n",
            "Epoch 14: val_loss did not improve from 0.00061\n",
            "44/44 [==============================] - 1s 28ms/step - loss: 1.2597e-04 - mse: 1.2597e-04 - val_loss: 6.9931e-04 - val_mse: 6.9931e-04\n",
            "Epoch 15/30\n",
            "41/44 [==========================>...] - ETA: 0s - loss: 1.2054e-04 - mse: 1.2054e-04\n",
            "Epoch 15: val_loss improved from 0.00061 to 0.00056, saving model to tmp_checkpoint.ckpt\n",
            "44/44 [==============================] - 2s 36ms/step - loss: 1.2322e-04 - mse: 1.2322e-04 - val_loss: 5.6027e-04 - val_mse: 5.6027e-04\n",
            "Epoch 16/30\n",
            "43/44 [============================>.] - ETA: 0s - loss: 1.2195e-04 - mse: 1.2195e-04\n",
            "Epoch 16: val_loss did not improve from 0.00056\n",
            "44/44 [==============================] - 1s 29ms/step - loss: 1.2445e-04 - mse: 1.2445e-04 - val_loss: 6.2658e-04 - val_mse: 6.2658e-04\n",
            "Epoch 17/30\n",
            "44/44 [==============================] - ETA: 0s - loss: 1.2054e-04 - mse: 1.2054e-04\n",
            "Epoch 17: val_loss did not improve from 0.00056\n",
            "44/44 [==============================] - 1s 28ms/step - loss: 1.2054e-04 - mse: 1.2054e-04 - val_loss: 7.3364e-04 - val_mse: 7.3364e-04\n",
            "Epoch 18/30\n",
            "40/44 [==========================>...] - ETA: 0s - loss: 1.1341e-04 - mse: 1.1341e-04\n",
            "Epoch 18: val_loss did not improve from 0.00056\n",
            "44/44 [==============================] - 1s 28ms/step - loss: 1.2136e-04 - mse: 1.2136e-04 - val_loss: 5.7639e-04 - val_mse: 5.7639e-04\n",
            "Epoch 19/30\n",
            "40/44 [==========================>...] - ETA: 0s - loss: 1.2332e-04 - mse: 1.2332e-04\n",
            "Epoch 19: val_loss did not improve from 0.00056\n",
            "44/44 [==============================] - 2s 35ms/step - loss: 1.2004e-04 - mse: 1.2004e-04 - val_loss: 5.9267e-04 - val_mse: 5.9267e-04\n",
            "Epoch 20/30\n",
            "37/44 [========================>.....] - ETA: 0s - loss: 1.2355e-04 - mse: 1.2355e-04\n",
            "Epoch 20: val_loss improved from 0.00056 to 0.00053, saving model to tmp_checkpoint.ckpt\n",
            "44/44 [==============================] - 1s 29ms/step - loss: 1.2568e-04 - mse: 1.2568e-04 - val_loss: 5.2993e-04 - val_mse: 5.2993e-04\n",
            "Epoch 21/30\n",
            "40/44 [==========================>...] - ETA: 0s - loss: 1.3072e-04 - mse: 1.3072e-04\n",
            "Epoch 21: val_loss did not improve from 0.00053\n",
            "44/44 [==============================] - 2s 36ms/step - loss: 1.2991e-04 - mse: 1.2991e-04 - val_loss: 5.7667e-04 - val_mse: 5.7667e-04\n",
            "Epoch 22/30\n",
            "41/44 [==========================>...] - ETA: 0s - loss: 1.2108e-04 - mse: 1.2108e-04\n",
            "Epoch 22: val_loss did not improve from 0.00053\n",
            "44/44 [==============================] - 1s 28ms/step - loss: 1.1731e-04 - mse: 1.1731e-04 - val_loss: 5.6651e-04 - val_mse: 5.6651e-04\n",
            "Epoch 23/30\n",
            "39/44 [=========================>....] - ETA: 0s - loss: 1.1097e-04 - mse: 1.1097e-04\n",
            "Epoch 23: val_loss did not improve from 0.00053\n",
            "44/44 [==============================] - 1s 29ms/step - loss: 1.1690e-04 - mse: 1.1690e-04 - val_loss: 5.3521e-04 - val_mse: 5.3521e-04\n",
            "Epoch 24/30\n",
            "42/44 [===========================>..] - ETA: 0s - loss: 1.1724e-04 - mse: 1.1724e-04\n",
            "Epoch 24: val_loss did not improve from 0.00053\n",
            "44/44 [==============================] - 1s 28ms/step - loss: 1.2390e-04 - mse: 1.2390e-04 - val_loss: 6.2192e-04 - val_mse: 6.2192e-04\n",
            "Epoch 25/30\n",
            "44/44 [==============================] - ETA: 0s - loss: 1.2026e-04 - mse: 1.2026e-04\n",
            "Epoch 25: val_loss did not improve from 0.00053\n",
            "44/44 [==============================] - 1s 28ms/step - loss: 1.2026e-04 - mse: 1.2026e-04 - val_loss: 7.5503e-04 - val_mse: 7.5503e-04\n",
            "Epoch 26/30\n",
            "42/44 [===========================>..] - ETA: 0s - loss: 1.1520e-04 - mse: 1.1520e-04\n",
            "Epoch 26: val_loss did not improve from 0.00053\n",
            "44/44 [==============================] - 1s 29ms/step - loss: 1.1806e-04 - mse: 1.1806e-04 - val_loss: 6.0888e-04 - val_mse: 6.0888e-04\n",
            "Epoch 27/30\n",
            "39/44 [=========================>....] - ETA: 0s - loss: 1.0626e-04 - mse: 1.0626e-04\n",
            "Epoch 27: val_loss did not improve from 0.00053\n",
            "44/44 [==============================] - 1s 28ms/step - loss: 1.1443e-04 - mse: 1.1443e-04 - val_loss: 5.3977e-04 - val_mse: 5.3977e-04\n",
            "Epoch 28/30\n",
            "42/44 [===========================>..] - ETA: 0s - loss: 1.1811e-04 - mse: 1.1811e-04\n",
            "Epoch 28: val_loss did not improve from 0.00053\n",
            "44/44 [==============================] - 2s 35ms/step - loss: 1.1739e-04 - mse: 1.1739e-04 - val_loss: 6.1728e-04 - val_mse: 6.1728e-04\n",
            "Epoch 29/30\n",
            "39/44 [=========================>....] - ETA: 0s - loss: 1.1521e-04 - mse: 1.1521e-04\n",
            "Epoch 29: val_loss did not improve from 0.00053\n",
            "44/44 [==============================] - 1s 28ms/step - loss: 1.1250e-04 - mse: 1.1250e-04 - val_loss: 5.8850e-04 - val_mse: 5.8850e-04\n",
            "Epoch 30/30\n",
            "43/44 [============================>.] - ETA: 0s - loss: 1.1821e-04 - mse: 1.1821e-04\n",
            "Epoch 30: val_loss did not improve from 0.00053\n",
            "44/44 [==============================] - 1s 29ms/step - loss: 1.1735e-04 - mse: 1.1735e-04 - val_loss: 5.7787e-04 - val_mse: 5.7787e-04\n"
          ]
        },
        {
          "output_type": "execute_result",
          "data": {
            "text/plain": [
              "<keras.callbacks.History at 0x7f21ce44ac50>"
            ]
          },
          "metadata": {},
          "execution_count": 17
        }
      ]
    },
    {
      "cell_type": "markdown",
      "metadata": {
        "id": "shzhTOjAninH"
      },
      "source": [
        "## 학습 완료 후 Load Weights (ModelCheckpoint)"
      ]
    },
    {
      "cell_type": "markdown",
      "metadata": {
        "id": "kLqb_6XrMvdq"
      },
      "source": [
        "학습이 완료된 후에는 반드시 `load_weights`를 해주어야 합니다.\n",
        "\n",
        "그렇지 않으면, 열심히 ModelCheckpoint를 만든 의미가 없습니다."
      ]
    },
    {
      "cell_type": "code",
      "metadata": {
        "id": "4jO1ucZ9ninH",
        "colab": {
          "base_uri": "https://localhost:8080/"
        },
        "outputId": "ef4d7ea7-e5f6-4d1b-bbb6-1987ae207570"
      },
      "source": [
        "model.load_weights(checkpoint_path)"
      ],
      "execution_count": 18,
      "outputs": [
        {
          "output_type": "execute_result",
          "data": {
            "text/plain": [
              "<tensorflow.python.training.tracking.util.CheckpointLoadStatus at 0x7f214de4ff50>"
            ]
          },
          "metadata": {},
          "execution_count": 18
        }
      ]
    },
    {
      "cell_type": "markdown",
      "source": [
        "## 예측"
      ],
      "metadata": {
        "id": "Y3zVUObO8S-5"
      }
    },
    {
      "cell_type": "code",
      "source": [
        "result = model.predict(validation_set)"
      ],
      "metadata": {
        "id": "oU8iPNqOvHO9"
      },
      "execution_count": 19,
      "outputs": []
    },
    {
      "cell_type": "code",
      "source": [
        "result.shape"
      ],
      "metadata": {
        "id": "479uaGEXxDqF",
        "colab": {
          "base_uri": "https://localhost:8080/"
        },
        "outputId": "b8fe62b5-5b7d-4063-aeb0-e5ca81403e9b"
      },
      "execution_count": 20,
      "outputs": [
        {
          "output_type": "execute_result",
          "data": {
            "text/plain": [
              "(480, 1)"
            ]
          },
          "metadata": {},
          "execution_count": 20
        }
      ]
    },
    {
      "cell_type": "markdown",
      "source": [
        "## 예측 데이터 시각화"
      ],
      "metadata": {
        "id": "0cJdQDpT05G3"
      }
    },
    {
      "cell_type": "code",
      "source": [
        "import matplotlib.pyplot as plt\n",
        "\n",
        "# 테스트의 실제값과 예측값을 시각화 하세요.\n",
        "plt.figure(figsize=(12, 9))\n",
        "plt.plot(valid['Close'].iloc[window_size:].values, label='actual')\n",
        "plt.plot(result.reshape(-1), label='prediction')\n",
        "plt.legend()\n",
        "plt.show()"
      ],
      "metadata": {
        "id": "vt4VgRPDxC0l",
        "colab": {
          "base_uri": "https://localhost:8080/",
          "height": 537
        },
        "outputId": "7b0dc227-3a7e-46fc-9cfb-74bb3f5885ea"
      },
      "execution_count": 21,
      "outputs": [
        {
          "output_type": "display_data",
          "data": {
            "text/plain": [
              "<Figure size 864x648 with 1 Axes>"
            ],
            "image/png": "[encoded data removed]"
          },
          "metadata": {
            "needs_background": "light"
          }
        }
      ]
    },
    {
      "cell_type": "code",
      "source": [
        "yy = np.array(df_scaled['Close'].iloc[-22:-2]) \n",
        "yy = yy.reshape(1, 20, 1) \n",
        "model.predict(yy)"
      ],
      "metadata": {
        "colab": {
          "base_uri": "https://localhost:8080/"
        },
        "id": "P_G_LKwP4MpO",
        "outputId": "c2414a82-c947-4537-8852-942ae2c0f885"
      },
      "execution_count": 25,
      "outputs": [
        {
          "output_type": "execute_result",
          "data": {
            "text/plain": [
              "array([[0.34408173]], dtype=float32)"
            ]
          },
          "metadata": {},
          "execution_count": 25
        }
      ]
    },
    {
      "cell_type": "code",
      "source": [
        "df_scaled"
      ],
      "metadata": {
        "colab": {
          "base_uri": "https://localhost:8080/",
          "height": 424
        },
        "id": "1LyliDeo4PtZ",
        "outputId": "2046fb1f-b695-4603-c25d-8f417cdd3820"
      },
      "execution_count": 23,
      "outputs": [
        {
          "output_type": "execute_result",
          "data": {
            "text/plain": [
              "          Open      High       Low     Close    Volume\n",
              "0     0.011237  0.011817  0.016351  0.012523  0.175837\n",
              "1     0.012523  0.024706  0.017946  0.024744  0.282776\n",
              "2     0.024744  0.031270  0.016619  0.025047  0.292816\n",
              "3     0.025047  0.023284  0.014040  0.012788  0.298857\n",
              "4     0.012788  0.011904  0.008424  0.011842  0.275184\n",
              "...        ...       ...       ...       ...       ...\n",
              "1914  0.342246  0.340737  0.347293  0.343772  0.002286\n",
              "1915  0.343646  0.339639  0.344766  0.340808  0.005959\n",
              "1916  0.340833  0.339077  0.342187  0.341048  0.003592\n",
              "1917  0.341048  0.341074  0.346118  0.338916  0.003265\n",
              "1918  0.338916  0.338054  0.347178  0.343015  0.007592\n",
              "\n",
              "[1919 rows x 5 columns]"
            ],
            "text/html": [
              "\n",
              "  <div id=\"df-67e12c72-6dc5-4ce1-9253-3302ad244af9\">\n",
              "    <div class=\"colab-df-container\">\n",
              "      <div>\n",
              "<style scoped>\n",
              "    .dataframe tbody tr th:only-of-type {\n",
              "        vertical-align: middle;\n",
              "    }\n",
              "\n",
              "    .dataframe tbody tr th {\n",
              "        vertical-align: top;\n",
              "    }\n",
              "\n",
              "    .dataframe thead th {\n",
              "        text-align: right;\n",
              "    }\n",
              "</style>\n",
              "<table border=\"1\" class=\"dataframe\">\n",
              "  <thead>\n",
              "    <tr style=\"text-align: right;\">\n",
              "      <th></th>\n",
              "      <th>Open</th>\n",
              "      <th>High</th>\n",
              "      <th>Low</th>\n",
              "      <th>Close</th>\n",
              "      <th>Volume</th>\n",
              "    </tr>\n",
              "  </thead>\n",
              "  <tbody>\n",
              "    <tr>\n",
              "      <th>0</th>\n",
              "      <td>0.011237</td>\n",
              "      <td>0.011817</td>\n",
              "      <td>0.016351</td>\n",
              "      <td>0.012523</td>\n",
              "      <td>0.175837</td>\n",
              "    </tr>\n",
              "    <tr>\n",
              "      <th>1</th>\n",
              "      <td>0.012523</td>\n",
              "      <td>0.024706</td>\n",
              "      <td>0.017946</td>\n",
              "      <td>0.024744</td>\n",
              "      <td>0.282776</td>\n",
              "    </tr>\n",
              "    <tr>\n",
              "      <th>2</th>\n",
              "      <td>0.024744</td>\n",
              "      <td>0.031270</td>\n",
              "      <td>0.016619</td>\n",
              "      <td>0.025047</td>\n",
              "      <td>0.292816</td>\n",
              "    </tr>\n",
              "    <tr>\n",
              "      <th>3</th>\n",
              "      <td>0.025047</td>\n",
              "      <td>0.023284</td>\n",
              "      <td>0.014040</td>\n",
              "      <td>0.012788</td>\n",
              "      <td>0.298857</td>\n",
              "    </tr>\n",
              "    <tr>\n",
              "      <th>4</th>\n",
              "      <td>0.012788</td>\n",
              "      <td>0.011904</td>\n",
              "      <td>0.008424</td>\n",
              "      <td>0.011842</td>\n",
              "      <td>0.275184</td>\n",
              "    </tr>\n",
              "    <tr>\n",
              "      <th>...</th>\n",
              "      <td>...</td>\n",
              "      <td>...</td>\n",
              "      <td>...</td>\n",
              "      <td>...</td>\n",
              "      <td>...</td>\n",
              "    </tr>\n",
              "    <tr>\n",
              "      <th>1914</th>\n",
              "      <td>0.342246</td>\n",
              "      <td>0.340737</td>\n",
              "      <td>0.347293</td>\n",
              "      <td>0.343772</td>\n",
              "      <td>0.002286</td>\n",
              "    </tr>\n",
              "    <tr>\n",
              "      <th>1915</th>\n",
              "      <td>0.343646</td>\n",
              "      <td>0.339639</td>\n",
              "      <td>0.344766</td>\n",
              "      <td>0.340808</td>\n",
              "      <td>0.005959</td>\n",
              "    </tr>\n",
              "    <tr>\n",
              "      <th>1916</th>\n",
              "      <td>0.340833</td>\n",
              "      <td>0.339077</td>\n",
              "      <td>0.342187</td>\n",
              "      <td>0.341048</td>\n",
              "      <td>0.003592</td>\n",
              "    </tr>\n",
              "    <tr>\n",
              "      <th>1917</th>\n",
              "      <td>0.341048</td>\n",
              "      <td>0.341074</td>\n",
              "      <td>0.346118</td>\n",
              "      <td>0.338916</td>\n",
              "      <td>0.003265</td>\n",
              "    </tr>\n",
              "    <tr>\n",
              "      <th>1918</th>\n",
              "      <td>0.338916</td>\n",
              "      <td>0.338054</td>\n",
              "      <td>0.347178</td>\n",
              "      <td>0.343015</td>\n",
              "      <td>0.007592</td>\n",
              "    </tr>\n",
              "  </tbody>\n",
              "</table>\n",
              "<p>1919 rows × 5 columns</p>\n",
              "</div>\n",
              "      <button class=\"colab-df-convert\" onclick=\"convertToInteractive('df-67e12c72-6dc5-4ce1-9253-3302ad244af9')\"\n",
              "              title=\"Convert this dataframe to an interactive table.\"\n",
              "              style=\"display:none;\">\n",
              "        \n",
              "  <svg xmlns=\"http://www.w3.org/2000/svg\" height=\"24px\"viewBox=\"0 0 24 24\"\n",
              "       width=\"24px\">\n",
              "    <path d=\"M0 0h24v24H0V0z\" fill=\"none\"/>\n",
              "    <path d=\"M18.56 5.44l.94 2.06.94-2.06 2.06-.94-2.06-.94-.94-2.06-.94 2.06-2.06.94zm-11 1L8.5 8.5l.94-2.06 2.06-.94-2.06-.94L8.5 2.5l-.94 2.06-2.06.94zm10 10l.94 2.06.94-2.06 2.06-.94-2.06-.94-.94-2.06-.94 2.06-2.06.94z\"/><path d=\"M17.41 7.96l-1.37-1.37c-.4-.4-.92-.59-1.43-.59-.52 0-1.04.2-1.43.59L10.3 9.45l-7.72 7.72c-.78.78-.78 2.05 0 2.83L4 21.41c.39.39.9.59 1.41.59.51 0 1.02-.2 1.41-.59l7.78-7.78 2.81-2.81c.8-.78.8-2.07 0-2.86zM5.41 20L4 18.59l7.72-7.72 1.47 1.35L5.41 20z\"/>\n",
              "  </svg>\n",
              "      </button>\n",
              "      \n",
              "  <style>\n",
              "    .colab-df-container {\n",
              "      display:flex;\n",
              "      flex-wrap:wrap;\n",
              "      gap: 12px;\n",
              "    }\n",
              "\n",
              "    .colab-df-convert {\n",
              "      background-color: #E8F0FE;\n",
              "      border: none;\n",
              "      border-radius: 50%;\n",
              "      cursor: pointer;\n",
              "      display: none;\n",
              "      fill: #1967D2;\n",
              "      height: 32px;\n",
              "      padding: 0 0 0 0;\n",
              "      width: 32px;\n",
              "    }\n",
              "\n",
              "    .colab-df-convert:hover {\n",
              "      background-color: #E2EBFA;\n",
              "      box-shadow: 0px 1px 2px rgba(60, 64, 67, 0.3), 0px 1px 3px 1px rgba(60, 64, 67, 0.15);\n",
              "      fill: #174EA6;\n",
              "    }\n",
              "\n",
              "    [theme=dark] .colab-df-convert {\n",
              "      background-color: #3B4455;\n",
              "      fill: #D2E3FC;\n",
              "    }\n",
              "\n",
              "    [theme=dark] .colab-df-convert:hover {\n",
              "      background-color: #434B5C;\n",
              "      box-shadow: 0px 1px 3px 1px rgba(0, 0, 0, 0.15);\n",
              "      filter: drop-shadow(0px 1px 2px rgba(0, 0, 0, 0.3));\n",
              "      fill: #FFFFFF;\n",
              "    }\n",
              "  </style>\n",
              "\n",
              "      <script>\n",
              "        const buttonEl =\n",
              "          document.querySelector('#df-67e12c72-6dc5-4ce1-9253-3302ad244af9 button.colab-df-convert');\n",
              "        buttonEl.style.display =\n",
              "          google.colab.kernel.accessAllowed ? 'block' : 'none';\n",
              "\n",
              "        async function convertToInteractive(key) {\n",
              "          const element = document.querySelector('#df-67e12c72-6dc5-4ce1-9253-3302ad244af9');\n",
              "          const dataTable =\n",
              "            await google.colab.kernel.invokeFunction('convertToInteractive',\n",
              "                                                     [key], {});\n",
              "          if (!dataTable) return;\n",
              "\n",
              "          const docLinkHtml = 'Like what you see? Visit the ' +\n",
              "            '<a target=\"_blank\" href=https://colab.research.google.com/notebooks/data_table.ipynb>data table notebook</a>'\n",
              "            + ' to learn more about interactive tables.';\n",
              "          element.innerHTML = '';\n",
              "          dataTable['output_type'] = 'display_data';\n",
              "          await google.colab.output.renderOutput(dataTable, element);\n",
              "          const docLink = document.createElement('div');\n",
              "          docLink.innerHTML = docLinkHtml;\n",
              "          element.appendChild(docLink);\n",
              "        }\n",
              "      </script>\n",
              "    </div>\n",
              "  </div>\n",
              "  "
            ]
          },
          "metadata": {},
          "execution_count": 23
        }
      ]
    },
    {
      "cell_type": "code",
      "source": [],
      "metadata": {
        "id": "e3SIutT74UyW"
      },
      "execution_count": null,
      "outputs": []
    }
  ]
}