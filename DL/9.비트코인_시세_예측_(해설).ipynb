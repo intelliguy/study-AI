{
  "nbformat": 4,
  "nbformat_minor": 0,
  "metadata": {
    "accelerator": "GPU",
    "colab": {
      "name": "비트코인 시세 예측 (해설)",
      "provenance": [],
      "collapsed_sections": []
    },
    "kernelspec": {
      "display_name": "Python 3",
      "language": "python",
      "name": "python3"
    },
    "language_info": {
      "codemirror_mode": {
        "name": "ipython",
        "version": 3
      },
      "file_extension": ".py",
      "mimetype": "text/x-python",
      "name": "python",
      "nbconvert_exporter": "python",
      "pygments_lexer": "ipython3",
      "version": "3.6.6"
    }
  },
  "cells": [
    {
      "cell_type": "markdown",
      "metadata": {
        "id": "sCmtzkeGPI2Q"
      },
      "source": [
        "# 시계열 예측 모델\n",
        "\n",
        "Sequence (시계열) 데이터 다루기"
      ]
    },
    {
      "cell_type": "markdown",
      "metadata": {
        "id": "iRSKbgK8PRs5"
      },
      "source": [
        "## 확인"
      ]
    },
    {
      "cell_type": "markdown",
      "metadata": {
        "id": "Fc4QcKvRPSj-"
      },
      "source": [
        "1. GPU 옵션 켜져 있는지 확인할 것!!! (수정 - 노트설정 - 하드웨어설정 (GPU))"
      ]
    },
    {
      "cell_type": "markdown",
      "metadata": {
        "id": "JNPjnA62PXVn"
      },
      "source": [
        "## 순서"
      ]
    },
    {
      "cell_type": "markdown",
      "metadata": {
        "id": "T463L0aPPX_n"
      },
      "source": [
        "1. **import**: 필요한 모듈 import\n",
        "2. **전처리**: 학습에 필요한 데이터 전처리를 수행합니다.\n",
        "3. **모델링(model)**: 모델을 정의합니다.\n",
        "4. **컴파일(compile)**: 모델을 생성합니다.\n",
        "5. **학습 (fit)**: 모델을 학습시킵니다."
      ]
    },
    {
      "cell_type": "markdown",
      "metadata": {
        "id": "W1Hj9c1NPbPu"
      },
      "source": [
        "## 문제"
      ]
    },
    {
      "cell_type": "markdown",
      "metadata": {
        "id": "RcvEYUuhPb3f"
      },
      "source": [
        "**금융 데이터**를 활용한 시계열 데이터 예측\n",
        "\n",
        "Finance DataReader를 활용하여 시계열 데이터를 로드하고 금융 데이터를 예측합니다."
      ]
    },
    {
      "cell_type": "markdown",
      "metadata": {
        "id": "NTUdLmS7TE40"
      },
      "source": [
        "## 필요한 모듈 import"
      ]
    },
    {
      "cell_type": "code",
      "metadata": {
        "id": "uqt0NBn4MZl5"
      },
      "source": [
        "import csv\n",
        "import tensorflow as tf\n",
        "import numpy as np\n",
        "import urllib\n",
        "import pandas as pd\n",
        "\n",
        "from tensorflow.keras.layers import Dense, LSTM, GRU \n",
        "from tensorflow.keras.models import Sequential\n",
        "from tensorflow.keras.callbacks import ModelCheckpoint\n",
        "from tensorflow.keras.optimizers import Adam"
      ],
      "execution_count": null,
      "outputs": []
    },
    {
      "cell_type": "markdown",
      "source": [
        "## Finace DataReader\n",
        "\n",
        "[링크](https://github.com/FinanceData/FinanceDataReader)"
      ],
      "metadata": {
        "id": "QZN9c1vvsXq8"
      }
    },
    {
      "cell_type": "code",
      "metadata": {
        "id": "ixYVm16KMZl7",
        "colab": {
          "base_uri": "https://localhost:8080/"
        },
        "outputId": "cd33e570-fd2c-4576-e9b1-9ec9fc162114"
      },
      "source": [
        "# 데이터를 받아오기 위해 finance-datareader 모듈을 설치합니다.\n",
        "!pip install -U finance-datareader"
      ],
      "execution_count": null,
      "outputs": [
        {
          "output_type": "stream",
          "name": "stdout",
          "text": [
            "Looking in indexes: https://pypi.org/simple, https://us-python.pkg.dev/colab-wheels/public/simple/\n",
            "Collecting finance-datareader\n",
            "  Downloading finance_datareader-0.9.33-py3-none-any.whl (48 kB)\n",
            "\u001b[K     |████████████████████████████████| 48 kB 2.7 MB/s \n",
            "\u001b[?25hCollecting requests-file\n",
            "  Downloading requests_file-1.5.1-py2.py3-none-any.whl (3.7 kB)\n",
            "Requirement already satisfied: requests>=2.3.0 in /usr/local/lib/python3.7/dist-packages (from finance-datareader) (2.23.0)\n",
            "Requirement already satisfied: lxml in /usr/local/lib/python3.7/dist-packages (from finance-datareader) (4.2.6)\n",
            "Requirement already satisfied: tqdm in /usr/local/lib/python3.7/dist-packages (from finance-datareader) (4.64.0)\n",
            "Requirement already satisfied: pandas>=0.19.2 in /usr/local/lib/python3.7/dist-packages (from finance-datareader) (1.3.5)\n",
            "Requirement already satisfied: python-dateutil>=2.7.3 in /usr/local/lib/python3.7/dist-packages (from pandas>=0.19.2->finance-datareader) (2.8.2)\n",
            "Requirement already satisfied: pytz>=2017.3 in /usr/local/lib/python3.7/dist-packages (from pandas>=0.19.2->finance-datareader) (2022.1)\n",
            "Requirement already satisfied: numpy>=1.17.3 in /usr/local/lib/python3.7/dist-packages (from pandas>=0.19.2->finance-datareader) (1.21.6)\n",
            "Requirement already satisfied: six>=1.5 in /usr/local/lib/python3.7/dist-packages (from python-dateutil>=2.7.3->pandas>=0.19.2->finance-datareader) (1.15.0)\n",
            "Requirement already satisfied: idna<3,>=2.5 in /usr/local/lib/python3.7/dist-packages (from requests>=2.3.0->finance-datareader) (2.10)\n",
            "Requirement already satisfied: chardet<4,>=3.0.2 in /usr/local/lib/python3.7/dist-packages (from requests>=2.3.0->finance-datareader) (3.0.4)\n",
            "Requirement already satisfied: urllib3!=1.25.0,!=1.25.1,<1.26,>=1.21.1 in /usr/local/lib/python3.7/dist-packages (from requests>=2.3.0->finance-datareader) (1.24.3)\n",
            "Requirement already satisfied: certifi>=2017.4.17 in /usr/local/lib/python3.7/dist-packages (from requests>=2.3.0->finance-datareader) (2022.5.18.1)\n",
            "Installing collected packages: requests-file, finance-datareader\n",
            "Successfully installed finance-datareader-0.9.33 requests-file-1.5.1\n"
          ]
        }
      ]
    },
    {
      "cell_type": "code",
      "source": [
        "import FinanceDataReader as fdr"
      ],
      "metadata": {
        "id": "MFXJN3K6sRoF"
      },
      "execution_count": null,
      "outputs": []
    },
    {
      "cell_type": "code",
      "source": [
        "# 비트코인 시세를 가져옵니다.\n",
        "data = fdr.DataReader('BTC/KRW')\n",
        "data"
      ],
      "metadata": {
        "colab": {
          "base_uri": "https://localhost:8080/",
          "height": 455
        },
        "id": "SYxQdvgqsSRc",
        "outputId": "3623ace6-247d-404f-a4ff-7ce541f5ca3c"
      },
      "execution_count": null,
      "outputs": [
        {
          "output_type": "execute_result",
          "data": {
            "text/plain": [
              "               Close      Open      High       Low   Volume  Change\n",
              "Date                                                               \n",
              "2017-05-23   3206000   3104000   3281000   3081000  21580.0  0.0329\n",
              "2017-05-24   4175000   3206000   4314000   3206000  34680.0  0.3022\n",
              "2017-05-25   4199000   4175000   4840000   3102000  35910.0  0.0057\n",
              "2017-05-26   3227000   4199000   4200000   2900000  36650.0 -0.2315\n",
              "2017-05-27   3152000   3227000   3288000   2460000  33750.0 -0.0232\n",
              "...              ...       ...       ...       ...      ...     ...\n",
              "2022-06-05  38005000  37906000  38202000  37600000    380.0  0.0026\n",
              "2022-06-06  39589000  38005000  39942000  37975000    620.0  0.0417\n",
              "2022-06-07  39368000  39569000  39735000  37416000   1650.0 -0.0056\n",
              "2022-06-08  38508000  39368000  39564000  38037000    590.0 -0.0218\n",
              "2022-06-09  38510000  38508000  38545000  38293000   1180.0  0.0001\n",
              "\n",
              "[1842 rows x 6 columns]"
            ],
            "text/html": [
              "\n",
              "  <div id=\"df-ede4de5b-6508-4e90-adb6-81680f9455c3\">\n",
              "    <div class=\"colab-df-container\">\n",
              "      <div>\n",
              "<style scoped>\n",
              "    .dataframe tbody tr th:only-of-type {\n",
              "        vertical-align: middle;\n",
              "    }\n",
              "\n",
              "    .dataframe tbody tr th {\n",
              "        vertical-align: top;\n",
              "    }\n",
              "\n",
              "    .dataframe thead th {\n",
              "        text-align: right;\n",
              "    }\n",
              "</style>\n",
              "<table border=\"1\" class=\"dataframe\">\n",
              "  <thead>\n",
              "    <tr style=\"text-align: right;\">\n",
              "      <th></th>\n",
              "      <th>Close</th>\n",
              "      <th>Open</th>\n",
              "      <th>High</th>\n",
              "      <th>Low</th>\n",
              "      <th>Volume</th>\n",
              "      <th>Change</th>\n",
              "    </tr>\n",
              "    <tr>\n",
              "      <th>Date</th>\n",
              "      <th></th>\n",
              "      <th></th>\n",
              "      <th></th>\n",
              "      <th></th>\n",
              "      <th></th>\n",
              "      <th></th>\n",
              "    </tr>\n",
              "  </thead>\n",
              "  <tbody>\n",
              "    <tr>\n",
              "      <th>2017-05-23</th>\n",
              "      <td>3206000</td>\n",
              "      <td>3104000</td>\n",
              "      <td>3281000</td>\n",
              "      <td>3081000</td>\n",
              "      <td>21580.0</td>\n",
              "      <td>0.0329</td>\n",
              "    </tr>\n",
              "    <tr>\n",
              "      <th>2017-05-24</th>\n",
              "      <td>4175000</td>\n",
              "      <td>3206000</td>\n",
              "      <td>4314000</td>\n",
              "      <td>3206000</td>\n",
              "      <td>34680.0</td>\n",
              "      <td>0.3022</td>\n",
              "    </tr>\n",
              "    <tr>\n",
              "      <th>2017-05-25</th>\n",
              "      <td>4199000</td>\n",
              "      <td>4175000</td>\n",
              "      <td>4840000</td>\n",
              "      <td>3102000</td>\n",
              "      <td>35910.0</td>\n",
              "      <td>0.0057</td>\n",
              "    </tr>\n",
              "    <tr>\n",
              "      <th>2017-05-26</th>\n",
              "      <td>3227000</td>\n",
              "      <td>4199000</td>\n",
              "      <td>4200000</td>\n",
              "      <td>2900000</td>\n",
              "      <td>36650.0</td>\n",
              "      <td>-0.2315</td>\n",
              "    </tr>\n",
              "    <tr>\n",
              "      <th>2017-05-27</th>\n",
              "      <td>3152000</td>\n",
              "      <td>3227000</td>\n",
              "      <td>3288000</td>\n",
              "      <td>2460000</td>\n",
              "      <td>33750.0</td>\n",
              "      <td>-0.0232</td>\n",
              "    </tr>\n",
              "    <tr>\n",
              "      <th>...</th>\n",
              "      <td>...</td>\n",
              "      <td>...</td>\n",
              "      <td>...</td>\n",
              "      <td>...</td>\n",
              "      <td>...</td>\n",
              "      <td>...</td>\n",
              "    </tr>\n",
              "    <tr>\n",
              "      <th>2022-06-05</th>\n",
              "      <td>38005000</td>\n",
              "      <td>37906000</td>\n",
              "      <td>38202000</td>\n",
              "      <td>37600000</td>\n",
              "      <td>380.0</td>\n",
              "      <td>0.0026</td>\n",
              "    </tr>\n",
              "    <tr>\n",
              "      <th>2022-06-06</th>\n",
              "      <td>39589000</td>\n",
              "      <td>38005000</td>\n",
              "      <td>39942000</td>\n",
              "      <td>37975000</td>\n",
              "      <td>620.0</td>\n",
              "      <td>0.0417</td>\n",
              "    </tr>\n",
              "    <tr>\n",
              "      <th>2022-06-07</th>\n",
              "      <td>39368000</td>\n",
              "      <td>39569000</td>\n",
              "      <td>39735000</td>\n",
              "      <td>37416000</td>\n",
              "      <td>1650.0</td>\n",
              "      <td>-0.0056</td>\n",
              "    </tr>\n",
              "    <tr>\n",
              "      <th>2022-06-08</th>\n",
              "      <td>38508000</td>\n",
              "      <td>39368000</td>\n",
              "      <td>39564000</td>\n",
              "      <td>38037000</td>\n",
              "      <td>590.0</td>\n",
              "      <td>-0.0218</td>\n",
              "    </tr>\n",
              "    <tr>\n",
              "      <th>2022-06-09</th>\n",
              "      <td>38510000</td>\n",
              "      <td>38508000</td>\n",
              "      <td>38545000</td>\n",
              "      <td>38293000</td>\n",
              "      <td>1180.0</td>\n",
              "      <td>0.0001</td>\n",
              "    </tr>\n",
              "  </tbody>\n",
              "</table>\n",
              "<p>1842 rows × 6 columns</p>\n",
              "</div>\n",
              "      <button class=\"colab-df-convert\" onclick=\"convertToInteractive('df-ede4de5b-6508-4e90-adb6-81680f9455c3')\"\n",
              "              title=\"Convert this dataframe to an interactive table.\"\n",
              "              style=\"display:none;\">\n",
              "        \n",
              "  <svg xmlns=\"http://www.w3.org/2000/svg\" height=\"24px\"viewBox=\"0 0 24 24\"\n",
              "       width=\"24px\">\n",
              "    <path d=\"M0 0h24v24H0V0z\" fill=\"none\"/>\n",
              "    <path d=\"M18.56 5.44l.94 2.06.94-2.06 2.06-.94-2.06-.94-.94-2.06-.94 2.06-2.06.94zm-11 1L8.5 8.5l.94-2.06 2.06-.94-2.06-.94L8.5 2.5l-.94 2.06-2.06.94zm10 10l.94 2.06.94-2.06 2.06-.94-2.06-.94-.94-2.06-.94 2.06-2.06.94z\"/><path d=\"M17.41 7.96l-1.37-1.37c-.4-.4-.92-.59-1.43-.59-.52 0-1.04.2-1.43.59L10.3 9.45l-7.72 7.72c-.78.78-.78 2.05 0 2.83L4 21.41c.39.39.9.59 1.41.59.51 0 1.02-.2 1.41-.59l7.78-7.78 2.81-2.81c.8-.78.8-2.07 0-2.86zM5.41 20L4 18.59l7.72-7.72 1.47 1.35L5.41 20z\"/>\n",
              "  </svg>\n",
              "      </button>\n",
              "      \n",
              "  <style>\n",
              "    .colab-df-container {\n",
              "      display:flex;\n",
              "      flex-wrap:wrap;\n",
              "      gap: 12px;\n",
              "    }\n",
              "\n",
              "    .colab-df-convert {\n",
              "      background-color: #E8F0FE;\n",
              "      border: none;\n",
              "      border-radius: 50%;\n",
              "      cursor: pointer;\n",
              "      display: none;\n",
              "      fill: #1967D2;\n",
              "      height: 32px;\n",
              "      padding: 0 0 0 0;\n",
              "      width: 32px;\n",
              "    }\n",
              "\n",
              "    .colab-df-convert:hover {\n",
              "      background-color: #E2EBFA;\n",
              "      box-shadow: 0px 1px 2px rgba(60, 64, 67, 0.3), 0px 1px 3px 1px rgba(60, 64, 67, 0.15);\n",
              "      fill: #174EA6;\n",
              "    }\n",
              "\n",
              "    [theme=dark] .colab-df-convert {\n",
              "      background-color: #3B4455;\n",
              "      fill: #D2E3FC;\n",
              "    }\n",
              "\n",
              "    [theme=dark] .colab-df-convert:hover {\n",
              "      background-color: #434B5C;\n",
              "      box-shadow: 0px 1px 3px 1px rgba(0, 0, 0, 0.15);\n",
              "      filter: drop-shadow(0px 1px 2px rgba(0, 0, 0, 0.3));\n",
              "      fill: #FFFFFF;\n",
              "    }\n",
              "  </style>\n",
              "\n",
              "      <script>\n",
              "        const buttonEl =\n",
              "          document.querySelector('#df-ede4de5b-6508-4e90-adb6-81680f9455c3 button.colab-df-convert');\n",
              "        buttonEl.style.display =\n",
              "          google.colab.kernel.accessAllowed ? 'block' : 'none';\n",
              "\n",
              "        async function convertToInteractive(key) {\n",
              "          const element = document.querySelector('#df-ede4de5b-6508-4e90-adb6-81680f9455c3');\n",
              "          const dataTable =\n",
              "            await google.colab.kernel.invokeFunction('convertToInteractive',\n",
              "                                                     [key], {});\n",
              "          if (!dataTable) return;\n",
              "\n",
              "          const docLinkHtml = 'Like what you see? Visit the ' +\n",
              "            '<a target=\"_blank\" href=https://colab.research.google.com/notebooks/data_table.ipynb>data table notebook</a>'\n",
              "            + ' to learn more about interactive tables.';\n",
              "          element.innerHTML = '';\n",
              "          dataTable['output_type'] = 'display_data';\n",
              "          await google.colab.output.renderOutput(dataTable, element);\n",
              "          const docLink = document.createElement('div');\n",
              "          docLink.innerHTML = docLinkHtml;\n",
              "          element.appendChild(docLink);\n",
              "        }\n",
              "      </script>\n",
              "    </div>\n",
              "  </div>\n",
              "  "
            ]
          },
          "metadata": {},
          "execution_count": 4
        }
      ]
    },
    {
      "cell_type": "code",
      "source": [
        "data['Close'].plot(figsize=(10, 5))"
      ],
      "metadata": {
        "colab": {
          "base_uri": "https://localhost:8080/",
          "height": 348
        },
        "id": "HPERlmlqseLk",
        "outputId": "db67f501-9ad3-48f8-c13c-30624d23fb8a"
      },
      "execution_count": null,
      "outputs": [
        {
          "output_type": "execute_result",
          "data": {
            "text/plain": [
              "<matplotlib.axes._subplots.AxesSubplot at 0x7ff952e926d0>"
            ]
          },
          "metadata": {},
          "execution_count": 5
        },
        {
          "output_type": "display_data",
          "data": {
            "text/plain": [
              "<Figure size 720x360 with 1 Axes>"
            ],
            "image/png": "[encoded data removed]"
          },
          "metadata": {
            "needs_background": "light"
          }
        }
      ]
    },
    {
      "cell_type": "code",
      "source": [
        "# 아래 컬럼의 데이터만 추출하여 최초 최대 정규화를 적용하세요.\n",
        "# ['Open', 'High', 'Low', 'Close', 'Volume']\n",
        "from sklearn.preprocessing import MinMaxScaler\n",
        "\n",
        "scaler = MinMaxScaler()\n",
        "scale_cols = ['Open', 'High', 'Low', 'Close', 'Volume']\n",
        "df_scaled = scaler.fit_transform(data[scale_cols])\n",
        "\n",
        "df_scaled = pd.DataFrame(df_scaled)\n",
        "df_scaled.columns = scale_cols\n",
        "df_scaled"
      ],
      "metadata": {
        "colab": {
          "base_uri": "https://localhost:8080/",
          "height": 424
        },
        "id": "wmhMFHGvsguU",
        "outputId": "184dccdb-a077-4a26-de2c-35cc4514463f"
      },
      "execution_count": null,
      "outputs": [
        {
          "output_type": "execute_result",
          "data": {
            "text/plain": [
              "          Open      High       Low     Close    Volume\n",
              "0     0.011237  0.011817  0.016351  0.012523  0.175837\n",
              "1     0.012523  0.024706  0.017946  0.024744  0.282776\n",
              "2     0.024744  0.031270  0.016619  0.025047  0.292816\n",
              "3     0.025047  0.023284  0.014040  0.012788  0.298857\n",
              "4     0.012788  0.011904  0.008424  0.011842  0.275184\n",
              "...        ...       ...       ...       ...       ...\n",
              "1837  0.450152  0.447561  0.456947  0.451401  0.002776\n",
              "1838  0.451401  0.469273  0.461734  0.471378  0.004735\n",
              "1839  0.471125  0.466690  0.454599  0.468590  0.013143\n",
              "1840  0.468590  0.464556  0.462525  0.457744  0.004490\n",
              "1841  0.457744  0.451841  0.465793  0.457769  0.009306\n",
              "\n",
              "[1842 rows x 5 columns]"
            ],
            "text/html": [
              "\n",
              "  <div id=\"df-72fd7308-dfc0-4936-98f4-3689a5ebb906\">\n",
              "    <div class=\"colab-df-container\">\n",
              "      <div>\n",
              "<style scoped>\n",
              "    .dataframe tbody tr th:only-of-type {\n",
              "        vertical-align: middle;\n",
              "    }\n",
              "\n",
              "    .dataframe tbody tr th {\n",
              "        vertical-align: top;\n",
              "    }\n",
              "\n",
              "    .dataframe thead th {\n",
              "        text-align: right;\n",
              "    }\n",
              "</style>\n",
              "<table border=\"1\" class=\"dataframe\">\n",
              "  <thead>\n",
              "    <tr style=\"text-align: right;\">\n",
              "      <th></th>\n",
              "      <th>Open</th>\n",
              "      <th>High</th>\n",
              "      <th>Low</th>\n",
              "      <th>Close</th>\n",
              "      <th>Volume</th>\n",
              "    </tr>\n",
              "  </thead>\n",
              "  <tbody>\n",
              "    <tr>\n",
              "      <th>0</th>\n",
              "      <td>0.011237</td>\n",
              "      <td>0.011817</td>\n",
              "      <td>0.016351</td>\n",
              "      <td>0.012523</td>\n",
              "      <td>0.175837</td>\n",
              "    </tr>\n",
              "    <tr>\n",
              "      <th>1</th>\n",
              "      <td>0.012523</td>\n",
              "      <td>0.024706</td>\n",
              "      <td>0.017946</td>\n",
              "      <td>0.024744</td>\n",
              "      <td>0.282776</td>\n",
              "    </tr>\n",
              "    <tr>\n",
              "      <th>2</th>\n",
              "      <td>0.024744</td>\n",
              "      <td>0.031270</td>\n",
              "      <td>0.016619</td>\n",
              "      <td>0.025047</td>\n",
              "      <td>0.292816</td>\n",
              "    </tr>\n",
              "    <tr>\n",
              "      <th>3</th>\n",
              "      <td>0.025047</td>\n",
              "      <td>0.023284</td>\n",
              "      <td>0.014040</td>\n",
              "      <td>0.012788</td>\n",
              "      <td>0.298857</td>\n",
              "    </tr>\n",
              "    <tr>\n",
              "      <th>4</th>\n",
              "      <td>0.012788</td>\n",
              "      <td>0.011904</td>\n",
              "      <td>0.008424</td>\n",
              "      <td>0.011842</td>\n",
              "      <td>0.275184</td>\n",
              "    </tr>\n",
              "    <tr>\n",
              "      <th>...</th>\n",
              "      <td>...</td>\n",
              "      <td>...</td>\n",
              "      <td>...</td>\n",
              "      <td>...</td>\n",
              "      <td>...</td>\n",
              "    </tr>\n",
              "    <tr>\n",
              "      <th>1837</th>\n",
              "      <td>0.450152</td>\n",
              "      <td>0.447561</td>\n",
              "      <td>0.456947</td>\n",
              "      <td>0.451401</td>\n",
              "      <td>0.002776</td>\n",
              "    </tr>\n",
              "    <tr>\n",
              "      <th>1838</th>\n",
              "      <td>0.451401</td>\n",
              "      <td>0.469273</td>\n",
              "      <td>0.461734</td>\n",
              "      <td>0.471378</td>\n",
              "      <td>0.004735</td>\n",
              "    </tr>\n",
              "    <tr>\n",
              "      <th>1839</th>\n",
              "      <td>0.471125</td>\n",
              "      <td>0.466690</td>\n",
              "      <td>0.454599</td>\n",
              "      <td>0.468590</td>\n",
              "      <td>0.013143</td>\n",
              "    </tr>\n",
              "    <tr>\n",
              "      <th>1840</th>\n",
              "      <td>0.468590</td>\n",
              "      <td>0.464556</td>\n",
              "      <td>0.462525</td>\n",
              "      <td>0.457744</td>\n",
              "      <td>0.004490</td>\n",
              "    </tr>\n",
              "    <tr>\n",
              "      <th>1841</th>\n",
              "      <td>0.457744</td>\n",
              "      <td>0.451841</td>\n",
              "      <td>0.465793</td>\n",
              "      <td>0.457769</td>\n",
              "      <td>0.009306</td>\n",
              "    </tr>\n",
              "  </tbody>\n",
              "</table>\n",
              "<p>1842 rows × 5 columns</p>\n",
              "</div>\n",
              "      <button class=\"colab-df-convert\" onclick=\"convertToInteractive('df-72fd7308-dfc0-4936-98f4-3689a5ebb906')\"\n",
              "              title=\"Convert this dataframe to an interactive table.\"\n",
              "              style=\"display:none;\">\n",
              "        \n",
              "  <svg xmlns=\"http://www.w3.org/2000/svg\" height=\"24px\"viewBox=\"0 0 24 24\"\n",
              "       width=\"24px\">\n",
              "    <path d=\"M0 0h24v24H0V0z\" fill=\"none\"/>\n",
              "    <path d=\"M18.56 5.44l.94 2.06.94-2.06 2.06-.94-2.06-.94-.94-2.06-.94 2.06-2.06.94zm-11 1L8.5 8.5l.94-2.06 2.06-.94-2.06-.94L8.5 2.5l-.94 2.06-2.06.94zm10 10l.94 2.06.94-2.06 2.06-.94-2.06-.94-.94-2.06-.94 2.06-2.06.94z\"/><path d=\"M17.41 7.96l-1.37-1.37c-.4-.4-.92-.59-1.43-.59-.52 0-1.04.2-1.43.59L10.3 9.45l-7.72 7.72c-.78.78-.78 2.05 0 2.83L4 21.41c.39.39.9.59 1.41.59.51 0 1.02-.2 1.41-.59l7.78-7.78 2.81-2.81c.8-.78.8-2.07 0-2.86zM5.41 20L4 18.59l7.72-7.72 1.47 1.35L5.41 20z\"/>\n",
              "  </svg>\n",
              "      </button>\n",
              "      \n",
              "  <style>\n",
              "    .colab-df-container {\n",
              "      display:flex;\n",
              "      flex-wrap:wrap;\n",
              "      gap: 12px;\n",
              "    }\n",
              "\n",
              "    .colab-df-convert {\n",
              "      background-color: #E8F0FE;\n",
              "      border: none;\n",
              "      border-radius: 50%;\n",
              "      cursor: pointer;\n",
              "      display: none;\n",
              "      fill: #1967D2;\n",
              "      height: 32px;\n",
              "      padding: 0 0 0 0;\n",
              "      width: 32px;\n",
              "    }\n",
              "\n",
              "    .colab-df-convert:hover {\n",
              "      background-color: #E2EBFA;\n",
              "      box-shadow: 0px 1px 2px rgba(60, 64, 67, 0.3), 0px 1px 3px 1px rgba(60, 64, 67, 0.15);\n",
              "      fill: #174EA6;\n",
              "    }\n",
              "\n",
              "    [theme=dark] .colab-df-convert {\n",
              "      background-color: #3B4455;\n",
              "      fill: #D2E3FC;\n",
              "    }\n",
              "\n",
              "    [theme=dark] .colab-df-convert:hover {\n",
              "      background-color: #434B5C;\n",
              "      box-shadow: 0px 1px 3px 1px rgba(0, 0, 0, 0.15);\n",
              "      filter: drop-shadow(0px 1px 2px rgba(0, 0, 0, 0.3));\n",
              "      fill: #FFFFFF;\n",
              "    }\n",
              "  </style>\n",
              "\n",
              "      <script>\n",
              "        const buttonEl =\n",
              "          document.querySelector('#df-72fd7308-dfc0-4936-98f4-3689a5ebb906 button.colab-df-convert');\n",
              "        buttonEl.style.display =\n",
              "          google.colab.kernel.accessAllowed ? 'block' : 'none';\n",
              "\n",
              "        async function convertToInteractive(key) {\n",
              "          const element = document.querySelector('#df-72fd7308-dfc0-4936-98f4-3689a5ebb906');\n",
              "          const dataTable =\n",
              "            await google.colab.kernel.invokeFunction('convertToInteractive',\n",
              "                                                     [key], {});\n",
              "          if (!dataTable) return;\n",
              "\n",
              "          const docLinkHtml = 'Like what you see? Visit the ' +\n",
              "            '<a target=\"_blank\" href=https://colab.research.google.com/notebooks/data_table.ipynb>data table notebook</a>'\n",
              "            + ' to learn more about interactive tables.';\n",
              "          element.innerHTML = '';\n",
              "          dataTable['output_type'] = 'display_data';\n",
              "          await google.colab.output.renderOutput(dataTable, element);\n",
              "          const docLink = document.createElement('div');\n",
              "          docLink.innerHTML = docLinkHtml;\n",
              "          element.appendChild(docLink);\n",
              "        }\n",
              "      </script>\n",
              "    </div>\n",
              "  </div>\n",
              "  "
            ]
          },
          "metadata": {},
          "execution_count": 6
        }
      ]
    },
    {
      "cell_type": "markdown",
      "metadata": {
        "id": "H-YdTCYeMZmc"
      },
      "source": [
        "## Train Set, Validation Set 생성"
      ]
    },
    {
      "cell_type": "markdown",
      "metadata": {
        "id": "WRfGcPJET7Dq"
      },
      "source": [
        "Train Set / Validation Set 를 분할 합니다.\n",
        "\n",
        "- ~최근 500개: Train Set\n",
        "- 최근 500개~: Valid Set"
      ]
    },
    {
      "cell_type": "code",
      "metadata": {
        "id": "1QXuDIkTMZmd"
      },
      "source": [
        "train = df_scaled[:-500]\n",
        "valid = df_scaled[-500:]"
      ],
      "execution_count": null,
      "outputs": []
    },
    {
      "cell_type": "code",
      "source": [
        "train.shape, valid.shape"
      ],
      "metadata": {
        "colab": {
          "base_uri": "https://localhost:8080/"
        },
        "id": "ACYRM6d9tO7y",
        "outputId": "fcdd591d-c102-4951-df4f-aaca97aae8cf"
      },
      "execution_count": null,
      "outputs": [
        {
          "output_type": "execute_result",
          "data": {
            "text/plain": [
              "((1342, 5), (500, 5))"
            ]
          },
          "metadata": {},
          "execution_count": 8
        }
      ]
    },
    {
      "cell_type": "markdown",
      "metadata": {
        "id": "amk_ksmDMZmb"
      },
      "source": [
        "## Window Dataset Loader"
      ]
    },
    {
      "cell_type": "markdown",
      "metadata": {
        "id": "u9VGhKTIMZmQ"
      },
      "source": [
        "자세한 Dataset 활용법은 [블로그 링크](https://teddylee777.github.io/tensorflow/dataset-batch-window)를 참고해 보시고, 연습해보세요!\n",
        "\n",
        "- Dataset 구성에 대한 [유튜브](https://www.youtube.com/watch?v=NUMzrqxQ4zk)"
      ]
    },
    {
      "cell_type": "code",
      "metadata": {
        "id": "k161f1YQMZmR"
      },
      "source": [
        "# 윈도우 사이즈\n",
        "window_size=10\n",
        "# 배치 사이즈\n",
        "batch_size = 32\n",
        "# 셔플 사이즈\n",
        "shuffle_size = 1000"
      ],
      "execution_count": null,
      "outputs": []
    },
    {
      "cell_type": "code",
      "metadata": {
        "id": "TfyNoztDMZmb"
      },
      "source": [
        "def windowed_dataset(series, window_size, batch_size, shuffle, shuffle_buffer):\n",
        "    series = tf.expand_dims(series, axis=-1)\n",
        "    ds = tf.data.Dataset.from_tensor_slices(series)\n",
        "    ds = ds.window(window_size + 1, shift=1, drop_remainder=True)\n",
        "    ds = ds.flat_map(lambda w: w.batch(window_size + 1))\n",
        "    if shuffle:\n",
        "        ds = ds.shuffle(shuffle_buffer)\n",
        "    ds = ds.map(lambda w: (w[:-1], w[-1]))\n",
        "    return ds.batch(batch_size).prefetch(1)"
      ],
      "execution_count": null,
      "outputs": []
    },
    {
      "cell_type": "markdown",
      "metadata": {
        "id": "cPxvjABJWDro"
      },
      "source": [
        "`train_set`와 `validation_set`를 만듭니다."
      ]
    },
    {
      "cell_type": "code",
      "metadata": {
        "id": "1mLFgMMBMZmg"
      },
      "source": [
        "train_set = windowed_dataset(train['Close'], \n",
        "                             window_size=window_size, \n",
        "                             batch_size=batch_size,\n",
        "                             shuffle=True,\n",
        "                             shuffle_buffer=shuffle_size)\n",
        "\n",
        "validation_set = windowed_dataset(valid['Close'], \n",
        "                                  window_size=window_size,\n",
        "                                  batch_size=1,\n",
        "                                  shuffle=False,\n",
        "                                  shuffle_buffer=shuffle_size)"
      ],
      "execution_count": null,
      "outputs": []
    },
    {
      "cell_type": "code",
      "source": [
        "x, y = next(iter(train_set))"
      ],
      "metadata": {
        "id": "uW9U0BXdtebE"
      },
      "execution_count": null,
      "outputs": []
    },
    {
      "cell_type": "code",
      "source": [
        "x.shape, y.shape"
      ],
      "metadata": {
        "colab": {
          "base_uri": "https://localhost:8080/"
        },
        "id": "0RZh9B-Ptnn0",
        "outputId": "0a36b447-1a4c-4231-8197-f5eac034c289"
      },
      "execution_count": null,
      "outputs": [
        {
          "output_type": "execute_result",
          "data": {
            "text/plain": [
              "(TensorShape([32, 10, 1]), TensorShape([32, 1]))"
            ]
          },
          "metadata": {},
          "execution_count": 13
        }
      ]
    },
    {
      "cell_type": "code",
      "source": [
        "x, y = next(iter(validation_set))"
      ],
      "metadata": {
        "id": "UQPAl5jhvoW1"
      },
      "execution_count": null,
      "outputs": []
    },
    {
      "cell_type": "code",
      "source": [
        "x.shape, y.shape"
      ],
      "metadata": {
        "colab": {
          "base_uri": "https://localhost:8080/"
        },
        "id": "pR0tD9KjvpZi",
        "outputId": "16c52bc0-63cc-4837-97a5-d3158a6a861d"
      },
      "execution_count": null,
      "outputs": [
        {
          "output_type": "execute_result",
          "data": {
            "text/plain": [
              "(TensorShape([1, 10, 1]), TensorShape([1, 1]))"
            ]
          },
          "metadata": {},
          "execution_count": 15
        }
      ]
    },
    {
      "cell_type": "markdown",
      "metadata": {
        "id": "Y2k1dYQcMZmj"
      },
      "source": [
        "## 모델 정의 (Sequential)"
      ]
    },
    {
      "cell_type": "code",
      "metadata": {
        "id": "nLJ21qRtMZmp"
      },
      "source": [
        "model = Sequential([\n",
        "    tf.keras.layers.LSTM(16, input_shape=(window_size, 1)),\n",
        "    tf.keras.layers.Dense(16, activation=\"relu\"),\n",
        "    tf.keras.layers.Dense(1),\n",
        "])"
      ],
      "execution_count": null,
      "outputs": []
    },
    {
      "cell_type": "code",
      "source": [
        "model = Sequential([\n",
        "    tf.keras.layers.GRU(16, input_shape=(window_size, 1)),\n",
        "    tf.keras.layers.Dense(16, activation=\"relu\"),\n",
        "    tf.keras.layers.Dense(1),\n",
        "])"
      ],
      "metadata": {
        "id": "MenwJuBo6cxR"
      },
      "execution_count": null,
      "outputs": []
    },
    {
      "cell_type": "markdown",
      "metadata": {
        "id": "E1bif1TuUl1m"
      },
      "source": [
        "모델의 구조 요약을 확인합니다."
      ]
    },
    {
      "cell_type": "code",
      "metadata": {
        "id": "VgET749LMZmt",
        "colab": {
          "base_uri": "https://localhost:8080/"
        },
        "outputId": "25f450ed-82ac-4754-f24f-e13ad845edcf"
      },
      "source": [
        "model.summary()"
      ],
      "execution_count": null,
      "outputs": [
        {
          "output_type": "stream",
          "name": "stdout",
          "text": [
            "Model: \"sequential_2\"\n",
            "_________________________________________________________________\n",
            " Layer (type)                Output Shape              Param #   \n",
            "=================================================================\n",
            " lstm_1 (LSTM)               (None, 16)                1152      \n",
            "                                                                 \n",
            " dense_4 (Dense)             (None, 16)                272       \n",
            "                                                                 \n",
            " dense_5 (Dense)             (None, 1)                 17        \n",
            "                                                                 \n",
            "=================================================================\n",
            "Total params: 1,441\n",
            "Trainable params: 1,441\n",
            "Non-trainable params: 0\n",
            "_________________________________________________________________\n"
          ]
        }
      ]
    },
    {
      "cell_type": "markdown",
      "metadata": {
        "id": "FXKGQ3rmMZmv"
      },
      "source": [
        "## 컴파일 (compile)"
      ]
    },
    {
      "cell_type": "markdown",
      "metadata": {
        "id": "jZ1ETr6mUuqB"
      },
      "source": [
        "**Optimizer**의 `learning_rate`을 별도 설정합니다."
      ]
    },
    {
      "cell_type": "markdown",
      "metadata": {
        "id": "ICeNa8kQVDxz"
      },
      "source": [
        "model.compile()시 우리가 튜닝한 **optimizer**와 **loss**를 활용합니다."
      ]
    },
    {
      "cell_type": "code",
      "metadata": {
        "id": "7NrbT-cAMZm2"
      },
      "source": [
        "model.compile(loss='mse',\n",
        "              optimizer=Adam(learning_rate=0.00005),\n",
        "              metrics=[\"mse\"])"
      ],
      "execution_count": null,
      "outputs": []
    },
    {
      "cell_type": "markdown",
      "metadata": {
        "id": "yJ0gsuoqSv7z"
      },
      "source": [
        "## ModelCheckpoint: 체크포인트 생성"
      ]
    },
    {
      "cell_type": "markdown",
      "metadata": {
        "id": "oXHmDZ2aSx4O"
      },
      "source": [
        "`val_loss` 기준으로 epoch 마다 최적의 모델을 저장하기 위하여, ModelCheckpoint를 만듭니다.\n",
        "* `checkpoint_path`는 모델이 저장될 파일 명을 설정합니다.\n",
        "* `ModelCheckpoint`을 선언하고, 적절한 옵션 값을 지정합니다."
      ]
    },
    {
      "cell_type": "code",
      "metadata": {
        "id": "O1JJZyg0MZm5"
      },
      "source": [
        "checkpoint_path = 'tmp_checkpoint.ckpt'\n",
        "checkpoint = ModelCheckpoint(checkpoint_path, \n",
        "                             save_weights_only=True, \n",
        "                             save_best_only=True, \n",
        "                             monitor='val_loss',\n",
        "                             verbose=1)"
      ],
      "execution_count": null,
      "outputs": []
    },
    {
      "cell_type": "markdown",
      "metadata": {
        "id": "1leCk2zKMZm7"
      },
      "source": [
        "## 학습 (fit)"
      ]
    },
    {
      "cell_type": "code",
      "metadata": {
        "id": "lrDA4DzbMZm8",
        "colab": {
          "base_uri": "https://localhost:8080/"
        },
        "outputId": "fe3dafb0-e432-4f8f-e0ab-7680f65a4f21"
      },
      "source": [
        "model.fit(train_set, \n",
        "          validation_data=(validation_set), \n",
        "          epochs=100, \n",
        "          callbacks=[checkpoint],\n",
        "          )"
      ],
      "execution_count": null,
      "outputs": [
        {
          "output_type": "stream",
          "name": "stdout",
          "text": [
            "Epoch 1/100\n",
            "     35/Unknown - 2s 5ms/step - loss: 9.8968e-05 - mse: 9.8968e-05\n",
            "Epoch 1: val_loss did not improve from 0.00243\n",
            "42/42 [==============================] - 3s 45ms/step - loss: 9.4483e-05 - mse: 9.4483e-05 - val_loss: 0.0030 - val_mse: 0.0030\n",
            "Epoch 2/100\n",
            "39/42 [==========================>...] - ETA: 0s - loss: 9.6570e-05 - mse: 9.6570e-05\n",
            "Epoch 2: val_loss did not improve from 0.00243\n",
            "42/42 [==============================] - 1s 30ms/step - loss: 9.4477e-05 - mse: 9.4477e-05 - val_loss: 0.0038 - val_mse: 0.0038\n",
            "Epoch 3/100\n",
            "38/42 [==========================>...] - ETA: 0s - loss: 8.3659e-05 - mse: 8.3659e-05\n",
            "Epoch 3: val_loss did not improve from 0.00243\n",
            "42/42 [==============================] - 2s 37ms/step - loss: 9.0192e-05 - mse: 9.0192e-05 - val_loss: 0.0038 - val_mse: 0.0038\n",
            "Epoch 4/100\n",
            "37/42 [=========================>....] - ETA: 0s - loss: 1.0142e-04 - mse: 1.0142e-04\n",
            "Epoch 4: val_loss did not improve from 0.00243\n",
            "42/42 [==============================] - 1s 31ms/step - loss: 1.0107e-04 - mse: 1.0107e-04 - val_loss: 0.0073 - val_mse: 0.0073\n",
            "Epoch 5/100\n",
            "31/42 [=====================>........] - ETA: 0s - loss: 7.9231e-05 - mse: 7.9231e-05\n",
            "Epoch 5: val_loss did not improve from 0.00243\n",
            "42/42 [==============================] - 1s 30ms/step - loss: 9.1809e-05 - mse: 9.1809e-05 - val_loss: 0.0028 - val_mse: 0.0028\n",
            "Epoch 6/100\n",
            "32/42 [=====================>........] - ETA: 0s - loss: 8.0215e-05 - mse: 8.0215e-05\n",
            "Epoch 6: val_loss did not improve from 0.00243\n",
            "42/42 [==============================] - 1s 30ms/step - loss: 8.8561e-05 - mse: 8.8561e-05 - val_loss: 0.0036 - val_mse: 0.0036\n",
            "Epoch 7/100\n",
            "30/42 [====================>.........] - ETA: 0s - loss: 9.7704e-05 - mse: 9.7704e-05\n",
            "Epoch 7: val_loss did not improve from 0.00243\n",
            "42/42 [==============================] - 2s 37ms/step - loss: 9.9630e-05 - mse: 9.9630e-05 - val_loss: 0.0034 - val_mse: 0.0034\n",
            "Epoch 8/100\n",
            "42/42 [==============================] - ETA: 0s - loss: 9.0191e-05 - mse: 9.0191e-05\n",
            "Epoch 8: val_loss did not improve from 0.00243\n",
            "42/42 [==============================] - 2s 37ms/step - loss: 9.0191e-05 - mse: 9.0191e-05 - val_loss: 0.0043 - val_mse: 0.0043\n",
            "Epoch 9/100\n",
            "40/42 [===========================>..] - ETA: 0s - loss: 8.7376e-05 - mse: 8.7376e-05\n",
            "Epoch 9: val_loss did not improve from 0.00243\n",
            "42/42 [==============================] - 2s 37ms/step - loss: 8.8219e-05 - mse: 8.8219e-05 - val_loss: 0.0024 - val_mse: 0.0024\n",
            "Epoch 10/100\n",
            "40/42 [===========================>..] - ETA: 0s - loss: 9.9399e-05 - mse: 9.9399e-05\n",
            "Epoch 10: val_loss did not improve from 0.00243\n",
            "42/42 [==============================] - 1s 32ms/step - loss: 9.8216e-05 - mse: 9.8216e-05 - val_loss: 0.0029 - val_mse: 0.0029\n",
            "Epoch 11/100\n",
            "40/42 [===========================>..] - ETA: 0s - loss: 9.4173e-05 - mse: 9.4173e-05\n",
            "Epoch 11: val_loss did not improve from 0.00243\n",
            "42/42 [==============================] - 3s 68ms/step - loss: 9.2836e-05 - mse: 9.2836e-05 - val_loss: 0.0025 - val_mse: 0.0025\n",
            "Epoch 12/100\n",
            "39/42 [==========================>...] - ETA: 0s - loss: 8.3022e-05 - mse: 8.3022e-05\n",
            "Epoch 12: val_loss did not improve from 0.00243\n",
            "42/42 [==============================] - 1s 32ms/step - loss: 8.4894e-05 - mse: 8.4894e-05 - val_loss: 0.0035 - val_mse: 0.0035\n",
            "Epoch 13/100\n",
            "38/42 [==========================>...] - ETA: 0s - loss: 8.6174e-05 - mse: 8.6174e-05\n",
            "Epoch 13: val_loss did not improve from 0.00243\n",
            "42/42 [==============================] - 1s 31ms/step - loss: 8.7722e-05 - mse: 8.7722e-05 - val_loss: 0.0045 - val_mse: 0.0045\n",
            "Epoch 14/100\n",
            "38/42 [==========================>...] - ETA: 0s - loss: 8.4438e-05 - mse: 8.4438e-05\n",
            "Epoch 14: val_loss did not improve from 0.00243\n",
            "42/42 [==============================] - 2s 37ms/step - loss: 8.4991e-05 - mse: 8.4991e-05 - val_loss: 0.0025 - val_mse: 0.0025\n",
            "Epoch 15/100\n",
            "32/42 [=====================>........] - ETA: 0s - loss: 8.5475e-05 - mse: 8.5475e-05\n",
            "Epoch 15: val_loss did not improve from 0.00243\n",
            "42/42 [==============================] - 1s 30ms/step - loss: 8.6979e-05 - mse: 8.6979e-05 - val_loss: 0.0027 - val_mse: 0.0027\n",
            "Epoch 16/100\n",
            "38/42 [==========================>...] - ETA: 0s - loss: 8.0886e-05 - mse: 8.0886e-05\n",
            "Epoch 16: val_loss did not improve from 0.00243\n",
            "42/42 [==============================] - 1s 32ms/step - loss: 8.5885e-05 - mse: 8.5885e-05 - val_loss: 0.0028 - val_mse: 0.0028\n",
            "Epoch 17/100\n",
            "32/42 [=====================>........] - ETA: 0s - loss: 8.2315e-05 - mse: 8.2315e-05\n",
            "Epoch 17: val_loss did not improve from 0.00243\n",
            "42/42 [==============================] - 2s 36ms/step - loss: 9.4667e-05 - mse: 9.4667e-05 - val_loss: 0.0036 - val_mse: 0.0036\n",
            "Epoch 18/100\n",
            "41/42 [============================>.] - ETA: 0s - loss: 9.2356e-05 - mse: 9.2356e-05\n",
            "Epoch 18: val_loss did not improve from 0.00243\n",
            "42/42 [==============================] - 2s 37ms/step - loss: 9.1730e-05 - mse: 9.1730e-05 - val_loss: 0.0045 - val_mse: 0.0045\n",
            "Epoch 19/100\n",
            "42/42 [==============================] - ETA: 0s - loss: 9.4351e-05 - mse: 9.4351e-05\n",
            "Epoch 19: val_loss did not improve from 0.00243\n",
            "42/42 [==============================] - 1s 31ms/step - loss: 9.4351e-05 - mse: 9.4351e-05 - val_loss: 0.0034 - val_mse: 0.0034\n",
            "Epoch 20/100\n",
            "32/42 [=====================>........] - ETA: 0s - loss: 9.0967e-05 - mse: 9.0967e-05\n",
            "Epoch 20: val_loss improved from 0.00243 to 0.00216, saving model to tmp_checkpoint.ckpt\n",
            "42/42 [==============================] - 2s 37ms/step - loss: 9.9846e-05 - mse: 9.9846e-05 - val_loss: 0.0022 - val_mse: 0.0022\n",
            "Epoch 21/100\n",
            "42/42 [==============================] - ETA: 0s - loss: 9.0555e-05 - mse: 9.0555e-05\n",
            "Epoch 21: val_loss did not improve from 0.00216\n",
            "42/42 [==============================] - 1s 31ms/step - loss: 9.0555e-05 - mse: 9.0555e-05 - val_loss: 0.0048 - val_mse: 0.0048\n",
            "Epoch 22/100\n",
            "32/42 [=====================>........] - ETA: 0s - loss: 8.2779e-05 - mse: 8.2779e-05\n",
            "Epoch 22: val_loss did not improve from 0.00216\n",
            "42/42 [==============================] - 1s 30ms/step - loss: 7.8787e-05 - mse: 7.8787e-05 - val_loss: 0.0030 - val_mse: 0.0030\n",
            "Epoch 23/100\n",
            "41/42 [============================>.] - ETA: 0s - loss: 7.9640e-05 - mse: 7.9640e-05\n",
            "Epoch 23: val_loss did not improve from 0.00216\n",
            "42/42 [==============================] - 2s 44ms/step - loss: 8.2846e-05 - mse: 8.2846e-05 - val_loss: 0.0045 - val_mse: 0.0045\n",
            "Epoch 24/100\n",
            "39/42 [==========================>...] - ETA: 0s - loss: 8.7208e-05 - mse: 8.7208e-05\n",
            "Epoch 24: val_loss did not improve from 0.00216\n",
            "42/42 [==============================] - 2s 37ms/step - loss: 8.9189e-05 - mse: 8.9189e-05 - val_loss: 0.0041 - val_mse: 0.0041\n",
            "Epoch 25/100\n",
            "38/42 [==========================>...] - ETA: 0s - loss: 8.3001e-05 - mse: 8.3001e-05\n",
            "Epoch 25: val_loss did not improve from 0.00216\n",
            "42/42 [==============================] - 1s 32ms/step - loss: 8.1807e-05 - mse: 8.1807e-05 - val_loss: 0.0028 - val_mse: 0.0028\n",
            "Epoch 26/100\n",
            "40/42 [===========================>..] - ETA: 0s - loss: 8.8219e-05 - mse: 8.8219e-05\n",
            "Epoch 26: val_loss did not improve from 0.00216\n",
            "42/42 [==============================] - 2s 37ms/step - loss: 8.5913e-05 - mse: 8.5913e-05 - val_loss: 0.0035 - val_mse: 0.0035\n",
            "Epoch 27/100\n",
            "40/42 [===========================>..] - ETA: 0s - loss: 7.5253e-05 - mse: 7.5253e-05\n",
            "Epoch 27: val_loss did not improve from 0.00216\n",
            "42/42 [==============================] - 1s 31ms/step - loss: 8.0276e-05 - mse: 8.0276e-05 - val_loss: 0.0032 - val_mse: 0.0032\n",
            "Epoch 28/100\n",
            "42/42 [==============================] - ETA: 0s - loss: 7.8387e-05 - mse: 7.8387e-05\n",
            "Epoch 28: val_loss did not improve from 0.00216\n",
            "42/42 [==============================] - 2s 37ms/step - loss: 7.8387e-05 - mse: 7.8387e-05 - val_loss: 0.0040 - val_mse: 0.0040\n",
            "Epoch 29/100\n",
            "31/42 [=====================>........] - ETA: 0s - loss: 7.7338e-05 - mse: 7.7338e-05\n",
            "Epoch 29: val_loss did not improve from 0.00216\n",
            "42/42 [==============================] - 2s 36ms/step - loss: 8.2780e-05 - mse: 8.2780e-05 - val_loss: 0.0036 - val_mse: 0.0036\n",
            "Epoch 30/100\n",
            "41/42 [============================>.] - ETA: 0s - loss: 8.6839e-05 - mse: 8.6839e-05\n",
            "Epoch 30: val_loss did not improve from 0.00216\n",
            "42/42 [==============================] - 1s 31ms/step - loss: 8.6413e-05 - mse: 8.6413e-05 - val_loss: 0.0032 - val_mse: 0.0032\n",
            "Epoch 31/100\n",
            "39/42 [==========================>...] - ETA: 0s - loss: 7.9773e-05 - mse: 7.9773e-05\n",
            "Epoch 31: val_loss did not improve from 0.00216\n",
            "42/42 [==============================] - 2s 37ms/step - loss: 8.0315e-05 - mse: 8.0315e-05 - val_loss: 0.0033 - val_mse: 0.0033\n",
            "Epoch 32/100\n",
            "41/42 [============================>.] - ETA: 0s - loss: 8.4041e-05 - mse: 8.4041e-05\n",
            "Epoch 32: val_loss did not improve from 0.00216\n",
            "42/42 [==============================] - 1s 31ms/step - loss: 8.3202e-05 - mse: 8.3202e-05 - val_loss: 0.0033 - val_mse: 0.0033\n",
            "Epoch 33/100\n",
            "38/42 [==========================>...] - ETA: 0s - loss: 7.7098e-05 - mse: 7.7098e-05\n",
            "Epoch 33: val_loss did not improve from 0.00216\n",
            "42/42 [==============================] - 1s 31ms/step - loss: 7.7942e-05 - mse: 7.7942e-05 - val_loss: 0.0026 - val_mse: 0.0026\n",
            "Epoch 34/100\n",
            "41/42 [============================>.] - ETA: 0s - loss: 8.6265e-05 - mse: 8.6265e-05\n",
            "Epoch 34: val_loss did not improve from 0.00216\n",
            "42/42 [==============================] - 1s 31ms/step - loss: 8.5493e-05 - mse: 8.5493e-05 - val_loss: 0.0022 - val_mse: 0.0022\n",
            "Epoch 35/100\n",
            "41/42 [============================>.] - ETA: 0s - loss: 8.4816e-05 - mse: 8.4816e-05\n",
            "Epoch 35: val_loss did not improve from 0.00216\n",
            "42/42 [==============================] - 1s 31ms/step - loss: 8.6268e-05 - mse: 8.6268e-05 - val_loss: 0.0035 - val_mse: 0.0035\n",
            "Epoch 36/100\n",
            "31/42 [=====================>........] - ETA: 0s - loss: 1.0216e-04 - mse: 1.0216e-04\n",
            "Epoch 36: val_loss did not improve from 0.00216\n",
            "42/42 [==============================] - 2s 37ms/step - loss: 8.6862e-05 - mse: 8.6862e-05 - val_loss: 0.0032 - val_mse: 0.0032\n",
            "Epoch 37/100\n",
            "37/42 [=========================>....] - ETA: 0s - loss: 7.8796e-05 - mse: 7.8796e-05\n",
            "Epoch 37: val_loss did not improve from 0.00216\n",
            "42/42 [==============================] - 2s 37ms/step - loss: 7.7294e-05 - mse: 7.7294e-05 - val_loss: 0.0039 - val_mse: 0.0039\n",
            "Epoch 38/100\n",
            "39/42 [==========================>...] - ETA: 0s - loss: 7.6424e-05 - mse: 7.6424e-05\n",
            "Epoch 38: val_loss did not improve from 0.00216\n",
            "42/42 [==============================] - 2s 37ms/step - loss: 7.5987e-05 - mse: 7.5987e-05 - val_loss: 0.0040 - val_mse: 0.0040\n",
            "Epoch 39/100\n",
            "32/42 [=====================>........] - ETA: 0s - loss: 7.3540e-05 - mse: 7.3540e-05\n",
            "Epoch 39: val_loss did not improve from 0.00216\n",
            "42/42 [==============================] - 1s 32ms/step - loss: 7.9385e-05 - mse: 7.9385e-05 - val_loss: 0.0052 - val_mse: 0.0052\n",
            "Epoch 40/100\n",
            "39/42 [==========================>...] - ETA: 0s - loss: 7.6442e-05 - mse: 7.6442e-05\n",
            "Epoch 40: val_loss did not improve from 0.00216\n",
            "42/42 [==============================] - 2s 37ms/step - loss: 7.9086e-05 - mse: 7.9086e-05 - val_loss: 0.0038 - val_mse: 0.0038\n",
            "Epoch 41/100\n",
            "32/42 [=====================>........] - ETA: 0s - loss: 8.9515e-05 - mse: 8.9515e-05\n",
            "Epoch 41: val_loss did not improve from 0.00216\n",
            "42/42 [==============================] - 2s 36ms/step - loss: 8.6358e-05 - mse: 8.6358e-05 - val_loss: 0.0063 - val_mse: 0.0063\n",
            "Epoch 42/100\n",
            "41/42 [============================>.] - ETA: 0s - loss: 7.6287e-05 - mse: 7.6287e-05\n",
            "Epoch 42: val_loss did not improve from 0.00216\n",
            "42/42 [==============================] - 2s 37ms/step - loss: 7.5726e-05 - mse: 7.5726e-05 - val_loss: 0.0044 - val_mse: 0.0044\n",
            "Epoch 43/100\n",
            "37/42 [=========================>....] - ETA: 0s - loss: 7.9831e-05 - mse: 7.9831e-05\n",
            "Epoch 43: val_loss did not improve from 0.00216\n",
            "42/42 [==============================] - 1s 32ms/step - loss: 7.8667e-05 - mse: 7.8667e-05 - val_loss: 0.0039 - val_mse: 0.0039\n",
            "Epoch 44/100\n",
            "42/42 [==============================] - ETA: 0s - loss: 7.7619e-05 - mse: 7.7619e-05\n",
            "Epoch 44: val_loss did not improve from 0.00216\n",
            "42/42 [==============================] - 2s 37ms/step - loss: 7.7619e-05 - mse: 7.7619e-05 - val_loss: 0.0054 - val_mse: 0.0054\n",
            "Epoch 45/100\n",
            "42/42 [==============================] - ETA: 0s - loss: 8.6104e-05 - mse: 8.6104e-05\n",
            "Epoch 45: val_loss did not improve from 0.00216\n",
            "42/42 [==============================] - 2s 37ms/step - loss: 8.6104e-05 - mse: 8.6104e-05 - val_loss: 0.0051 - val_mse: 0.0051\n",
            "Epoch 46/100\n",
            "40/42 [===========================>..] - ETA: 0s - loss: 7.2050e-05 - mse: 7.2050e-05\n",
            "Epoch 46: val_loss did not improve from 0.00216\n",
            "42/42 [==============================] - 1s 31ms/step - loss: 7.4860e-05 - mse: 7.4860e-05 - val_loss: 0.0043 - val_mse: 0.0043\n",
            "Epoch 47/100\n",
            "41/42 [============================>.] - ETA: 0s - loss: 7.6355e-05 - mse: 7.6355e-05\n",
            "Epoch 47: val_loss did not improve from 0.00216\n",
            "42/42 [==============================] - 1s 31ms/step - loss: 7.6211e-05 - mse: 7.6211e-05 - val_loss: 0.0050 - val_mse: 0.0050\n",
            "Epoch 48/100\n",
            "41/42 [============================>.] - ETA: 0s - loss: 7.9998e-05 - mse: 7.9998e-05\n",
            "Epoch 48: val_loss did not improve from 0.00216\n",
            "42/42 [==============================] - 1s 31ms/step - loss: 8.0104e-05 - mse: 8.0104e-05 - val_loss: 0.0042 - val_mse: 0.0042\n",
            "Epoch 49/100\n",
            "42/42 [==============================] - ETA: 0s - loss: 7.8982e-05 - mse: 7.8982e-05\n",
            "Epoch 49: val_loss did not improve from 0.00216\n",
            "42/42 [==============================] - 2s 37ms/step - loss: 7.8982e-05 - mse: 7.8982e-05 - val_loss: 0.0066 - val_mse: 0.0066\n",
            "Epoch 50/100\n",
            "42/42 [==============================] - ETA: 0s - loss: 7.5520e-05 - mse: 7.5520e-05\n",
            "Epoch 50: val_loss did not improve from 0.00216\n",
            "42/42 [==============================] - 2s 37ms/step - loss: 7.5520e-05 - mse: 7.5520e-05 - val_loss: 0.0037 - val_mse: 0.0037\n",
            "Epoch 51/100\n",
            "42/42 [==============================] - ETA: 0s - loss: 7.6911e-05 - mse: 7.6911e-05\n",
            "Epoch 51: val_loss did not improve from 0.00216\n",
            "42/42 [==============================] - 2s 37ms/step - loss: 7.6911e-05 - mse: 7.6911e-05 - val_loss: 0.0046 - val_mse: 0.0046\n",
            "Epoch 52/100\n",
            "41/42 [============================>.] - ETA: 0s - loss: 8.0281e-05 - mse: 8.0281e-05\n",
            "Epoch 52: val_loss did not improve from 0.00216\n",
            "42/42 [==============================] - 2s 37ms/step - loss: 7.9229e-05 - mse: 7.9229e-05 - val_loss: 0.0042 - val_mse: 0.0042\n",
            "Epoch 53/100\n",
            "41/42 [============================>.] - ETA: 0s - loss: 7.4032e-05 - mse: 7.4032e-05\n",
            "Epoch 53: val_loss did not improve from 0.00216\n",
            "42/42 [==============================] - 1s 31ms/step - loss: 7.4198e-05 - mse: 7.4198e-05 - val_loss: 0.0049 - val_mse: 0.0049\n",
            "Epoch 54/100\n",
            "39/42 [==========================>...] - ETA: 0s - loss: 6.6097e-05 - mse: 6.6097e-05\n",
            "Epoch 54: val_loss did not improve from 0.00216\n",
            "42/42 [==============================] - 2s 37ms/step - loss: 7.3633e-05 - mse: 7.3633e-05 - val_loss: 0.0048 - val_mse: 0.0048\n",
            "Epoch 55/100\n",
            "41/42 [============================>.] - ETA: 0s - loss: 7.7461e-05 - mse: 7.7461e-05\n",
            "Epoch 55: val_loss did not improve from 0.00216\n",
            "42/42 [==============================] - 2s 37ms/step - loss: 7.7916e-05 - mse: 7.7916e-05 - val_loss: 0.0059 - val_mse: 0.0059\n",
            "Epoch 56/100\n",
            "40/42 [===========================>..] - ETA: 0s - loss: 7.6173e-05 - mse: 7.6173e-05\n",
            "Epoch 56: val_loss did not improve from 0.00216\n",
            "42/42 [==============================] - 1s 31ms/step - loss: 7.5954e-05 - mse: 7.5954e-05 - val_loss: 0.0059 - val_mse: 0.0059\n",
            "Epoch 57/100\n",
            "37/42 [=========================>....] - ETA: 0s - loss: 7.6060e-05 - mse: 7.6060e-05\n",
            "Epoch 57: val_loss did not improve from 0.00216\n",
            "42/42 [==============================] - 1s 32ms/step - loss: 7.6151e-05 - mse: 7.6151e-05 - val_loss: 0.0035 - val_mse: 0.0035\n",
            "Epoch 58/100\n",
            "32/42 [=====================>........] - ETA: 0s - loss: 8.8370e-05 - mse: 8.8370e-05\n",
            "Epoch 58: val_loss did not improve from 0.00216\n",
            "42/42 [==============================] - 1s 30ms/step - loss: 7.8739e-05 - mse: 7.8739e-05 - val_loss: 0.0038 - val_mse: 0.0038\n",
            "Epoch 59/100\n",
            "40/42 [===========================>..] - ETA: 0s - loss: 8.0506e-05 - mse: 8.0506e-05\n",
            "Epoch 59: val_loss did not improve from 0.00216\n",
            "42/42 [==============================] - 2s 37ms/step - loss: 7.9733e-05 - mse: 7.9733e-05 - val_loss: 0.0054 - val_mse: 0.0054\n",
            "Epoch 60/100\n",
            "41/42 [============================>.] - ETA: 0s - loss: 8.1737e-05 - mse: 8.1737e-05\n",
            "Epoch 60: val_loss did not improve from 0.00216\n",
            "42/42 [==============================] - 1s 31ms/step - loss: 8.0839e-05 - mse: 8.0839e-05 - val_loss: 0.0051 - val_mse: 0.0051\n",
            "Epoch 61/100\n",
            "41/42 [============================>.] - ETA: 0s - loss: 7.6415e-05 - mse: 7.6415e-05\n",
            "Epoch 61: val_loss did not improve from 0.00216\n",
            "42/42 [==============================] - 1s 31ms/step - loss: 7.6258e-05 - mse: 7.6258e-05 - val_loss: 0.0044 - val_mse: 0.0044\n",
            "Epoch 62/100\n",
            "42/42 [==============================] - ETA: 0s - loss: 7.7291e-05 - mse: 7.7291e-05\n",
            "Epoch 62: val_loss did not improve from 0.00216\n",
            "42/42 [==============================] - 1s 30ms/step - loss: 7.7291e-05 - mse: 7.7291e-05 - val_loss: 0.0054 - val_mse: 0.0054\n",
            "Epoch 63/100\n",
            "41/42 [============================>.] - ETA: 0s - loss: 7.3196e-05 - mse: 7.3196e-05\n",
            "Epoch 63: val_loss did not improve from 0.00216\n",
            "42/42 [==============================] - 2s 37ms/step - loss: 7.2416e-05 - mse: 7.2416e-05 - val_loss: 0.0053 - val_mse: 0.0053\n",
            "Epoch 64/100\n",
            "41/42 [============================>.] - ETA: 0s - loss: 7.7274e-05 - mse: 7.7274e-05\n",
            "Epoch 64: val_loss did not improve from 0.00216\n",
            "42/42 [==============================] - 2s 37ms/step - loss: 7.7364e-05 - mse: 7.7364e-05 - val_loss: 0.0057 - val_mse: 0.0057\n",
            "Epoch 65/100\n",
            "42/42 [==============================] - ETA: 0s - loss: 7.6813e-05 - mse: 7.6813e-05\n",
            "Epoch 65: val_loss did not improve from 0.00216\n",
            "42/42 [==============================] - 1s 30ms/step - loss: 7.6813e-05 - mse: 7.6813e-05 - val_loss: 0.0039 - val_mse: 0.0039\n",
            "Epoch 66/100\n",
            "42/42 [==============================] - ETA: 0s - loss: 7.2041e-05 - mse: 7.2041e-05\n",
            "Epoch 66: val_loss did not improve from 0.00216\n",
            "42/42 [==============================] - 2s 37ms/step - loss: 7.2041e-05 - mse: 7.2041e-05 - val_loss: 0.0046 - val_mse: 0.0046\n",
            "Epoch 67/100\n",
            "42/42 [==============================] - ETA: 0s - loss: 7.5509e-05 - mse: 7.5509e-05\n",
            "Epoch 67: val_loss did not improve from 0.00216\n",
            "42/42 [==============================] - 1s 31ms/step - loss: 7.5509e-05 - mse: 7.5509e-05 - val_loss: 0.0058 - val_mse: 0.0058\n",
            "Epoch 68/100\n",
            "41/42 [============================>.] - ETA: 0s - loss: 8.7539e-05 - mse: 8.7539e-05\n",
            "Epoch 68: val_loss did not improve from 0.00216\n",
            "42/42 [==============================] - 2s 37ms/step - loss: 8.7812e-05 - mse: 8.7812e-05 - val_loss: 0.0058 - val_mse: 0.0058\n",
            "Epoch 69/100\n",
            "37/42 [=========================>....] - ETA: 0s - loss: 6.2671e-05 - mse: 6.2671e-05\n",
            "Epoch 69: val_loss did not improve from 0.00216\n",
            "42/42 [==============================] - 1s 31ms/step - loss: 7.0555e-05 - mse: 7.0555e-05 - val_loss: 0.0036 - val_mse: 0.0036\n",
            "Epoch 70/100\n",
            "37/42 [=========================>....] - ETA: 0s - loss: 7.2126e-05 - mse: 7.2126e-05\n",
            "Epoch 70: val_loss did not improve from 0.00216\n",
            "42/42 [==============================] - 1s 31ms/step - loss: 7.6635e-05 - mse: 7.6635e-05 - val_loss: 0.0042 - val_mse: 0.0042\n",
            "Epoch 71/100\n",
            "39/42 [==========================>...] - ETA: 0s - loss: 6.8813e-05 - mse: 6.8813e-05\n",
            "Epoch 71: val_loss did not improve from 0.00216\n",
            "42/42 [==============================] - 1s 31ms/step - loss: 7.0602e-05 - mse: 7.0602e-05 - val_loss: 0.0067 - val_mse: 0.0067\n",
            "Epoch 72/100\n",
            "41/42 [============================>.] - ETA: 0s - loss: 7.2140e-05 - mse: 7.2140e-05\n",
            "Epoch 72: val_loss did not improve from 0.00216\n",
            "42/42 [==============================] - 1s 30ms/step - loss: 7.2157e-05 - mse: 7.2157e-05 - val_loss: 0.0052 - val_mse: 0.0052\n",
            "Epoch 73/100\n",
            "32/42 [=====================>........] - ETA: 0s - loss: 7.3777e-05 - mse: 7.3777e-05\n",
            "Epoch 73: val_loss did not improve from 0.00216\n",
            "42/42 [==============================] - 1s 30ms/step - loss: 7.4218e-05 - mse: 7.4218e-05 - val_loss: 0.0070 - val_mse: 0.0070\n",
            "Epoch 74/100\n",
            "42/42 [==============================] - ETA: 0s - loss: 7.3110e-05 - mse: 7.3110e-05\n",
            "Epoch 74: val_loss did not improve from 0.00216\n",
            "42/42 [==============================] - 1s 31ms/step - loss: 7.3110e-05 - mse: 7.3110e-05 - val_loss: 0.0060 - val_mse: 0.0060\n",
            "Epoch 75/100\n",
            "37/42 [=========================>....] - ETA: 0s - loss: 6.5070e-05 - mse: 6.5070e-05\n",
            "Epoch 75: val_loss did not improve from 0.00216\n",
            "42/42 [==============================] - 2s 37ms/step - loss: 7.3050e-05 - mse: 7.3050e-05 - val_loss: 0.0087 - val_mse: 0.0087\n",
            "Epoch 76/100\n",
            "31/42 [=====================>........] - ETA: 0s - loss: 6.7432e-05 - mse: 6.7432e-05\n",
            "Epoch 76: val_loss did not improve from 0.00216\n",
            "42/42 [==============================] - 1s 31ms/step - loss: 7.0256e-05 - mse: 7.0256e-05 - val_loss: 0.0081 - val_mse: 0.0081\n",
            "Epoch 77/100\n",
            "31/42 [=====================>........] - ETA: 0s - loss: 7.5425e-05 - mse: 7.5425e-05\n",
            "Epoch 77: val_loss did not improve from 0.00216\n",
            "42/42 [==============================] - 1s 30ms/step - loss: 7.4817e-05 - mse: 7.4817e-05 - val_loss: 0.0071 - val_mse: 0.0071\n",
            "Epoch 78/100\n",
            "39/42 [==========================>...] - ETA: 0s - loss: 8.0768e-05 - mse: 8.0768e-05\n",
            "Epoch 78: val_loss did not improve from 0.00216\n",
            "42/42 [==============================] - 1s 31ms/step - loss: 8.3348e-05 - mse: 8.3348e-05 - val_loss: 0.0061 - val_mse: 0.0061\n",
            "Epoch 79/100\n",
            "37/42 [=========================>....] - ETA: 0s - loss: 7.6953e-05 - mse: 7.6953e-05\n",
            "Epoch 79: val_loss did not improve from 0.00216\n",
            "42/42 [==============================] - 1s 31ms/step - loss: 8.1532e-05 - mse: 8.1532e-05 - val_loss: 0.0045 - val_mse: 0.0045\n",
            "Epoch 80/100\n",
            "38/42 [==========================>...] - ETA: 0s - loss: 7.1375e-05 - mse: 7.1375e-05\n",
            "Epoch 80: val_loss did not improve from 0.00216\n",
            "42/42 [==============================] - 2s 38ms/step - loss: 7.1909e-05 - mse: 7.1909e-05 - val_loss: 0.0059 - val_mse: 0.0059\n",
            "Epoch 81/100\n",
            "39/42 [==========================>...] - ETA: 0s - loss: 6.8790e-05 - mse: 6.8790e-05\n",
            "Epoch 81: val_loss did not improve from 0.00216\n",
            "42/42 [==============================] - 2s 37ms/step - loss: 7.4140e-05 - mse: 7.4140e-05 - val_loss: 0.0060 - val_mse: 0.0060\n",
            "Epoch 82/100\n",
            "36/42 [========================>.....] - ETA: 0s - loss: 7.2603e-05 - mse: 7.2603e-05\n",
            "Epoch 82: val_loss did not improve from 0.00216\n",
            "42/42 [==============================] - 2s 37ms/step - loss: 7.8890e-05 - mse: 7.8890e-05 - val_loss: 0.0067 - val_mse: 0.0067\n",
            "Epoch 83/100\n",
            "38/42 [==========================>...] - ETA: 0s - loss: 6.6746e-05 - mse: 6.6746e-05\n",
            "Epoch 83: val_loss did not improve from 0.00216\n",
            "42/42 [==============================] - 1s 32ms/step - loss: 7.0718e-05 - mse: 7.0718e-05 - val_loss: 0.0050 - val_mse: 0.0050\n",
            "Epoch 84/100\n",
            "39/42 [==========================>...] - ETA: 0s - loss: 7.6004e-05 - mse: 7.6004e-05\n",
            "Epoch 84: val_loss did not improve from 0.00216\n",
            "42/42 [==============================] - 2s 37ms/step - loss: 7.3058e-05 - mse: 7.3058e-05 - val_loss: 0.0046 - val_mse: 0.0046\n",
            "Epoch 85/100\n",
            "38/42 [==========================>...] - ETA: 0s - loss: 6.4233e-05 - mse: 6.4233e-05\n",
            "Epoch 85: val_loss did not improve from 0.00216\n",
            "42/42 [==============================] - 2s 37ms/step - loss: 6.8722e-05 - mse: 6.8722e-05 - val_loss: 0.0062 - val_mse: 0.0062\n",
            "Epoch 86/100\n",
            "39/42 [==========================>...] - ETA: 0s - loss: 7.1823e-05 - mse: 7.1823e-05\n",
            "Epoch 86: val_loss did not improve from 0.00216\n",
            "42/42 [==============================] - 1s 31ms/step - loss: 7.2538e-05 - mse: 7.2538e-05 - val_loss: 0.0056 - val_mse: 0.0056\n",
            "Epoch 87/100\n",
            "39/42 [==========================>...] - ETA: 0s - loss: 6.9280e-05 - mse: 6.9280e-05\n",
            "Epoch 87: val_loss did not improve from 0.00216\n",
            "42/42 [==============================] - 2s 37ms/step - loss: 7.2726e-05 - mse: 7.2726e-05 - val_loss: 0.0049 - val_mse: 0.0049\n",
            "Epoch 88/100\n",
            "31/42 [=====================>........] - ETA: 0s - loss: 6.0484e-05 - mse: 6.0484e-05\n",
            "Epoch 88: val_loss did not improve from 0.00216\n",
            "42/42 [==============================] - 1s 31ms/step - loss: 7.0010e-05 - mse: 7.0010e-05 - val_loss: 0.0043 - val_mse: 0.0043\n",
            "Epoch 89/100\n",
            "40/42 [===========================>..] - ETA: 0s - loss: 6.6379e-05 - mse: 6.6379e-05\n",
            "Epoch 89: val_loss did not improve from 0.00216\n",
            "42/42 [==============================] - 2s 37ms/step - loss: 7.0071e-05 - mse: 7.0071e-05 - val_loss: 0.0075 - val_mse: 0.0075\n",
            "Epoch 90/100\n",
            "32/42 [=====================>........] - ETA: 0s - loss: 7.8608e-05 - mse: 7.8608e-05\n",
            "Epoch 90: val_loss did not improve from 0.00216\n",
            "42/42 [==============================] - 2s 37ms/step - loss: 8.0204e-05 - mse: 8.0204e-05 - val_loss: 0.0077 - val_mse: 0.0077\n",
            "Epoch 91/100\n",
            "39/42 [==========================>...] - ETA: 0s - loss: 7.6512e-05 - mse: 7.6512e-05\n",
            "Epoch 91: val_loss did not improve from 0.00216\n",
            "42/42 [==============================] - 1s 31ms/step - loss: 7.5035e-05 - mse: 7.5035e-05 - val_loss: 0.0064 - val_mse: 0.0064\n",
            "Epoch 92/100\n",
            "40/42 [===========================>..] - ETA: 0s - loss: 7.2247e-05 - mse: 7.2247e-05\n",
            "Epoch 92: val_loss did not improve from 0.00216\n",
            "42/42 [==============================] - 2s 37ms/step - loss: 7.3336e-05 - mse: 7.3336e-05 - val_loss: 0.0083 - val_mse: 0.0083\n",
            "Epoch 93/100\n",
            "39/42 [==========================>...] - ETA: 0s - loss: 7.0926e-05 - mse: 7.0926e-05\n",
            "Epoch 93: val_loss did not improve from 0.00216\n",
            "42/42 [==============================] - 2s 37ms/step - loss: 7.5419e-05 - mse: 7.5419e-05 - val_loss: 0.0074 - val_mse: 0.0074\n",
            "Epoch 94/100\n",
            "40/42 [===========================>..] - ETA: 0s - loss: 7.0070e-05 - mse: 7.0070e-05\n",
            "Epoch 94: val_loss did not improve from 0.00216\n",
            "42/42 [==============================] - 1s 31ms/step - loss: 6.9260e-05 - mse: 6.9260e-05 - val_loss: 0.0046 - val_mse: 0.0046\n",
            "Epoch 95/100\n",
            "39/42 [==========================>...] - ETA: 0s - loss: 7.0551e-05 - mse: 7.0551e-05\n",
            "Epoch 95: val_loss did not improve from 0.00216\n",
            "42/42 [==============================] - 1s 31ms/step - loss: 6.9925e-05 - mse: 6.9925e-05 - val_loss: 0.0056 - val_mse: 0.0056\n",
            "Epoch 96/100\n",
            "37/42 [=========================>....] - ETA: 0s - loss: 7.2803e-05 - mse: 7.2803e-05\n",
            "Epoch 96: val_loss did not improve from 0.00216\n",
            "42/42 [==============================] - 1s 32ms/step - loss: 7.4482e-05 - mse: 7.4482e-05 - val_loss: 0.0067 - val_mse: 0.0067\n",
            "Epoch 97/100\n",
            "40/42 [===========================>..] - ETA: 0s - loss: 7.1913e-05 - mse: 7.1913e-05\n",
            "Epoch 97: val_loss did not improve from 0.00216\n",
            "42/42 [==============================] - 1s 31ms/step - loss: 7.0126e-05 - mse: 7.0126e-05 - val_loss: 0.0062 - val_mse: 0.0062\n",
            "Epoch 98/100\n",
            "39/42 [==========================>...] - ETA: 0s - loss: 7.0068e-05 - mse: 7.0068e-05\n",
            "Epoch 98: val_loss did not improve from 0.00216\n",
            "42/42 [==============================] - 2s 37ms/step - loss: 7.0866e-05 - mse: 7.0866e-05 - val_loss: 0.0084 - val_mse: 0.0084\n",
            "Epoch 99/100\n",
            "31/42 [=====================>........] - ETA: 0s - loss: 7.2366e-05 - mse: 7.2366e-05\n",
            "Epoch 99: val_loss did not improve from 0.00216\n",
            "42/42 [==============================] - 1s 31ms/step - loss: 7.3016e-05 - mse: 7.3016e-05 - val_loss: 0.0071 - val_mse: 0.0071\n",
            "Epoch 100/100\n",
            "40/42 [===========================>..] - ETA: 0s - loss: 7.4569e-05 - mse: 7.4569e-05\n",
            "Epoch 100: val_loss did not improve from 0.00216\n",
            "42/42 [==============================] - 2s 37ms/step - loss: 7.2701e-05 - mse: 7.2701e-05 - val_loss: 0.0074 - val_mse: 0.0074\n"
          ]
        },
        {
          "output_type": "execute_result",
          "data": {
            "text/plain": [
              "<keras.callbacks.History at 0x7ff892410e50>"
            ]
          },
          "metadata": {},
          "execution_count": 34
        }
      ]
    },
    {
      "cell_type": "markdown",
      "metadata": {
        "id": "shzhTOjAninH"
      },
      "source": [
        "## 학습 완료 후 Load Weights (ModelCheckpoint)"
      ]
    },
    {
      "cell_type": "markdown",
      "metadata": {
        "id": "kLqb_6XrMvdq"
      },
      "source": [
        "학습이 완료된 후에는 반드시 `load_weights`를 해주어야 합니다.\n",
        "\n",
        "그렇지 않으면, 열심히 ModelCheckpoint를 만든 의미가 없습니다."
      ]
    },
    {
      "cell_type": "code",
      "metadata": {
        "id": "4jO1ucZ9ninH",
        "colab": {
          "base_uri": "https://localhost:8080/"
        },
        "outputId": "ef1bb52f-0c46-4d67-86be-142f69deaf47"
      },
      "source": [
        "model.load_weights(checkpoint_path)"
      ],
      "execution_count": null,
      "outputs": [
        {
          "output_type": "execute_result",
          "data": {
            "text/plain": [
              "<tensorflow.python.training.tracking.util.CheckpointLoadStatus at 0x7ff879e020d0>"
            ]
          },
          "metadata": {},
          "execution_count": 35
        }
      ]
    },
    {
      "cell_type": "markdown",
      "source": [
        "## 예측"
      ],
      "metadata": {
        "id": "Y3zVUObO8S-5"
      }
    },
    {
      "cell_type": "code",
      "source": [
        "result = model.predict(validation_set)"
      ],
      "metadata": {
        "id": "oU8iPNqOvHO9"
      },
      "execution_count": null,
      "outputs": []
    },
    {
      "cell_type": "code",
      "source": [
        "result.shape"
      ],
      "metadata": {
        "colab": {
          "base_uri": "https://localhost:8080/"
        },
        "id": "479uaGEXxDqF",
        "outputId": "e88ae591-811e-4f7b-85e4-cf0fc69bb235"
      },
      "execution_count": null,
      "outputs": [
        {
          "output_type": "execute_result",
          "data": {
            "text/plain": [
              "(490, 1)"
            ]
          },
          "metadata": {},
          "execution_count": 37
        }
      ]
    },
    {
      "cell_type": "markdown",
      "source": [
        "## 예측 데이터 시각화"
      ],
      "metadata": {
        "id": "0cJdQDpT05G3"
      }
    },
    {
      "cell_type": "code",
      "source": [
        "import matplotlib.pyplot as plt\n",
        "\n",
        "# 테스트의 실제값과 예측값을 시각화 하세요.\n",
        "plt.figure(figsize=(12, 9))\n",
        "plt.plot(valid['Close'].iloc[window_size:].values, label='actual')\n",
        "plt.plot(result.reshape(-1), label='prediction')\n",
        "plt.legend()\n",
        "plt.show()"
      ],
      "metadata": {
        "colab": {
          "base_uri": "https://localhost:8080/",
          "height": 537
        },
        "id": "vt4VgRPDxC0l",
        "outputId": "1db93dfc-6eb5-435e-cfa2-87991e32bb6d"
      },
      "execution_count": null,
      "outputs": [
        {
          "output_type": "display_data",
          "data": {
            "text/plain": [
              "<Figure size 864x648 with 1 Axes>"
            ],
            "image/png": "[encoded data removed]"
          },
          "metadata": {
            "needs_background": "light"
          }
        }
      ]
    },
    {
      "cell_type": "code",
      "source": [],
      "metadata": {
        "id": "6dEXEXlk1WFP"
      },
      "execution_count": null,
      "outputs": []
    }
  ]
}