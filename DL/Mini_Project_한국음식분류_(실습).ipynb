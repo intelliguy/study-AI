{
  "cells": [
    {
      "cell_type": "markdown",
      "metadata": {
        "id": "OMcQAmnfbRJX"
      },
      "source": [
        "## 환경설정"
      ]
    },
    {
      "cell_type": "code",
      "execution_count": null,
      "metadata": {
        "id": "_W5H_jbTbRJa"
      },
      "outputs": [],
      "source": [
        "project_name = \"한국 음식 분류\" # 프로젝트 이름\n",
        "class_info = \"3차수 A반\" # 차수 정보\n",
        "email = \"\" # 회사 이메일(본인의 회사 이메일 입력)"
      ]
    },
    {
      "cell_type": "markdown",
      "metadata": {
        "id": "BRJxAKeqbRJb"
      },
      "source": [
        "## 모듈 설치 및 데이터 다운로드"
      ]
    },
    {
      "cell_type": "code",
      "execution_count": null,
      "metadata": {
        "id": "DWI4PeN-bRJb"
      },
      "outputs": [],
      "source": [
        "!pip install --upgrade mySUNI -q\n",
        "\n",
        "import mySUNI\n",
        "from mySUNI import cds, utils\n",
        "import urllib.request\n",
        "import zipfile\n",
        "\n",
        "\n",
        "project = cds.Project(project_name, class_info, email)\n",
        "project.edu_name = 'SUNI_딥러닝'\n",
        "\n",
        "# 이메일 설정 확인\n",
        "if not project.email:\n",
        "    raise print(\"[이메일이 누락되었습니다] 이메일을 설정해 주세요↑↑↑\")\n",
        "\n",
        "\n",
        "print('===' * 15)\n",
        "print(f'패키지버전: {mySUNI.__version__}')\n",
        "print('===' * 15)\n",
        "print(f'프로젝트명: {project_name}\\n차수 정보 : {class_info}\\n이  메  일: {email}')\n",
        "print('===' * 15)\n",
        "\n",
        "# 데이터셋 다운로드\n",
        "print('1) TRAIN 데이터셋 다운로드...')\n",
        "url = 'https://www.dropbox.com/s/bpgvn248qtpavps/train.zip?dl=1'\n",
        "urllib.request.urlretrieve(url, 'train.zip')\n",
        "local_zip = 'train.zip'\n",
        "zip_ref = zipfile.ZipFile(local_zip, 'r')\n",
        "zip_ref.extractall('kfood/train')\n",
        "zip_ref.close()\n",
        "\n",
        "print('2) TEST 데이터셋 다운로드...')\n",
        "url = 'https://www.dropbox.com/s/4739t8er07fhdp8/test.zip?dl=1'\n",
        "urllib.request.urlretrieve(url, 'test.zip')\n",
        "local_zip = 'test.zip'\n",
        "zip_ref = zipfile.ZipFile(local_zip, 'r')\n",
        "zip_ref.extractall('kfood/test/test')\n",
        "zip_ref.close()\n",
        "\n",
        "url = 'https://www.dropbox.com/s/v85arwr14aq3nj5/submission.csv?dl=1'\n",
        "urllib.request.urlretrieve(url, 'kfood/submission.csv')\n",
        "print('===' * 15)\n",
        "print('[데이터셋 다운로드 완료]')"
      ]
    },
    {
      "cell_type": "markdown",
      "metadata": {
        "id": "vbPJeRj4bRJc"
      },
      "source": [
        "## 필요한 모듈 import "
      ]
    },
    {
      "cell_type": "code",
      "execution_count": null,
      "metadata": {
        "id": "LbFFo4zNbGIS"
      },
      "outputs": [],
      "source": [
        "import pandas as pd\n",
        "import numpy as np\n",
        "import matplotlib.pyplot as plt\n",
        "import seaborn as sns\n",
        "import warnings\n",
        "import os\n",
        "import tensorflow as tf\n",
        "\n",
        "# Data 경로 설정\n",
        "DATA_DIR = 'data'\n",
        "\n",
        "# 경고 무시\n",
        "warnings.filterwarnings('ignore')\n",
        "\n",
        "# 시드설정\n",
        "SEED=123\n",
        "np.random.seed(SEED)\n",
        "tf.random.set_seed(SEED)"
      ]
    },
    {
      "cell_type": "markdown",
      "metadata": {
        "id": "jWPdzDDTbRJd"
      },
      "source": [
        "## 프로젝트 개요\n",
        "\n",
        "본 실습에서는 한국 음식 사진 분류기를 생성합니다.\n",
        "\n",
        "**(주의사항)**\n",
        "입력 이미지의 크기는 **(224 X 224)**의 컬러사진을 입력을 받을 수 있도록 모델을 구현합니다.\n",
        "\n",
        "- train 폴더: 학습용 이미지 데이터셋\n",
        "- test 폴더: 예측용 이미지 데이터셋\n",
        "\n",
        "**폴더 위치**\n",
        "- 학습용 데이터셋: kfood/train\n",
        "- 예측용 데이터셋: kfood/test\n",
        "\n",
        "**데이터 라벨**\n",
        "- 0: 고등어구이\n",
        "- 1: 김밥\n",
        "- 2: 김치볶음밥\n",
        "- 3: 깍두기\n",
        "- 4: 떡갈비\n",
        "- 5: 미역국\n",
        "- 6: 불고기\n",
        "- 7: 삼겹살\n",
        "- 8: 육개장\n",
        "- 9: 조개구이"
      ]
    },
    {
      "cell_type": "code",
      "execution_count": null,
      "metadata": {
        "id": "TZpI-2AZbRJe"
      },
      "outputs": [],
      "source": [
        "# TRAIN 경로 지정\n",
        "TRAIN_DIR = './kfood/train'"
      ]
    },
    {
      "cell_type": "markdown",
      "metadata": {
        "id": "_KeIA4xrbRJe"
      },
      "source": [
        "### 데이터셋 시각화"
      ]
    },
    {
      "cell_type": "code",
      "execution_count": null,
      "metadata": {
        "id": "U2_JbK44bRJf"
      },
      "outputs": [],
      "source": [
        "from tensorflow.keras.preprocessing.image import ImageDataGenerator\n",
        "import matplotlib.pyplot as plt\n",
        "\n",
        "original_datagen = ImageDataGenerator(rescale=1./255)\n",
        "original_generator = original_datagen.flow_from_directory(TRAIN_DIR, \n",
        "                                                          target_size=(224, 224), \n",
        "                                                          batch_size=32\n",
        "                                                         )\n",
        "\n",
        "for x, y in original_generator:\n",
        "    print(x.shape, y.shape)\n",
        "    print(y[0])\n",
        "    \n",
        "    fig, axes = plt.subplots(2, 5)\n",
        "    fig.set_size_inches(15, 6)\n",
        "    for i in range(10):\n",
        "        axes[i//5, i%5].imshow(x[i])\n",
        "        axes[i//5, i%5].set_title(f'{y[i].argmax()}', fontsize=15)\n",
        "        axes[i//5, i%5].axis('off')\n",
        "    break\n",
        "plt.show()"
      ]
    },
    {
      "cell_type": "markdown",
      "metadata": {
        "id": "kQ8FAjOubRJg"
      },
      "source": [
        "## ↓↓↓ 코드 구현 ↓↓↓"
      ]
    },
    {
      "cell_type": "markdown",
      "metadata": {
        "id": "cEOFoBN5bRJg"
      },
      "source": [
        "### ImageDataGenerator"
      ]
    },
    {
      "cell_type": "code",
      "source": [],
      "metadata": {
        "id": "T7HcBCn2OBYT"
      },
      "execution_count": null,
      "outputs": []
    },
    {
      "cell_type": "code",
      "execution_count": null,
      "metadata": {
        "id": "e2ZFpfwpbRJg"
      },
      "outputs": [],
      "source": []
    },
    {
      "cell_type": "code",
      "execution_count": null,
      "metadata": {
        "id": "mgF56qvZbRJh"
      },
      "outputs": [],
      "source": []
    },
    {
      "cell_type": "code",
      "source": [],
      "metadata": {
        "id": "m2lVoTPEN6Ns"
      },
      "execution_count": null,
      "outputs": []
    },
    {
      "cell_type": "markdown",
      "metadata": {
        "id": "lGU2DCbubRJh"
      },
      "source": [
        "### 모델 정의 (Sequential)"
      ]
    },
    {
      "cell_type": "code",
      "execution_count": null,
      "metadata": {
        "id": "7FCIxsbUbRJh"
      },
      "outputs": [],
      "source": []
    },
    {
      "cell_type": "code",
      "source": [],
      "metadata": {
        "id": "qPhK40P1N9wE"
      },
      "execution_count": null,
      "outputs": []
    },
    {
      "cell_type": "code",
      "source": [],
      "metadata": {
        "id": "Cxt88GU7OITy"
      },
      "execution_count": null,
      "outputs": []
    },
    {
      "cell_type": "code",
      "execution_count": null,
      "metadata": {
        "id": "hQvibufJbRJh"
      },
      "outputs": [],
      "source": [
        "model.summary()"
      ]
    },
    {
      "cell_type": "markdown",
      "metadata": {
        "id": "_UNcd0dLbRJi"
      },
      "source": [
        "### 컴파일 (compile)"
      ]
    },
    {
      "cell_type": "code",
      "execution_count": null,
      "metadata": {
        "id": "obJ2-dCEbRJi"
      },
      "outputs": [],
      "source": []
    },
    {
      "cell_type": "markdown",
      "metadata": {
        "id": "PnvgWMLdbRJi"
      },
      "source": [
        "### 학습 (fit)\n",
        "\n",
        "- ModelCheckpoint 설정\n",
        "- fit() 함수 구현\n",
        "- checkpoint 로드"
      ]
    },
    {
      "cell_type": "code",
      "execution_count": null,
      "metadata": {
        "id": "xuKc1gmbbRJi"
      },
      "outputs": [],
      "source": []
    },
    {
      "cell_type": "code",
      "execution_count": null,
      "metadata": {
        "id": "fK6eOCtrbRJi"
      },
      "outputs": [],
      "source": []
    },
    {
      "cell_type": "markdown",
      "metadata": {
        "id": "PDyydQ7xbRJi"
      },
      "source": [
        "## 예측 (코드 수정 금지)"
      ]
    },
    {
      "cell_type": "code",
      "execution_count": null,
      "metadata": {
        "id": "Htl6EL2lbRJj"
      },
      "outputs": [],
      "source": [
        "# 아래의 코드는 수정하지 않습니다.\n",
        "TEST_DIR = './kfood/test'\n",
        "\n",
        "test_datagen = ImageDataGenerator(rescale=1./255)\n",
        "test_generator = test_datagen.flow_from_directory(TEST_DIR, \n",
        "                                                  target_size=(224, 224), \n",
        "                                                  batch_size=1,\n",
        "                                                  shuffle=False                                                  \n",
        "                                                  )"
      ]
    },
    {
      "cell_type": "code",
      "execution_count": null,
      "metadata": {
        "id": "zRVHoRXcbRJj"
      },
      "outputs": [],
      "source": [
        "# 아래의 코드는 수정하지 않습니다.\n",
        "pred = model.predict(test_generator)\n",
        "your_answer = pred.argmax(axis=1)"
      ]
    },
    {
      "cell_type": "markdown",
      "metadata": {
        "id": "V1PURs-gbphu"
      },
      "source": [
        "## 결과 제출\n",
        "\n",
        "### 순서대로 평가가 진행됩니다. 실행은 1회만 해주세요.\n",
        "\n",
        "- 느리다고 중지 후 다시 평가 코드를 실행하는 경우 제출 과정에서 패널티가 발생할 수 있습니다. (제출 횟수 이슈 발생 가능)\n",
        "\n",
        "- 전체 점수는 [평가시스템](http://manage.jaen.kr)에서 확인할 수 있습니다.\n",
        "    - 프로젝트 > 한국 음식 분류 > 리더보드 > 같은 반 리더보드\n",
        "\n",
        "- 아이디: 본인 이메일 아이디\n",
        "- 비번: 123123"
      ]
    },
    {
      "cell_type": "markdown",
      "metadata": {
        "id": "rnCkoDq4bRJj"
      },
      "source": [
        "아래 Cell을 실행하여 예측 결과 업데이트"
      ]
    },
    {
      "cell_type": "code",
      "execution_count": null,
      "metadata": {
        "id": "bK6QjWWNuxeF"
      },
      "outputs": [],
      "source": [
        "# 예측 결과 업데이트\n",
        "submission = pd.read_csv(os.path.join('kfood', 'submission.csv'))\n",
        "submission['label'] = your_answer\n",
        "display(submission)\n",
        "\n",
        "# 제출\n",
        "project.email = email\n",
        "project.submit(submission)"
      ]
    }
  ],
  "metadata": {
    "colab": {
      "collapsed_sections": [],
      "name": "Mini-Project-한국음식분류-(실습)",
      "provenance": []
    },
    "kernelspec": {
      "display_name": "Python 3 (ipykernel)",
      "language": "python",
      "name": "python3"
    },
    "language_info": {
      "codemirror_mode": {
        "name": "ipython",
        "version": 3
      },
      "file_extension": ".py",
      "mimetype": "text/x-python",
      "name": "python",
      "nbconvert_exporter": "python",
      "pygments_lexer": "ipython3",
      "version": "3.7.10"
    },
    "accelerator": "GPU"
  },
  "nbformat": 4,
  "nbformat_minor": 0
}