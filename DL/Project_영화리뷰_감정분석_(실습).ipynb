{
  "nbformat": 4,
  "nbformat_minor": 0,
  "metadata": {
    "colab": {
      "name": "Project-영화리뷰-감정분석-(실습)",
      "provenance": [],
      "collapsed_sections": []
    },
    "kernelspec": {
      "display_name": "Python 3 (ipykernel)",
      "language": "python",
      "name": "python3"
    },
    "language_info": {
      "codemirror_mode": {
        "name": "ipython",
        "version": 3
      },
      "file_extension": ".py",
      "mimetype": "text/x-python",
      "name": "python",
      "nbconvert_exporter": "python",
      "pygments_lexer": "ipython3",
      "version": "3.7.10"
    },
    "accelerator": "GPU"
  },
  "cells": [
    {
      "cell_type": "markdown",
      "metadata": {
        "id": "d-KYKjXI-cZj"
      },
      "source": [
        "## 환경설정"
      ]
    },
    {
      "cell_type": "code",
      "metadata": {
        "id": "QvBhB1tC-cZm"
      },
      "source": [
        "project_name = \"영화리뷰 감정 분석\" # 프로젝트 이름\n",
        "class_info = \"3차수 A반\" # 차수 정보\n",
        "email = \"\" # 회사 이메일(본인의 회사 이메일 입력)"
      ],
      "execution_count": null,
      "outputs": []
    },
    {
      "cell_type": "markdown",
      "metadata": {
        "id": "p2gDg1GQ-cZo"
      },
      "source": [
        "## 모듈 설치 및 데이터 다운로드"
      ]
    },
    {
      "cell_type": "code",
      "metadata": {
        "id": "OF1cNofU-cZo"
      },
      "source": [
        "!pip install --upgrade mySUNI -q\n",
        "\n",
        "import mySUNI\n",
        "from mySUNI import cds, utils\n",
        "import urllib.request\n",
        "import zipfile\n",
        "\n",
        "\n",
        "project = cds.Project(project_name, class_info, email)\n",
        "project.edu_name = 'SUNI_딥러닝'\n",
        "\n",
        "# 이메일 설정 확인\n",
        "if not project.email:\n",
        "    raise print(\"[이메일이 누락되었습니다] 이메일을 설정해 주세요↑↑↑\")\n",
        "\n",
        "\n",
        "print('===' * 15)\n",
        "print(f'패키지버전: {mySUNI.__version__}')\n",
        "print('===' * 15)\n",
        "print(f'프로젝트명: {project_name}\\n차수 정보 : {class_info}\\n이  메  일: {email}')\n",
        "print('===' * 15)\n",
        "\n",
        "# 데이터셋 다운로드\n",
        "cds.download_project(project_name, class_info, email)"
      ],
      "execution_count": null,
      "outputs": []
    },
    {
      "cell_type": "markdown",
      "metadata": {
        "id": "CE1OuGoF-cZp"
      },
      "source": [
        "## 필요한 모듈 import "
      ]
    },
    {
      "cell_type": "code",
      "metadata": {
        "id": "LbFFo4zNbGIS"
      },
      "source": [
        "import pandas as pd\n",
        "import numpy as np\n",
        "import matplotlib.pyplot as plt\n",
        "import seaborn as sns\n",
        "import warnings\n",
        "import os\n",
        "import tensorflow as tf\n",
        "\n",
        "pd.set_option('display.max_colwidth', None)\n",
        "\n",
        "# Data 경로 설정\n",
        "DATA_DIR = 'data'\n",
        "\n",
        "# 경고 무시\n",
        "warnings.filterwarnings('ignore')\n",
        "\n",
        "SEED=123\n",
        "np.random.seed(SEED)\n",
        "tf.random.set_seed(SEED)"
      ],
      "execution_count": null,
      "outputs": []
    },
    {
      "cell_type": "markdown",
      "metadata": {
        "id": "MPrGs1om-cZq"
      },
      "source": [
        "## 데이터 로드"
      ]
    },
    {
      "cell_type": "markdown",
      "metadata": {
        "id": "ke1zrZQy-cZr"
      },
      "source": [
        "### 1. 데이터셋 로드"
      ]
    },
    {
      "cell_type": "code",
      "metadata": {
        "id": "KvmG2nhx-cZr"
      },
      "source": [
        "# train 데이터셋 로드 (train.csv)\n",
        "train = pd.read_csv(os.path.join(DATA_DIR, project_name, 'train.csv'))\n",
        "                                 \n",
        "# test 데이터셋 로드 (test.csv)\n",
        "test = pd.read_csv(os.path.join(DATA_DIR, project_name, 'test.csv'))"
      ],
      "execution_count": null,
      "outputs": []
    },
    {
      "cell_type": "code",
      "metadata": {
        "id": "j18H86Eq-cZs"
      },
      "source": [
        "train.head()"
      ],
      "execution_count": null,
      "outputs": []
    },
    {
      "cell_type": "code",
      "metadata": {
        "id": "iIe2Qodk-cZs"
      },
      "source": [
        "test.head()"
      ],
      "execution_count": null,
      "outputs": []
    },
    {
      "cell_type": "markdown",
      "metadata": {
        "id": "rv02iFHZ-cZs"
      },
      "source": [
        "### 한글 형태소 분석기 로드\n",
        "\n",
        "[도큐먼트 링크](https://konlpy.org/ko/latest/index.html)"
      ]
    },
    {
      "cell_type": "markdown",
      "metadata": {
        "id": "R0loMGM2-cZs"
      },
      "source": [
        "아래 Cell을 실행하여 설치"
      ]
    },
    {
      "cell_type": "code",
      "metadata": {
        "id": "_AKqIZeT-cZt"
      },
      "source": [
        "!pip install konlpy"
      ],
      "execution_count": null,
      "outputs": []
    },
    {
      "cell_type": "code",
      "metadata": {
        "id": "stJEf0SW-cZt"
      },
      "source": [
        "from konlpy.tag import Okt\n",
        "\n",
        "# 형태소 분석기 로드\n",
        "okt = Okt()"
      ],
      "execution_count": null,
      "outputs": []
    },
    {
      "cell_type": "code",
      "metadata": {
        "id": "XWf_sWGy-cZt"
      },
      "source": [
        "# morphs 적용시\n",
        "okt.morphs('안녕하세요? 반갑습니다. 저는 파이썬을 사랑합니다')"
      ],
      "execution_count": null,
      "outputs": []
    },
    {
      "cell_type": "code",
      "source": [
        "# pos 적용시\n",
        "okt.pos('안녕하세요? 반갑습니다. 저는 파이썬을 사랑합니다')"
      ],
      "metadata": {
        "id": "Dcqj4mxDqxLv"
      },
      "execution_count": null,
      "outputs": []
    },
    {
      "cell_type": "code",
      "source": [
        "# 명사만 추출시\n",
        "[word for word, tag in okt.pos('안녕하세요? 반갑습니다. 저는 파이썬을 사랑합니다') if tag == 'Noun']"
      ],
      "metadata": {
        "id": "c3-EPh86ro7v"
      },
      "execution_count": null,
      "outputs": []
    },
    {
      "cell_type": "code",
      "source": [
        "# 조사는 제외시\n",
        "[word for word, tag in okt.pos('안녕하세요? 반갑습니다. 저는 파이썬을 사랑합니다') if tag != 'Josa']"
      ],
      "metadata": {
        "id": "dgT9mZa1r2Qo"
      },
      "execution_count": null,
      "outputs": []
    },
    {
      "cell_type": "code",
      "source": [
        "# 조사, 기호는 제외시\n",
        "[word for word, tag in okt.pos('안녕하세요? 반갑습니다. 저는 파이썬을 사랑합니다') if not tag in ['Josa', 'Punctuation']]"
      ],
      "metadata": {
        "id": "JLe7TI-5r9j3"
      },
      "execution_count": null,
      "outputs": []
    },
    {
      "cell_type": "code",
      "source": [
        "# 한글, 영어, 숫자만 추출시\n",
        "import re\n",
        "\n",
        "sample = \"abcdefㄱㄴㄷㄹㅁㅂ가나다라마바사12345[]{}().,!?'`~;:\"\n",
        "\n",
        "re.sub('[^A-Za-z0-9가-힣]', '', sample)"
      ],
      "metadata": {
        "id": "nn3WYlkWsL3X"
      },
      "execution_count": null,
      "outputs": []
    },
    {
      "cell_type": "markdown",
      "metadata": {
        "id": "oeuroAII-cZt"
      },
      "source": [
        "### 전처리 함수 형태로 생성"
      ]
    },
    {
      "cell_type": "code",
      "metadata": {
        "id": "jsLzdH3C-cZu"
      },
      "source": [
        "def preprocessing(x):\n",
        "    # 형태소 분석기\n",
        "    x = okt.morphs(x)\n",
        "    # 기타 문장 전처리기 코드\n",
        "    # 코드 입력\n",
        "    \n",
        "    return x"
      ],
      "execution_count": null,
      "outputs": []
    },
    {
      "cell_type": "markdown",
      "metadata": {
        "id": "8pWXfuQ_-cZu"
      },
      "source": [
        "### 전처리기 apply"
      ]
    },
    {
      "cell_type": "code",
      "metadata": {
        "id": "U5-x32NO-cZu"
      },
      "source": [
        "train_sentences = train['document'].apply(preprocessing)\n",
        "test_sentences = test['document'].apply(preprocessing)"
      ],
      "execution_count": null,
      "outputs": []
    },
    {
      "cell_type": "markdown",
      "metadata": {
        "id": "zCp5DaKY-cZu"
      },
      "source": [
        "### 데이터셋 분할"
      ]
    },
    {
      "cell_type": "code",
      "metadata": {
        "id": "ZyIjJdmS-cZu"
      },
      "source": [
        "from sklearn.model_selection import train_test_split\n",
        "\n",
        "SEED = 123\n",
        "\n",
        "x_train, x_test, y_train, y_test = "
      ],
      "execution_count": null,
      "outputs": []
    },
    {
      "cell_type": "markdown",
      "metadata": {
        "id": "VPcHBamx-cZv"
      },
      "source": [
        "### tensorflow 관련 모듈 import "
      ]
    },
    {
      "cell_type": "code",
      "metadata": {
        "id": "HbCW5bto-cZv"
      },
      "source": [
        "# Module Import\n",
        "\n",
        "\n"
      ],
      "execution_count": null,
      "outputs": []
    },
    {
      "cell_type": "markdown",
      "metadata": {
        "id": "NVmA5TXi-cZv"
      },
      "source": [
        "### 단어 사전 정의"
      ]
    },
    {
      "cell_type": "code",
      "metadata": {
        "id": "5Ev_eaxb-cZv"
      },
      "source": [
        "# 단어사전의 개수, OOV 토큰 지정\n",
        "vocab_size = # 코드입력\n",
        "oov_token = # 코드입력"
      ],
      "execution_count": null,
      "outputs": []
    },
    {
      "cell_type": "code",
      "metadata": {
        "id": "_FcxkYVJ-cZv"
      },
      "source": [
        "tokenizer = # 코드입력"
      ],
      "execution_count": null,
      "outputs": []
    },
    {
      "cell_type": "code",
      "metadata": {
        "id": "5StDsq7Z-cZv"
      },
      "source": [
        "# 단어사전 생성\n",
        "tokenizer.# 코드입력"
      ],
      "execution_count": null,
      "outputs": []
    },
    {
      "cell_type": "markdown",
      "metadata": {
        "id": "iXPvVeUS-cZw"
      },
      "source": [
        "### 시퀀스 변환"
      ]
    },
    {
      "cell_type": "code",
      "metadata": {
        "id": "497rAR9B-cZw"
      },
      "source": [
        "# 분할한 x_train, x_test 시퀀스 변환\n",
        "x_train_sequences = \n",
        "x_test_sequences = \n",
        "\n",
        "# test 데이터셋 변환\n",
        "test_sequences = "
      ],
      "execution_count": null,
      "outputs": []
    },
    {
      "cell_type": "code",
      "metadata": {
        "id": "uPZ0IvIr-cZw"
      },
      "source": [
        "# 한 문장의 최대 단어 숫자\n",
        "max_length = # 코드입력\n",
        "\n",
        "# 잘라낼 문장의 위치\n",
        "trunc_type = # 코드입력\n",
        "\n",
        "# 채워줄 문장의 위치\n",
        "padding_type = # 코드입력"
      ],
      "execution_count": null,
      "outputs": []
    },
    {
      "cell_type": "markdown",
      "metadata": {
        "id": "4PINCaZ7-cZw"
      },
      "source": [
        "### padding 적용"
      ]
    },
    {
      "cell_type": "code",
      "metadata": {
        "id": "blVTQVux-cZw"
      },
      "source": [
        "x_train_padded = # 코드입력\n",
        "x_test_padded = # 코드입력\n",
        "test_padded = # 코드입력"
      ],
      "execution_count": null,
      "outputs": []
    },
    {
      "cell_type": "markdown",
      "metadata": {
        "id": "btm2-uY0-cZw"
      },
      "source": [
        "### 모델 생성"
      ]
    },
    {
      "cell_type": "code",
      "metadata": {
        "id": "uuzhuxqo-cZw"
      },
      "source": [
        "model = Sequential([\n",
        "    # Embedding, LSTM, Dense, Dropout 등을 활용하여 자유롭게 모델링\n",
        "    # 코드 입력\n",
        "    \n",
        "    \n",
        "    # 출력층은 변경하지 않습니다.\n",
        "    Dense(1, activation='sigmoid')\n",
        "])"
      ],
      "execution_count": null,
      "outputs": []
    },
    {
      "cell_type": "markdown",
      "metadata": {
        "id": "UIakOf5x-cZx"
      },
      "source": [
        "### 모델 요약"
      ]
    },
    {
      "cell_type": "code",
      "metadata": {
        "id": "8uBR9h9P-cZx"
      },
      "source": [
        "model.summary()"
      ],
      "execution_count": null,
      "outputs": []
    },
    {
      "cell_type": "markdown",
      "metadata": {
        "id": "W44oJkR7-cZx"
      },
      "source": [
        "### 모델 컴파일"
      ]
    },
    {
      "cell_type": "code",
      "metadata": {
        "id": "xdfMmmaP-cZx"
      },
      "source": [
        "# 코드입력\n",
        "model."
      ],
      "execution_count": null,
      "outputs": []
    },
    {
      "cell_type": "markdown",
      "metadata": {
        "id": "W0QpR3qd-cZx"
      },
      "source": [
        "### 체크포인트 생성"
      ]
    },
    {
      "cell_type": "code",
      "metadata": {
        "id": "FWSS0tRv-cZx"
      },
      "source": [
        "checkpoint_path = # 코드입력\n",
        "checkpoint = # 코드입력"
      ],
      "execution_count": null,
      "outputs": []
    },
    {
      "cell_type": "markdown",
      "metadata": {
        "id": "pAUbfqKq-cZy"
      },
      "source": [
        "### 학습"
      ]
    },
    {
      "cell_type": "code",
      "metadata": {
        "id": "2UEfu05S-cZy"
      },
      "source": [
        "# 코드입력\n",
        "model."
      ],
      "execution_count": null,
      "outputs": []
    },
    {
      "cell_type": "markdown",
      "metadata": {
        "id": "hQSy85qV-cZy"
      },
      "source": [
        "### 체크포인트 로드"
      ]
    },
    {
      "cell_type": "code",
      "metadata": {
        "id": "1RBml9E1-cZy"
      },
      "source": [
        "# 코드입력\n",
        "model."
      ],
      "execution_count": null,
      "outputs": []
    },
    {
      "cell_type": "markdown",
      "metadata": {
        "id": "CnGtBQDJ-cZy"
      },
      "source": [
        "### 결과 예측 (예측 코드는 수정하지 않습니다)"
      ]
    },
    {
      "cell_type": "code",
      "metadata": {
        "id": "yqT7irxM-cZy"
      },
      "source": [
        "pred = model.predict(test_padded)\n",
        "your_answer = pred.round().reshape(-1)\n",
        "your_answer[:5]"
      ],
      "execution_count": null,
      "outputs": []
    },
    {
      "cell_type": "markdown",
      "metadata": {
        "id": "V1PURs-gbphu"
      },
      "source": [
        "## 결과 제출\n",
        "\n",
        "### 순서대로 평가가 진행됩니다. 실행은 1회만 해주세요.\n",
        "\n",
        "- 느리다고 중지 후 다시 평가 코드를 실행하는 경우 제출 과정에서 패널티가 발생할 수 있습니다. (제출 횟수 이슈 발생 가능)\n",
        "\n",
        "- 전체 점수는 [평가시스템](http://manage.jaen.kr)에서 확인할 수 있습니다.\n",
        "    - 프로젝트 > 영화리뷰 감정 분석 > 리더보드 > 같은 반 리더보드"
      ]
    },
    {
      "cell_type": "markdown",
      "metadata": {
        "id": "mUz8NLzC-cZz"
      },
      "source": [
        "아래 Cell을 실행하여 예측 결과 업데이트"
      ]
    },
    {
      "cell_type": "code",
      "source": [
        "# 예측 결과 업데이트\n",
        "submission = pd.read_csv(os.path.join(DATA_DIR, project_name, 'submission.csv'))\n",
        "submission['label'] = your_answer\n",
        "display(submission)\n",
        "\n",
        "# 제출\n",
        "project.email = email\n",
        "project.submit(submission)"
      ],
      "metadata": {
        "id": "j8q8LlWBrD0v"
      },
      "execution_count": null,
      "outputs": []
    }
  ]
}