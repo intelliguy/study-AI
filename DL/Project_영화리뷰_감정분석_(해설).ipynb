{
  "cells": [
    {
      "cell_type": "markdown",
      "metadata": {
        "id": "d-KYKjXI-cZj"
      },
      "source": [
        "## 환경설정"
      ]
    },
    {
      "cell_type": "code",
      "execution_count": null,
      "metadata": {
        "id": "QvBhB1tC-cZm"
      },
      "outputs": [],
      "source": [
        "project_name = \"영화리뷰 감정 분석\" # 프로젝트 이름\n",
        "class_info = \"2차수 A반\" # 차수 정보\n",
        "email = \"dl2a@sk.com\" # 회사 이메일(본인의 회사 이메일 입력)"
      ]
    },
    {
      "cell_type": "markdown",
      "metadata": {
        "id": "p2gDg1GQ-cZo"
      },
      "source": [
        "## 모듈 설치 및 데이터 다운로드"
      ]
    },
    {
      "cell_type": "code",
      "execution_count": null,
      "metadata": {
        "colab": {
          "background_save": true,
          "base_uri": "https://localhost:8080/",
          "height": 316,
          "referenced_widgets": [
            "005d3ec56c9e47d5b3c07ff703636abc",
            "6519cbaa7de84b12911f80e387c09272",
            "ebc8c53f36d541c8a66266bcb016e1aa"
          ]
        },
        "id": "OF1cNofU-cZo",
        "outputId": "6078859f-bc7c-428e-a347-2f81c2e506c7"
      },
      "outputs": [
        {
          "data": {
            "application/vnd.jupyter.widget-view+json": {
              "model_id": "005d3ec56c9e47d5b3c07ff703636abc",
              "version_major": 2,
              "version_minor": 0
            },
            "text/plain": [
              "  0%|          | 0.00/993k [00:00<?, ?B/s]"
            ]
          },
          "metadata": {},
          "output_type": "display_data"
        },
        {
          "name": "stdout",
          "output_type": "stream",
          "text": [
            "test.csv "
          ]
        },
        {
          "data": {
            "application/vnd.jupyter.widget-view+json": {
              "model_id": "6519cbaa7de84b12911f80e387c09272",
              "version_major": 2,
              "version_minor": 0
            },
            "text/plain": [
              "  0%|          | 0.00/963k [00:00<?, ?B/s]"
            ]
          },
          "metadata": {},
          "output_type": "display_data"
        },
        {
          "name": "stdout",
          "output_type": "stream",
          "text": [
            "submission.csv "
          ]
        },
        {
          "data": {
            "application/vnd.jupyter.widget-view+json": {
              "model_id": "ebc8c53f36d541c8a66266bcb016e1aa",
              "version_major": 2,
              "version_minor": 0
            },
            "text/plain": [
              "  0%|          | 0.00/68.9k [00:00<?, ?B/s]"
            ]
          },
          "metadata": {},
          "output_type": "display_data"
        },
        {
          "name": "stdout",
          "output_type": "stream",
          "text": [
            "\n",
            "==============================\n",
            "프로젝트: 영화리뷰 감정 분석\n",
            "==============================\n",
            "파일 목록\n",
            "\n",
            "submission.csv\n",
            "- data/영화리뷰 감정 분석/submission.csv\n",
            "\n",
            "train.csv\n",
            "- data/영화리뷰 감정 분석/train.csv\n",
            "\n",
            "test.csv\n",
            "- data/영화리뷰 감정 분석/test.csv\n",
            "\n",
            "==============================\n"
          ]
        }
      ],
      "source": [
        "!pip install --upgrade mySUNI -q\n",
        "\n",
        "import mySUNI\n",
        "from mySUNI import cds, utils\n",
        "import urllib.request\n",
        "import zipfile\n",
        "\n",
        "\n",
        "project = cds.Project(project_name, class_info, email)\n",
        "project.edu_name = 'SUNI_딥러닝'\n",
        "\n",
        "# 이메일 설정 확인\n",
        "if not project.email:\n",
        "    raise print(\"[이메일이 누락되었습니다] 이메일을 설정해 주세요↑↑↑\")\n",
        "\n",
        "\n",
        "print('===' * 15)\n",
        "print(f'패키지버전: {mySUNI.__version__}')\n",
        "print('===' * 15)\n",
        "print(f'프로젝트명: {project_name}\\n차수 정보 : {class_info}\\n이  메  일: {email}')\n",
        "print('===' * 15)\n",
        "\n",
        "# 데이터셋 다운로드\n",
        "cds.download_project(project_name, class_info, email)"
      ]
    },
    {
      "cell_type": "markdown",
      "metadata": {
        "id": "CE1OuGoF-cZp"
      },
      "source": [
        "## 필요한 모듈 import "
      ]
    },
    {
      "cell_type": "code",
      "execution_count": null,
      "metadata": {
        "colab": {
          "background_save": true
        },
        "id": "LbFFo4zNbGIS"
      },
      "outputs": [],
      "source": [
        "import pandas as pd\n",
        "import numpy as np\n",
        "import matplotlib.pyplot as plt\n",
        "import seaborn as sns\n",
        "import warnings\n",
        "import os\n",
        "import tensorflow as tf\n",
        "\n",
        "pd.set_option('display.max_colwidth', None)\n",
        "\n",
        "# Data 경로 설정\n",
        "DATA_DIR = 'data'\n",
        "\n",
        "# 경고 무시\n",
        "warnings.filterwarnings('ignore')\n",
        "\n",
        "SEED=123\n",
        "\n",
        "np.random.seed(SEED)\n",
        "tf.random.set_seed(SEED)"
      ]
    },
    {
      "cell_type": "markdown",
      "metadata": {
        "id": "MPrGs1om-cZq"
      },
      "source": [
        "## 데이터 로드"
      ]
    },
    {
      "cell_type": "markdown",
      "metadata": {
        "id": "ke1zrZQy-cZr"
      },
      "source": [
        "### 1. 데이터셋 로드"
      ]
    },
    {
      "cell_type": "code",
      "execution_count": null,
      "metadata": {
        "colab": {
          "background_save": true
        },
        "id": "KvmG2nhx-cZr"
      },
      "outputs": [],
      "source": [
        "# train 데이터셋 로드 (train.csv)\n",
        "train = pd.read_csv(os.path.join(DATA_DIR, project_name, 'train.csv'))\n",
        "                                 \n",
        "# test 데이터셋 로드 (test.csv)\n",
        "test = pd.read_csv(os.path.join(DATA_DIR, project_name, 'test.csv'))"
      ]
    },
    {
      "cell_type": "code",
      "execution_count": null,
      "metadata": {
        "colab": {
          "background_save": true,
          "base_uri": "https://localhost:8080/",
          "height": 267
        },
        "id": "j18H86Eq-cZs",
        "outputId": "b7cb2b9f-77e5-46e6-f860-b7a14be45c7d"
      },
      "outputs": [
        {
          "data": {
            "text/html": [
              "\n",
              "  <div id=\"df-9d992321-8846-4698-8174-05fd3a906fca\">\n",
              "    <div class=\"colab-df-container\">\n",
              "      <div>\n",
              "<style scoped>\n",
              "    .dataframe tbody tr th:only-of-type {\n",
              "        vertical-align: middle;\n",
              "    }\n",
              "\n",
              "    .dataframe tbody tr th {\n",
              "        vertical-align: top;\n",
              "    }\n",
              "\n",
              "    .dataframe thead th {\n",
              "        text-align: right;\n",
              "    }\n",
              "</style>\n",
              "<table border=\"1\" class=\"dataframe\">\n",
              "  <thead>\n",
              "    <tr style=\"text-align: right;\">\n",
              "      <th></th>\n",
              "      <th>document</th>\n",
              "      <th>label</th>\n",
              "    </tr>\n",
              "  </thead>\n",
              "  <tbody>\n",
              "    <tr>\n",
              "      <th>0</th>\n",
              "      <td>코미디 영화 네요 보면서 많이 웃었어요</td>\n",
              "      <td>1</td>\n",
              "    </tr>\n",
              "    <tr>\n",
              "      <th>1</th>\n",
              "      <td>역시 일본인들의 일상현실생활이군 개막장국가답다</td>\n",
              "      <td>1</td>\n",
              "    </tr>\n",
              "    <tr>\n",
              "      <th>2</th>\n",
              "      <td>완전 잼없고 내용도 없음. 보지마삼</td>\n",
              "      <td>0</td>\n",
              "    </tr>\n",
              "    <tr>\n",
              "      <th>3</th>\n",
              "      <td>왠만해선 좋게 봐주려고 했는데 내 와이파이가 이딴 쓰레기 영화를 보기 위해 한 몸 다 받쳐 다운로드를 했다는 것에 도저히 참을 수가 없다. 스토리도 작화도 연출도 이도저도 아닌 최악의 영화.</td>\n",
              "      <td>0</td>\n",
              "    </tr>\n",
              "    <tr>\n",
              "      <th>4</th>\n",
              "      <td>멋져멋져..........</td>\n",
              "      <td>1</td>\n",
              "    </tr>\n",
              "  </tbody>\n",
              "</table>\n",
              "</div>\n",
              "      <button class=\"colab-df-convert\" onclick=\"convertToInteractive('df-9d992321-8846-4698-8174-05fd3a906fca')\"\n",
              "              title=\"Convert this dataframe to an interactive table.\"\n",
              "              style=\"display:none;\">\n",
              "        \n",
              "  <svg xmlns=\"http://www.w3.org/2000/svg\" height=\"24px\"viewBox=\"0 0 24 24\"\n",
              "       width=\"24px\">\n",
              "    <path d=\"M0 0h24v24H0V0z\" fill=\"none\"/>\n",
              "    <path d=\"M18.56 5.44l.94 2.06.94-2.06 2.06-.94-2.06-.94-.94-2.06-.94 2.06-2.06.94zm-11 1L8.5 8.5l.94-2.06 2.06-.94-2.06-.94L8.5 2.5l-.94 2.06-2.06.94zm10 10l.94 2.06.94-2.06 2.06-.94-2.06-.94-.94-2.06-.94 2.06-2.06.94z\"/><path d=\"M17.41 7.96l-1.37-1.37c-.4-.4-.92-.59-1.43-.59-.52 0-1.04.2-1.43.59L10.3 9.45l-7.72 7.72c-.78.78-.78 2.05 0 2.83L4 21.41c.39.39.9.59 1.41.59.51 0 1.02-.2 1.41-.59l7.78-7.78 2.81-2.81c.8-.78.8-2.07 0-2.86zM5.41 20L4 18.59l7.72-7.72 1.47 1.35L5.41 20z\"/>\n",
              "  </svg>\n",
              "      </button>\n",
              "      \n",
              "  <style>\n",
              "    .colab-df-container {\n",
              "      display:flex;\n",
              "      flex-wrap:wrap;\n",
              "      gap: 12px;\n",
              "    }\n",
              "\n",
              "    .colab-df-convert {\n",
              "      background-color: #E8F0FE;\n",
              "      border: none;\n",
              "      border-radius: 50%;\n",
              "      cursor: pointer;\n",
              "      display: none;\n",
              "      fill: #1967D2;\n",
              "      height: 32px;\n",
              "      padding: 0 0 0 0;\n",
              "      width: 32px;\n",
              "    }\n",
              "\n",
              "    .colab-df-convert:hover {\n",
              "      background-color: #E2EBFA;\n",
              "      box-shadow: 0px 1px 2px rgba(60, 64, 67, 0.3), 0px 1px 3px 1px rgba(60, 64, 67, 0.15);\n",
              "      fill: #174EA6;\n",
              "    }\n",
              "\n",
              "    [theme=dark] .colab-df-convert {\n",
              "      background-color: #3B4455;\n",
              "      fill: #D2E3FC;\n",
              "    }\n",
              "\n",
              "    [theme=dark] .colab-df-convert:hover {\n",
              "      background-color: #434B5C;\n",
              "      box-shadow: 0px 1px 3px 1px rgba(0, 0, 0, 0.15);\n",
              "      filter: drop-shadow(0px 1px 2px rgba(0, 0, 0, 0.3));\n",
              "      fill: #FFFFFF;\n",
              "    }\n",
              "  </style>\n",
              "\n",
              "      <script>\n",
              "        const buttonEl =\n",
              "          document.querySelector('#df-9d992321-8846-4698-8174-05fd3a906fca button.colab-df-convert');\n",
              "        buttonEl.style.display =\n",
              "          google.colab.kernel.accessAllowed ? 'block' : 'none';\n",
              "\n",
              "        async function convertToInteractive(key) {\n",
              "          const element = document.querySelector('#df-9d992321-8846-4698-8174-05fd3a906fca');\n",
              "          const dataTable =\n",
              "            await google.colab.kernel.invokeFunction('convertToInteractive',\n",
              "                                                     [key], {});\n",
              "          if (!dataTable) return;\n",
              "\n",
              "          const docLinkHtml = 'Like what you see? Visit the ' +\n",
              "            '<a target=\"_blank\" href=https://colab.research.google.com/notebooks/data_table.ipynb>data table notebook</a>'\n",
              "            + ' to learn more about interactive tables.';\n",
              "          element.innerHTML = '';\n",
              "          dataTable['output_type'] = 'display_data';\n",
              "          await google.colab.output.renderOutput(dataTable, element);\n",
              "          const docLink = document.createElement('div');\n",
              "          docLink.innerHTML = docLinkHtml;\n",
              "          element.appendChild(docLink);\n",
              "        }\n",
              "      </script>\n",
              "    </div>\n",
              "  </div>\n",
              "  "
            ],
            "text/plain": [
              "                                                                                                     document  \\\n",
              "0                                                                                       코미디 영화 네요 보면서 많이 웃었어요   \n",
              "1                                                                                   역시 일본인들의 일상현실생활이군 개막장국가답다   \n",
              "2                                                                                         완전 잼없고 내용도 없음. 보지마삼   \n",
              "3  왠만해선 좋게 봐주려고 했는데 내 와이파이가 이딴 쓰레기 영화를 보기 위해 한 몸 다 받쳐 다운로드를 했다는 것에 도저히 참을 수가 없다. 스토리도 작화도 연출도 이도저도 아닌 최악의 영화.   \n",
              "4                                                                                              멋져멋져..........   \n",
              "\n",
              "   label  \n",
              "0      1  \n",
              "1      1  \n",
              "2      0  \n",
              "3      0  \n",
              "4      1  "
            ]
          },
          "execution_count": 48,
          "metadata": {},
          "output_type": "execute_result"
        }
      ],
      "source": [
        "train.head()"
      ]
    },
    {
      "cell_type": "code",
      "execution_count": null,
      "metadata": {
        "colab": {
          "base_uri": "https://localhost:8080/",
          "height": 285
        },
        "id": "iIe2Qodk-cZs",
        "outputId": "5aab938c-bd4b-41fb-8cb7-777f277048ff"
      },
      "outputs": [
        {
          "data": {
            "text/html": [
              "\n",
              "  <div id=\"df-bf5e1ea8-3302-4cb9-9c7b-c2c0dbe67e7a\">\n",
              "    <div class=\"colab-df-container\">\n",
              "      <div>\n",
              "<style scoped>\n",
              "    .dataframe tbody tr th:only-of-type {\n",
              "        vertical-align: middle;\n",
              "    }\n",
              "\n",
              "    .dataframe tbody tr th {\n",
              "        vertical-align: top;\n",
              "    }\n",
              "\n",
              "    .dataframe thead th {\n",
              "        text-align: right;\n",
              "    }\n",
              "</style>\n",
              "<table border=\"1\" class=\"dataframe\">\n",
              "  <thead>\n",
              "    <tr style=\"text-align: right;\">\n",
              "      <th></th>\n",
              "      <th>document</th>\n",
              "    </tr>\n",
              "  </thead>\n",
              "  <tbody>\n",
              "    <tr>\n",
              "      <th>0</th>\n",
              "      <td>미야자키 아오이 전도연 닮았다고 생각되면 공감 눌러</td>\n",
              "    </tr>\n",
              "    <tr>\n",
              "      <th>1</th>\n",
              "      <td>너무 감동적이에요..이거보고 하치가 주인이 죽인지도 모르고 늙어가며 추운곳에서 기다리는 모습이 너무 안타깝네요...</td>\n",
              "    </tr>\n",
              "    <tr>\n",
              "      <th>2</th>\n",
              "      <td>역시 빠순이의 점수 대단해</td>\n",
              "    </tr>\n",
              "    <tr>\n",
              "      <th>3</th>\n",
              "      <td>슬픈사랑의 노래... 분위기가 인상적이었던 영화...</td>\n",
              "    </tr>\n",
              "    <tr>\n",
              "      <th>4</th>\n",
              "      <td>학교에서 일어나는 내용이 좀 재미있을 뿐 너무 지루해서 끝까지 보기 힘든영화. 재밌는 소재를 갖고 이렇게 못만들다니.</td>\n",
              "    </tr>\n",
              "  </tbody>\n",
              "</table>\n",
              "</div>\n",
              "      <button class=\"colab-df-convert\" onclick=\"convertToInteractive('df-bf5e1ea8-3302-4cb9-9c7b-c2c0dbe67e7a')\"\n",
              "              title=\"Convert this dataframe to an interactive table.\"\n",
              "              style=\"display:none;\">\n",
              "        \n",
              "  <svg xmlns=\"http://www.w3.org/2000/svg\" height=\"24px\"viewBox=\"0 0 24 24\"\n",
              "       width=\"24px\">\n",
              "    <path d=\"M0 0h24v24H0V0z\" fill=\"none\"/>\n",
              "    <path d=\"M18.56 5.44l.94 2.06.94-2.06 2.06-.94-2.06-.94-.94-2.06-.94 2.06-2.06.94zm-11 1L8.5 8.5l.94-2.06 2.06-.94-2.06-.94L8.5 2.5l-.94 2.06-2.06.94zm10 10l.94 2.06.94-2.06 2.06-.94-2.06-.94-.94-2.06-.94 2.06-2.06.94z\"/><path d=\"M17.41 7.96l-1.37-1.37c-.4-.4-.92-.59-1.43-.59-.52 0-1.04.2-1.43.59L10.3 9.45l-7.72 7.72c-.78.78-.78 2.05 0 2.83L4 21.41c.39.39.9.59 1.41.59.51 0 1.02-.2 1.41-.59l7.78-7.78 2.81-2.81c.8-.78.8-2.07 0-2.86zM5.41 20L4 18.59l7.72-7.72 1.47 1.35L5.41 20z\"/>\n",
              "  </svg>\n",
              "      </button>\n",
              "      \n",
              "  <style>\n",
              "    .colab-df-container {\n",
              "      display:flex;\n",
              "      flex-wrap:wrap;\n",
              "      gap: 12px;\n",
              "    }\n",
              "\n",
              "    .colab-df-convert {\n",
              "      background-color: #E8F0FE;\n",
              "      border: none;\n",
              "      border-radius: 50%;\n",
              "      cursor: pointer;\n",
              "      display: none;\n",
              "      fill: #1967D2;\n",
              "      height: 32px;\n",
              "      padding: 0 0 0 0;\n",
              "      width: 32px;\n",
              "    }\n",
              "\n",
              "    .colab-df-convert:hover {\n",
              "      background-color: #E2EBFA;\n",
              "      box-shadow: 0px 1px 2px rgba(60, 64, 67, 0.3), 0px 1px 3px 1px rgba(60, 64, 67, 0.15);\n",
              "      fill: #174EA6;\n",
              "    }\n",
              "\n",
              "    [theme=dark] .colab-df-convert {\n",
              "      background-color: #3B4455;\n",
              "      fill: #D2E3FC;\n",
              "    }\n",
              "\n",
              "    [theme=dark] .colab-df-convert:hover {\n",
              "      background-color: #434B5C;\n",
              "      box-shadow: 0px 1px 3px 1px rgba(0, 0, 0, 0.15);\n",
              "      filter: drop-shadow(0px 1px 2px rgba(0, 0, 0, 0.3));\n",
              "      fill: #FFFFFF;\n",
              "    }\n",
              "  </style>\n",
              "\n",
              "      <script>\n",
              "        const buttonEl =\n",
              "          document.querySelector('#df-bf5e1ea8-3302-4cb9-9c7b-c2c0dbe67e7a button.colab-df-convert');\n",
              "        buttonEl.style.display =\n",
              "          google.colab.kernel.accessAllowed ? 'block' : 'none';\n",
              "\n",
              "        async function convertToInteractive(key) {\n",
              "          const element = document.querySelector('#df-bf5e1ea8-3302-4cb9-9c7b-c2c0dbe67e7a');\n",
              "          const dataTable =\n",
              "            await google.colab.kernel.invokeFunction('convertToInteractive',\n",
              "                                                     [key], {});\n",
              "          if (!dataTable) return;\n",
              "\n",
              "          const docLinkHtml = 'Like what you see? Visit the ' +\n",
              "            '<a target=\"_blank\" href=https://colab.research.google.com/notebooks/data_table.ipynb>data table notebook</a>'\n",
              "            + ' to learn more about interactive tables.';\n",
              "          element.innerHTML = '';\n",
              "          dataTable['output_type'] = 'display_data';\n",
              "          await google.colab.output.renderOutput(dataTable, element);\n",
              "          const docLink = document.createElement('div');\n",
              "          docLink.innerHTML = docLinkHtml;\n",
              "          element.appendChild(docLink);\n",
              "        }\n",
              "      </script>\n",
              "    </div>\n",
              "  </div>\n",
              "  "
            ],
            "text/plain": [
              "                                                            document\n",
              "0                                       미야자키 아오이 전도연 닮았다고 생각되면 공감 눌러\n",
              "1   너무 감동적이에요..이거보고 하치가 주인이 죽인지도 모르고 늙어가며 추운곳에서 기다리는 모습이 너무 안타깝네요...\n",
              "2                                                     역시 빠순이의 점수 대단해\n",
              "3                                      슬픈사랑의 노래... 분위기가 인상적이었던 영화...\n",
              "4  학교에서 일어나는 내용이 좀 재미있을 뿐 너무 지루해서 끝까지 보기 힘든영화. 재밌는 소재를 갖고 이렇게 못만들다니."
            ]
          },
          "execution_count": 6,
          "metadata": {},
          "output_type": "execute_result"
        }
      ],
      "source": [
        "test.head()"
      ]
    },
    {
      "cell_type": "markdown",
      "metadata": {
        "id": "rv02iFHZ-cZs"
      },
      "source": [
        "### 한글 형태소 분석기 로드\n",
        "\n",
        "[도큐먼트 링크](https://konlpy.org/ko/latest/index.html)"
      ]
    },
    {
      "cell_type": "markdown",
      "metadata": {
        "id": "R0loMGM2-cZs"
      },
      "source": [
        "아래 Cell을 실행하여 설치"
      ]
    },
    {
      "cell_type": "code",
      "execution_count": null,
      "metadata": {
        "colab": {
          "base_uri": "https://localhost:8080/"
        },
        "id": "_AKqIZeT-cZt",
        "outputId": "3023bc24-6513-420d-ddd4-559e79519e90"
      },
      "outputs": [
        {
          "name": "stdout",
          "output_type": "stream",
          "text": [
            "Looking in indexes: https://pypi.org/simple, https://us-python.pkg.dev/colab-wheels/public/simple/\n",
            "Collecting konlpy\n",
            "  Downloading konlpy-0.6.0-py2.py3-none-any.whl (19.4 MB)\n",
            "\u001b[K     |████████████████████████████████| 19.4 MB 7.0 MB/s \n",
            "\u001b[?25hCollecting JPype1>=0.7.0\n",
            "  Downloading JPype1-1.4.0-cp37-cp37m-manylinux_2_5_x86_64.manylinux1_x86_64.whl (453 kB)\n",
            "\u001b[K     |████████████████████████████████| 453 kB 55.2 MB/s \n",
            "\u001b[?25hRequirement already satisfied: numpy>=1.6 in /usr/local/lib/python3.7/dist-packages (from konlpy) (1.21.6)\n",
            "Requirement already satisfied: lxml>=4.1.0 in /usr/local/lib/python3.7/dist-packages (from konlpy) (4.9.1)\n",
            "Requirement already satisfied: typing-extensions in /usr/local/lib/python3.7/dist-packages (from JPype1>=0.7.0->konlpy) (4.1.1)\n",
            "Installing collected packages: JPype1, konlpy\n",
            "Successfully installed JPype1-1.4.0 konlpy-0.6.0\n"
          ]
        }
      ],
      "source": [
        "!pip install konlpy"
      ]
    },
    {
      "cell_type": "code",
      "execution_count": null,
      "metadata": {
        "id": "stJEf0SW-cZt"
      },
      "outputs": [],
      "source": [
        "from konlpy.tag import Okt\n",
        "\n",
        "# 형태소 분석기 로드\n",
        "okt = Okt()"
      ]
    },
    {
      "cell_type": "code",
      "execution_count": null,
      "metadata": {
        "colab": {
          "base_uri": "https://localhost:8080/"
        },
        "id": "XWf_sWGy-cZt",
        "outputId": "132ed4cf-dc24-4709-e246-5e6c3ca272f7"
      },
      "outputs": [
        {
          "data": {
            "text/plain": [
              "['안녕하세요', '?', '반갑습니다', '.', '저', '는', '파이썬', '을', '사랑', '합니다']"
            ]
          },
          "execution_count": 9,
          "metadata": {},
          "output_type": "execute_result"
        }
      ],
      "source": [
        "# morphs 적용시\n",
        "okt.morphs('안녕하세요? 반갑습니다. 저는 파이썬을 사랑합니다')"
      ]
    },
    {
      "cell_type": "code",
      "execution_count": null,
      "metadata": {
        "colab": {
          "base_uri": "https://localhost:8080/"
        },
        "id": "Dcqj4mxDqxLv",
        "outputId": "dc99be1e-7637-4396-bffd-3e60b487ddb4"
      },
      "outputs": [
        {
          "data": {
            "text/plain": [
              "[('안녕하세요', 'Adjective'),\n",
              " ('?', 'Punctuation'),\n",
              " ('반갑습니다', 'Adjective'),\n",
              " ('.', 'Punctuation'),\n",
              " ('저', 'Noun'),\n",
              " ('는', 'Josa'),\n",
              " ('파이썬', 'Noun'),\n",
              " ('을', 'Josa'),\n",
              " ('사랑', 'Noun'),\n",
              " ('합니다', 'Verb')]"
            ]
          },
          "execution_count": 10,
          "metadata": {},
          "output_type": "execute_result"
        }
      ],
      "source": [
        "# pos 적용시\n",
        "okt.pos('안녕하세요? 반갑습니다. 저는 파이썬을 사랑합니다')"
      ]
    },
    {
      "cell_type": "code",
      "execution_count": null,
      "metadata": {
        "colab": {
          "base_uri": "https://localhost:8080/"
        },
        "id": "c3-EPh86ro7v",
        "outputId": "759ad870-1643-409b-bc5c-05510a6e92a0"
      },
      "outputs": [
        {
          "data": {
            "text/plain": [
              "['저', '파이썬', '사랑']"
            ]
          },
          "execution_count": 11,
          "metadata": {},
          "output_type": "execute_result"
        }
      ],
      "source": [
        "# 명사만 추출시\n",
        "[word for word, tag in okt.pos('안녕하세요? 반갑습니다. 저는 파이썬을 사랑합니다') if tag == 'Noun']"
      ]
    },
    {
      "cell_type": "code",
      "execution_count": null,
      "metadata": {
        "colab": {
          "base_uri": "https://localhost:8080/"
        },
        "id": "dgT9mZa1r2Qo",
        "outputId": "897f5449-0853-4bb2-d2a4-ef9304f0b952"
      },
      "outputs": [
        {
          "data": {
            "text/plain": [
              "['안녕하세요', '?', '반갑습니다', '.', '저', '파이썬', '사랑', '합니다']"
            ]
          },
          "execution_count": 12,
          "metadata": {},
          "output_type": "execute_result"
        }
      ],
      "source": [
        "# 조사는 제외시\n",
        "[word for word, tag in okt.pos('안녕하세요? 반갑습니다. 저는 파이썬을 사랑합니다') if tag != 'Josa']"
      ]
    },
    {
      "cell_type": "code",
      "execution_count": null,
      "metadata": {
        "colab": {
          "base_uri": "https://localhost:8080/"
        },
        "id": "JLe7TI-5r9j3",
        "outputId": "ce98c00d-0a38-4aca-cfd5-9c0929ba3811"
      },
      "outputs": [
        {
          "data": {
            "text/plain": [
              "['안녕하세요', '반갑습니다', '저', '파이썬', '사랑', '합니다']"
            ]
          },
          "execution_count": 13,
          "metadata": {},
          "output_type": "execute_result"
        }
      ],
      "source": [
        "# 조사, 기호는 제외시\n",
        "[word for word, tag in okt.pos('안녕하세요? 반갑습니다. 저는 파이썬을 사랑합니다') if not tag in ['Josa', 'Punctuation']]"
      ]
    },
    {
      "cell_type": "code",
      "execution_count": null,
      "metadata": {
        "colab": {
          "base_uri": "https://localhost:8080/",
          "height": 36
        },
        "id": "nn3WYlkWsL3X",
        "outputId": "9674d3b9-d619-40cc-b791-847c009011f3"
      },
      "outputs": [
        {
          "data": {
            "application/vnd.google.colaboratory.intrinsic+json": {
              "type": "string"
            },
            "text/plain": [
              "'abcdef가나다라마바사12345'"
            ]
          },
          "execution_count": 14,
          "metadata": {},
          "output_type": "execute_result"
        }
      ],
      "source": [
        "# 한글, 영어, 숫자만 추출시\n",
        "import re\n",
        "\n",
        "sample = \"abcdefㄱㄴㄷㄹㅁㅂ가나다라마바사12345[]{}().,!?'`~;:\"\n",
        "\n",
        "re.sub('[^A-Za-z0-9가-힣]', '', sample)"
      ]
    },
    {
      "cell_type": "markdown",
      "metadata": {
        "id": "oeuroAII-cZt"
      },
      "source": [
        "### 전처리 함수 형태로 생성"
      ]
    },
    {
      "cell_type": "code",
      "execution_count": null,
      "metadata": {
        "id": "jsLzdH3C-cZu"
      },
      "outputs": [],
      "source": [
        "def preprocessing(x):\n",
        "    # 형태소 분석기\n",
        "    x = [word for word, tag in okt.pos(x) if not tag in ['Josa', 'Punctuation']]\n",
        "    return ' '.join(x)"
      ]
    },
    {
      "cell_type": "markdown",
      "metadata": {
        "id": "8pWXfuQ_-cZu"
      },
      "source": [
        "### 전처리기 apply"
      ]
    },
    {
      "cell_type": "code",
      "execution_count": null,
      "metadata": {
        "id": "U5-x32NO-cZu"
      },
      "outputs": [],
      "source": [
        "train_sentences = train['document'].apply(preprocessing)\n",
        "test_sentences = test['document'].apply(preprocessing)"
      ]
    },
    {
      "cell_type": "markdown",
      "metadata": {
        "id": "zCp5DaKY-cZu"
      },
      "source": [
        "### 데이터셋 분할"
      ]
    },
    {
      "cell_type": "code",
      "execution_count": null,
      "metadata": {
        "id": "ZyIjJdmS-cZu"
      },
      "outputs": [],
      "source": [
        "from sklearn.model_selection import train_test_split\n",
        "\n",
        "SEED = 123\n",
        "\n",
        "x_train, x_test, y_train, y_test = train_test_split(train_sentences, train['label'], \n",
        "                                                    stratify=train['label'], \n",
        "                                                    test_size=0.2, \n",
        "                                                    random_state=SEED)"
      ]
    },
    {
      "cell_type": "markdown",
      "metadata": {
        "id": "VPcHBamx-cZv"
      },
      "source": [
        "### tensorflow 관련 모듈 import "
      ]
    },
    {
      "cell_type": "code",
      "execution_count": null,
      "metadata": {
        "id": "HbCW5bto-cZv"
      },
      "outputs": [],
      "source": [
        "# Module Import\n",
        "from tensorflow.keras.preprocessing.text import Tokenizer\n",
        "from tensorflow.keras.preprocessing.sequence import pad_sequences\n",
        "from tensorflow.keras.layers import Embedding, LSTM, Dense, Bidirectional, Flatten\n",
        "from tensorflow.keras.models import Sequential\n",
        "from tensorflow.keras.callbacks import ModelCheckpoint"
      ]
    },
    {
      "cell_type": "markdown",
      "metadata": {
        "id": "NVmA5TXi-cZv"
      },
      "source": [
        "### 단어 사전 정의"
      ]
    },
    {
      "cell_type": "code",
      "execution_count": null,
      "metadata": {
        "id": "5Ev_eaxb-cZv"
      },
      "outputs": [],
      "source": [
        "# 단어사전의 개수, OOV 토큰 지정\n",
        "vocab_size = 3000\n",
        "oov_token = '<OOV>'"
      ]
    },
    {
      "cell_type": "code",
      "execution_count": null,
      "metadata": {
        "id": "_FcxkYVJ-cZv"
      },
      "outputs": [],
      "source": [
        "tokenizer = Tokenizer(num_words=vocab_size, oov_token=oov_token)"
      ]
    },
    {
      "cell_type": "code",
      "execution_count": null,
      "metadata": {
        "id": "5StDsq7Z-cZv"
      },
      "outputs": [],
      "source": [
        "# 단어사전 생성\n",
        "tokenizer.fit_on_texts(train_sentences)"
      ]
    },
    {
      "cell_type": "markdown",
      "metadata": {
        "id": "iXPvVeUS-cZw"
      },
      "source": [
        "### 시퀀스 변환"
      ]
    },
    {
      "cell_type": "code",
      "execution_count": null,
      "metadata": {
        "id": "497rAR9B-cZw"
      },
      "outputs": [],
      "source": [
        "# 분할한 x_train, x_test 시퀀스 변환\n",
        "x_train_sequences = tokenizer.texts_to_sequences(x_train)\n",
        "x_test_sequences = tokenizer.texts_to_sequences(x_test)\n",
        "\n",
        "# test 데이터셋 변환\n",
        "test_sequences = tokenizer.texts_to_sequences(test_sentences)"
      ]
    },
    {
      "cell_type": "code",
      "execution_count": null,
      "metadata": {
        "id": "uPZ0IvIr-cZw"
      },
      "outputs": [],
      "source": [
        "# 한 문장의 최대 단어 숫자\n",
        "max_length = 65\n",
        "\n",
        "# 잘라낼 문장의 위치\n",
        "trunc_type = 'post'\n",
        "\n",
        "# 채워줄 문장의 위치\n",
        "padding_type = 'post'"
      ]
    },
    {
      "cell_type": "code",
      "execution_count": null,
      "metadata": {
        "id": "0GORRTEA-FMC"
      },
      "outputs": [],
      "source": [
        "len_sentences = train_sentences.apply(lambda x: len(x))"
      ]
    },
    {
      "cell_type": "code",
      "execution_count": null,
      "metadata": {
        "colab": {
          "base_uri": "https://localhost:8080/",
          "height": 297
        },
        "id": "g4V8UV70-MOp",
        "outputId": "c7fef24f-b047-44dd-eb55-ef52bb4b4188"
      },
      "outputs": [
        {
          "data": {
            "text/plain": [
              "<matplotlib.axes._subplots.AxesSubplot at 0x7f02febf3a90>"
            ]
          },
          "execution_count": 73,
          "metadata": {},
          "output_type": "execute_result"
        },
        {
          "data": {
            "image/png": "[encoded data removed]",
            "text/plain": [
              "<Figure size 432x288 with 1 Axes>"
            ]
          },
          "metadata": {},
          "output_type": "display_data"
        }
      ],
      "source": [
        "sns.histplot(len_sentences)"
      ]
    },
    {
      "cell_type": "markdown",
      "metadata": {
        "id": "4PINCaZ7-cZw"
      },
      "source": [
        "### padding 적용"
      ]
    },
    {
      "cell_type": "code",
      "execution_count": null,
      "metadata": {
        "id": "blVTQVux-cZw"
      },
      "outputs": [],
      "source": [
        "x_train_padded = pad_sequences(x_train_sequences, maxlen=max_length, truncating=trunc_type, padding=padding_type)\n",
        "x_test_padded = pad_sequences(x_test_sequences, maxlen=max_length, truncating=trunc_type, padding=padding_type)\n",
        "test_padded = pad_sequences(test_sequences, maxlen=max_length, truncating=trunc_type, padding=padding_type)"
      ]
    },
    {
      "cell_type": "markdown",
      "metadata": {
        "id": "btm2-uY0-cZw"
      },
      "source": [
        "### 모델 생성"
      ]
    },
    {
      "cell_type": "code",
      "execution_count": null,
      "metadata": {
        "id": "v5PzfeZMzaDv"
      },
      "outputs": [],
      "source": [
        "embedding_dim = 25"
      ]
    },
    {
      "cell_type": "code",
      "execution_count": null,
      "metadata": {
        "id": "uuzhuxqo-cZw"
      },
      "outputs": [],
      "source": [
        "model = Sequential([\n",
        "    # Embedding, LSTM, Dense, Dropout 등을 활용하여 자유롭게 모델링\n",
        "    # 코드 입력\n",
        "    Embedding(vocab_size, embedding_dim, input_length=max_length),\n",
        "    # Bidirectional(LSTM(32, return_sequences=True)),\n",
        "    Bidirectional(LSTM(32)),\n",
        "    Dense(32, activation='relu'),\n",
        "    Dense(16, activation='relu'),\n",
        "    Dense(1, activation='sigmoid')\n",
        "])"
      ]
    },
    {
      "cell_type": "markdown",
      "metadata": {
        "id": "UIakOf5x-cZx"
      },
      "source": [
        "### 모델 요약"
      ]
    },
    {
      "cell_type": "code",
      "execution_count": null,
      "metadata": {
        "colab": {
          "base_uri": "https://localhost:8080/"
        },
        "id": "8uBR9h9P-cZx",
        "outputId": "bdc01e68-a52a-456a-d853-4fc9ad92ac9f"
      },
      "outputs": [
        {
          "name": "stdout",
          "output_type": "stream",
          "text": [
            "Model: \"sequential\"\n",
            "_________________________________________________________________\n",
            " Layer (type)                Output Shape              Param #   \n",
            "=================================================================\n",
            " embedding (Embedding)       (None, 65, 25)            75000     \n",
            "                                                                 \n",
            " bidirectional (Bidirectiona  (None, 64)               14848     \n",
            " l)                                                              \n",
            "                                                                 \n",
            " dense (Dense)               (None, 32)                2080      \n",
            "                                                                 \n",
            " dense_1 (Dense)             (None, 16)                528       \n",
            "                                                                 \n",
            " dense_2 (Dense)             (None, 1)                 17        \n",
            "                                                                 \n",
            "=================================================================\n",
            "Total params: 92,473\n",
            "Trainable params: 92,473\n",
            "Non-trainable params: 0\n",
            "_________________________________________________________________\n"
          ]
        }
      ],
      "source": [
        "model.summary()"
      ]
    },
    {
      "cell_type": "markdown",
      "metadata": {
        "id": "W44oJkR7-cZx"
      },
      "source": [
        "### 모델 컴파일"
      ]
    },
    {
      "cell_type": "code",
      "execution_count": null,
      "metadata": {
        "id": "_ZaKlq8Z5Z-H"
      },
      "outputs": [],
      "source": [
        "from tensorflow.keras.optimizers import Adam"
      ]
    },
    {
      "cell_type": "code",
      "execution_count": null,
      "metadata": {
        "id": "xdfMmmaP-cZx"
      },
      "outputs": [],
      "source": [
        "# 코드입력\n",
        "model.compile(optimizer=Adam(learning_rate=0.00005), loss='binary_crossentropy', metrics=['acc'])"
      ]
    },
    {
      "cell_type": "markdown",
      "metadata": {
        "id": "W0QpR3qd-cZx"
      },
      "source": [
        "### 체크포인트 생성"
      ]
    },
    {
      "cell_type": "code",
      "execution_count": null,
      "metadata": {
        "id": "FWSS0tRv-cZx"
      },
      "outputs": [],
      "source": [
        "checkpoint_path = 'my_checkpoint.ckpt'\n",
        "checkpoint = ModelCheckpoint(checkpoint_path, \n",
        "                             save_weights_only=True, \n",
        "                             save_best_only=True, \n",
        "                             monitor='val_loss',\n",
        "                             verbose=1)"
      ]
    },
    {
      "cell_type": "markdown",
      "metadata": {
        "id": "pAUbfqKq-cZy"
      },
      "source": [
        "### 학습"
      ]
    },
    {
      "cell_type": "code",
      "execution_count": null,
      "metadata": {
        "colab": {
          "base_uri": "https://localhost:8080/"
        },
        "id": "2UEfu05S-cZy",
        "outputId": "baa2a490-7477-4fb6-f730-2af59ea1ae52"
      },
      "outputs": [
        {
          "name": "stdout",
          "output_type": "stream",
          "text": [
            "Epoch 1/10\n",
            "246/250 [============================>.] - ETA: 0s - loss: 0.6929 - acc: 0.5180\n",
            "Epoch 1: val_loss improved from inf to 0.69265, saving model to my_checkpoint.ckpt\n",
            "250/250 [==============================] - 13s 13ms/step - loss: 0.6929 - acc: 0.5182 - val_loss: 0.6926 - val_acc: 0.5540\n",
            "Epoch 2/10\n",
            "244/250 [============================>.] - ETA: 0s - loss: 0.6919 - acc: 0.5666\n",
            "Epoch 2: val_loss improved from 0.69265 to 0.69080, saving model to my_checkpoint.ckpt\n",
            "250/250 [==============================] - 2s 9ms/step - loss: 0.6919 - acc: 0.5691 - val_loss: 0.6908 - val_acc: 0.6350\n",
            "Epoch 3/10\n",
            "246/250 [============================>.] - ETA: 0s - loss: 0.6859 - acc: 0.6817\n",
            "Epoch 3: val_loss improved from 0.69080 to 0.67902, saving model to my_checkpoint.ckpt\n",
            "250/250 [==============================] - 2s 9ms/step - loss: 0.6857 - acc: 0.6824 - val_loss: 0.6790 - val_acc: 0.6905\n",
            "Epoch 4/10\n",
            "245/250 [============================>.] - ETA: 0s - loss: 0.6421 - acc: 0.7323\n",
            "Epoch 4: val_loss improved from 0.67902 to 0.60413, saving model to my_checkpoint.ckpt\n",
            "250/250 [==============================] - 2s 9ms/step - loss: 0.6414 - acc: 0.7336 - val_loss: 0.6041 - val_acc: 0.7110\n",
            "Epoch 5/10\n",
            "250/250 [==============================] - ETA: 0s - loss: 0.5490 - acc: 0.7579\n",
            "Epoch 5: val_loss improved from 0.60413 to 0.54549, saving model to my_checkpoint.ckpt\n",
            "250/250 [==============================] - 2s 9ms/step - loss: 0.5490 - acc: 0.7579 - val_loss: 0.5455 - val_acc: 0.7655\n",
            "Epoch 6/10\n",
            "250/250 [==============================] - ETA: 0s - loss: 0.4773 - acc: 0.8064\n",
            "Epoch 6: val_loss improved from 0.54549 to 0.50880, saving model to my_checkpoint.ckpt\n",
            "250/250 [==============================] - 2s 9ms/step - loss: 0.4773 - acc: 0.8064 - val_loss: 0.5088 - val_acc: 0.7630\n",
            "Epoch 7/10\n",
            "246/250 [============================>.] - ETA: 0s - loss: 0.4281 - acc: 0.8253\n",
            "Epoch 7: val_loss improved from 0.50880 to 0.48915, saving model to my_checkpoint.ckpt\n",
            "250/250 [==============================] - 2s 9ms/step - loss: 0.4272 - acc: 0.8260 - val_loss: 0.4891 - val_acc: 0.7730\n",
            "Epoch 8/10\n",
            "248/250 [============================>.] - ETA: 0s - loss: 0.3933 - acc: 0.8388\n",
            "Epoch 8: val_loss improved from 0.48915 to 0.46847, saving model to my_checkpoint.ckpt\n",
            "250/250 [==============================] - 2s 9ms/step - loss: 0.3934 - acc: 0.8388 - val_loss: 0.4685 - val_acc: 0.7905\n",
            "Epoch 9/10\n",
            "245/250 [============================>.] - ETA: 0s - loss: 0.3659 - acc: 0.8483\n",
            "Epoch 9: val_loss improved from 0.46847 to 0.45943, saving model to my_checkpoint.ckpt\n",
            "250/250 [==============================] - 2s 9ms/step - loss: 0.3652 - acc: 0.8485 - val_loss: 0.4594 - val_acc: 0.7940\n",
            "Epoch 10/10\n",
            "248/250 [============================>.] - ETA: 0s - loss: 0.3460 - acc: 0.8551\n",
            "Epoch 10: val_loss improved from 0.45943 to 0.45801, saving model to my_checkpoint.ckpt\n",
            "250/250 [==============================] - 2s 9ms/step - loss: 0.3460 - acc: 0.8553 - val_loss: 0.4580 - val_acc: 0.7945\n"
          ]
        },
        {
          "data": {
            "text/plain": [
              "<keras.callbacks.History at 0x7f07a4438050>"
            ]
          },
          "execution_count": 31,
          "metadata": {},
          "output_type": "execute_result"
        }
      ],
      "source": [
        "# 코드입력\n",
        "model.fit(x_train_padded, y_train, \n",
        "          validation_data=(x_test_padded, y_test),\n",
        "          callbacks=[checkpoint],\n",
        "          epochs=10)"
      ]
    },
    {
      "cell_type": "markdown",
      "metadata": {
        "id": "hQSy85qV-cZy"
      },
      "source": [
        "### 체크포인트 로드"
      ]
    },
    {
      "cell_type": "code",
      "execution_count": null,
      "metadata": {
        "colab": {
          "base_uri": "https://localhost:8080/"
        },
        "id": "1RBml9E1-cZy",
        "outputId": "618be8d5-86bb-4280-c88a-4d0f65bf381c"
      },
      "outputs": [
        {
          "data": {
            "text/plain": [
              "<tensorflow.python.training.tracking.util.CheckpointLoadStatus at 0x7f07a442ef10>"
            ]
          },
          "execution_count": 32,
          "metadata": {},
          "output_type": "execute_result"
        }
      ],
      "source": [
        "# 코드입력\n",
        "model.load_weights(checkpoint_path)"
      ]
    },
    {
      "cell_type": "markdown",
      "metadata": {
        "id": "Cldh76J-8D8p"
      },
      "source": [
        "## 모델 저장"
      ]
    },
    {
      "cell_type": "code",
      "execution_count": null,
      "metadata": {
        "id": "3U5kfAjt8FVJ"
      },
      "outputs": [],
      "source": [
        "model.save('sample.h5')"
      ]
    },
    {
      "cell_type": "markdown",
      "metadata": {
        "id": "v2n8Lyjd8IkP"
      },
      "source": [
        "## 모델 로드"
      ]
    },
    {
      "cell_type": "code",
      "execution_count": null,
      "metadata": {
        "id": "Eg3lz7XK8J6Z"
      },
      "outputs": [],
      "source": [
        "from tensorflow.keras.models import load_model"
      ]
    },
    {
      "cell_type": "code",
      "execution_count": null,
      "metadata": {
        "id": "Hlb-icpz8NOR"
      },
      "outputs": [],
      "source": [
        "# 저장한 모델 불러오기\n",
        "loaded_model = load_model('sample.h5')"
      ]
    },
    {
      "cell_type": "markdown",
      "metadata": {
        "id": "cH2eB3DPM6SH"
      },
      "source": [
        "## 실시간 예측기"
      ]
    },
    {
      "cell_type": "code",
      "execution_count": null,
      "metadata": {
        "id": "0ynWrc3p73H6"
      },
      "outputs": [],
      "source": [
        "def run(loaded_model):\n",
        "    user_input = input('댓글을 남겨주세요: ')\n",
        "    sequence = tokenizer.texts_to_sequences([user_input])\n",
        "    padded = pad_sequences(sequence, maxlen=max_length, truncating=trunc_type, padding=padding_type)\n",
        "    pred = loaded_model.predict(padded)\n",
        "    your_answer = pred.round().reshape(-1)\n",
        "    result = '긍정 리뷰' if your_answer[0] > 0.5 else '부정 리뷰'\n",
        "    print(result)"
      ]
    },
    {
      "cell_type": "markdown",
      "metadata": {
        "id": "F7gWAl_z99rK"
      },
      "source": [
        "아래 셀을 실행하여 댓글을 남겨주세요"
      ]
    },
    {
      "cell_type": "code",
      "source": [
        "a = np.arange(12).reshape(3, 4) \n",
        "a.reshape(-1)"
      ],
      "metadata": {
        "colab": {
          "base_uri": "https://localhost:8080/"
        },
        "id": "AtLF0p-6FdAE",
        "outputId": "91a2c051-b13a-4e11-b995-2fc602084908"
      },
      "execution_count": null,
      "outputs": [
        {
          "output_type": "execute_result",
          "data": {
            "text/plain": [
              "array([ 0,  1,  2,  3,  4,  5,  6,  7,  8,  9, 10, 11])"
            ]
          },
          "metadata": {},
          "execution_count": 78
        }
      ]
    },
    {
      "cell_type": "code",
      "execution_count": null,
      "metadata": {
        "colab": {
          "base_uri": "https://localhost:8080/"
        },
        "id": "G2Z-rHCS72v_",
        "outputId": "08bfe19a-96a4-4f81-e3aa-23bff1be806c"
      },
      "outputs": [
        {
          "output_type": "stream",
          "name": "stdout",
          "text": [
            "댓글을 남겨주세요: 인생 영화 ㅇ입니다. 정말 재밌어요\n",
            "긍정 리뷰\n"
          ]
        }
      ],
      "source": [
        "run(loaded_model=model)"
      ]
    },
    {
      "cell_type": "code",
      "execution_count": null,
      "metadata": {
        "colab": {
          "base_uri": "https://localhost:8080/"
        },
        "id": "6uIIs92WMe1_",
        "outputId": "400eb8ba-2084-423d-d2ed-46b493a2b525"
      },
      "outputs": [
        {
          "name": "stdout",
          "output_type": "stream",
          "text": [
            "댓글을 남겨주세요: 인생 영화다. 정말 끝내주는 영화\n",
            "긍정 리뷰\n"
          ]
        }
      ],
      "source": [
        "run(loaded_model=model)"
      ]
    },
    {
      "cell_type": "code",
      "execution_count": null,
      "metadata": {
        "colab": {
          "base_uri": "https://localhost:8080/"
        },
        "id": "b7MPONAxPvsI",
        "outputId": "9b128e7e-6860-4469-eb89-cc854ec5c324"
      },
      "outputs": [
        {
          "name": "stdout",
          "output_type": "stream",
          "text": [
            "댓글을 남겨주세요: 이 영화는 정말 재밌다. 강추!!!!!!!\n",
            "긍정 리뷰\n"
          ]
        }
      ],
      "source": [
        "run(loaded_model=model)"
      ]
    },
    {
      "cell_type": "markdown",
      "metadata": {
        "id": "CnGtBQDJ-cZy"
      },
      "source": [
        "### 결과 예측 (예측 코드는 수정하지 않습니다)"
      ]
    },
    {
      "cell_type": "code",
      "execution_count": null,
      "metadata": {
        "colab": {
          "base_uri": "https://localhost:8080/"
        },
        "id": "yqT7irxM-cZy",
        "outputId": "e8983b49-9b04-4e92-b4dd-fc9e0ea53ad9"
      },
      "outputs": [
        {
          "output_type": "execute_result",
          "data": {
            "text/plain": [
              "array([1., 1., 1., 1., 0.], dtype=float32)"
            ]
          },
          "metadata": {},
          "execution_count": 70
        }
      ],
      "source": [
        "pred = model.predict(test_padded)\n",
        "your_answer = pred.round().reshape(-1)\n",
        "your_answer[:5]"
      ]
    },
    {
      "cell_type": "markdown",
      "metadata": {
        "id": "V1PURs-gbphu"
      },
      "source": [
        "## 결과 제출\n",
        "\n",
        "### 순서대로 평가가 진행됩니다. 실행은 1회만 해주세요.\n",
        "\n",
        "- 느리다고 중지 후 다시 평가 코드를 실행하는 경우 제출 과정에서 패널티가 발생할 수 있습니다. (제출 횟수 이슈 발생 가능)\n",
        "\n",
        "- 전체 점수는 [평가시스템](http://manage.jaen.kr)에서 확인할 수 있습니다.\n",
        "    - 프로젝트 > 영화리뷰 감정 분석 > 리더보드 > 같은 반 리더보드"
      ]
    },
    {
      "cell_type": "markdown",
      "metadata": {
        "id": "mUz8NLzC-cZz"
      },
      "source": [
        "아래 Cell을 실행하여 예측 결과 업데이트"
      ]
    },
    {
      "cell_type": "code",
      "execution_count": null,
      "metadata": {
        "colab": {
          "base_uri": "https://localhost:8080/",
          "height": 498
        },
        "id": "j8q8LlWBrD0v",
        "outputId": "e521aa6f-9376-453f-e64a-0578cb31f55b"
      },
      "outputs": [
        {
          "data": {
            "text/html": [
              "\n",
              "  <div id=\"df-86ca80f8-c69a-4dae-ad3b-882a551b87eb\">\n",
              "    <div class=\"colab-df-container\">\n",
              "      <div>\n",
              "<style scoped>\n",
              "    .dataframe tbody tr th:only-of-type {\n",
              "        vertical-align: middle;\n",
              "    }\n",
              "\n",
              "    .dataframe tbody tr th {\n",
              "        vertical-align: top;\n",
              "    }\n",
              "\n",
              "    .dataframe thead th {\n",
              "        text-align: right;\n",
              "    }\n",
              "</style>\n",
              "<table border=\"1\" class=\"dataframe\">\n",
              "  <thead>\n",
              "    <tr style=\"text-align: right;\">\n",
              "      <th></th>\n",
              "      <th>id</th>\n",
              "      <th>label</th>\n",
              "    </tr>\n",
              "  </thead>\n",
              "  <tbody>\n",
              "    <tr>\n",
              "      <th>0</th>\n",
              "      <td>0</td>\n",
              "      <td>1.0</td>\n",
              "    </tr>\n",
              "    <tr>\n",
              "      <th>1</th>\n",
              "      <td>1</td>\n",
              "      <td>1.0</td>\n",
              "    </tr>\n",
              "    <tr>\n",
              "      <th>2</th>\n",
              "      <td>2</td>\n",
              "      <td>1.0</td>\n",
              "    </tr>\n",
              "    <tr>\n",
              "      <th>3</th>\n",
              "      <td>3</td>\n",
              "      <td>1.0</td>\n",
              "    </tr>\n",
              "    <tr>\n",
              "      <th>4</th>\n",
              "      <td>4</td>\n",
              "      <td>0.0</td>\n",
              "    </tr>\n",
              "    <tr>\n",
              "      <th>...</th>\n",
              "      <td>...</td>\n",
              "      <td>...</td>\n",
              "    </tr>\n",
              "    <tr>\n",
              "      <th>9995</th>\n",
              "      <td>9995</td>\n",
              "      <td>1.0</td>\n",
              "    </tr>\n",
              "    <tr>\n",
              "      <th>9996</th>\n",
              "      <td>9996</td>\n",
              "      <td>1.0</td>\n",
              "    </tr>\n",
              "    <tr>\n",
              "      <th>9997</th>\n",
              "      <td>9997</td>\n",
              "      <td>1.0</td>\n",
              "    </tr>\n",
              "    <tr>\n",
              "      <th>9998</th>\n",
              "      <td>9998</td>\n",
              "      <td>0.0</td>\n",
              "    </tr>\n",
              "    <tr>\n",
              "      <th>9999</th>\n",
              "      <td>9999</td>\n",
              "      <td>1.0</td>\n",
              "    </tr>\n",
              "  </tbody>\n",
              "</table>\n",
              "<p>10000 rows × 2 columns</p>\n",
              "</div>\n",
              "      <button class=\"colab-df-convert\" onclick=\"convertToInteractive('df-86ca80f8-c69a-4dae-ad3b-882a551b87eb')\"\n",
              "              title=\"Convert this dataframe to an interactive table.\"\n",
              "              style=\"display:none;\">\n",
              "        \n",
              "  <svg xmlns=\"http://www.w3.org/2000/svg\" height=\"24px\"viewBox=\"0 0 24 24\"\n",
              "       width=\"24px\">\n",
              "    <path d=\"M0 0h24v24H0V0z\" fill=\"none\"/>\n",
              "    <path d=\"M18.56 5.44l.94 2.06.94-2.06 2.06-.94-2.06-.94-.94-2.06-.94 2.06-2.06.94zm-11 1L8.5 8.5l.94-2.06 2.06-.94-2.06-.94L8.5 2.5l-.94 2.06-2.06.94zm10 10l.94 2.06.94-2.06 2.06-.94-2.06-.94-.94-2.06-.94 2.06-2.06.94z\"/><path d=\"M17.41 7.96l-1.37-1.37c-.4-.4-.92-.59-1.43-.59-.52 0-1.04.2-1.43.59L10.3 9.45l-7.72 7.72c-.78.78-.78 2.05 0 2.83L4 21.41c.39.39.9.59 1.41.59.51 0 1.02-.2 1.41-.59l7.78-7.78 2.81-2.81c.8-.78.8-2.07 0-2.86zM5.41 20L4 18.59l7.72-7.72 1.47 1.35L5.41 20z\"/>\n",
              "  </svg>\n",
              "      </button>\n",
              "      \n",
              "  <style>\n",
              "    .colab-df-container {\n",
              "      display:flex;\n",
              "      flex-wrap:wrap;\n",
              "      gap: 12px;\n",
              "    }\n",
              "\n",
              "    .colab-df-convert {\n",
              "      background-color: #E8F0FE;\n",
              "      border: none;\n",
              "      border-radius: 50%;\n",
              "      cursor: pointer;\n",
              "      display: none;\n",
              "      fill: #1967D2;\n",
              "      height: 32px;\n",
              "      padding: 0 0 0 0;\n",
              "      width: 32px;\n",
              "    }\n",
              "\n",
              "    .colab-df-convert:hover {\n",
              "      background-color: #E2EBFA;\n",
              "      box-shadow: 0px 1px 2px rgba(60, 64, 67, 0.3), 0px 1px 3px 1px rgba(60, 64, 67, 0.15);\n",
              "      fill: #174EA6;\n",
              "    }\n",
              "\n",
              "    [theme=dark] .colab-df-convert {\n",
              "      background-color: #3B4455;\n",
              "      fill: #D2E3FC;\n",
              "    }\n",
              "\n",
              "    [theme=dark] .colab-df-convert:hover {\n",
              "      background-color: #434B5C;\n",
              "      box-shadow: 0px 1px 3px 1px rgba(0, 0, 0, 0.15);\n",
              "      filter: drop-shadow(0px 1px 2px rgba(0, 0, 0, 0.3));\n",
              "      fill: #FFFFFF;\n",
              "    }\n",
              "  </style>\n",
              "\n",
              "      <script>\n",
              "        const buttonEl =\n",
              "          document.querySelector('#df-86ca80f8-c69a-4dae-ad3b-882a551b87eb button.colab-df-convert');\n",
              "        buttonEl.style.display =\n",
              "          google.colab.kernel.accessAllowed ? 'block' : 'none';\n",
              "\n",
              "        async function convertToInteractive(key) {\n",
              "          const element = document.querySelector('#df-86ca80f8-c69a-4dae-ad3b-882a551b87eb');\n",
              "          const dataTable =\n",
              "            await google.colab.kernel.invokeFunction('convertToInteractive',\n",
              "                                                     [key], {});\n",
              "          if (!dataTable) return;\n",
              "\n",
              "          const docLinkHtml = 'Like what you see? Visit the ' +\n",
              "            '<a target=\"_blank\" href=https://colab.research.google.com/notebooks/data_table.ipynb>data table notebook</a>'\n",
              "            + ' to learn more about interactive tables.';\n",
              "          element.innerHTML = '';\n",
              "          dataTable['output_type'] = 'display_data';\n",
              "          await google.colab.output.renderOutput(dataTable, element);\n",
              "          const docLink = document.createElement('div');\n",
              "          docLink.innerHTML = docLinkHtml;\n",
              "          element.appendChild(docLink);\n",
              "        }\n",
              "      </script>\n",
              "    </div>\n",
              "  </div>\n",
              "  "
            ],
            "text/plain": [
              "        id  label\n",
              "0        0    1.0\n",
              "1        1    1.0\n",
              "2        2    1.0\n",
              "3        3    1.0\n",
              "4        4    0.0\n",
              "...    ...    ...\n",
              "9995  9995    1.0\n",
              "9996  9996    1.0\n",
              "9997  9997    1.0\n",
              "9998  9998    0.0\n",
              "9999  9999    1.0\n",
              "\n",
              "[10000 rows x 2 columns]"
            ]
          },
          "metadata": {},
          "output_type": "display_data"
        },
        {
          "name": "stdout",
          "output_type": "stream",
          "text": [
            "파일을 저장하였습니다. 파일명: submission-05-49-22.csv\n",
            "제출 여부 :success\n",
            "오늘 제출 횟수 : 1\n",
            "제출 결과:0.7885\n"
          ]
        }
      ],
      "source": [
        "# 예측 결과 업데이트\n",
        "submission = pd.read_csv(os.path.join(DATA_DIR, project_name, 'submission.csv'))\n",
        "submission['label'] = your_answer\n",
        "display(submission)\n",
        "\n",
        "# 제출\n",
        "project.email = email\n",
        "project.submit(submission)"
      ]
    },
    {
      "cell_type": "code",
      "execution_count": null,
      "metadata": {
        "id": "3pWDB9kW0Js1"
      },
      "outputs": [],
      "source": []
    }
  ],
  "metadata": {
    "accelerator": "GPU",
    "colab": {
      "collapsed_sections": [],
      "name": "Project-영화리뷰-감정분석-(해설)",
      "provenance": []
    },
    "kernelspec": {
      "display_name": "Python 3 (ipykernel)",
      "language": "python",
      "name": "python3"
    },
    "language_info": {
      "codemirror_mode": {
        "name": "ipython",
        "version": 3
      },
      "file_extension": ".py",
      "mimetype": "text/x-python",
      "name": "python",
      "nbconvert_exporter": "python",
      "pygments_lexer": "ipython3",
      "version": "3.7.10"
    }
  },
  "nbformat": 4,
  "nbformat_minor": 0
}