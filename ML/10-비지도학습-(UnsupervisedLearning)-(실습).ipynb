{
 "cells": [
  {
   "cell_type": "code",
   "execution_count": null,
   "metadata": {
    "id": "btbkhzv3TlDt"
   },
   "outputs": [],
   "source": [
    "from IPython.display import Image \n",
    "from sklearn.preprocessing import StandardScaler\n",
    "from sklearn.decomposition import PCA\n",
    "from sklearn.datasets import load_iris \n",
    "\n",
    "import matplotlib.pyplot as plt\n",
    "from matplotlib import cm\n",
    "import seaborn as sns\n",
    "import pandas as pd\n",
    "import numpy as np\n",
    "\n",
    "import warnings\n",
    "\n",
    "# 경고 메시지 출력 표기 생략\n",
    "warnings.filterwarnings('ignore')"
   ]
  },
  {
   "cell_type": "markdown",
   "metadata": {
    "id": "_BVdGPJWXswE"
   },
   "source": [
    "# 비지도 학습 (Unsupervised Learning)"
   ]
  },
  {
   "cell_type": "markdown",
   "metadata": {
    "id": "sFoHeIpIwcq1"
   },
   "source": [
    "비지도 학습(Unsupervised Learning)은 기계 학습의 일종으로, 데이터가 어떻게 구성되었는지를 알아내는 문제의 범주에 속합니다. \n",
    "이 방법은 지도 학습(Supervised Learning) 혹은 강화 학습(Reinforcement Learning)과는 달리 **입력값에 대한 목표치가 주어지지 않습니다**."
   ]
  },
  {
   "cell_type": "markdown",
   "metadata": {
    "id": "kDENgxFxLUwF"
   },
   "source": [
    "- 차원 축소: PCA\n",
    "- 군집화: KMeans Clustering, DBSCAN\n",
    "- 군집화 평가 (실루엣 스코어)"
   ]
  },
  {
   "cell_type": "markdown",
   "metadata": {
    "id": "Tr2Nr5vnxODR"
   },
   "source": [
    "## 차원 축소"
   ]
  },
  {
   "cell_type": "markdown",
   "metadata": {
    "id": "1YE_zRdEKMV3"
   },
   "source": [
    "- feature의 갯수를 줄이는 것을 뛰어 넘어, 특징을 추출하는 역할을 하기도 함.\n",
    "- 계산 비용을 감소하는 효과\n",
    "- 전반적인 데이터에 대한 이해도를 높이는 효과"
   ]
  },
  {
   "cell_type": "markdown",
   "metadata": {
    "id": "4eoSH-HDx5M1"
   },
   "source": [
    "### 데이터 로드 (iris 데이터)"
   ]
  },
  {
   "cell_type": "markdown",
   "metadata": {
    "id": "uYfE8GZIeZte"
   },
   "source": [
    "`iris`변수에 `load_iris()` 데이터를 로드하여 대입합니다."
   ]
  },
  {
   "cell_type": "code",
   "execution_count": null,
   "metadata": {
    "id": "_vOopw0ExUgo"
   },
   "outputs": [],
   "source": [
    "# 코드를 입력해 주세요\n",
    "iris = "
   ]
  },
  {
   "cell_type": "markdown",
   "metadata": {
    "id": "QGK91r2geZtg"
   },
   "source": [
    "`df` 변수에 로드한 데이터를 DataFrame으로 변환합니다."
   ]
  },
  {
   "cell_type": "code",
   "execution_count": null,
   "metadata": {
    "colab": {
     "base_uri": "https://localhost:8080/",
     "height": 204
    },
    "id": "DMPVlViixr-F",
    "outputId": "a0871e10-b0c8-4d24-8333-86e223e486f1"
   },
   "outputs": [],
   "source": [
    "# 코드를 입력해 주세요\n",
    "df = \n",
    "\n",
    "df.head()"
   ]
  },
  {
   "cell_type": "markdown",
   "metadata": {},
   "source": [
    "<p><strong>[출력 결과]</strong></p><div>\n",
    "<style scoped>\n",
    "    .dataframe tbody tr th:only-of-type {\n",
    "        vertical-align: middle;\n",
    "    }\n",
    "\n",
    "    .dataframe tbody tr th {\n",
    "        vertical-align: top;\n",
    "    }\n",
    "\n",
    "    .dataframe thead th {\n",
    "        text-align: right;\n",
    "    }\n",
    "</style>\n",
    "<table border=\"1\" class=\"dataframe\">\n",
    "  <thead>\n",
    "    <tr style=\"text-align: right;\">\n",
    "      <th></th>\n",
    "      <th>sepal length (cm)</th>\n",
    "      <th>sepal width (cm)</th>\n",
    "      <th>petal length (cm)</th>\n",
    "      <th>petal width (cm)</th>\n",
    "      <th>target</th>\n",
    "    </tr>\n",
    "  </thead>\n",
    "  <tbody>\n",
    "    <tr>\n",
    "      <th>0</th>\n",
    "      <td>5.1</td>\n",
    "      <td>3.5</td>\n",
    "      <td>1.4</td>\n",
    "      <td>0.2</td>\n",
    "      <td>0</td>\n",
    "    </tr>\n",
    "    <tr>\n",
    "      <th>1</th>\n",
    "      <td>4.9</td>\n",
    "      <td>3.0</td>\n",
    "      <td>1.4</td>\n",
    "      <td>0.2</td>\n",
    "      <td>0</td>\n",
    "    </tr>\n",
    "    <tr>\n",
    "      <th>2</th>\n",
    "      <td>4.7</td>\n",
    "      <td>3.2</td>\n",
    "      <td>1.3</td>\n",
    "      <td>0.2</td>\n",
    "      <td>0</td>\n",
    "    </tr>\n",
    "    <tr>\n",
    "      <th>3</th>\n",
    "      <td>4.6</td>\n",
    "      <td>3.1</td>\n",
    "      <td>1.5</td>\n",
    "      <td>0.2</td>\n",
    "      <td>0</td>\n",
    "    </tr>\n",
    "    <tr>\n",
    "      <th>4</th>\n",
    "      <td>5.0</td>\n",
    "      <td>3.6</td>\n",
    "      <td>1.4</td>\n",
    "      <td>0.2</td>\n",
    "      <td>0</td>\n",
    "    </tr>\n",
    "  </tbody>\n",
    "</table>\n",
    "</div>"
   ]
  },
  {
   "cell_type": "markdown",
   "metadata": {
    "id": "lqOoKWhIx9m0"
   },
   "source": [
    "## PCA 차원축소"
   ]
  },
  {
   "cell_type": "markdown",
   "metadata": {
    "id": "-O4wh7Tl0HDp"
   },
   "source": [
    "주성분 분석 (PCA) 는 선형 차원 축소 기법입니다. 매우 인기 있게 사용되는 **차원 축소 기법**입니다.\n",
    "\n",
    "주요 특징중의 하나는 **분산(variance)을 최대한 보존**한다는 점입니다."
   ]
  },
  {
   "cell_type": "markdown",
   "metadata": {
    "id": "U73kksvSBKWy"
   },
   "source": [
    "[PCA의 원리에 관련된 블로그글](https://excelsior-cjh.tistory.com/167)"
   ]
  },
  {
   "cell_type": "markdown",
   "metadata": {
    "id": "mFrcs-WKFW-G"
   },
   "source": [
    "- components에 1보다 작은 값을 넣으면, 분산을 기준으로 차원 축소\n",
    "- components에 1보다 큰 값을 넣으면, 해당 값을 기준으로 feature를 축소"
   ]
  },
  {
   "cell_type": "code",
   "execution_count": null,
   "metadata": {
    "id": "QcQnl1atCevB"
   },
   "outputs": [],
   "source": [
    "from sklearn.decomposition import PCA"
   ]
  },
  {
   "cell_type": "code",
   "execution_count": null,
   "metadata": {},
   "outputs": [],
   "source": [
    "# PCA 선언\n",
    "pca = PCA()"
   ]
  },
  {
   "cell_type": "code",
   "execution_count": null,
   "metadata": {},
   "outputs": [],
   "source": [
    "# scale 변환\n",
    "data_scaled = StandardScaler().fit_transform(df.loc[:, 'sepal length (cm)': 'petal width (cm)'])"
   ]
  },
  {
   "cell_type": "code",
   "execution_count": null,
   "metadata": {},
   "outputs": [],
   "source": [
    "# PCA 변환\n",
    "pca.fit_transform(data_scaled)[:5]"
   ]
  },
  {
   "cell_type": "code",
   "execution_count": null,
   "metadata": {},
   "outputs": [],
   "source": [
    "# 설명력 지수\n",
    "pca.explained_variance_ratio_"
   ]
  },
  {
   "cell_type": "code",
   "execution_count": null,
   "metadata": {
    "id": "hTOu0V_4xf8n"
   },
   "outputs": [],
   "source": [
    "# n_components = 2 설정\n",
    "pca = PCA(n_components=2)"
   ]
  },
  {
   "cell_type": "code",
   "execution_count": null,
   "metadata": {
    "id": "lWPeB3uFxkbW"
   },
   "outputs": [],
   "source": [
    "pca_data = pca.fit_transform(data_scaled)"
   ]
  },
  {
   "cell_type": "code",
   "execution_count": null,
   "metadata": {
    "colab": {
     "base_uri": "https://localhost:8080/",
     "height": 107
    },
    "id": "ZEkTT7h9C5K6",
    "outputId": "81e2c8b9-fd5c-47d4-9295-cfc44cd47bae"
   },
   "outputs": [],
   "source": [
    "data_scaled[:5]"
   ]
  },
  {
   "cell_type": "code",
   "execution_count": null,
   "metadata": {
    "colab": {
     "base_uri": "https://localhost:8080/",
     "height": 107
    },
    "id": "hI6S577GxouW",
    "outputId": "d74cd959-5e25-42c5-84bc-c5930590b655"
   },
   "outputs": [],
   "source": [
    "pca_data[:5]"
   ]
  },
  {
   "cell_type": "code",
   "execution_count": null,
   "metadata": {
    "colab": {
     "base_uri": "https://localhost:8080/",
     "height": 283
    },
    "id": "BPGB3EOvxquG",
    "outputId": "5e405198-9e44-47d5-dd51-4817e7316266"
   },
   "outputs": [],
   "source": [
    "plt.scatter(pca_data[:, 0], pca_data[:, 1], c=df['target'])"
   ]
  },
  {
   "cell_type": "code",
   "execution_count": null,
   "metadata": {
    "id": "0d1-gwEUzYi2"
   },
   "outputs": [],
   "source": [
    "pca = PCA(n_components=3)"
   ]
  },
  {
   "cell_type": "code",
   "execution_count": null,
   "metadata": {
    "id": "tZvooSi_CAwn"
   },
   "outputs": [],
   "source": [
    "pca_data = pca.fit_transform(data_scaled)"
   ]
  },
  {
   "cell_type": "code",
   "execution_count": null,
   "metadata": {
    "colab": {
     "base_uri": "https://localhost:8080/",
     "height": 107
    },
    "id": "TE1aRcwpCcsM",
    "outputId": "67ae2d18-241d-4914-efda-e273ca5fc2c2"
   },
   "outputs": [],
   "source": [
    "pca_data[:5]"
   ]
  },
  {
   "cell_type": "code",
   "execution_count": null,
   "metadata": {
    "colab": {
     "base_uri": "https://localhost:8080/",
     "height": 319
    },
    "id": "NdheArjRxpde",
    "outputId": "66a5a079-f3ec-441b-a8db-e7673ba58939"
   },
   "outputs": [],
   "source": [
    "from mpl_toolkits.mplot3d import Axes3D\n",
    "\n",
    "fig = plt.figure(figsize=(10, 5))\n",
    "ax = fig.add_subplot(111, projection='3d') # Axe3D object\n",
    "\n",
    "sample_size = 50\n",
    "ax.scatter(pca_data[:, 0], pca_data[:, 1], pca_data[:, 2], alpha=0.6, c=df['target'])\n",
    "plt.savefig('./tmp.svg')\n",
    "plt.title(\"ax.plot\")\n",
    "plt.show()"
   ]
  },
  {
   "cell_type": "markdown",
   "metadata": {
    "id": "nVX1f4IZKTpW"
   },
   "source": [
    "## 군집화"
   ]
  },
  {
   "cell_type": "code",
   "execution_count": null,
   "metadata": {
    "colab": {
     "base_uri": "https://localhost:8080/",
     "height": 376
    },
    "id": "lbg8BTuATr8k",
    "outputId": "4c8f1b83-ce16-41aa-9097-6613f1be7916"
   },
   "outputs": [],
   "source": [
    "Image('https://image.slidesharecdn.com/patternrecognitionbinoy-06-kmeansclustering-160317135729/95/pattern-recognition-binoy-k-means-clustering-13-638.jpg')"
   ]
  },
  {
   "cell_type": "markdown",
   "metadata": {
    "id": "j7S9vNr0KVgm"
   },
   "source": [
    "### K-Means Clustering"
   ]
  },
  {
   "cell_type": "markdown",
   "metadata": {
    "id": "1LggOIQkTDMi"
   },
   "source": [
    "[K-Means Clustering 데모](https://www.naftaliharris.com/blog/visualizing-k-means-clustering/)"
   ]
  },
  {
   "cell_type": "markdown",
   "metadata": {
    "id": "5HmxUU39KZ1J"
   },
   "source": [
    "- 군집화에서 가장 대중적으로 사용되는 알고리즘입니다. \n",
    "\n",
    "- **centroid라는 중점을 기준으로 가장 가까운 포인트들을 선택하는 군집화** 기법입니다.\n",
    "\n",
    "- 뒤섞여 있는 데이터를 원하는 갯수로 군집화 합니다.\n",
    "\n",
    "**사용되는 예제**\n",
    "\n",
    "- 스팸 문자 분류\n",
    "- 뉴스 기사 분류"
   ]
  },
  {
   "cell_type": "code",
   "execution_count": null,
   "metadata": {
    "id": "OdQHgfToPG_J"
   },
   "outputs": [],
   "source": [
    "from sklearn.cluster import KMeans"
   ]
  },
  {
   "cell_type": "code",
   "execution_count": null,
   "metadata": {
    "id": "4npToDDHPXbn"
   },
   "outputs": [],
   "source": [
    "kmeans = KMeans(n_clusters=3)"
   ]
  },
  {
   "cell_type": "code",
   "execution_count": null,
   "metadata": {
    "id": "SB9rCHtLPb6W"
   },
   "outputs": [],
   "source": [
    "cluster_data = kmeans.fit_transform(df.loc[:, 'sepal length (cm)': 'petal width (cm)'])"
   ]
  },
  {
   "cell_type": "code",
   "execution_count": null,
   "metadata": {
    "colab": {
     "base_uri": "https://localhost:8080/",
     "height": 107
    },
    "id": "nFqGBaW-Pkbd",
    "outputId": "dd0eb7df-5c0c-44cb-8d9d-015647e4bf52"
   },
   "outputs": [],
   "source": [
    "cluster_data[:5]"
   ]
  },
  {
   "cell_type": "code",
   "execution_count": null,
   "metadata": {
    "colab": {
     "base_uri": "https://localhost:8080/",
     "height": 143
    },
    "id": "NbH4PbNSPpmS",
    "outputId": "d5ea0ac6-21fc-40dd-f286-32151ddb85ea"
   },
   "outputs": [],
   "source": [
    "kmeans.labels_"
   ]
  },
  {
   "cell_type": "markdown",
   "metadata": {
    "id": "oDvn1vxZeZuD"
   },
   "source": [
    "### 시각화"
   ]
  },
  {
   "cell_type": "code",
   "execution_count": null,
   "metadata": {
    "colab": {
     "base_uri": "https://localhost:8080/",
     "height": 406
    },
    "id": "Da_j4dl1RDfL",
    "outputId": "b4723d74-9976-493b-dd54-ae082344bc84"
   },
   "outputs": [],
   "source": [
    "plt.figure(figsize=(12, 6))\n",
    "plt.subplot(1, 2, 1)\n",
    "sns.countplot(kmeans.labels_)\n",
    "plt.title('K-Means Clustering', fontsize=15)\n",
    "plt.subplot(1, 2, 2)\n",
    "sns.countplot(df['target'])\n",
    "plt.title('Iris Dataset', fontsize=15)\n",
    "plt.show()"
   ]
  },
  {
   "cell_type": "code",
   "execution_count": null,
   "metadata": {
    "colab": {
     "base_uri": "https://localhost:8080/",
     "height": 406
    },
    "id": "C3u7DWEoRqz0",
    "outputId": "07908b4c-9a51-45b5-80e1-628e83ca00d2"
   },
   "outputs": [],
   "source": [
    "# hyperparameter 변화\n",
    "kmeans = KMeans(n_clusters=3, max_iter=500)\n",
    "cluster_data = kmeans.fit_transform(df.loc[:, 'sepal length (cm)': 'petal width (cm)'])\n",
    "\n",
    "# 시각화\n",
    "plt.figure(figsize=(12, 6))\n",
    "plt.subplot(1, 2, 1)\n",
    "sns.countplot(kmeans.labels_)\n",
    "plt.title('K-Means Clustering', fontsize=15)\n",
    "plt.subplot(1, 2, 2)\n",
    "sns.countplot(df['target'])\n",
    "plt.title('Iris Dataset', fontsize=15)\n",
    "plt.show()"
   ]
  },
  {
   "cell_type": "markdown",
   "metadata": {
    "id": "G6LipUVWTpz9"
   },
   "source": [
    "## DBSCAN (Density-based spatial clustering of applications with noise)"
   ]
  },
  {
   "cell_type": "markdown",
   "metadata": {
    "id": "_Fzn8bFZT132"
   },
   "source": [
    "밀도 기반 클러스터링\n",
    "\n",
    "- 밀도가 높은 부분을 클러스터링 하는 방식\n",
    "- 어느점을 기준으로 **반경 x내에 점이 n개 이상 있으면 하나의 군집으로 인식**하는 방식\n",
    "- KMeans 에서는 n_cluster의 갯수를 반드시 지정해 주어야 하나, DBSCAN 에서는 필요없음\n",
    "- 기하학적인 clustering도 잘 찾아냄\n"
   ]
  },
  {
   "cell_type": "code",
   "execution_count": null,
   "metadata": {
    "colab": {
     "base_uri": "https://localhost:8080/",
     "height": 376
    },
    "id": "gWbXPplCUFpp",
    "outputId": "9f9b60ba-49f9-426f-db48-8f7dda4f39d5"
   },
   "outputs": [],
   "source": [
    "Image('https://image.slidesharecdn.com/pydatanyc2015-151119175854-lva1-app6891/95/pydata-nyc-2015-automatically-detecting-outliers-with-datadog-26-638.jpg')"
   ]
  },
  {
   "cell_type": "code",
   "execution_count": null,
   "metadata": {
    "id": "bQ8b-qiXJaKQ"
   },
   "outputs": [],
   "source": [
    "from sklearn.cluster import DBSCAN"
   ]
  },
  {
   "cell_type": "code",
   "execution_count": null,
   "metadata": {
    "id": "X7yFp4O4JaFS"
   },
   "outputs": [],
   "source": [
    "dbscan = DBSCAN(eps=0.3, min_samples=2)"
   ]
  },
  {
   "cell_type": "code",
   "execution_count": null,
   "metadata": {
    "id": "1rJuPljVJZyt"
   },
   "outputs": [],
   "source": [
    "dbscan_data = dbscan.fit_predict(df.loc[:, 'sepal length (cm)': 'petal width (cm)'])"
   ]
  },
  {
   "cell_type": "code",
   "execution_count": null,
   "metadata": {
    "colab": {
     "base_uri": "https://localhost:8080/",
     "height": 179
    },
    "id": "ZO_ladVzJ8UY",
    "outputId": "f5d7eadd-1248-4bd0-f731-4bc538d9f7bd"
   },
   "outputs": [],
   "source": [
    "dbscan_data"
   ]
  },
  {
   "cell_type": "markdown",
   "metadata": {
    "id": "xSLDLiSCUFwB"
   },
   "source": [
    "## 실루엣 스코어 (군집화 평가)"
   ]
  },
  {
   "cell_type": "markdown",
   "metadata": {
    "id": "yEUu9I1veZuS"
   },
   "source": [
    "실루엣 기법은 클러스터링의 품질을 **정량적으로 계산해주는 방법**입니다. \n",
    "\n",
    "i번째 데이터 x(i)에 대한 실루엣 계수 s(i) 값은 아래의 식으로 정의됩니다."
   ]
  },
  {
   "cell_type": "code",
   "execution_count": null,
   "metadata": {
    "colab": {
     "base_uri": "https://localhost:8080/",
     "height": 86
    },
    "id": "kvUO9sBoeZuT",
    "outputId": "71bf02c5-d3ce-40dd-b017-1266ce8d15ba"
   },
   "outputs": [],
   "source": [
    "Image(url='https://mblogthumb-phinf.pstatic.net/MjAxNzA1MzBfMjA0/MDAxNDk2MTI0NDAzMTk0.dPX6Uh3O4h7MMc0BdXOYyJ5C4W9EN6OimkGsUaisXVIg.E-PsOP3a_SBm_HyfupxheTav3ZkXAjg-iDcynQKHAmAg.PNG.samsjang/%25EC%25BA%25A1%25EC%25B2%25981.PNG?type=w800')"
   ]
  },
  {
   "cell_type": "markdown",
   "metadata": {
    "id": "6PX7dRwYeZuU"
   },
   "source": [
    "- a(i)는 클러스터내 **데이터 응집도(cohesion)를 나타내는 값**. 이 거리가 작으면 응집도가 높습니다.\n",
    "\n",
    "- b(i)는 클러스터간 **분리도(separation)를 나타내는 값**. 이 값이 크다면, 클러스터 간극이 크다는 의미입니다.\n",
    "\n",
    "만약 클러스터 개수가 최적화 되어 있다면 b(i)의 값은 크고, a(i)의 값은 작아집니다. 따라서 **s(i)의 값은 1에 가까운 숫자**가 됩니다. \n",
    "\n",
    "반대로 클러스터내 데이터 응집도와 클러스터간 분리도의 값이 같으면 **실루엣 계수 s(i)는 0**이 됩니다."
   ]
  },
  {
   "cell_type": "markdown",
   "metadata": {
    "id": "1tpKbTka1uUY"
   },
   "source": [
    "클러스터링의 품질을 정량적으로 평가해 주는 지표\n",
    "\n",
    "- 1: 클러스터링의 품질이 좋다\n",
    "- 0: 클러스터링의 품질이 안좋다 (클러스터링의 의미 없음)\n",
    "- 음수: 잘못 분류됨"
   ]
  },
  {
   "cell_type": "code",
   "execution_count": null,
   "metadata": {
    "id": "O2fGH6OrUJCY"
   },
   "outputs": [],
   "source": [
    "from sklearn.metrics import silhouette_samples, silhouette_score"
   ]
  },
  {
   "cell_type": "code",
   "execution_count": null,
   "metadata": {
    "id": "_GrB7mX1UNUw"
   },
   "outputs": [],
   "source": [
    "score = silhouette_score(data_scaled, kmeans.labels_)\n",
    "score"
   ]
  },
  {
   "cell_type": "code",
   "execution_count": null,
   "metadata": {
    "id": "CfxtXPp63Jxi"
   },
   "outputs": [],
   "source": [
    "samples = silhouette_samples(data_scaled, kmeans.labels_)\n",
    "samples[:5]"
   ]
  },
  {
   "cell_type": "markdown",
   "metadata": {
    "id": "D5EypH-A7GHf"
   },
   "source": [
    "[api 참고(scikit-learn 공식 도큐먼트)](https://scikit-learn.org/stable/auto_examples/cluster/plot_kmeans_silhouette_analysis.html)"
   ]
  },
  {
   "cell_type": "code",
   "execution_count": null,
   "metadata": {
    "id": "pA-WfIzl22Fv"
   },
   "outputs": [],
   "source": [
    "def plot_silhouette(X, num_cluesters):\n",
    "    for n_clusters in num_cluesters:\n",
    "        # Create a subplot with 1 row and 2 columns\n",
    "        fig, (ax1, ax2) = plt.subplots(1, 2)\n",
    "        fig.set_size_inches(18, 7)\n",
    "\n",
    "        # The 1st subplot is the silhouette plot\n",
    "        # The silhouette coefficient can range from -1, 1 but in this example all\n",
    "        # lie within [-0.1, 1]\n",
    "        ax1.set_xlim([-0.1, 1])\n",
    "        # The (n_clusters+1)*10 is for inserting blank space between silhouette\n",
    "        # plots of individual clusters, to demarcate them clearly.\n",
    "        ax1.set_ylim([0, len(X) + (n_clusters + 1) * 10])\n",
    "    \n",
    "        # Initialize the clusterer with n_clusters value and a random generator\n",
    "        # seed of 10 for reproducibility.\n",
    "        clusterer = KMeans(n_clusters=n_clusters, random_state=10)\n",
    "        cluster_labels = clusterer.fit_predict(X)\n",
    "    \n",
    "        # The silhouette_score gives the average value for all the samples.\n",
    "        # This gives a perspective into the density and separation of the formed\n",
    "        # clusters\n",
    "        silhouette_avg = silhouette_score(X, cluster_labels)\n",
    "        print(\"For n_clusters =\", n_clusters,\n",
    "              \"The average silhouette_score is :\", silhouette_avg)\n",
    "    \n",
    "        # Compute the silhouette scores for each sample\n",
    "        sample_silhouette_values = silhouette_samples(X, cluster_labels)\n",
    "    \n",
    "        y_lower = 10\n",
    "        for i in range(n_clusters):\n",
    "            # Aggregate the silhouette scores for samples belonging to\n",
    "            # cluster i, and sort them\n",
    "            ith_cluster_silhouette_values = \\\n",
    "                sample_silhouette_values[cluster_labels == i]\n",
    "    \n",
    "            ith_cluster_silhouette_values.sort()\n",
    "    \n",
    "            size_cluster_i = ith_cluster_silhouette_values.shape[0]\n",
    "            y_upper = y_lower + size_cluster_i\n",
    "    \n",
    "            color = cm.nipy_spectral(float(i) / n_clusters)\n",
    "            ax1.fill_betweenx(np.arange(y_lower, y_upper),\n",
    "                              0, ith_cluster_silhouette_values,\n",
    "                              facecolor=color, edgecolor=color, alpha=0.7)\n",
    "    \n",
    "            # Label the silhouette plots with their cluster numbers at the middle\n",
    "            ax1.text(-0.05, y_lower + 0.5 * size_cluster_i, str(i))\n",
    "    \n",
    "            # Compute the new y_lower for next plot\n",
    "            y_lower = y_upper + 10  # 10 for the 0 samples\n",
    "    \n",
    "        ax1.set_title(\"The silhouette plot for the various clusters.\")\n",
    "        ax1.set_xlabel(\"The silhouette coefficient values\")\n",
    "        ax1.set_ylabel(\"Cluster label\")\n",
    "    \n",
    "        # The vertical line for average silhouette score of all the values\n",
    "        ax1.axvline(x=silhouette_avg, color=\"red\", linestyle=\"--\")\n",
    "    \n",
    "        ax1.set_yticks([])  # Clear the yaxis labels / ticks\n",
    "        ax1.set_xticks([-0.1, 0, 0.2, 0.4, 0.6, 0.8, 1])\n",
    "    \n",
    "        # 2nd Plot showing the actual clusters formed\n",
    "        colors = cm.nipy_spectral(cluster_labels.astype(float) / n_clusters)\n",
    "        ax2.scatter(X[:, 0], X[:, 1], marker='.', s=30, lw=0, alpha=0.7,\n",
    "                    c=colors, edgecolor='k')\n",
    "    \n",
    "        # Labeling the clusters\n",
    "        centers = clusterer.cluster_centers_\n",
    "        # Draw white circles at cluster centers\n",
    "        ax2.scatter(centers[:, 0], centers[:, 1], marker='o',\n",
    "                    c=\"white\", alpha=1, s=200, edgecolor='k')\n",
    "    \n",
    "        for i, c in enumerate(centers):\n",
    "            ax2.scatter(c[0], c[1], marker='$%d$' % i, alpha=1,\n",
    "                        s=50, edgecolor='k')\n",
    "    \n",
    "        ax2.set_title(\"The visualization of the clustered data.\")\n",
    "        ax2.set_xlabel(\"Feature space for the 1st feature\")\n",
    "        ax2.set_ylabel(\"Feature space for the 2nd feature\")\n",
    "    \n",
    "        plt.suptitle((\"Silhouette analysis for KMeans clustering on sample data \"\n",
    "                      \"with n_clusters = %d\" % n_clusters),\n",
    "                     fontsize=14, fontweight='bold')\n",
    "    \n",
    "        plt.show()"
   ]
  },
  {
   "cell_type": "markdown",
   "metadata": {
    "id": "g7Vt5cY17q8U"
   },
   "source": [
    "- 빨간 점선은 **평균 실루엣 스코어**를 의미합니다."
   ]
  },
  {
   "cell_type": "code",
   "execution_count": null,
   "metadata": {
    "colab": {
     "base_uri": "https://localhost:8080/",
     "height": 1000
    },
    "id": "fB_Pdbwm27Mg",
    "outputId": "a766c514-545a-4147-9296-105bc8d376a6"
   },
   "outputs": [],
   "source": [
    "plot_silhouette(data_scaled, [2, 3, 4, 5])"
   ]
  }
 ],
 "metadata": {
  "colab": {
   "collapsed_sections": [],
   "name": "10-비지도학습-(UnsupervisedLearning)-(실습)",
   "provenance": []
  },
  "kernelspec": {
   "display_name": "Python 3 (ipykernel)",
   "language": "python",
   "name": "python3"
  },
  "language_info": {
   "codemirror_mode": {
    "name": "ipython",
    "version": 3
   },
   "file_extension": ".py",
   "mimetype": "text/x-python",
   "name": "python",
   "nbconvert_exporter": "python",
   "pygments_lexer": "ipython3",
   "version": "3.7.10"
  }
 },
 "nbformat": 4,
 "nbformat_minor": 1
}
