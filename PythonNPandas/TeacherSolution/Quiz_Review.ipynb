{
 "cells": [
  {
   "cell_type": "code",
   "execution_count": 1,
   "metadata": {},
   "outputs": [
    {
     "data": {
      "text/html": [
       "<style>#notebook-container {width: 90% !important; }</style>"
      ],
      "text/plain": [
       "<IPython.core.display.HTML object>"
      ]
     },
     "metadata": {},
     "output_type": "display_data"
    },
    {
     "data": {
      "text/html": [
       "<style>.rendered_html{font-family: 'D2Coding'; font-size: 16pt; line-height: 140%;}</style>"
      ],
      "text/plain": [
       "<IPython.core.display.HTML object>"
      ]
     },
     "metadata": {},
     "output_type": "display_data"
    },
    {
     "data": {
      "text/html": [
       "<style>.rendered_html table{font-family: 'D2Coding'; font-size: 16pt; line-height: 140%;}</style>"
      ],
      "text/plain": [
       "<IPython.core.display.HTML object>"
      ]
     },
     "metadata": {},
     "output_type": "display_data"
    },
    {
     "data": {
      "text/html": [
       "<style>pre{font-family: 'D2Coding', font-size: 16pt;}.rendered_html>ul>li{margin: 10px}</style>"
      ],
      "text/plain": [
       "<IPython.core.display.HTML object>"
      ]
     },
     "metadata": {},
     "output_type": "display_data"
    },
    {
     "data": {
      "text/html": [
       "<style>div.output_area>pre, div.output_subarea>pre{font-size: 16pt !important; line-height: 140%;}</style>"
      ],
      "text/plain": [
       "<IPython.core.display.HTML object>"
      ]
     },
     "metadata": {},
     "output_type": "display_data"
    },
    {
     "data": {
      "text/html": [
       "<style> .CodeMirror pre {font-family: 'D2Coding'; font-size: 18pt !important; line-height: 140%;}</style>"
      ],
      "text/plain": [
       "<IPython.core.display.HTML object>"
      ]
     },
     "metadata": {},
     "output_type": "display_data"
    }
   ],
   "source": [
    "from IPython.core.display import display, HTML\n",
    "# 노트북 컨테이너 크기 조절\n",
    "display(HTML(\"<style>#notebook-container {width: 90% !important; }</style>\"))\n",
    "# 마크다운 폰트\n",
    "display(HTML(\"<style>.rendered_html{font-family: 'D2Coding'; font-size: 16pt; line-height: 140%;}</style>\"))\n",
    "# DataFrame 테이블 폰트\n",
    "display(HTML(\"<style>.rendered_html table{font-family: 'D2Coding'; font-size: 16pt; line-height: 140%;}</style>\"))\n",
    "# 출력창 폰트\n",
    "display(HTML(\"<style>pre{font-family: 'D2Coding', font-size: 16pt;}.rendered_html>ul>li{margin: 10px}</style>\"))\n",
    "display(HTML(\"<style>div.output_area>pre, div.output_subarea>pre{font-size: 16pt !important; line-height: 140%;}</style>\"))\n",
    "# 코드셀 폰트\n",
    "display(HTML(\"<style> .CodeMirror pre {font-family: 'D2Coding'; font-size: 18pt !important; line-height: 140%;}</style>\"))"
   ]
  },
  {
   "cell_type": "markdown",
   "metadata": {},
   "source": [
    "### PYTHON\n",
    "- 2차원 list  [['A', 0], ['B', 1]] 출력\n",
    "- 'money ' + str(100)\n",
    "- positional argument, keyword argument(순서 없음)"
   ]
  },
  {
   "cell_type": "code",
   "execution_count": 6,
   "metadata": {},
   "outputs": [
    {
     "data": {
      "text/plain": [
       "'money: 100'"
      ]
     },
     "execution_count": 6,
     "metadata": {},
     "output_type": "execute_result"
    }
   ],
   "source": [
    "'money: ' + str(100)    # 'money: 100'"
   ]
  },
  {
   "cell_type": "code",
   "execution_count": 7,
   "metadata": {},
   "outputs": [
    {
     "name": "stdout",
     "output_type": "stream",
     "text": [
      "B 1 \n",
      "A 0 \n",
      "A 0\n",
      "B 1\n"
     ]
    }
   ],
   "source": [
    "A = [['A', 0], ['B', 1]]\n",
    "for x in A[::-1]:\n",
    "    for y in x:\n",
    "      print(y, end=' ')\n",
    "    print()\n",
    "    \n",
    "for x, y in A:\n",
    "    print(x, y)"
   ]
  },
  {
   "cell_type": "code",
   "execution_count": 3,
   "metadata": {},
   "outputs": [
    {
     "name": "stdout",
     "output_type": "stream",
     "text": [
      "1 2 3\n",
      "4 5 6\n",
      "7 8 9\n"
     ]
    }
   ],
   "source": [
    "a = [[1, 2, 3], [4, 5, 6], [7, 8, 9]]\n",
    "for x in a:\n",
    "    print(*x)   "
   ]
  },
  {
   "cell_type": "code",
   "execution_count": 4,
   "metadata": {},
   "outputs": [
    {
     "name": "stdout",
     "output_type": "stream",
     "text": [
      "7 8 9\n",
      "4 5 6\n",
      "1 2 3\n"
     ]
    }
   ],
   "source": [
    "a = [[1, 2, 3], [4, 5, 6], [7, 8, 9]]\n",
    "for x in reversed(a):  #a[::-1]:\n",
    "    print(*x)   \n",
    "    \n",
    "# 7 8 9\n",
    "# 4 5 6\n",
    "# 1 2 3"
   ]
  },
  {
   "cell_type": "code",
   "execution_count": 6,
   "metadata": {},
   "outputs": [
    {
     "name": "stdout",
     "output_type": "stream",
     "text": [
      "7 8 9\n",
      "4 5 6\n",
      "1 2 3\n"
     ]
    }
   ],
   "source": [
    "a = [[1, 2, 3], [4, 5, 6], [7, 8, 9]]\n",
    "for x, y, z in a[::-1]:\n",
    "    print(x, y, z)   "
   ]
  },
  {
   "cell_type": "code",
   "execution_count": 7,
   "metadata": {},
   "outputs": [
    {
     "name": "stdout",
     "output_type": "stream",
     "text": [
      "키는 7 몸무게는 8입니다\n",
      "키는 4 몸무게는 5입니다\n",
      "키는 1 몸무게는 2입니다\n",
      "키는 7 몸무게는 8입니다\n",
      "키는 4 몸무게는 5입니다\n",
      "키는 1 몸무게는 2입니다\n"
     ]
    }
   ],
   "source": [
    "a = [[1, 2], [4, 5], [7, 8]]\n",
    "for x, y in a[::-1]:\n",
    "    print(f'키는 {x} 몸무게는 {y}입니다')    # '키는 1 몸무게는 2입니다' \n",
    "    \n",
    "for x in a[::-1]:\n",
    "    print('키는 {} 몸무게는 {}입니다'.format(*x))    # '키는 1 몸무게는 2입니다' "
   ]
  },
  {
   "cell_type": "code",
   "execution_count": 12,
   "metadata": {},
   "outputs": [
    {
     "name": "stdout",
     "output_type": "stream",
     "text": [
      "15\n"
     ]
    }
   ],
   "source": [
    "def calculator(mode, *args):\n",
    "    if mode == 'sum':\n",
    "        total = 0\n",
    "        for num in args:\n",
    "            total += num\n",
    "        return total\n",
    "    if mode == 'mul':\n",
    "        total = 1\n",
    "        for num in args:\n",
    "            total *= num\n",
    "        return total\n",
    "\n",
    "print(calculator('sum', 1,2,3,4,5))"
   ]
  },
  {
   "cell_type": "code",
   "execution_count": 10,
   "metadata": {},
   "outputs": [
    {
     "data": {
      "text/plain": [
       "6"
      ]
     },
     "execution_count": 10,
     "metadata": {},
     "output_type": "execute_result"
    }
   ],
   "source": [
    "def func(*arr):\n",
    "    tot = 0\n",
    "    for x in arr:\n",
    "        tot += x\n",
    "    return tot\n",
    "\n",
    "func(1,2,3)"
   ]
  },
  {
   "cell_type": "code",
   "execution_count": 17,
   "metadata": {},
   "outputs": [
    {
     "name": "stdout",
     "output_type": "stream",
     "text": [
      "30 30 30 30\n"
     ]
    }
   ],
   "source": [
    "#def func(a, b):\n",
    "#    return a + b\n",
    "func =  lambda a,b : a + b\n",
    "\n",
    "A = func(10, 20)\n",
    "B = func(a=10, b=20)\n",
    "C = func(b=20, a=10)\n",
    "D = func(10, b=20)\n",
    "print(A, B, C, D)"
   ]
  },
  {
   "cell_type": "markdown",
   "metadata": {},
   "source": [
    "### NUMPY"
   ]
  },
  {
   "cell_type": "code",
   "execution_count": 11,
   "metadata": {},
   "outputs": [
    {
     "name": "stdout",
     "output_type": "stream",
     "text": [
      "[4 5 6] [4 5 6]\n"
     ]
    }
   ],
   "source": [
    "import numpy as np\n",
    "array = np.array([[1,2],[3,4],[5,6]])\n",
    "bool_idx = array>3\n",
    "\n",
    "print(array[bool_idx], array[array>=4])\n",
    "# ------------------\n",
    "# [4 5 6]"
   ]
  },
  {
   "cell_type": "code",
   "execution_count": 13,
   "metadata": {},
   "outputs": [
    {
     "name": "stdout",
     "output_type": "stream",
     "text": [
      "[[1 2 3]\n",
      " [4 5 6]\n",
      " [7 8 9]]\n",
      "[12 15 18]\n"
     ]
    }
   ],
   "source": [
    "array = np.arange(1,10).reshape(-1, 3)\n",
    "print(array)\n",
    "print(array.sum(axis=0))"
   ]
  },
  {
   "cell_type": "code",
   "execution_count": 29,
   "metadata": {},
   "outputs": [
    {
     "name": "stdout",
     "output_type": "stream",
     "text": [
      "[1, 2, 3, 4, 6, 9]\n"
     ]
    }
   ],
   "source": [
    "# inplace 동작\n",
    "a = [2, 3, 4, 1, 9, 6]\n",
    "a.sort()\n",
    "print(a)"
   ]
  },
  {
   "cell_type": "code",
   "execution_count": 31,
   "metadata": {},
   "outputs": [
    {
     "name": "stdout",
     "output_type": "stream",
     "text": [
      "[1, 2, 3, 4, 6, 9]\n"
     ]
    }
   ],
   "source": [
    "# return 동작\n",
    "a = [2, 3, 4, 1, 9, 6]\n",
    "a = sorted(a)\n",
    "print(a)"
   ]
  },
  {
   "cell_type": "code",
   "execution_count": 35,
   "metadata": {},
   "outputs": [
    {
     "name": "stdout",
     "output_type": "stream",
     "text": [
      "[ 0  1  2  3  4  5  6  7  8  9 10 11]\n"
     ]
    }
   ],
   "source": [
    "array = np.arange(12)\n",
    "#array = array.reshape(3, -1)\n",
    "#array = array.reshape((3, -1))\n",
    "#array = np.reshape(array, (3, -1))\n",
    "# array.shape  : (3, 4)\n",
    "print(array)\n",
    "# 0 1 2 3\n",
    "# 4 5 6 7\n",
    "# 8 9 10 11"
   ]
  },
  {
   "cell_type": "code",
   "execution_count": 6,
   "metadata": {},
   "outputs": [
    {
     "data": {
      "text/plain": [
       "(3, 4)"
      ]
     },
     "execution_count": 6,
     "metadata": {},
     "output_type": "execute_result"
    }
   ],
   "source": [
    "import numpy as np\n",
    "array = np.arange(12)\n",
    "#array = np.reshape(array, (3, 4))\n",
    "array = array.reshape(3, 4)\n",
    "array.shape\n",
    "#------------------\n",
    "#(3, 4)"
   ]
  },
  {
   "cell_type": "markdown",
   "metadata": {},
   "source": [
    "### DataFrame"
   ]
  },
  {
   "cell_type": "code",
   "execution_count": null,
   "metadata": {},
   "outputs": [],
   "source": [
    "# DataFrame의 특징\n",
    "\n",
    "- 행/열의 2차원 구조\n",
    "- dtype은 열별로 지정됨"
   ]
  },
  {
   "attachments": {
    "image.png": {
     "image/png": "[encoded data removed]"
    }
   },
   "cell_type": "markdown",
   "metadata": {},
   "source": [
    "![image.png](attachment:image.png)"
   ]
  },
  {
   "cell_type": "code",
   "execution_count": null,
   "metadata": {},
   "outputs": [],
   "source": [
    "df.dropna(how='all', axis=1)\n",
    "df.dropna(thresh=2, axis=1)  # thresh=1, 2, 3 (모두 OK)\n",
    "# how='any', how='all'"
   ]
  },
  {
   "attachments": {
    "image.png": {
     "image/png": "[encoded data removed]"
    }
   },
   "cell_type": "markdown",
   "metadata": {},
   "source": [
    "![image.png](attachment:image.png)"
   ]
  },
  {
   "cell_type": "code",
   "execution_count": null,
   "metadata": {},
   "outputs": [],
   "source": [
    "# indexing 문제 , \n",
    "df.loc['b':'d', 'P03']\n",
    "\n",
    "#----------------  [결과]\n",
    "# b    149\n",
    "# c    130\n",
    "# d    180\n",
    "# Name: P03, dtype: int64"
   ]
  },
  {
   "cell_type": "code",
   "execution_count": null,
   "metadata": {},
   "outputs": [],
   "source": [
    "# csv, xlsx 파일 읽어오기"
   ]
  },
  {
   "cell_type": "code",
   "execution_count": 18,
   "metadata": {},
   "outputs": [
    {
     "data": {
      "text/html": [
       "<div>\n",
       "<style scoped>\n",
       "    .dataframe tbody tr th:only-of-type {\n",
       "        vertical-align: middle;\n",
       "    }\n",
       "\n",
       "    .dataframe tbody tr th {\n",
       "        vertical-align: top;\n",
       "    }\n",
       "\n",
       "    .dataframe thead tr th {\n",
       "        text-align: left;\n",
       "    }\n",
       "\n",
       "    .dataframe thead tr:last-of-type th {\n",
       "        text-align: right;\n",
       "    }\n",
       "</style>\n",
       "<table border=\"1\" class=\"dataframe\">\n",
       "  <thead>\n",
       "    <tr>\n",
       "      <th></th>\n",
       "      <th colspan=\"2\" halign=\"left\">C</th>\n",
       "      <th colspan=\"2\" halign=\"left\">D</th>\n",
       "    </tr>\n",
       "    <tr>\n",
       "      <th>B</th>\n",
       "      <th>a</th>\n",
       "      <th>b</th>\n",
       "      <th>a</th>\n",
       "      <th>b</th>\n",
       "    </tr>\n",
       "    <tr>\n",
       "      <th>A</th>\n",
       "      <th></th>\n",
       "      <th></th>\n",
       "      <th></th>\n",
       "      <th></th>\n",
       "    </tr>\n",
       "  </thead>\n",
       "  <tbody>\n",
       "    <tr>\n",
       "      <th>x</th>\n",
       "      <td>2</td>\n",
       "      <td>4</td>\n",
       "      <td>3.5</td>\n",
       "      <td>4.0</td>\n",
       "    </tr>\n",
       "    <tr>\n",
       "      <th>y</th>\n",
       "      <td>5</td>\n",
       "      <td>4</td>\n",
       "      <td>5.0</td>\n",
       "      <td>4.0</td>\n",
       "    </tr>\n",
       "  </tbody>\n",
       "</table>\n",
       "</div>"
      ],
      "text/plain": [
       "   C       D     \n",
       "B  a  b    a    b\n",
       "A                \n",
       "x  2  4  3.5  4.0\n",
       "y  5  4  5.0  4.0"
      ]
     },
     "execution_count": 18,
     "metadata": {},
     "output_type": "execute_result"
    }
   ],
   "source": [
    "# groupby, pivot_table   # sum, mean, min, max\n",
    "#by=['age', 'pclass']\n",
    "#aggfunc=['mean', 'max']\n",
    "import pandas as pd\n",
    "df = pd.DataFrame({'A':list('xyxxyy'),\n",
    "              'B':list('ababab'),\n",
    "              'C':[1,2,3,4,5,6],\n",
    "              'D':[3,3,4,4,5,5]})\n",
    "df.pivot_table(index='A', columns='B')      # values=['C', 'D']      "
   ]
  },
  {
   "cell_type": "code",
   "execution_count": null,
   "metadata": {},
   "outputs": [],
   "source": []
  }
 ],
 "metadata": {
  "kernelspec": {
   "display_name": "Python 3",
   "language": "python",
   "name": "python3"
  },
  "language_info": {
   "codemirror_mode": {
    "name": "ipython",
    "version": 3
   },
   "file_extension": ".py",
   "mimetype": "text/x-python",
   "name": "python",
   "nbconvert_exporter": "python",
   "pygments_lexer": "ipython3",
   "version": "3.6.6"
  }
 },
 "nbformat": 4,
 "nbformat_minor": 2
}
