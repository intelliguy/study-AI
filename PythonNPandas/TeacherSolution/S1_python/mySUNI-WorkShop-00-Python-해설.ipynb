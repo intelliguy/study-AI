{
 "cells": [
  {
   "cell_type": "code",
   "execution_count": 1,
   "metadata": {},
   "outputs": [
    {
     "data": {
      "text/html": [
       "<style>#notebook-container {width: 90% !important; }</style>"
      ],
      "text/plain": [
       "<IPython.core.display.HTML object>"
      ]
     },
     "metadata": {},
     "output_type": "display_data"
    },
    {
     "data": {
      "text/html": [
       "<style>.rendered_html{font-family: 'D2Coding'; font-size: 16pt; line-height: 140%;}</style>"
      ],
      "text/plain": [
       "<IPython.core.display.HTML object>"
      ]
     },
     "metadata": {},
     "output_type": "display_data"
    },
    {
     "data": {
      "text/html": [
       "<style>.rendered_html table{font-family: 'D2Coding'; font-size: 16pt; line-height: 140%;}</style>"
      ],
      "text/plain": [
       "<IPython.core.display.HTML object>"
      ]
     },
     "metadata": {},
     "output_type": "display_data"
    },
    {
     "data": {
      "text/html": [
       "<style>pre{font-family: 'D2Coding', font-size: 16pt;}.rendered_html>ul>li{margin: 10px}</style>"
      ],
      "text/plain": [
       "<IPython.core.display.HTML object>"
      ]
     },
     "metadata": {},
     "output_type": "display_data"
    },
    {
     "data": {
      "text/html": [
       "<style>div.output_area>pre, div.output_subarea>pre{font-size: 16pt !important; line-height: 140%;}</style>"
      ],
      "text/plain": [
       "<IPython.core.display.HTML object>"
      ]
     },
     "metadata": {},
     "output_type": "display_data"
    },
    {
     "data": {
      "text/html": [
       "<style> .CodeMirror pre {font-family: 'D2Coding'; font-size: 18pt !important; line-height: 140%;}</style>"
      ],
      "text/plain": [
       "<IPython.core.display.HTML object>"
      ]
     },
     "metadata": {},
     "output_type": "display_data"
    }
   ],
   "source": [
    "from IPython.core.display import display, HTML\n",
    "# 노트북 컨테이너 크기 조절\n",
    "display(HTML(\"<style>#notebook-container {width: 90% !important; }</style>\"))\n",
    "# 마크다운 폰트\n",
    "display(HTML(\"<style>.rendered_html{font-family: 'D2Coding'; font-size: 16pt; line-height: 140%;}</style>\"))\n",
    "# DataFrame 테이블 폰트\n",
    "display(HTML(\"<style>.rendered_html table{font-family: 'D2Coding'; font-size: 16pt; line-height: 140%;}</style>\"))\n",
    "# 출력창 폰트\n",
    "display(HTML(\"<style>pre{font-family: 'D2Coding', font-size: 16pt;}.rendered_html>ul>li{margin: 10px}</style>\"))\n",
    "display(HTML(\"<style>div.output_area>pre, div.output_subarea>pre{font-size: 16pt !important; line-height: 140%;}</style>\"))\n",
    "# 코드셀 폰트\n",
    "display(HTML(\"<style> .CodeMirror pre {font-family: 'D2Coding'; font-size: 18pt !important; line-height: 140%;}</style>\"))"
   ]
  },
  {
   "cell_type": "markdown",
   "metadata": {},
   "source": [
    "#### Q1\n",
    "    키보드로 부터 초를 입력 받은 후 초를 다음과 같이 출력합니다.\n",
    "    In : 초를 입력하세요\n",
    "    Out : 3700 초는 ~ 시간 ~ 분 ~ 초 입니다.\n"
   ]
  },
  {
   "cell_type": "code",
   "execution_count": 1,
   "metadata": {},
   "outputs": [
    {
     "name": "stdout",
     "output_type": "stream",
     "text": [
      "초를 입력하세요 3700\n",
      "3700초는 01시간 01분 40초 입니다.\n"
     ]
    }
   ],
   "source": [
    "# 코드를 입력해 주세요\n",
    "second = int(input('초를 입력하세요 '))\n",
    "m, s = divmod(second, 60)\n",
    "h, m = divmod(m, 60) \n",
    "print(f\"{second}초는 {h:02d}시간 {m:02d}분 {s:02d}초 입니다.\")"
   ]
  },
  {
   "cell_type": "markdown",
   "metadata": {},
   "source": [
    "#### Q2\n",
    "    - 아래의 값을 저장하고 있는 testList 변수를 생성하세요.\n",
    "      testList = [[1,2,3],[4,5,6],[7,8]]\n",
    "    - 9를 testList에 추가하여 아래의 값을 저장할 수 있도록 하세요.\n",
    "      Out :  [[1,2,3],[4,5,6],[7,8,9]]\n",
    "    - append, insert 함수를 이용합니다."
   ]
  },
  {
   "cell_type": "code",
   "execution_count": 2,
   "metadata": {},
   "outputs": [
    {
     "data": {
      "text/plain": [
       "[[1, 2, 3], [4, 5, 6], [7, 8, 9]]"
      ]
     },
     "execution_count": 2,
     "metadata": {},
     "output_type": "execute_result"
    }
   ],
   "source": [
    "# 코드를 입력해 주세요\n",
    "# append 함수 이용\n",
    "testList = [[1,2,3],[4,5,6],[7,8]]\n",
    "\n",
    "testList[2].append(9) # testList[-1].append(9)\n",
    "testList"
   ]
  },
  {
   "cell_type": "code",
   "execution_count": 6,
   "metadata": {},
   "outputs": [
    {
     "data": {
      "text/plain": [
       "[[1, 2, 3], [4, 5, 6], [7, 8, 9]]"
      ]
     },
     "execution_count": 6,
     "metadata": {},
     "output_type": "execute_result"
    }
   ],
   "source": [
    "# 코드를 입력해 주세요\n",
    "# insert 함수 이용\n",
    "testList = [[1,2,3],[4,5,6],[7,8]]\n",
    "\n",
    "testList[2].insert(2,9) # (위치, 순서) testList[-1].insert(2,9) \n",
    "testList"
   ]
  },
  {
   "cell_type": "markdown",
   "metadata": {},
   "source": [
    "#### Q3\n",
    "    - 학생들의 이름과 점수를 key와 value로 가지는 score 변수를 생성하세요.\n",
    "      : 하준 90점, 서윤 86점, 지아 80점\n",
    "    - score 변수에 수지 95점을 추가하세요.\n",
    "    - score 변수에서 지아를 삭제하세요."
   ]
  },
  {
   "cell_type": "code",
   "execution_count": 7,
   "metadata": {},
   "outputs": [
    {
     "data": {
      "text/plain": [
       "{'하준': '90점', '서윤': '86점', '지아': '80점'}"
      ]
     },
     "execution_count": 7,
     "metadata": {},
     "output_type": "execute_result"
    }
   ],
   "source": [
    "# 코드를 입력해 주세요\n",
    "# 학생들의 이름과 점수를 key와 value로 가지는 score 변수를 생성하세요.\n",
    "score = dict([line.split() for line in \"하준 90점, 서윤 86점, 지아 80점\".split(\", \")]) \n",
    "score"
   ]
  },
  {
   "cell_type": "code",
   "execution_count": 3,
   "metadata": {},
   "outputs": [
    {
     "data": {
      "text/plain": [
       "{'하준': '90점', '서윤': '86점', '지아': '80점', '수지': '95점'}"
      ]
     },
     "execution_count": 3,
     "metadata": {},
     "output_type": "execute_result"
    }
   ],
   "source": [
    "# 코드를 입력해 주세요\n",
    "# score 변수에 수지 95점을 추가하세요.\n",
    "score['수지'] = '95점' # 키가 없으면 추가, 있으면 수정\n",
    "score"
   ]
  },
  {
   "cell_type": "code",
   "execution_count": 4,
   "metadata": {},
   "outputs": [
    {
     "data": {
      "text/plain": [
       "{'하준': '90점', '서윤': '86점', '수지': '95점'}"
      ]
     },
     "execution_count": 4,
     "metadata": {},
     "output_type": "execute_result"
    }
   ],
   "source": [
    "# 코드를 입력해 주세요\n",
    "#score 변수에서 지아를 삭제하세요.\n",
    "del score['지아']\n",
    "score"
   ]
  },
  {
   "cell_type": "markdown",
   "metadata": {},
   "source": [
    "#### Q4)\n",
    "    - 아래 리스트의 월 이름을 3개 문자로 된 약어로 대체해서 출력하세요\n",
    "\n",
    "    - 제공 데이터\n",
    "     months = [\"January\", \"February\", \"March\", \"April\", \"May\", \"June\", \"July\", \"August\", \"Septemeber\",\n",
    "    \"October\", \"November\", \"December\"]\n",
    "    \n",
    "    - 출력결과 : \n",
    "    ['Jan', 'Feb', 'Mar', 'Apr', 'May', 'Jun', 'Jul', 'Aug', 'Sep', 'Oct', 'Nov', 'Dec']\n",
    "\n"
   ]
  },
  {
   "cell_type": "code",
   "execution_count": 1,
   "metadata": {},
   "outputs": [
    {
     "name": "stdout",
     "output_type": "stream",
     "text": [
      "['Jan', 'Feb', 'Mar', 'Apr', 'May', 'Jun', 'Jul', 'Aug', 'Sep', 'Oct', 'Nov', 'Dec']\n"
     ]
    }
   ],
   "source": [
    "# 코드를 입력해 주세요\n",
    "# 아래 리스트의 월 이름을 3개 문자로 된 약어로 대체해서 출력하세요.\n",
    "months = [\"January\", \"February\", \"March\", \"April\", \"May\", \"June\", \"July\", \"August\", \"Septemeber\",\n",
    "\"October\", \"November\", \"December\"]\n",
    "\n",
    "mon = []\n",
    "for month in months:\n",
    "    mon.append(month[:3])\n",
    "print(mon)\n"
   ]
  },
  {
   "cell_type": "markdown",
   "metadata": {},
   "source": [
    "#### Q5 \n",
    "\n",
    "    - 다음과 같은 규칙을 같은 숫자의 합을 for 문을 이용하여 구현하세요\n",
    "   \n",
    "    - 1 + (1+3) + (1+3+5) + (1+3+5+7) .......(1+3+.....19)\n",
    "\n"
   ]
  },
  {
   "cell_type": "code",
   "execution_count": 6,
   "metadata": {},
   "outputs": [
    {
     "name": "stdout",
     "output_type": "stream",
     "text": [
      "385\n"
     ]
    }
   ],
   "source": [
    "total = 0\n",
    "subtotal = 0\n",
    "for i in range (1,20,2):  # 1, 3, 5, 7, 9, ..., 19\n",
    "    subtotal += i\n",
    "    #print(subtotal, end=' ')\n",
    "    total += subtotal\n",
    "print(total)    "
   ]
  },
  {
   "cell_type": "code",
   "execution_count": 9,
   "metadata": {},
   "outputs": [
    {
     "data": {
      "text/plain": [
       "385"
      ]
     },
     "execution_count": 9,
     "metadata": {},
     "output_type": "execute_result"
    }
   ],
   "source": [
    "# 코드를 입력해 주세요\n",
    "total = 0\n",
    "for i in range(1, 20, 2): # 1~20까지 홀수만  # 1, 3, 5, 7, 9, ..., 19\n",
    "    # sum(range(1, i+1, 2))\n",
    "    sub = 0\n",
    "    for j in range(1, i+1, 2):  # range(1, 2, 2)  range(1, 4, 2)\n",
    "        sub += j\n",
    "    total += sub\n",
    "total"
   ]
  },
  {
   "cell_type": "code",
   "execution_count": 11,
   "metadata": {},
   "outputs": [
    {
     "data": {
      "text/plain": [
       "385"
      ]
     },
     "execution_count": 11,
     "metadata": {},
     "output_type": "execute_result"
    }
   ],
   "source": [
    "total = 0\n",
    "for i in range(1, 20, 2): # 1~20까지 홀수만\n",
    "    total = total + sum(range(1, i+1, 2))\n",
    "total"
   ]
  },
  {
   "cell_type": "code",
   "execution_count": null,
   "metadata": {},
   "outputs": [],
   "source": []
  },
  {
   "cell_type": "markdown",
   "metadata": {},
   "source": [
    "#### Q6\n",
    "- 로또 프로그램을 구현해 보자\n",
    "      \n",
    "- 구현 함수명 : getLotto(game) \n",
    "    - 인자값(game) : 발생 게임수\n",
    "    - 기능 : 한 게임당 로또 숫자 6개를 발생시키는 기능 \n",
    "      \n",
    "- 테스트 \n",
    "    - 프로그램을 시작하면 로또 게임수를 입력하라는 화면이 표출됨\n",
    "        - 게임수 : 3\n",
    "    - 3을 입력하면 로또 3게임이 생성됨\n",
    "- 난수 생성 방법\n",
    "random 모듈의 randint 함수를 사용합니다.\n",
    "```python\n",
    "import random\n",
    "r = random.randint(1, 46)\n",
    "r\n",
    "```"
   ]
  },
  {
   "cell_type": "code",
   "execution_count": 11,
   "metadata": {},
   "outputs": [
    {
     "name": "stdout",
     "output_type": "stream",
     "text": [
      "게임수 :3\n",
      "게임 1 {35, 39, 10, 46, 17, 20}\n",
      "게임 2 {36, 5, 7, 44, 22, 31}\n",
      "게임 3 {7, 40, 41, 21, 23, 28}\n"
     ]
    }
   ],
   "source": [
    "# 코드를 입력해 주세요\n",
    "# 1. random\n",
    "import random\n",
    "def getLotto(game):\n",
    "    for n in range(game):\n",
    "        lotto = set()\n",
    "        while len(lotto) != 6:\n",
    "            r = random.randint(1, 46)\n",
    "            lotto.add(r)\n",
    "            \n",
    "        print('게임', n+1, list(lotto))\n",
    "        \n",
    "        \n",
    "count = int(input('게임수 :'))\n",
    "getLotto(count)"
   ]
  },
  {
   "cell_type": "code",
   "execution_count": 12,
   "metadata": {},
   "outputs": [
    {
     "name": "stdout",
     "output_type": "stream",
     "text": [
      "게임수 :3\n",
      "게임 1 [25, 27, 3, 17, 33, 32]\n",
      "게임 2 [26, 20, 31, 23, 38, 14]\n",
      "게임 3 [33, 9, 19, 44, 7, 40]\n"
     ]
    }
   ],
   "source": [
    "# 코드를 입력해 주세요\n",
    "# 1. random\n",
    "import random\n",
    "random.seed(0)  # 난수 발생의 순서를 동일하게 만듦\n",
    "def getLotto(game):\n",
    "    for n in range(1, game+1):\n",
    "        lotto = random.sample(range(1, 46), 6)\n",
    "        print('게임', n, lotto)       \n",
    "        \n",
    "count = int(input('게임수 :'))\n",
    "getLotto(count)"
   ]
  },
  {
   "cell_type": "code",
   "execution_count": 14,
   "metadata": {},
   "outputs": [
    {
     "name": "stdout",
     "output_type": "stream",
     "text": [
      "게임수 :3\n",
      "게임 1 [25, 27, 3, 17, 33, 32]\n",
      "게임 2 [26, 20, 31, 23, 38, 14]\n",
      "게임 3 [33, 9, 19, 44, 7, 40]\n"
     ]
    }
   ],
   "source": [
    "# 코드를 입력해 주세요\n",
    "# 1. random\n",
    "import random\n",
    "random.seed(0)  # 난수 발생의 순서를 동일하게 만듦\n",
    "def getLotto(game):\n",
    "    result = '\\n'.join(f'게임 {n} {random.sample(range(1, 46), 6)}' for n in range(1, game+1))\n",
    "    print(result)\n",
    "        \n",
    "count = int(input('게임수 :'))\n",
    "getLotto(count)"
   ]
  }
 ],
 "metadata": {
  "kernelspec": {
   "display_name": "Python 3",
   "language": "python",
   "name": "python3"
  },
  "language_info": {
   "codemirror_mode": {
    "name": "ipython",
    "version": 3
   },
   "file_extension": ".py",
   "mimetype": "text/x-python",
   "name": "python",
   "nbconvert_exporter": "python",
   "pygments_lexer": "ipython3",
   "version": "3.6.6"
  }
 },
 "nbformat": 4,
 "nbformat_minor": 2
}
