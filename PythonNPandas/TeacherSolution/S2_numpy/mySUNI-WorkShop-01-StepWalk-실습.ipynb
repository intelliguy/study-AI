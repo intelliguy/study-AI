{
 "cells": [
  {
   "cell_type": "markdown",
   "metadata": {},
   "source": [
    "# 계단오르내리기 예제"
   ]
  },
  {
   "cell_type": "code",
   "execution_count": 1,
   "metadata": {},
   "outputs": [
    {
     "data": {
      "text/html": [
       "<style>#notebook-container {width: 90% !important; }</style>"
      ],
      "text/plain": [
       "<IPython.core.display.HTML object>"
      ]
     },
     "metadata": {},
     "output_type": "display_data"
    },
    {
     "data": {
      "text/html": [
       "<style>.rendered_html{font-family: 'D2Coding'; font-size: 16pt; line-height: 140%;}</style>"
      ],
      "text/plain": [
       "<IPython.core.display.HTML object>"
      ]
     },
     "metadata": {},
     "output_type": "display_data"
    },
    {
     "data": {
      "text/html": [
       "<style>.rendered_html table{font-family: 'D2Coding'; font-size: 16pt; line-height: 140%;}</style>"
      ],
      "text/plain": [
       "<IPython.core.display.HTML object>"
      ]
     },
     "metadata": {},
     "output_type": "display_data"
    },
    {
     "data": {
      "text/html": [
       "<style>pre{font-family: 'D2Coding', font-size: 16pt;}.rendered_html>ul>li{margin: 10px}</style>"
      ],
      "text/plain": [
       "<IPython.core.display.HTML object>"
      ]
     },
     "metadata": {},
     "output_type": "display_data"
    },
    {
     "data": {
      "text/html": [
       "<style>div.output_area>pre, div.output_subarea>pre{font-size: 16pt !important; line-height: 140%;}</style>"
      ],
      "text/plain": [
       "<IPython.core.display.HTML object>"
      ]
     },
     "metadata": {},
     "output_type": "display_data"
    },
    {
     "data": {
      "text/html": [
       "<style> .CodeMirror pre {font-family: 'D2Coding'; font-size: 18pt !important; line-height: 140%;}</style>"
      ],
      "text/plain": [
       "<IPython.core.display.HTML object>"
      ]
     },
     "metadata": {},
     "output_type": "display_data"
    }
   ],
   "source": [
    "from IPython.core.display import display, HTML\n",
    "# 노트북 컨테이너 크기 조절\n",
    "display(HTML(\"<style>#notebook-container {width: 90% !important; }</style>\"))\n",
    "# 마크다운 폰트\n",
    "display(HTML(\"<style>.rendered_html{font-family: 'D2Coding'; font-size: 16pt; line-height: 140%;}</style>\"))\n",
    "# DataFrame 테이블 폰트\n",
    "display(HTML(\"<style>.rendered_html table{font-family: 'D2Coding'; font-size: 16pt; line-height: 140%;}</style>\"))\n",
    "# 출력창 폰트\n",
    "display(HTML(\"<style>pre{font-family: 'D2Coding', font-size: 16pt;}.rendered_html>ul>li{margin: 10px}</style>\"))\n",
    "display(HTML(\"<style>div.output_area>pre, div.output_subarea>pre{font-size: 16pt !important; line-height: 140%;}</style>\"))\n",
    "# 코드셀 폰트\n",
    "display(HTML(\"<style> .CodeMirror pre {font-family: 'D2Coding'; font-size: 18pt !important; line-height: 140%;}</style>\"))"
   ]
  },
  {
   "cell_type": "code",
   "execution_count": 2,
   "metadata": {},
   "outputs": [],
   "source": [
    "import numpy as np "
   ]
  },
  {
   "cell_type": "code",
   "execution_count": 3,
   "metadata": {},
   "outputs": [
    {
     "name": "stdout",
     "output_type": "stream",
     "text": [
      "Help on built-in function randint:\n",
      "\n",
      "randint(...) method of numpy.random.mtrand.RandomState instance\n",
      "    randint(low, high=None, size=None, dtype=int)\n",
      "    \n",
      "    Return random integers from `low` (inclusive) to `high` (exclusive).\n",
      "    \n",
      "    Return random integers from the \"discrete uniform\" distribution of\n",
      "    the specified dtype in the \"half-open\" interval [`low`, `high`). If\n",
      "    `high` is None (the default), then results are from [0, `low`).\n",
      "    \n",
      "    .. note::\n",
      "        New code should use the ``integers`` method of a ``default_rng()``\n",
      "        instance instead; please see the :ref:`random-quick-start`.\n",
      "    \n",
      "    Parameters\n",
      "    ----------\n",
      "    low : int or array-like of ints\n",
      "        Lowest (signed) integers to be drawn from the distribution (unless\n",
      "        ``high=None``, in which case this parameter is one above the\n",
      "        *highest* such integer).\n",
      "    high : int or array-like of ints, optional\n",
      "        If provided, one above the largest (signed) integer to be drawn\n",
      "        from the distribution (see above for behavior if ``high=None``).\n",
      "        If array-like, must contain integer values\n",
      "    size : int or tuple of ints, optional\n",
      "        Output shape.  If the given shape is, e.g., ``(m, n, k)``, then\n",
      "        ``m * n * k`` samples are drawn.  Default is None, in which case a\n",
      "        single value is returned.\n",
      "    dtype : dtype, optional\n",
      "        Desired dtype of the result. Byteorder must be native.\n",
      "        The default value is int.\n",
      "    \n",
      "        .. versionadded:: 1.11.0\n",
      "    \n",
      "    Returns\n",
      "    -------\n",
      "    out : int or ndarray of ints\n",
      "        `size`-shaped array of random integers from the appropriate\n",
      "        distribution, or a single such random int if `size` not provided.\n",
      "    \n",
      "    See Also\n",
      "    --------\n",
      "    random_integers : similar to `randint`, only for the closed\n",
      "        interval [`low`, `high`], and 1 is the lowest value if `high` is\n",
      "        omitted.\n",
      "    Generator.integers: which should be used for new code.\n",
      "    \n",
      "    Examples\n",
      "    --------\n",
      "    >>> np.random.randint(2, size=10)\n",
      "    array([1, 0, 0, 0, 1, 1, 0, 0, 1, 0]) # random\n",
      "    >>> np.random.randint(1, size=10)\n",
      "    array([0, 0, 0, 0, 0, 0, 0, 0, 0, 0])\n",
      "    \n",
      "    Generate a 2 x 4 array of ints between 0 and 4, inclusive:\n",
      "    \n",
      "    >>> np.random.randint(5, size=(2, 4))\n",
      "    array([[4, 0, 2, 1], # random\n",
      "           [3, 2, 2, 0]])\n",
      "    \n",
      "    Generate a 1 x 3 array with 3 different upper bounds\n",
      "    \n",
      "    >>> np.random.randint(1, [3, 5, 10])\n",
      "    array([2, 2, 9]) # random\n",
      "    \n",
      "    Generate a 1 by 3 array with 3 different lower bounds\n",
      "    \n",
      "    >>> np.random.randint([1, 5, 7], 10)\n",
      "    array([9, 8, 7]) # random\n",
      "    \n",
      "    Generate a 2 by 4 array using broadcasting with dtype of uint8\n",
      "    \n",
      "    >>> np.random.randint([1, 3, 5, 7], [[10], [20]], dtype=np.uint8)\n",
      "    array([[ 8,  6,  9,  7], # random\n",
      "           [ 1, 16,  9, 12]], dtype=uint8)\n",
      "\n"
     ]
    }
   ],
   "source": [
    "help(np.random.randint)"
   ]
  },
  {
   "cell_type": "code",
   "execution_count": 8,
   "metadata": {},
   "outputs": [
    {
     "data": {
      "text/plain": [
       "array([1, 1, 0, 0, 1, 1, 1, 1, 1, 0, 0, 1, 0, 1, 1, 0, 0, 1, 0, 0, 0, 1,\n",
       "       0, 0, 1, 0, 0, 0, 1, 0, 0, 0, 1, 1, 1, 1, 1, 0, 0, 0, 1, 1, 1, 1,\n",
       "       1, 1, 0, 1, 1, 0, 0, 1, 0, 0, 1, 1, 1, 0, 1, 0, 0, 1, 1, 0, 1, 1,\n",
       "       1, 1, 0, 0, 1, 1, 0, 0, 0, 0, 1, 1, 1, 0, 1, 0, 0, 1, 1, 0, 1, 1,\n",
       "       0, 1, 0, 0, 1, 1, 1, 0, 1, 1, 0, 1, 1, 1, 1, 0, 0, 0, 0, 0, 1, 1,\n",
       "       1, 1, 1, 1, 1, 0, 0, 0, 0, 0, 0, 1, 1, 1, 1, 1, 1, 0, 0, 1, 1, 0,\n",
       "       0, 1, 0, 0, 0, 1, 1, 1, 1, 1, 0, 1, 0, 1, 0, 0, 0, 1, 1, 1, 0, 1,\n",
       "       0, 0, 0, 0, 1, 0, 1, 0, 1, 1, 1, 0, 0, 0, 0, 0, 0, 1, 0, 0, 1, 0,\n",
       "       0, 1, 1, 0, 0, 0, 1, 0, 0, 0, 0, 1, 0, 0, 0, 0, 1, 1, 0, 0, 1, 1,\n",
       "       1, 0, 0, 0, 0, 0, 1, 1, 1, 0, 1, 1, 0, 0, 0, 1, 1, 0, 1, 1, 1, 0,\n",
       "       1, 1, 1, 1, 0, 1, 0, 0, 1, 0, 1, 0, 1, 1, 0, 1, 1, 0, 1, 1, 1, 0,\n",
       "       1, 0, 1, 0, 1, 1, 1, 1, 1, 1, 0, 0, 1, 1, 0, 0, 0, 1, 1, 0, 0, 0,\n",
       "       0, 0, 1, 1, 1, 1, 1, 1, 1, 0, 0, 1, 0, 0, 0, 1, 0, 1, 0, 1, 0, 0,\n",
       "       0, 0, 1, 1, 0, 0, 0, 1, 0, 1, 1, 0, 0, 1, 0, 1, 0, 0, 0, 1, 0, 1,\n",
       "       0, 1, 1, 1, 0, 1, 0, 1, 1, 1, 1, 0, 0, 1, 0, 0, 0, 0, 1, 1, 0, 1,\n",
       "       1, 0, 0, 1, 1, 1, 1, 1, 1, 1, 0, 0, 0, 0, 0, 0, 0, 1, 0, 0, 0, 0,\n",
       "       0, 1, 1, 1, 1, 0, 0, 0, 1, 0, 1, 0, 1, 0, 0, 0, 0, 0, 0, 1, 0, 0,\n",
       "       0, 1, 0, 1, 1, 0, 0, 1, 1, 0, 1, 0, 1, 0, 1, 1, 0, 0, 1, 0, 0, 0,\n",
       "       0, 0, 1, 1, 0, 0, 1, 1, 1, 1, 0, 1, 0, 1, 0, 0, 1, 0, 1, 0, 1, 0,\n",
       "       0, 0, 0, 1, 0, 0, 1, 1, 1, 1, 1, 0, 0, 0, 1, 0, 1, 1, 0, 1, 1, 0,\n",
       "       0, 1, 1, 0, 1, 1, 1, 1, 0, 1, 0, 0, 0, 0, 0, 1, 0, 0, 0, 0, 1, 0,\n",
       "       0, 1, 0, 1, 1, 0, 1, 0, 1, 0, 1, 0, 0, 0, 0, 1, 0, 1, 1, 1, 1, 1,\n",
       "       0, 1, 0, 1, 0, 0, 0, 0, 1, 1, 0, 0, 0, 0, 1, 0, 0, 1, 1, 1, 1, 0,\n",
       "       1, 1, 0, 1, 0, 0, 1, 0, 0, 0, 1, 1, 1, 1, 0, 0, 0, 0, 1, 0, 1, 1,\n",
       "       0, 0, 1, 1, 0, 1, 1, 0, 0, 0, 0, 1, 0, 0, 0, 0, 1, 0, 1, 0, 0, 1,\n",
       "       1, 1, 0, 0, 1, 0, 0, 0, 0, 0, 1, 1, 1, 1, 1, 0, 0, 1, 1, 0, 0, 0,\n",
       "       0, 1, 0, 0, 0, 1, 0, 1, 0, 0, 0, 0, 1, 0, 0, 1, 1, 0, 1, 1, 1, 1,\n",
       "       1, 0, 0, 0, 0, 0, 0, 0, 0, 1, 0, 0, 0, 1, 0, 1, 0, 1, 0, 0, 1, 1,\n",
       "       1, 1, 1, 1, 0, 0, 0, 1, 0, 0, 1, 0, 1, 1, 0, 0, 0, 1, 1, 0, 1, 1,\n",
       "       0, 0, 0, 0, 1, 0, 0, 1, 0, 0, 0, 0, 0, 0, 1, 1, 0, 0, 0, 0, 0, 0,\n",
       "       1, 1, 0, 1, 0, 0, 1, 0, 1, 1, 1, 0, 0, 0, 1, 1, 1, 1, 1, 0, 1, 0,\n",
       "       1, 0, 0, 0, 0, 0, 0, 0, 0, 0, 0, 1, 0, 1, 0, 0, 1, 1, 0, 0, 1, 1,\n",
       "       1, 0, 1, 1, 0, 1, 1, 1, 1, 0, 1, 0, 1, 1, 1, 1, 0, 1, 1, 1, 0, 0,\n",
       "       1, 0, 1, 1, 0, 0, 1, 0, 0, 0, 0, 0, 0, 1, 1, 1, 0, 0, 1, 0, 1, 0,\n",
       "       0, 1, 1, 1, 0, 1, 0, 0, 0, 1, 1, 1, 1, 0, 1, 0, 1, 0, 0, 0, 0, 1,\n",
       "       0, 0, 0, 1, 1, 1, 1, 0, 0, 0, 1, 0, 0, 0, 1, 1, 0, 0, 0, 1, 1, 0,\n",
       "       1, 1, 1, 1, 1, 1, 0, 1, 1, 0, 0, 1, 1, 1, 1, 1, 1, 0, 0, 0, 0, 1,\n",
       "       1, 1, 1, 1, 1, 0, 0, 1, 1, 1, 0, 0, 1, 1, 0, 0, 0, 0, 1, 1, 0, 0,\n",
       "       0, 0, 1, 0, 1, 1, 0, 0, 0, 0, 0, 1, 0, 0, 1, 0, 0, 0, 1, 0, 1, 0,\n",
       "       0, 0, 1, 1, 1, 1, 0, 0, 0, 1, 0, 1, 0, 1, 1, 0, 1, 0, 1, 0, 0, 1,\n",
       "       1, 0, 1, 0, 0, 1, 0, 0, 1, 0, 1, 0, 1, 0, 1, 1, 1, 1, 1, 1, 1, 0,\n",
       "       0, 1, 1, 0, 0, 1, 1, 0, 1, 1, 1, 0, 0, 0, 1, 0, 1, 1, 1, 0, 1, 0,\n",
       "       0, 0, 1, 1, 0, 1, 0, 0, 1, 0, 0, 0, 1, 0, 0, 1, 0, 1, 1, 1, 0, 1,\n",
       "       0, 0, 0, 1, 0, 1, 1, 0, 0, 1, 0, 1, 1, 0, 0, 1, 0, 0, 1, 1, 1, 1,\n",
       "       1, 1, 1, 1, 0, 1, 1, 0, 1, 1, 1, 0, 0, 0, 0, 0, 0, 0, 1, 0, 1, 0,\n",
       "       0, 1, 1, 0, 0, 0, 0, 0, 0, 0])"
      ]
     },
     "execution_count": 8,
     "metadata": {},
     "output_type": "execute_result"
    }
   ],
   "source": [
    "# 코드를 입력해 주세요\n",
    "# 배열 생성\n",
    "# 0 (계단 내려감) 또는 1 (계단 올라감)의 숫자를 1000개 생성\n",
    "np.random.seed(1)\n",
    "arr = np.random.randint(0, 2, (1000,))\n",
    "arr"
   ]
  },
  {
   "cell_type": "markdown",
   "metadata": {},
   "source": [
    "<p><strong>[출력 결과]</strong></p><pre>array([0, 0, 1, 1, 0, 1, 1, 0, 1, 0, 1, 1, 0, 1, 0, 0, 1, 1, 0, 0, 0, 1,\n",
    "       0, 0, 0, 0, 1, 0, 1, 1, 0, 0, 0, 1, 0, 0, 1, 1, 0, 0, 0, 0, 1, 1,\n",
    "       0, 0, 0, 0, 1, 1, 0, 1, 1, 0, 0, 0, 0, 1, 0, 0, 0, 0, 0, 1, 0, 1,\n",
    "       1, 0, 0, 1, 1, 1, 0, 0, 1, 0, 0, 0, 1, 0, 1, 0, 0, 1, 0, 0, 0, 0,\n",
    "       1, 1, 1, 1, 0, 0, 1, 0, 1, 0, 0, 0, 1, 1, 1, 0, 0, 1, 1, 0, 0, 1,\n",
    "       1, 0, 0, 0, 0, 1, 1, 0, 0, 0, 0, 1, 1, 0, 1, 0, 1, 0, 1, 0, 0, 0,\n",
    "       0, 1, 1, 1, 0, 1, 1, 0, 1, 1, 1, 1, 1, 0, 0, 1, 1, 1, 0, 1, 1, 1,\n",
    "       1, 0, 1, 1, 1, 0, 0, 0, 0, 1, 0, 1, 1, 0, 0, 1, 0, 1, 0, 0, 1, 1,\n",
    "       0, 0, 0, 1, 1, 0, 1, 0, 0, 0, 0, 1, 0, 0, 0, 1, 0, 1, 0, 0, 0, 1,\n",
    "       0, 0, 1, 0, 1, 1, 0, 1, 0, 0, 1, 0, 1, 1, 0, 0, 1, 1, 1, 0, 0, 1,\n",
    "       0, 0, 1, 1, 0, 1, 1, 0, 0, 0, 0, 0, 0, 1, 0, 0, 1, 1, 1, 1, 0, 1,\n",
    "       1, 1, 1, 1, 0, 0, 0, 0, 0, 0, 0, 1, 0, 0, 1, 1, 1, 1, 0, 0, 1, 1,\n",
    "       1, 1, 1, 0, 0, 0, 0, 0, 1, 1, 0, 0, 0, 0, 1, 1, 0, 0, 1, 1, 0, 1,\n",
    "       0, 0, 0, 1, 0, 1, 1, 1, 0, 0, 0, 0, 1, 0, 0, 1, 1, 0, 0, 0, 1, 1,\n",
    "       0, 0, 1, 0, 1, 1, 0, 1, 0, 1, 1, 0, 1, 0, 0, 0, 0, 1, 1, 0, 1, 0,\n",
    "       1, 1, 1, 0, 0, 1, 1, 1, 1, 0, 0, 0, 0, 1, 0, 1, 1, 1, 0, 1, 1, 0,\n",
    "       0, 0, 1, 0, 0, 0, 1, 1, 1, 1, 0, 1, 0, 0, 0, 0, 0, 1, 1, 1, 0, 1,\n",
    "       0, 0, 1, 1, 0, 1, 0, 0, 1, 0, 1, 1, 0, 1, 0, 0, 0, 1, 0, 0, 1, 1,\n",
    "       1, 0, 1, 1, 1, 0, 0, 1, 0, 1, 1, 0, 0, 1, 0, 1, 1, 0, 0, 0, 0, 1,\n",
    "       0, 0, 0, 0, 1, 1, 1, 1, 1, 0, 0, 1, 1, 1, 1, 0, 0, 1, 1, 1, 1, 1,\n",
    "       1, 0, 0, 0, 0, 0, 0, 1, 1, 1, 1, 0, 0, 1, 0, 1, 0, 1, 1, 1, 0, 1,\n",
    "       1, 0, 1, 1, 0, 1, 1, 0, 0, 1, 0, 1, 1, 0, 1, 0, 0, 0, 1, 0, 0, 0,\n",
    "       0, 0, 1, 1, 1, 1, 0, 1, 1, 0, 1, 0, 0, 1, 1, 0, 1, 1, 0, 0, 0, 0,\n",
    "       0, 1, 0, 1, 1, 1, 0, 1, 0, 1, 1, 0, 0, 1, 1, 0, 0, 1, 0, 1, 1, 0,\n",
    "       1, 1, 0, 0, 1, 0, 1, 1, 0, 0, 1, 1, 1, 1, 1, 0, 1, 1, 0, 0, 0, 0,\n",
    "       0, 0, 1, 0, 1, 0, 1, 1, 1, 0, 1, 1, 0, 0, 1, 1, 1, 1, 1, 1, 0, 1,\n",
    "       0, 1, 0, 0, 1, 0, 0, 1, 0, 0, 1, 0, 0, 0, 0, 1, 0, 1, 1, 0, 1, 0,\n",
    "       1, 1, 1, 0, 1, 0, 0, 1, 1, 1, 0, 1, 0, 0, 1, 0, 0, 1, 1, 0, 0, 1,\n",
    "       1, 1, 1, 0, 1, 1, 1, 1, 0, 1, 1, 0, 1, 0, 1, 1, 0, 1, 0, 0, 1, 1,\n",
    "       1, 0, 1, 1, 0, 1, 0, 0, 0, 1, 1, 1, 1, 0, 0, 1, 0, 0, 1, 1, 0, 0,\n",
    "       1, 0, 1, 0, 1, 1, 1, 0, 1, 1, 0, 0, 0, 1, 0, 1, 0, 0, 0, 1, 1, 1,\n",
    "       1, 1, 0, 1, 0, 1, 0, 0, 0, 0, 0, 0, 1, 0, 1, 1, 0, 0, 1, 1, 0, 0,\n",
    "       1, 0, 1, 0, 0, 1, 0, 0, 0, 1, 1, 0, 0, 0, 1, 0, 1, 1, 0, 1, 0, 1,\n",
    "       1, 0, 0, 1, 0, 1, 0, 1, 0, 1, 0, 0, 1, 0, 1, 0, 0, 1, 1, 1, 1, 1,\n",
    "       1, 1, 1, 0, 1, 1, 0, 0, 1, 0, 0, 0, 0, 1, 0, 0, 1, 0, 1, 1, 1, 0,\n",
    "       1, 1, 0, 1, 0, 1, 0, 0, 0, 1, 1, 0, 0, 1, 0, 0, 1, 1, 1, 1, 0, 1,\n",
    "       1, 0, 0, 0, 1, 1, 0, 1, 0, 0, 0, 1, 0, 1, 0, 1, 1, 0, 0, 0, 1, 1,\n",
    "       1, 1, 0, 1, 1, 0, 0, 1, 1, 1, 1, 1, 0, 1, 1, 0, 1, 1, 1, 0, 0, 1,\n",
    "       1, 0, 0, 0, 0, 0, 1, 0, 1, 1, 0, 1, 1, 0, 0, 1, 1, 1, 0, 0, 1, 1,\n",
    "       0, 0, 1, 1, 1, 0, 1, 1, 0, 1, 1, 1, 0, 0, 1, 0, 0, 0, 1, 0, 1, 1,\n",
    "       1, 0, 0, 0, 0, 1, 1, 0, 1, 1, 1, 1, 1, 0, 1, 0, 1, 0, 1, 1, 1, 0,\n",
    "       0, 0, 0, 0, 0, 1, 0, 0, 0, 1, 1, 1, 1, 0, 1, 0, 1, 0, 1, 1, 0, 0,\n",
    "       1, 1, 1, 1, 0, 0, 1, 0, 0, 1, 1, 0, 1, 1, 1, 0, 1, 1, 0, 1, 0, 0,\n",
    "       1, 1, 0, 0, 0, 0, 0, 1, 0, 1, 1, 0, 0, 1, 1, 0, 0, 0, 1, 0, 0, 1,\n",
    "       1, 0, 0, 1, 1, 0, 0, 1, 0, 0, 0, 1, 1, 0, 1, 0, 0, 1, 0, 1, 1, 0,\n",
    "       0, 0, 0, 0, 1, 1, 0, 1, 0, 1])</pre>"
   ]
  },
  {
   "cell_type": "code",
   "execution_count": null,
   "metadata": {},
   "outputs": [],
   "source": [
    "# 코드를 입력해 주세요\n",
    "# draws 배열의 값이 0인 경우 -1로 변경(숫자를 감소시키기 위해)후 steps 변수에 저장\n"
   ]
  },
  {
   "cell_type": "markdown",
   "metadata": {},
   "source": [
    "<p><strong>[출력 결과]</strong></p><pre>array([-1, -1,  1,  1, -1,  1,  1, -1,  1, -1,  1,  1, -1,  1, -1, -1,  1,\n",
    "        1, -1, -1, -1,  1, -1, -1, -1, -1,  1, -1,  1,  1, -1, -1, -1,  1,\n",
    "       -1, -1,  1,  1, -1, -1, -1, -1,  1,  1, -1, -1, -1, -1,  1,  1, -1,\n",
    "        1,  1, -1, -1, -1, -1,  1, -1, -1, -1, -1, -1,  1, -1,  1,  1, -1,\n",
    "       -1,  1,  1,  1, -1, -1,  1, -1, -1, -1,  1, -1,  1, -1, -1,  1, -1,\n",
    "       -1, -1, -1,  1,  1,  1,  1, -1, -1,  1, -1,  1, -1, -1, -1,  1,  1,\n",
    "        1, -1, -1,  1,  1, -1, -1,  1,  1, -1, -1, -1, -1,  1,  1, -1, -1,\n",
    "       -1, -1,  1,  1, -1,  1, -1,  1, -1,  1, -1, -1, -1, -1,  1,  1,  1,\n",
    "       -1,  1,  1, -1,  1,  1,  1,  1,  1, -1, -1,  1,  1,  1, -1,  1,  1,\n",
    "        1,  1, -1,  1,  1,  1, -1, -1, -1, -1,  1, -1,  1,  1, -1, -1,  1,\n",
    "       -1,  1, -1, -1,  1,  1, -1, -1, -1,  1,  1, -1,  1, -1, -1, -1, -1,\n",
    "        1, -1, -1, -1,  1, -1,  1, -1, -1, -1,  1, -1, -1,  1, -1,  1,  1,\n",
    "       -1,  1, -1, -1,  1, -1,  1,  1, -1, -1,  1,  1,  1, -1, -1,  1, -1,\n",
    "       -1,  1,  1, -1,  1,  1, -1, -1, -1, -1, -1, -1,  1, -1, -1,  1,  1,\n",
    "        1,  1, -1,  1,  1,  1,  1,  1, -1, -1, -1, -1, -1, -1, -1,  1, -1,\n",
    "       -1,  1,  1,  1,  1, -1, -1,  1,  1,  1,  1,  1, -1, -1, -1, -1, -1,\n",
    "        1,  1, -1, -1, -1, -1,  1,  1, -1, -1,  1,  1, -1,  1, -1, -1, -1,\n",
    "        1, -1,  1,  1,  1, -1, -1, -1, -1,  1, -1, -1,  1,  1, -1, -1, -1,\n",
    "        1,  1, -1, -1,  1, -1,  1,  1, -1,  1, -1,  1,  1, -1,  1, -1, -1,\n",
    "       -1, -1,  1,  1, -1,  1, -1,  1,  1,  1, -1, -1,  1,  1,  1,  1, -1,\n",
    "       -1, -1, -1,  1, -1,  1,  1,  1, -1,  1,  1, -1, -1, -1,  1, -1, -1,\n",
    "       -1,  1,  1,  1,  1, -1,  1, -1, -1, -1, -1, -1,  1,  1,  1, -1,  1,\n",
    "       -1, -1,  1,  1, -1,  1, -1, -1,  1, -1,  1,  1, -1,  1, -1, -1, -1,\n",
    "        1, -1, -1,  1,  1,  1, -1,  1,  1,  1, -1, -1,  1, -1,  1,  1, -1,\n",
    "       -1,  1, -1,  1,  1, -1, -1, -1, -1,  1, -1, -1, -1, -1,  1,  1,  1,\n",
    "        1,  1, -1, -1,  1,  1,  1,  1, -1, -1,  1,  1,  1,  1,  1,  1, -1,\n",
    "       -1, -1, -1, -1, -1,  1,  1,  1,  1, -1, -1,  1, -1,  1, -1,  1,  1,\n",
    "        1, -1,  1,  1, -1,  1,  1, -1,  1,  1, -1, -1,  1, -1,  1,  1, -1,\n",
    "        1, -1, -1, -1,  1, -1, -1, -1, -1, -1,  1,  1,  1,  1, -1,  1,  1,\n",
    "       -1,  1, -1, -1,  1,  1, -1,  1,  1, -1, -1, -1, -1, -1,  1, -1,  1,\n",
    "        1,  1, -1,  1, -1,  1,  1, -1, -1,  1,  1, -1, -1,  1, -1,  1,  1,\n",
    "       -1,  1,  1, -1, -1,  1, -1,  1,  1, -1, -1,  1,  1,  1,  1,  1, -1,\n",
    "        1,  1, -1, -1, -1, -1, -1, -1,  1, -1,  1, -1,  1,  1,  1, -1,  1,\n",
    "        1, -1, -1,  1,  1,  1,  1,  1,  1, -1,  1, -1,  1, -1, -1,  1, -1,\n",
    "       -1,  1, -1, -1,  1, -1, -1, -1, -1,  1, -1,  1,  1, -1,  1, -1,  1,\n",
    "        1,  1, -1,  1, -1, -1,  1,  1,  1, -1,  1, -1, -1,  1, -1, -1,  1,\n",
    "        1, -1, -1,  1,  1,  1,  1, -1,  1,  1,  1,  1, -1,  1,  1, -1,  1,\n",
    "       -1,  1,  1, -1,  1, -1, -1,  1,  1,  1, -1,  1,  1, -1,  1, -1, -1,\n",
    "       -1,  1,  1,  1,  1, -1, -1,  1, -1, -1,  1,  1, -1, -1,  1, -1,  1,\n",
    "       -1,  1,  1,  1, -1,  1,  1, -1, -1, -1,  1, -1,  1, -1, -1, -1,  1,\n",
    "        1,  1,  1,  1, -1,  1, -1,  1, -1, -1, -1, -1, -1, -1,  1, -1,  1,\n",
    "        1, -1, -1,  1,  1, -1, -1,  1, -1,  1, -1, -1,  1, -1, -1, -1,  1,\n",
    "        1, -1, -1, -1,  1, -1,  1,  1, -1,  1, -1,  1,  1, -1, -1,  1, -1,\n",
    "        1, -1,  1, -1,  1, -1, -1,  1, -1,  1, -1, -1,  1,  1,  1,  1,  1,\n",
    "        1,  1,  1, -1,  1,  1, -1, -1,  1, -1, -1, -1, -1,  1, -1, -1,  1,\n",
    "       -1,  1,  1,  1, -1,  1,  1, -1,  1, -1,  1, -1, -1, -1,  1,  1, -1,\n",
    "       -1,  1, -1, -1,  1,  1,  1,  1, -1,  1,  1, -1, -1, -1,  1,  1, -1,\n",
    "        1, -1, -1, -1,  1, -1,  1, -1,  1,  1, -1, -1, -1,  1,  1,  1,  1,\n",
    "       -1,  1,  1, -1, -1,  1,  1,  1,  1,  1, -1,  1,  1, -1,  1,  1,  1,\n",
    "       -1, -1,  1,  1, -1, -1, -1, -1, -1,  1, -1,  1,  1, -1,  1,  1, -1,\n",
    "       -1,  1,  1,  1, -1, -1,  1,  1, -1, -1,  1,  1,  1, -1,  1,  1, -1,\n",
    "        1,  1,  1, -1, -1,  1, -1, -1, -1,  1, -1,  1,  1,  1, -1, -1, -1,\n",
    "       -1,  1,  1, -1,  1,  1,  1,  1,  1, -1,  1, -1,  1, -1,  1,  1,  1,\n",
    "       -1, -1, -1, -1, -1, -1,  1, -1, -1, -1,  1,  1,  1,  1, -1,  1, -1,\n",
    "        1, -1,  1,  1, -1, -1,  1,  1,  1,  1, -1, -1,  1, -1, -1,  1,  1,\n",
    "       -1,  1,  1,  1, -1,  1,  1, -1,  1, -1, -1,  1,  1, -1, -1, -1, -1,\n",
    "       -1,  1, -1,  1,  1, -1, -1,  1,  1, -1, -1, -1,  1, -1, -1,  1,  1,\n",
    "       -1, -1,  1,  1, -1, -1,  1, -1, -1, -1,  1,  1, -1,  1, -1, -1,  1,\n",
    "       -1,  1,  1, -1, -1, -1, -1, -1,  1,  1, -1,  1, -1,  1])</pre>"
   ]
  },
  {
   "cell_type": "code",
   "execution_count": null,
   "metadata": {
    "scrolled": true
   },
   "outputs": [],
   "source": [
    "# 코드를 입력해 주세요\n",
    "# steps 배열의 누적합(cumsum) 계산 후 walk 변수에 저장\n"
   ]
  },
  {
   "cell_type": "markdown",
   "metadata": {},
   "source": [
    "<p><strong>[출력 결과]</strong></p><pre>array([ -1,  -2,  -1,   0,  -1,   0,   1,   0,   1,   0,   1,   2,   1,\n",
    "         2,   1,   0,   1,   2,   1,   0,  -1,   0,  -1,  -2,  -3,  -4,\n",
    "        -3,  -4,  -3,  -2,  -3,  -4,  -5,  -4,  -5,  -6,  -5,  -4,  -5,\n",
    "        -6,  -7,  -8,  -7,  -6,  -7,  -8,  -9, -10,  -9,  -8,  -9,  -8,\n",
    "        -7,  -8,  -9, -10, -11, -10, -11, -12, -13, -14, -15, -14, -15,\n",
    "       -14, -13, -14, -15, -14, -13, -12, -13, -14, -13, -14, -15, -16,\n",
    "       -15, -16, -15, -16, -17, -16, -17, -18, -19, -20, -19, -18, -17,\n",
    "       -16, -17, -18, -17, -18, -17, -18, -19, -20, -19, -18, -17, -18,\n",
    "       -19, -18, -17, -18, -19, -18, -17, -18, -19, -20, -21, -20, -19,\n",
    "       -20, -21, -22, -23, -22, -21, -22, -21, -22, -21, -22, -21, -22,\n",
    "       -23, -24, -25, -24, -23, -22, -23, -22, -21, -22, -21, -20, -19,\n",
    "       -18, -17, -18, -19, -18, -17, -16, -17, -16, -15, -14, -13, -14,\n",
    "       -13, -12, -11, -12, -13, -14, -15, -14, -15, -14, -13, -14, -15,\n",
    "       -14, -15, -14, -15, -16, -15, -14, -15, -16, -17, -16, -15, -16,\n",
    "       -15, -16, -17, -18, -19, -18, -19, -20, -21, -20, -21, -20, -21,\n",
    "       -22, -23, -22, -23, -24, -23, -24, -23, -22, -23, -22, -23, -24,\n",
    "       -23, -24, -23, -22, -23, -24, -23, -22, -21, -22, -23, -22, -23,\n",
    "       -24, -23, -22, -23, -22, -21, -22, -23, -24, -25, -26, -27, -26,\n",
    "       -27, -28, -27, -26, -25, -24, -25, -24, -23, -22, -21, -20, -21,\n",
    "       -22, -23, -24, -25, -26, -27, -26, -27, -28, -27, -26, -25, -24,\n",
    "       -25, -26, -25, -24, -23, -22, -21, -22, -23, -24, -25, -26, -25,\n",
    "       -24, -25, -26, -27, -28, -27, -26, -27, -28, -27, -26, -27, -26,\n",
    "       -27, -28, -29, -28, -29, -28, -27, -26, -27, -28, -29, -30, -29,\n",
    "       -30, -31, -30, -29, -30, -31, -32, -31, -30, -31, -32, -31, -32,\n",
    "       -31, -30, -31, -30, -31, -30, -29, -30, -29, -30, -31, -32, -33,\n",
    "       -32, -31, -32, -31, -32, -31, -30, -29, -30, -31, -30, -29, -28,\n",
    "       -27, -28, -29, -30, -31, -30, -31, -30, -29, -28, -29, -28, -27,\n",
    "       -28, -29, -30, -29, -30, -31, -32, -31, -30, -29, -28, -29, -28,\n",
    "       -29, -30, -31, -32, -33, -32, -31, -30, -31, -30, -31, -32, -31,\n",
    "       -30, -31, -30, -31, -32, -31, -32, -31, -30, -31, -30, -31, -32,\n",
    "       -33, -32, -33, -34, -33, -32, -31, -32, -31, -30, -29, -30, -31,\n",
    "       -30, -31, -30, -29, -30, -31, -30, -31, -30, -29, -30, -31, -32,\n",
    "       -33, -32, -33, -34, -35, -36, -35, -34, -33, -32, -31, -32, -33,\n",
    "       -32, -31, -30, -29, -30, -31, -30, -29, -28, -27, -26, -25, -26,\n",
    "       -27, -28, -29, -30, -31, -30, -29, -28, -27, -28, -29, -28, -29,\n",
    "       -28, -29, -28, -27, -26, -27, -26, -25, -26, -25, -24, -25, -24,\n",
    "       -23, -24, -25, -24, -25, -24, -23, -24, -23, -24, -25, -26, -25,\n",
    "       -26, -27, -28, -29, -30, -29, -28, -27, -26, -27, -26, -25, -26,\n",
    "       -25, -26, -27, -26, -25, -26, -25, -24, -25, -26, -27, -28, -29,\n",
    "       -28, -29, -28, -27, -26, -27, -26, -27, -26, -25, -26, -27, -26,\n",
    "       -25, -26, -27, -26, -27, -26, -25, -26, -25, -24, -25, -26, -25,\n",
    "       -26, -25, -24, -25, -26, -25, -24, -23, -22, -21, -22, -21, -20,\n",
    "       -21, -22, -23, -24, -25, -26, -25, -26, -25, -26, -25, -24, -23,\n",
    "       -24, -23, -22, -23, -24, -23, -22, -21, -20, -19, -18, -19, -18,\n",
    "       -19, -18, -19, -20, -19, -20, -21, -20, -21, -22, -21, -22, -23,\n",
    "       -24, -25, -24, -25, -24, -23, -24, -23, -24, -23, -22, -21, -22,\n",
    "       -21, -22, -23, -22, -21, -20, -21, -20, -21, -22, -21, -22, -23,\n",
    "       -22, -21, -22, -23, -22, -21, -20, -19, -20, -19, -18, -17, -16,\n",
    "       -17, -16, -15, -16, -15, -16, -15, -14, -15, -14, -15, -16, -15,\n",
    "       -14, -13, -14, -13, -12, -13, -12, -13, -14, -15, -14, -13, -12,\n",
    "       -11, -12, -13, -12, -13, -14, -13, -12, -13, -14, -13, -14, -13,\n",
    "       -14, -13, -12, -11, -12, -11, -10, -11, -12, -13, -12, -13, -12,\n",
    "       -13, -14, -15, -14, -13, -12, -11, -10, -11, -10, -11, -10, -11,\n",
    "       -12, -13, -14, -15, -16, -15, -16, -15, -14, -15, -16, -15, -14,\n",
    "       -15, -16, -15, -16, -15, -16, -17, -16, -17, -18, -19, -18, -17,\n",
    "       -18, -19, -20, -19, -20, -19, -18, -19, -18, -19, -18, -17, -18,\n",
    "       -19, -18, -19, -18, -19, -18, -19, -18, -19, -20, -19, -20, -19,\n",
    "       -20, -21, -20, -19, -18, -17, -16, -15, -14, -13, -14, -13, -12,\n",
    "       -13, -14, -13, -14, -15, -16, -17, -16, -17, -18, -17, -18, -17,\n",
    "       -16, -15, -16, -15, -14, -15, -14, -15, -14, -15, -16, -17, -16,\n",
    "       -15, -16, -17, -16, -17, -18, -17, -16, -15, -14, -15, -14, -13,\n",
    "       -14, -15, -16, -15, -14, -15, -14, -15, -16, -17, -16, -17, -16,\n",
    "       -17, -16, -15, -16, -17, -18, -17, -16, -15, -14, -15, -14, -13,\n",
    "       -14, -15, -14, -13, -12, -11, -10, -11, -10,  -9, -10,  -9,  -8,\n",
    "        -7,  -8,  -9,  -8,  -7,  -8,  -9, -10, -11, -12, -11, -12, -11,\n",
    "       -10, -11, -10,  -9, -10, -11, -10,  -9,  -8,  -9, -10,  -9,  -8,\n",
    "        -9, -10,  -9,  -8,  -7,  -8,  -7,  -6,  -7,  -6,  -5,  -4,  -5,\n",
    "        -6,  -5,  -6,  -7,  -8,  -7,  -8,  -7,  -6,  -5,  -6,  -7,  -8,\n",
    "        -9,  -8,  -7,  -8,  -7,  -6,  -5,  -4,  -3,  -4,  -3,  -4,  -3,\n",
    "        -4,  -3,  -2,  -1,  -2,  -3,  -4,  -5,  -6,  -7,  -6,  -7,  -8,\n",
    "        -9,  -8,  -7,  -6,  -5,  -6,  -5,  -6,  -5,  -6,  -5,  -4,  -5,\n",
    "        -6,  -5,  -4,  -3,  -2,  -3,  -4,  -3,  -4,  -5,  -4,  -3,  -4,\n",
    "        -3,  -2,  -1,  -2,  -1,   0,  -1,   0,  -1,  -2,  -1,   0,  -1,\n",
    "        -2,  -3,  -4,  -5,  -4,  -5,  -4,  -3,  -4,  -5,  -4,  -3,  -4,\n",
    "        -5,  -6,  -5,  -6,  -7,  -6,  -5,  -6,  -7,  -6,  -5,  -6,  -7,\n",
    "        -6,  -7,  -8,  -9,  -8,  -7,  -8,  -7,  -8,  -9,  -8,  -9,  -8,\n",
    "        -7,  -8,  -9, -10, -11, -12, -11, -10, -11, -10, -11, -10],\n",
    "      dtype=int32)</pre>"
   ]
  },
  {
   "cell_type": "code",
   "execution_count": null,
   "metadata": {
    "scrolled": true
   },
   "outputs": [],
   "source": [
    "# 코드를 입력해 주세요\n",
    "# wal의 의 최소값 \n"
   ]
  },
  {
   "cell_type": "markdown",
   "metadata": {},
   "source": [
    "<p><strong>[출력 결과]</strong></p><pre>-36</pre>"
   ]
  },
  {
   "cell_type": "code",
   "execution_count": null,
   "metadata": {},
   "outputs": [],
   "source": [
    "# 코드를 입력해 주세요\n",
    "#wark의 최대값\n"
   ]
  },
  {
   "cell_type": "markdown",
   "metadata": {},
   "source": [
    "<p><strong>[출력 결과]</strong></p><pre>2</pre>"
   ]
  },
  {
   "cell_type": "markdown",
   "metadata": {},
   "source": [
    "## 처음으로 10칸(위, 아래) 이상 떨어진 지점 구하기"
   ]
  },
  {
   "cell_type": "code",
   "execution_count": null,
   "metadata": {
    "scrolled": true
   },
   "outputs": [],
   "source": [
    "# 코드를 입력해 주세요\n",
    "# walk배열의 음수를 양수로 변경 (np.abs 함수 사용)\n"
   ]
  },
  {
   "cell_type": "markdown",
   "metadata": {},
   "source": [
    "<p><strong>[출력 결과]</strong></p><pre>array([ 1,  2,  1,  0,  1,  0,  1,  0,  1,  0,  1,  2,  1,  2,  1,  0,  1,\n",
    "        2,  1,  0,  1,  0,  1,  2,  3,  4,  3,  4,  3,  2,  3,  4,  5,  4,\n",
    "        5,  6,  5,  4,  5,  6,  7,  8,  7,  6,  7,  8,  9, 10,  9,  8,  9,\n",
    "        8,  7,  8,  9, 10, 11, 10, 11, 12, 13, 14, 15, 14, 15, 14, 13, 14,\n",
    "       15, 14, 13, 12, 13, 14, 13, 14, 15, 16, 15, 16, 15, 16, 17, 16, 17,\n",
    "       18, 19, 20, 19, 18, 17, 16, 17, 18, 17, 18, 17, 18, 19, 20, 19, 18,\n",
    "       17, 18, 19, 18, 17, 18, 19, 18, 17, 18, 19, 20, 21, 20, 19, 20, 21,\n",
    "       22, 23, 22, 21, 22, 21, 22, 21, 22, 21, 22, 23, 24, 25, 24, 23, 22,\n",
    "       23, 22, 21, 22, 21, 20, 19, 18, 17, 18, 19, 18, 17, 16, 17, 16, 15,\n",
    "       14, 13, 14, 13, 12, 11, 12, 13, 14, 15, 14, 15, 14, 13, 14, 15, 14,\n",
    "       15, 14, 15, 16, 15, 14, 15, 16, 17, 16, 15, 16, 15, 16, 17, 18, 19,\n",
    "       18, 19, 20, 21, 20, 21, 20, 21, 22, 23, 22, 23, 24, 23, 24, 23, 22,\n",
    "       23, 22, 23, 24, 23, 24, 23, 22, 23, 24, 23, 22, 21, 22, 23, 22, 23,\n",
    "       24, 23, 22, 23, 22, 21, 22, 23, 24, 25, 26, 27, 26, 27, 28, 27, 26,\n",
    "       25, 24, 25, 24, 23, 22, 21, 20, 21, 22, 23, 24, 25, 26, 27, 26, 27,\n",
    "       28, 27, 26, 25, 24, 25, 26, 25, 24, 23, 22, 21, 22, 23, 24, 25, 26,\n",
    "       25, 24, 25, 26, 27, 28, 27, 26, 27, 28, 27, 26, 27, 26, 27, 28, 29,\n",
    "       28, 29, 28, 27, 26, 27, 28, 29, 30, 29, 30, 31, 30, 29, 30, 31, 32,\n",
    "       31, 30, 31, 32, 31, 32, 31, 30, 31, 30, 31, 30, 29, 30, 29, 30, 31,\n",
    "       32, 33, 32, 31, 32, 31, 32, 31, 30, 29, 30, 31, 30, 29, 28, 27, 28,\n",
    "       29, 30, 31, 30, 31, 30, 29, 28, 29, 28, 27, 28, 29, 30, 29, 30, 31,\n",
    "       32, 31, 30, 29, 28, 29, 28, 29, 30, 31, 32, 33, 32, 31, 30, 31, 30,\n",
    "       31, 32, 31, 30, 31, 30, 31, 32, 31, 32, 31, 30, 31, 30, 31, 32, 33,\n",
    "       32, 33, 34, 33, 32, 31, 32, 31, 30, 29, 30, 31, 30, 31, 30, 29, 30,\n",
    "       31, 30, 31, 30, 29, 30, 31, 32, 33, 32, 33, 34, 35, 36, 35, 34, 33,\n",
    "       32, 31, 32, 33, 32, 31, 30, 29, 30, 31, 30, 29, 28, 27, 26, 25, 26,\n",
    "       27, 28, 29, 30, 31, 30, 29, 28, 27, 28, 29, 28, 29, 28, 29, 28, 27,\n",
    "       26, 27, 26, 25, 26, 25, 24, 25, 24, 23, 24, 25, 24, 25, 24, 23, 24,\n",
    "       23, 24, 25, 26, 25, 26, 27, 28, 29, 30, 29, 28, 27, 26, 27, 26, 25,\n",
    "       26, 25, 26, 27, 26, 25, 26, 25, 24, 25, 26, 27, 28, 29, 28, 29, 28,\n",
    "       27, 26, 27, 26, 27, 26, 25, 26, 27, 26, 25, 26, 27, 26, 27, 26, 25,\n",
    "       26, 25, 24, 25, 26, 25, 26, 25, 24, 25, 26, 25, 24, 23, 22, 21, 22,\n",
    "       21, 20, 21, 22, 23, 24, 25, 26, 25, 26, 25, 26, 25, 24, 23, 24, 23,\n",
    "       22, 23, 24, 23, 22, 21, 20, 19, 18, 19, 18, 19, 18, 19, 20, 19, 20,\n",
    "       21, 20, 21, 22, 21, 22, 23, 24, 25, 24, 25, 24, 23, 24, 23, 24, 23,\n",
    "       22, 21, 22, 21, 22, 23, 22, 21, 20, 21, 20, 21, 22, 21, 22, 23, 22,\n",
    "       21, 22, 23, 22, 21, 20, 19, 20, 19, 18, 17, 16, 17, 16, 15, 16, 15,\n",
    "       16, 15, 14, 15, 14, 15, 16, 15, 14, 13, 14, 13, 12, 13, 12, 13, 14,\n",
    "       15, 14, 13, 12, 11, 12, 13, 12, 13, 14, 13, 12, 13, 14, 13, 14, 13,\n",
    "       14, 13, 12, 11, 12, 11, 10, 11, 12, 13, 12, 13, 12, 13, 14, 15, 14,\n",
    "       13, 12, 11, 10, 11, 10, 11, 10, 11, 12, 13, 14, 15, 16, 15, 16, 15,\n",
    "       14, 15, 16, 15, 14, 15, 16, 15, 16, 15, 16, 17, 16, 17, 18, 19, 18,\n",
    "       17, 18, 19, 20, 19, 20, 19, 18, 19, 18, 19, 18, 17, 18, 19, 18, 19,\n",
    "       18, 19, 18, 19, 18, 19, 20, 19, 20, 19, 20, 21, 20, 19, 18, 17, 16,\n",
    "       15, 14, 13, 14, 13, 12, 13, 14, 13, 14, 15, 16, 17, 16, 17, 18, 17,\n",
    "       18, 17, 16, 15, 16, 15, 14, 15, 14, 15, 14, 15, 16, 17, 16, 15, 16,\n",
    "       17, 16, 17, 18, 17, 16, 15, 14, 15, 14, 13, 14, 15, 16, 15, 14, 15,\n",
    "       14, 15, 16, 17, 16, 17, 16, 17, 16, 15, 16, 17, 18, 17, 16, 15, 14,\n",
    "       15, 14, 13, 14, 15, 14, 13, 12, 11, 10, 11, 10,  9, 10,  9,  8,  7,\n",
    "        8,  9,  8,  7,  8,  9, 10, 11, 12, 11, 12, 11, 10, 11, 10,  9, 10,\n",
    "       11, 10,  9,  8,  9, 10,  9,  8,  9, 10,  9,  8,  7,  8,  7,  6,  7,\n",
    "        6,  5,  4,  5,  6,  5,  6,  7,  8,  7,  8,  7,  6,  5,  6,  7,  8,\n",
    "        9,  8,  7,  8,  7,  6,  5,  4,  3,  4,  3,  4,  3,  4,  3,  2,  1,\n",
    "        2,  3,  4,  5,  6,  7,  6,  7,  8,  9,  8,  7,  6,  5,  6,  5,  6,\n",
    "        5,  6,  5,  4,  5,  6,  5,  4,  3,  2,  3,  4,  3,  4,  5,  4,  3,\n",
    "        4,  3,  2,  1,  2,  1,  0,  1,  0,  1,  2,  1,  0,  1,  2,  3,  4,\n",
    "        5,  4,  5,  4,  3,  4,  5,  4,  3,  4,  5,  6,  5,  6,  7,  6,  5,\n",
    "        6,  7,  6,  5,  6,  7,  6,  7,  8,  9,  8,  7,  8,  7,  8,  9,  8,\n",
    "        9,  8,  7,  8,  9, 10, 11, 12, 11, 10, 11, 10, 11, 10],\n",
    "      dtype=int32)</pre>"
   ]
  },
  {
   "cell_type": "code",
   "execution_count": null,
   "metadata": {},
   "outputs": [],
   "source": [
    "# 코드를 입력해 주세요\n",
    "# walk 배열의 값이 10 이상인 경우 True 아닌 경우 False로 변경\n"
   ]
  },
  {
   "cell_type": "markdown",
   "metadata": {},
   "source": [
    "<p><strong>[출력 결과]</strong></p><pre>array([False, False, False, False, False, False, False, False, False,\n",
    "       False, False, False, False, False, False, False, False, False,\n",
    "       False, False, False, False, False, False, False, False, False,\n",
    "       False, False, False, False, False, False, False, False, False,\n",
    "       False, False, False, False, False, False, False, False, False,\n",
    "       False, False,  True, False, False, False, False, False, False,\n",
    "       False,  True,  True,  True,  True,  True,  True,  True,  True,\n",
    "        True,  True,  True,  True,  True,  True,  True,  True,  True,\n",
    "        True,  True,  True,  True,  True,  True,  True,  True,  True,\n",
    "        True,  True,  True,  True,  True,  True,  True,  True,  True,\n",
    "        True,  True,  True,  True,  True,  True,  True,  True,  True,\n",
    "        True,  True,  True,  True,  True,  True,  True,  True,  True,\n",
    "        True,  True,  True,  True,  True,  True,  True,  True,  True,\n",
    "        True,  True,  True,  True,  True,  True,  True,  True,  True,\n",
    "        True,  True,  True,  True,  True,  True,  True,  True,  True,\n",
    "        True,  True,  True,  True,  True,  True,  True,  True,  True,\n",
    "        True,  True,  True,  True,  True,  True,  True,  True,  True,\n",
    "        True,  True,  True,  True,  True,  True,  True,  True,  True,\n",
    "        True,  True,  True,  True,  True,  True,  True,  True,  True,\n",
    "        True,  True,  True,  True,  True,  True,  True,  True,  True,\n",
    "        True,  True,  True,  True,  True,  True,  True,  True,  True,\n",
    "        True,  True,  True,  True,  True,  True,  True,  True,  True,\n",
    "        True,  True,  True,  True,  True,  True,  True,  True,  True,\n",
    "        True,  True,  True,  True,  True,  True,  True,  True,  True,\n",
    "        True,  True,  True,  True,  True,  True,  True,  True,  True,\n",
    "        True,  True,  True,  True,  True,  True,  True,  True,  True,\n",
    "        True,  True,  True,  True,  True,  True,  True,  True,  True,\n",
    "        True,  True,  True,  True,  True,  True,  True,  True,  True,\n",
    "        True,  True,  True,  True,  True,  True,  True,  True,  True,\n",
    "        True,  True,  True,  True,  True,  True,  True,  True,  True,\n",
    "        True,  True,  True,  True,  True,  True,  True,  True,  True,\n",
    "        True,  True,  True,  True,  True,  True,  True,  True,  True,\n",
    "        True,  True,  True,  True,  True,  True,  True,  True,  True,\n",
    "        True,  True,  True,  True,  True,  True,  True,  True,  True,\n",
    "        True,  True,  True,  True,  True,  True,  True,  True,  True,\n",
    "        True,  True,  True,  True,  True,  True,  True,  True,  True,\n",
    "        True,  True,  True,  True,  True,  True,  True,  True,  True,\n",
    "        True,  True,  True,  True,  True,  True,  True,  True,  True,\n",
    "        True,  True,  True,  True,  True,  True,  True,  True,  True,\n",
    "        True,  True,  True,  True,  True,  True,  True,  True,  True,\n",
    "        True,  True,  True,  True,  True,  True,  True,  True,  True,\n",
    "        True,  True,  True,  True,  True,  True,  True,  True,  True,\n",
    "        True,  True,  True,  True,  True,  True,  True,  True,  True,\n",
    "        True,  True,  True,  True,  True,  True,  True,  True,  True,\n",
    "        True,  True,  True,  True,  True,  True,  True,  True,  True,\n",
    "        True,  True,  True,  True,  True,  True,  True,  True,  True,\n",
    "        True,  True,  True,  True,  True,  True,  True,  True,  True,\n",
    "        True,  True,  True,  True,  True,  True,  True,  True,  True,\n",
    "        True,  True,  True,  True,  True,  True,  True,  True,  True,\n",
    "        True,  True,  True,  True,  True,  True,  True,  True,  True,\n",
    "        True,  True,  True,  True,  True,  True,  True,  True,  True,\n",
    "        True,  True,  True,  True,  True,  True,  True,  True,  True,\n",
    "        True,  True,  True,  True,  True,  True,  True,  True,  True,\n",
    "        True,  True,  True,  True,  True,  True,  True,  True,  True,\n",
    "        True,  True,  True,  True,  True,  True,  True,  True,  True,\n",
    "        True,  True,  True,  True,  True,  True,  True,  True,  True,\n",
    "        True,  True,  True,  True,  True,  True,  True,  True,  True,\n",
    "        True,  True,  True,  True,  True,  True,  True,  True,  True,\n",
    "        True,  True,  True,  True,  True,  True,  True,  True,  True,\n",
    "        True,  True,  True,  True,  True,  True,  True,  True,  True,\n",
    "        True,  True,  True,  True,  True,  True,  True,  True,  True,\n",
    "        True,  True,  True,  True,  True,  True,  True,  True,  True,\n",
    "        True,  True,  True,  True,  True,  True,  True,  True,  True,\n",
    "        True,  True,  True,  True,  True,  True,  True,  True,  True,\n",
    "        True,  True,  True,  True,  True,  True,  True,  True,  True,\n",
    "        True,  True,  True,  True,  True,  True,  True,  True,  True,\n",
    "        True,  True,  True,  True,  True,  True,  True,  True,  True,\n",
    "        True,  True,  True,  True,  True,  True,  True,  True,  True,\n",
    "        True,  True,  True,  True,  True,  True,  True,  True,  True,\n",
    "        True,  True,  True,  True,  True,  True,  True,  True,  True,\n",
    "        True,  True,  True,  True,  True,  True,  True,  True,  True,\n",
    "        True,  True,  True,  True,  True,  True,  True,  True,  True,\n",
    "        True,  True,  True,  True,  True,  True,  True,  True,  True,\n",
    "        True,  True,  True,  True,  True,  True,  True,  True,  True,\n",
    "        True,  True,  True,  True,  True,  True,  True,  True,  True,\n",
    "        True,  True,  True,  True,  True,  True,  True,  True,  True,\n",
    "        True,  True,  True,  True,  True,  True,  True,  True,  True,\n",
    "        True,  True,  True,  True,  True,  True,  True,  True,  True,\n",
    "        True,  True,  True,  True,  True,  True,  True,  True,  True,\n",
    "        True,  True,  True,  True,  True,  True,  True,  True,  True,\n",
    "        True,  True,  True,  True,  True,  True,  True,  True,  True,\n",
    "        True,  True,  True,  True,  True,  True,  True,  True,  True,\n",
    "        True,  True,  True,  True,  True,  True,  True,  True,  True,\n",
    "        True,  True,  True,  True,  True,  True,  True,  True,  True,\n",
    "        True,  True,  True,  True,  True,  True,  True,  True,  True,\n",
    "        True,  True,  True,  True,  True,  True,  True,  True,  True,\n",
    "        True,  True,  True,  True,  True,  True,  True,  True,  True,\n",
    "        True,  True,  True,  True,  True,  True,  True,  True,  True,\n",
    "        True,  True,  True,  True,  True,  True,  True,  True,  True,\n",
    "        True,  True,  True,  True,  True,  True,  True,  True,  True,\n",
    "        True,  True,  True,  True,  True,  True,  True,  True,  True,\n",
    "        True,  True,  True,  True,  True,  True,  True,  True,  True,\n",
    "       False,  True, False, False, False, False, False, False, False,\n",
    "       False, False,  True,  True,  True,  True,  True,  True,  True,\n",
    "        True,  True, False,  True,  True,  True, False, False, False,\n",
    "        True, False, False, False,  True, False, False, False, False,\n",
    "       False, False, False, False, False, False, False, False, False,\n",
    "       False, False, False, False, False, False, False, False, False,\n",
    "       False, False, False, False, False, False, False, False, False,\n",
    "       False, False, False, False, False, False, False, False, False,\n",
    "       False, False, False, False, False, False, False, False, False,\n",
    "       False, False, False, False, False, False, False, False, False,\n",
    "       False, False, False, False, False, False, False, False, False,\n",
    "       False, False, False, False, False, False, False, False, False,\n",
    "       False, False, False, False, False, False, False, False, False,\n",
    "       False, False, False, False, False, False, False, False, False,\n",
    "       False, False, False, False, False, False, False, False, False,\n",
    "       False, False, False, False, False, False, False, False, False,\n",
    "       False, False, False, False, False, False, False, False, False,\n",
    "       False, False, False, False, False, False, False, False, False,\n",
    "       False,  True,  True,  True,  True,  True,  True,  True,  True,\n",
    "        True])</pre>"
   ]
  },
  {
   "cell_type": "code",
   "execution_count": null,
   "metadata": {},
   "outputs": [],
   "source": [
    "# 코드를 입력해 주세요\n",
    "# argmax 함수를 이용하여 최댓값을 조회 -> 중복값이 존재한다면 첫번째 인덱스를 반환\n"
   ]
  },
  {
   "cell_type": "markdown",
   "metadata": {},
   "source": [
    "<p><strong>[출력 결과]</strong></p><pre>47</pre>"
   ]
  }
 ],
 "metadata": {
  "kernelspec": {
   "display_name": "Python 3",
   "language": "python",
   "name": "python3"
  },
  "language_info": {
   "codemirror_mode": {
    "name": "ipython",
    "version": 3
   },
   "file_extension": ".py",
   "mimetype": "text/x-python",
   "name": "python",
   "nbconvert_exporter": "python",
   "pygments_lexer": "ipython3",
   "version": "3.6.6"
  }
 },
 "nbformat": 4,
 "nbformat_minor": 2
}
