{
 "cells": [
  {
   "cell_type": "code",
   "execution_count": 1,
   "metadata": {},
   "outputs": [
    {
     "data": {
      "text/html": [
       "<style>#notebook-container {width: 90% !important; }</style>"
      ],
      "text/plain": [
       "<IPython.core.display.HTML object>"
      ]
     },
     "metadata": {},
     "output_type": "display_data"
    },
    {
     "data": {
      "text/html": [
       "<style>.rendered_html{font-family: 'D2Coding'; font-size: 16pt; line-height: 140%;}</style>"
      ],
      "text/plain": [
       "<IPython.core.display.HTML object>"
      ]
     },
     "metadata": {},
     "output_type": "display_data"
    },
    {
     "data": {
      "text/html": [
       "<style>.rendered_html table{font-family: 'D2Coding'; font-size: 16pt; line-height: 140%;}</style>"
      ],
      "text/plain": [
       "<IPython.core.display.HTML object>"
      ]
     },
     "metadata": {},
     "output_type": "display_data"
    },
    {
     "data": {
      "text/html": [
       "<style>pre{font-family: 'D2Coding', font-size: 16pt;}.rendered_html>ul>li{margin: 10px}</style>"
      ],
      "text/plain": [
       "<IPython.core.display.HTML object>"
      ]
     },
     "metadata": {},
     "output_type": "display_data"
    },
    {
     "data": {
      "text/html": [
       "<style>div.output_area>pre, div.output_subarea>pre{font-size: 16pt !important; line-height: 140%;}</style>"
      ],
      "text/plain": [
       "<IPython.core.display.HTML object>"
      ]
     },
     "metadata": {},
     "output_type": "display_data"
    },
    {
     "data": {
      "text/html": [
       "<style> .CodeMirror pre {font-family: 'D2Coding'; font-size: 18pt !important; line-height: 140%;}</style>"
      ],
      "text/plain": [
       "<IPython.core.display.HTML object>"
      ]
     },
     "metadata": {},
     "output_type": "display_data"
    }
   ],
   "source": [
    "from IPython.core.display import display, HTML\n",
    "# 노트북 컨테이너 크기 조절\n",
    "display(HTML(\"<style>#notebook-container {width: 90% !important; }</style>\"))\n",
    "# 마크다운 폰트\n",
    "display(HTML(\"<style>.rendered_html{font-family: 'D2Coding'; font-size: 16pt; line-height: 140%;}</style>\"))\n",
    "# DataFrame 테이블 폰트\n",
    "display(HTML(\"<style>.rendered_html table{font-family: 'D2Coding'; font-size: 16pt; line-height: 140%;}</style>\"))\n",
    "# 출력창 폰트\n",
    "display(HTML(\"<style>pre{font-family: 'D2Coding', font-size: 16pt;}.rendered_html>ul>li{margin: 10px}</style>\"))\n",
    "display(HTML(\"<style>div.output_area>pre, div.output_subarea>pre{font-size: 16pt !important; line-height: 140%;}</style>\"))\n",
    "# 코드셀 폰트\n",
    "display(HTML(\"<style> .CodeMirror pre {font-family: 'D2Coding'; font-size: 18pt !important; line-height: 140%;}</style>\"))"
   ]
  },
  {
   "cell_type": "markdown",
   "metadata": {},
   "source": [
    "# 패키지 설치"
   ]
  },
  {
   "cell_type": "code",
   "execution_count": 2,
   "metadata": {},
   "outputs": [
    {
     "name": "stdout",
     "output_type": "stream",
     "text": [
      "Requirement already satisfied: mySUNI in /opt/conda/lib/python3.6/site-packages (1.3.0)\n",
      "Requirement already satisfied: pandas in /opt/conda/lib/python3.6/site-packages (from mySUNI) (1.1.5)\n",
      "Requirement already satisfied: scikit-learn in /opt/conda/lib/python3.6/site-packages (from mySUNI) (0.24.1)\n",
      "Requirement already satisfied: requests in /opt/conda/lib/python3.6/site-packages (from mySUNI) (2.20.0)\n",
      "Requirement already satisfied: seaborn in /opt/conda/lib/python3.6/site-packages (from mySUNI) (0.11.1)\n",
      "Requirement already satisfied: ipywidgets in /opt/conda/lib/python3.6/site-packages (from mySUNI) (7.2.1)\n",
      "Requirement already satisfied: tqdm in /opt/conda/lib/python3.6/site-packages (from mySUNI) (4.63.1)\n",
      "Requirement already satisfied: matplotlib in /opt/conda/lib/python3.6/site-packages (from mySUNI) (3.2.2)\n",
      "Requirement already satisfied: jupyter in /opt/conda/lib/python3.6/site-packages (from mySUNI) (1.0.0)\n",
      "Requirement already satisfied: ipykernel>=4.5.1 in /opt/conda/lib/python3.6/site-packages (from ipywidgets->mySUNI) (5.1.0)\n",
      "Requirement already satisfied: widgetsnbextension~=3.2.0 in /opt/conda/lib/python3.6/site-packages (from ipywidgets->mySUNI) (3.2.1)\n",
      "Requirement already satisfied: nbformat>=4.2.0 in /opt/conda/lib/python3.6/site-packages (from ipywidgets->mySUNI) (4.4.0)\n",
      "Requirement already satisfied: traitlets>=4.3.1 in /opt/conda/lib/python3.6/site-packages (from ipywidgets->mySUNI) (4.3.2)\n",
      "Requirement already satisfied: ipython>=4.0.0 in /opt/conda/lib/python3.6/site-packages (from ipywidgets->mySUNI) (7.0.1)\n",
      "Requirement already satisfied: jupyter_client in /opt/conda/lib/python3.6/site-packages (from ipykernel>=4.5.1->ipywidgets->mySUNI) (7.1.2)\n",
      "Requirement already satisfied: tornado>=4.2 in /opt/conda/lib/python3.6/site-packages (from ipykernel>=4.5.1->ipywidgets->mySUNI) (5.1.1)\n",
      "Requirement already satisfied: setuptools>=18.5 in /opt/conda/lib/python3.6/site-packages (from ipython>=4.0.0->ipywidgets->mySUNI) (56.2.0)\n",
      "Requirement already satisfied: jedi>=0.10 in /opt/conda/lib/python3.6/site-packages (from ipython>=4.0.0->ipywidgets->mySUNI) (0.13.1)\n",
      "Requirement already satisfied: decorator in /opt/conda/lib/python3.6/site-packages (from ipython>=4.0.0->ipywidgets->mySUNI) (4.3.0)\n",
      "Requirement already satisfied: pickleshare in /opt/conda/lib/python3.6/site-packages (from ipython>=4.0.0->ipywidgets->mySUNI) (0.7.5)\n",
      "Requirement already satisfied: simplegeneric>0.8 in /opt/conda/lib/python3.6/site-packages (from ipython>=4.0.0->ipywidgets->mySUNI) (0.8.1)\n",
      "Requirement already satisfied: prompt_toolkit<2.1.0,>=2.0.0 in /opt/conda/lib/python3.6/site-packages (from ipython>=4.0.0->ipywidgets->mySUNI) (2.0.6)\n",
      "Requirement already satisfied: pygments in /opt/conda/lib/python3.6/site-packages (from ipython>=4.0.0->ipywidgets->mySUNI) (2.2.0)\n",
      "Requirement already satisfied: backcall in /opt/conda/lib/python3.6/site-packages (from ipython>=4.0.0->ipywidgets->mySUNI) (0.1.0)\n",
      "Requirement already satisfied: pexpect in /opt/conda/lib/python3.6/site-packages (from ipython>=4.0.0->ipywidgets->mySUNI) (4.6.0)\n",
      "Requirement already satisfied: parso>=0.3.0 in /opt/conda/lib/python3.6/site-packages (from jedi>=0.10->ipython>=4.0.0->ipywidgets->mySUNI) (0.3.1)\n",
      "Requirement already satisfied: ipython_genutils in /opt/conda/lib/python3.6/site-packages (from nbformat>=4.2.0->ipywidgets->mySUNI) (0.2.0)\n",
      "Requirement already satisfied: jsonschema!=2.5.0,>=2.4 in /opt/conda/lib/python3.6/site-packages (from nbformat>=4.2.0->ipywidgets->mySUNI) (2.6.0)\n",
      "Requirement already satisfied: jupyter_core in /opt/conda/lib/python3.6/site-packages (from nbformat>=4.2.0->ipywidgets->mySUNI) (4.9.2)\n",
      "Requirement already satisfied: six>=1.9.0 in /opt/conda/lib/python3.6/site-packages (from prompt_toolkit<2.1.0,>=2.0.0->ipython>=4.0.0->ipywidgets->mySUNI) (1.11.0)\n",
      "Requirement already satisfied: wcwidth in /opt/conda/lib/python3.6/site-packages (from prompt_toolkit<2.1.0,>=2.0.0->ipython>=4.0.0->ipywidgets->mySUNI) (0.1.7)\n",
      "Requirement already satisfied: notebook>=4.4.1 in /opt/conda/lib/python3.6/site-packages (from widgetsnbextension~=3.2.0->ipywidgets->mySUNI) (5.7.0)\n",
      "Requirement already satisfied: jinja2 in /opt/conda/lib/python3.6/site-packages (from notebook>=4.4.1->widgetsnbextension~=3.2.0->ipywidgets->mySUNI) (2.10)\n",
      "Requirement already satisfied: pyzmq>=17 in /opt/conda/lib/python3.6/site-packages (from notebook>=4.4.1->widgetsnbextension~=3.2.0->ipywidgets->mySUNI) (17.1.2)\n",
      "Requirement already satisfied: nbconvert in /opt/conda/lib/python3.6/site-packages (from notebook>=4.4.1->widgetsnbextension~=3.2.0->ipywidgets->mySUNI) (5.3.1)\n",
      "Requirement already satisfied: Send2Trash in /opt/conda/lib/python3.6/site-packages (from notebook>=4.4.1->widgetsnbextension~=3.2.0->ipywidgets->mySUNI) (1.5.0)\n",
      "Requirement already satisfied: terminado>=0.8.1 in /opt/conda/lib/python3.6/site-packages (from notebook>=4.4.1->widgetsnbextension~=3.2.0->ipywidgets->mySUNI) (0.8.1)\n",
      "Requirement already satisfied: prometheus_client in /opt/conda/lib/python3.6/site-packages (from notebook>=4.4.1->widgetsnbextension~=3.2.0->ipywidgets->mySUNI) (0.4.2)\n",
      "Requirement already satisfied: python-dateutil>=2.1 in /opt/conda/lib/python3.6/site-packages (from jupyter_client->ipykernel>=4.5.1->ipywidgets->mySUNI) (2.7.4)\n",
      "Requirement already satisfied: entrypoints in /opt/conda/lib/python3.6/site-packages (from jupyter_client->ipykernel>=4.5.1->ipywidgets->mySUNI) (0.2.3)\n",
      "Requirement already satisfied: nest-asyncio>=1.5 in /opt/conda/lib/python3.6/site-packages (from jupyter_client->ipykernel>=4.5.1->ipywidgets->mySUNI) (1.5.4)\n",
      "Requirement already satisfied: MarkupSafe>=0.23 in /opt/conda/lib/python3.6/site-packages (from jinja2->notebook>=4.4.1->widgetsnbextension~=3.2.0->ipywidgets->mySUNI) (1.0)\n",
      "Requirement already satisfied: jupyter-console in /opt/conda/lib/python3.6/site-packages (from jupyter->mySUNI) (6.4.3)\n",
      "Requirement already satisfied: qtconsole in /opt/conda/lib/python3.6/site-packages (from jupyter->mySUNI) (5.2.2)\n",
      "Requirement already satisfied: pyparsing!=2.0.4,!=2.1.2,!=2.1.6,>=2.0.1 in /opt/conda/lib/python3.6/site-packages (from matplotlib->mySUNI) (2.2.2)\n",
      "Requirement already satisfied: kiwisolver>=1.0.1 in /opt/conda/lib/python3.6/site-packages (from matplotlib->mySUNI) (1.0.1)\n",
      "Requirement already satisfied: cycler>=0.10 in /opt/conda/lib/python3.6/site-packages (from matplotlib->mySUNI) (0.10.0)\n",
      "Requirement already satisfied: numpy>=1.11 in /opt/conda/lib/python3.6/site-packages (from matplotlib->mySUNI) (1.19.5)\n",
      "Requirement already satisfied: bleach in /opt/conda/lib/python3.6/site-packages (from nbconvert->notebook>=4.4.1->widgetsnbextension~=3.2.0->ipywidgets->mySUNI) (3.0.2)\n",
      "Requirement already satisfied: mistune>=0.7.4 in /opt/conda/lib/python3.6/site-packages (from nbconvert->notebook>=4.4.1->widgetsnbextension~=3.2.0->ipywidgets->mySUNI) (0.8.4)\n",
      "Requirement already satisfied: pandocfilters>=1.4.1 in /opt/conda/lib/python3.6/site-packages (from nbconvert->notebook>=4.4.1->widgetsnbextension~=3.2.0->ipywidgets->mySUNI) (1.4.2)\n",
      "Requirement already satisfied: testpath in /opt/conda/lib/python3.6/site-packages (from nbconvert->notebook>=4.4.1->widgetsnbextension~=3.2.0->ipywidgets->mySUNI) (0.4.2)\n",
      "Requirement already satisfied: webencodings in /opt/conda/lib/python3.6/site-packages (from bleach->nbconvert->notebook>=4.4.1->widgetsnbextension~=3.2.0->ipywidgets->mySUNI) (0.5.1)\n",
      "Requirement already satisfied: pytz>=2017.2 in /opt/conda/lib/python3.6/site-packages (from pandas->mySUNI) (2018.6)\n",
      "Requirement already satisfied: ptyprocess>=0.5 in /opt/conda/lib/python3.6/site-packages (from pexpect->ipython>=4.0.0->ipywidgets->mySUNI) (0.6.0)\n",
      "Requirement already satisfied: qtpy in /opt/conda/lib/python3.6/site-packages (from qtconsole->jupyter->mySUNI) (2.0.1)\n",
      "Requirement already satisfied: packaging in /opt/conda/lib/python3.6/site-packages (from qtpy->qtconsole->jupyter->mySUNI) (18.0)\n",
      "Requirement already satisfied: chardet<3.1.0,>=3.0.2 in /opt/conda/lib/python3.6/site-packages (from requests->mySUNI) (3.0.4)\n",
      "Requirement already satisfied: certifi>=2017.4.17 in /opt/conda/lib/python3.6/site-packages (from requests->mySUNI) (2018.10.15)\n",
      "Requirement already satisfied: urllib3<1.25,>=1.21.1 in /opt/conda/lib/python3.6/site-packages (from requests->mySUNI) (1.23)\n",
      "Requirement already satisfied: idna<2.8,>=2.5 in /opt/conda/lib/python3.6/site-packages (from requests->mySUNI) (2.7)\n"
     ]
    },
    {
     "name": "stdout",
     "output_type": "stream",
     "text": [
      "Requirement already satisfied: joblib>=0.11 in /opt/conda/lib/python3.6/site-packages (from scikit-learn->mySUNI) (1.0.1)\n",
      "Requirement already satisfied: threadpoolctl>=2.0.0 in /opt/conda/lib/python3.6/site-packages (from scikit-learn->mySUNI) (2.1.0)\n",
      "Requirement already satisfied: scipy>=0.19.1 in /opt/conda/lib/python3.6/site-packages (from scikit-learn->mySUNI) (1.1.0)\n",
      "Requirement already satisfied: importlib-resources in /opt/conda/lib/python3.6/site-packages (from tqdm->mySUNI) (5.4.0)\n",
      "Requirement already satisfied: zipp>=3.1.0 in /opt/conda/lib/python3.6/site-packages (from importlib-resources->tqdm->mySUNI) (3.6.0)\n",
      "\u001b[33mWARNING: You are using pip version 21.1.1; however, version 21.3.1 is available.\n",
      "You should consider upgrading via the '/opt/conda/bin/python -m pip install --upgrade pip' command.\u001b[0m\n"
     ]
    }
   ],
   "source": [
    "!pip install mySUNI"
   ]
  },
  {
   "cell_type": "markdown",
   "metadata": {},
   "source": [
    "## 모듈 import"
   ]
  },
  {
   "cell_type": "code",
   "execution_count": 3,
   "metadata": {
    "id": "RGhyFtVF0F0m"
   },
   "outputs": [],
   "source": [
    "import numpy as np\n",
    "import pandas as pd\n",
    "from mySUNI import cds\n",
    "from IPython.display import Image"
   ]
  },
  {
   "cell_type": "markdown",
   "metadata": {
    "id": "-Wb2TVDKGvww"
   },
   "source": [
    "## 데이터 다운로드"
   ]
  },
  {
   "cell_type": "code",
   "execution_count": 4,
   "metadata": {},
   "outputs": [
    {
     "data": {
      "text/html": [
       "<div>\n",
       "<style scoped>\n",
       "    .dataframe tbody tr th:only-of-type {\n",
       "        vertical-align: middle;\n",
       "    }\n",
       "\n",
       "    .dataframe tbody tr th {\n",
       "        vertical-align: top;\n",
       "    }\n",
       "\n",
       "    .dataframe thead th {\n",
       "        text-align: right;\n",
       "    }\n",
       "</style>\n",
       "<table border=\"1\" class=\"dataframe\">\n",
       "  <thead>\n",
       "    <tr style=\"text-align: right;\">\n",
       "      <th></th>\n",
       "      <th>name</th>\n",
       "      <th>info</th>\n",
       "      <th>filename</th>\n",
       "    </tr>\n",
       "  </thead>\n",
       "  <tbody>\n",
       "    <tr>\n",
       "      <th>0</th>\n",
       "      <td>서울시자전거</td>\n",
       "      <td>서울시 따릉이 자전거 대여량 정보</td>\n",
       "      <td>[seoul_bicycle.csv]</td>\n",
       "    </tr>\n",
       "    <tr>\n",
       "      <th>1</th>\n",
       "      <td>서울시대중교통</td>\n",
       "      <td>서울시 대중교통(지하철, 버스) 이용객 정보</td>\n",
       "      <td>[seoul_transportation.xlsx]</td>\n",
       "    </tr>\n",
       "    <tr>\n",
       "      <th>2</th>\n",
       "      <td>서울시주민등록인구</td>\n",
       "      <td>서울시 주민등록인구 정보</td>\n",
       "      <td>[seoul_population.csv]</td>\n",
       "    </tr>\n",
       "    <tr>\n",
       "      <th>3</th>\n",
       "      <td>유가정보</td>\n",
       "      <td>2019년 서울시 유가 정보</td>\n",
       "      <td>[gas_first_2019.csv, gas_second_2019.csv]</td>\n",
       "    </tr>\n",
       "    <tr>\n",
       "      <th>4</th>\n",
       "      <td>PandasFileIO</td>\n",
       "      <td>Pandas File I/O 연습 문제용 데이터셋</td>\n",
       "      <td>[mySUNI.xlsx, mySUNI_1.csv, mySUNI_2.csv, mySU...</td>\n",
       "    </tr>\n",
       "    <tr>\n",
       "      <th>5</th>\n",
       "      <td>CCTV데이터분석</td>\n",
       "      <td>mySUNI WorkShop - CCTV 데이터 분석</td>\n",
       "      <td>[01. CCTV_in_Seoul.csv, 01. population_in_Seou...</td>\n",
       "    </tr>\n",
       "    <tr>\n",
       "      <th>6</th>\n",
       "      <td>국민연금데이터분석</td>\n",
       "      <td>mySUNI WorkShop - 국민연금 데이터 분석</td>\n",
       "      <td>[national_pension.csv]</td>\n",
       "    </tr>\n",
       "    <tr>\n",
       "      <th>7</th>\n",
       "      <td>민간아파트가격동향분석</td>\n",
       "      <td>mySUNI WorkShop - 민간 아파트 가격 동향 분석</td>\n",
       "      <td>[seoul_house_price.csv]</td>\n",
       "    </tr>\n",
       "    <tr>\n",
       "      <th>8</th>\n",
       "      <td>실거래가분석</td>\n",
       "      <td>mySUNI WorkShop - 2020년 아파트 실거래가 분석</td>\n",
       "      <td>[2020-seoul-apt-price.csv, loc_code.xlsx]</td>\n",
       "    </tr>\n",
       "    <tr>\n",
       "      <th>9</th>\n",
       "      <td>유가가격분석</td>\n",
       "      <td>mySUNI WorkShop - 2020년 유가 가격 분석</td>\n",
       "      <td>[gas_first_2019.csv, gas_second_2019.csv]</td>\n",
       "    </tr>\n",
       "    <tr>\n",
       "      <th>10</th>\n",
       "      <td>중고차판매정보분석</td>\n",
       "      <td>mySUNI WorkShop - 중고차 판매 정보 분석</td>\n",
       "      <td>[vehicles.csv]</td>\n",
       "    </tr>\n",
       "    <tr>\n",
       "      <th>11</th>\n",
       "      <td>신용정보</td>\n",
       "      <td>사용자의 신용카드 대금 연체를 기준의 신용도</td>\n",
       "      <td>[credit-data.csv]</td>\n",
       "    </tr>\n",
       "    <tr>\n",
       "      <th>12</th>\n",
       "      <td>전국신규분양가</td>\n",
       "      <td>주택도시보증공사 전국 신규 민간 아파트 분양가격 정보</td>\n",
       "      <td>[house-price.csv]</td>\n",
       "    </tr>\n",
       "    <tr>\n",
       "      <th>13</th>\n",
       "      <td>에너지 효율</td>\n",
       "      <td>난방부하 및 냉방부하 요구사항(에너지 효율)을 평가</td>\n",
       "      <td>[ENB2012_data.xlsx]</td>\n",
       "    </tr>\n",
       "    <tr>\n",
       "      <th>14</th>\n",
       "      <td>보스턴집값</td>\n",
       "      <td>보스턴 지역 집값 데이터 세트</td>\n",
       "      <td>[boston.csv]</td>\n",
       "    </tr>\n",
       "    <tr>\n",
       "      <th>15</th>\n",
       "      <td>와인유형분류</td>\n",
       "      <td>와인 유형(red, white) 분류를 위한 와인 품질 데이터 세트</td>\n",
       "      <td>[red_wine.csv, white_wine.csv]</td>\n",
       "    </tr>\n",
       "    <tr>\n",
       "      <th>16</th>\n",
       "      <td>사용자이탈예측</td>\n",
       "      <td>사용자 이탈 예측</td>\n",
       "      <td>[class.csv, event.csv, logs.csv, user_info.csv]</td>\n",
       "    </tr>\n",
       "  </tbody>\n",
       "</table>\n",
       "</div>"
      ],
      "text/plain": [
       "            name                                   info  \\\n",
       "0         서울시자전거                     서울시 따릉이 자전거 대여량 정보   \n",
       "1        서울시대중교통               서울시 대중교통(지하철, 버스) 이용객 정보   \n",
       "2      서울시주민등록인구                          서울시 주민등록인구 정보   \n",
       "3           유가정보                        2019년 서울시 유가 정보   \n",
       "4   PandasFileIO            Pandas File I/O 연습 문제용 데이터셋   \n",
       "5      CCTV데이터분석          mySUNI WorkShop - CCTV 데이터 분석   \n",
       "6      국민연금데이터분석          mySUNI WorkShop - 국민연금 데이터 분석   \n",
       "7    민간아파트가격동향분석      mySUNI WorkShop - 민간 아파트 가격 동향 분석   \n",
       "8         실거래가분석    mySUNI WorkShop - 2020년 아파트 실거래가 분석   \n",
       "9         유가가격분석       mySUNI WorkShop - 2020년 유가 가격 분석   \n",
       "10     중고차판매정보분석         mySUNI WorkShop - 중고차 판매 정보 분석   \n",
       "11          신용정보               사용자의 신용카드 대금 연체를 기준의 신용도   \n",
       "12       전국신규분양가          주택도시보증공사 전국 신규 민간 아파트 분양가격 정보   \n",
       "13        에너지 효율           난방부하 및 냉방부하 요구사항(에너지 효율)을 평가   \n",
       "14         보스턴집값                       보스턴 지역 집값 데이터 세트   \n",
       "15        와인유형분류  와인 유형(red, white) 분류를 위한 와인 품질 데이터 세트   \n",
       "16       사용자이탈예측                              사용자 이탈 예측   \n",
       "\n",
       "                                             filename  \n",
       "0                                 [seoul_bicycle.csv]  \n",
       "1                         [seoul_transportation.xlsx]  \n",
       "2                              [seoul_population.csv]  \n",
       "3           [gas_first_2019.csv, gas_second_2019.csv]  \n",
       "4   [mySUNI.xlsx, mySUNI_1.csv, mySUNI_2.csv, mySU...  \n",
       "5   [01. CCTV_in_Seoul.csv, 01. population_in_Seou...  \n",
       "6                              [national_pension.csv]  \n",
       "7                             [seoul_house_price.csv]  \n",
       "8           [2020-seoul-apt-price.csv, loc_code.xlsx]  \n",
       "9           [gas_first_2019.csv, gas_second_2019.csv]  \n",
       "10                                     [vehicles.csv]  \n",
       "11                                  [credit-data.csv]  \n",
       "12                                  [house-price.csv]  \n",
       "13                                [ENB2012_data.xlsx]  \n",
       "14                                       [boston.csv]  \n",
       "15                     [red_wine.csv, white_wine.csv]  \n",
       "16    [class.csv, event.csv, logs.csv, user_info.csv]  "
      ]
     },
     "metadata": {},
     "output_type": "display_data"
    }
   ],
   "source": [
    "cds.list_data() # 데이터 조회"
   ]
  },
  {
   "cell_type": "code",
   "execution_count": 5,
   "metadata": {},
   "outputs": [
    {
     "name": "stdout",
     "output_type": "stream",
     "text": [
      "파일 다운로드 완료\n",
      "====================\n",
      "\n",
      "데이터셋: 서울시대중교통\n",
      "파일경로: data/seoul_transportation.xlsx\n",
      "\n",
      "====================\n",
      "파일 다운로드 완료\n",
      "====================\n",
      "\n",
      "데이터셋: 서울시주민등록인구\n",
      "파일경로: data/seoul_population.csv\n",
      "\n",
      "====================\n",
      "파일 다운로드 완료\n",
      "====================\n",
      "\n",
      "데이터셋: PandasFileIO\n",
      "파일경로: data/mySUNI.xlsx\n",
      "\n",
      "====================\n",
      "파일 다운로드 완료\n",
      "====================\n",
      "\n",
      "데이터셋: PandasFileIO\n",
      "파일경로: data/mySUNI_1.csv\n",
      "\n",
      "====================\n",
      "파일 다운로드 완료\n",
      "====================\n",
      "\n",
      "데이터셋: PandasFileIO\n",
      "파일경로: data/mySUNI_2.csv\n",
      "\n",
      "====================\n",
      "파일 다운로드 완료\n",
      "====================\n",
      "\n",
      "데이터셋: PandasFileIO\n",
      "파일경로: data/mySUNI_3.csv\n",
      "\n",
      "====================\n"
     ]
    }
   ],
   "source": [
    "cds.download_data(['서울시대중교통', '서울시주민등록인구', 'PandasFileIO'])"
   ]
  },
  {
   "cell_type": "markdown",
   "metadata": {
    "id": "Y_3pyRS3zOE1"
   },
   "source": [
    "## Excel"
   ]
  },
  {
   "cell_type": "markdown",
   "metadata": {},
   "source": [
    "[도큐먼트](https://pandas.pydata.org/pandas-docs/stable/reference/api/pandas.read_excel.html)"
   ]
  },
  {
   "cell_type": "markdown",
   "metadata": {},
   "source": [
    "### Excel - 불러오기"
   ]
  },
  {
   "cell_type": "code",
   "execution_count": null,
   "metadata": {},
   "outputs": [],
   "source": [
    "openpyxl xlrd xlwt # 엑셀 파일의 읽고, 쓰기 가능   xls, xlsx"
   ]
  },
  {
   "cell_type": "markdown",
   "metadata": {},
   "source": [
    "Excel 데이터를 바로 읽어들일 수 있으며, `sheet_name`을 지정하면 해당 sheet를 가져옵니다."
   ]
  },
  {
   "cell_type": "code",
   "execution_count": 7,
   "metadata": {
    "id": "Y_IdmlHGzOE2"
   },
   "outputs": [],
   "source": [
    "# 'data/seoul_transportation.xlsx' 파일의 '철도' 시트를 가져옵니다\n",
    "excel = pd.read_excel('data/seoul_transportation.xlsx', sheet_name='철도', engine='openpyxl')"
   ]
  },
  {
   "cell_type": "code",
   "execution_count": 11,
   "metadata": {
    "colab": {
     "base_uri": "https://localhost:8080/",
     "height": 198
    },
    "id": "IqgioCF1zOE4",
    "outputId": "c351de35-7f17-44dc-bea2-ea461f79659f"
   },
   "outputs": [
    {
     "data": {
      "text/html": [
       "<div>\n",
       "<style scoped>\n",
       "    .dataframe tbody tr th:only-of-type {\n",
       "        vertical-align: middle;\n",
       "    }\n",
       "\n",
       "    .dataframe tbody tr th {\n",
       "        vertical-align: top;\n",
       "    }\n",
       "\n",
       "    .dataframe thead th {\n",
       "        text-align: right;\n",
       "    }\n",
       "</style>\n",
       "<table border=\"1\" class=\"dataframe\">\n",
       "  <thead>\n",
       "    <tr style=\"text-align: right;\">\n",
       "      <th></th>\n",
       "      <th>대중교통구분</th>\n",
       "      <th>노선명</th>\n",
       "      <th>년월</th>\n",
       "      <th>승차총승객수</th>\n",
       "    </tr>\n",
       "  </thead>\n",
       "  <tbody>\n",
       "    <tr>\n",
       "      <th>0</th>\n",
       "      <td>지하철</td>\n",
       "      <td>1호선</td>\n",
       "      <td>201711</td>\n",
       "      <td>8633618</td>\n",
       "    </tr>\n",
       "    <tr>\n",
       "      <th>1</th>\n",
       "      <td>지하철</td>\n",
       "      <td>1호선</td>\n",
       "      <td>201712</td>\n",
       "      <td>8737235</td>\n",
       "    </tr>\n",
       "    <tr>\n",
       "      <th>2</th>\n",
       "      <td>지하철</td>\n",
       "      <td>1호선</td>\n",
       "      <td>201801</td>\n",
       "      <td>8145989</td>\n",
       "    </tr>\n",
       "  </tbody>\n",
       "</table>\n",
       "</div>"
      ],
      "text/plain": [
       "  대중교통구분  노선명      년월   승차총승객수\n",
       "0    지하철  1호선  201711  8633618\n",
       "1    지하철  1호선  201712  8737235\n",
       "2    지하철  1호선  201801  8145989"
      ]
     },
     "execution_count": 11,
     "metadata": {},
     "output_type": "execute_result"
    }
   ],
   "source": [
    "# excel의 첫 5개 행을 출력합니다\n",
    "excel.head(3)"
   ]
  },
  {
   "cell_type": "code",
   "execution_count": 12,
   "metadata": {},
   "outputs": [
    {
     "data": {
      "text/html": [
       "<div>\n",
       "<style scoped>\n",
       "    .dataframe tbody tr th:only-of-type {\n",
       "        vertical-align: middle;\n",
       "    }\n",
       "\n",
       "    .dataframe tbody tr th {\n",
       "        vertical-align: top;\n",
       "    }\n",
       "\n",
       "    .dataframe thead th {\n",
       "        text-align: right;\n",
       "    }\n",
       "</style>\n",
       "<table border=\"1\" class=\"dataframe\">\n",
       "  <thead>\n",
       "    <tr style=\"text-align: right;\">\n",
       "      <th></th>\n",
       "      <th>대중교통구분</th>\n",
       "      <th>년월</th>\n",
       "      <th>승차총승객수</th>\n",
       "    </tr>\n",
       "  </thead>\n",
       "  <tbody>\n",
       "    <tr>\n",
       "      <th>0</th>\n",
       "      <td>버스</td>\n",
       "      <td>201711</td>\n",
       "      <td>163443126</td>\n",
       "    </tr>\n",
       "    <tr>\n",
       "      <th>1</th>\n",
       "      <td>버스</td>\n",
       "      <td>201712</td>\n",
       "      <td>162521011</td>\n",
       "    </tr>\n",
       "    <tr>\n",
       "      <th>2</th>\n",
       "      <td>버스</td>\n",
       "      <td>201801</td>\n",
       "      <td>153335185</td>\n",
       "    </tr>\n",
       "    <tr>\n",
       "      <th>3</th>\n",
       "      <td>버스</td>\n",
       "      <td>201802</td>\n",
       "      <td>134768582</td>\n",
       "    </tr>\n",
       "    <tr>\n",
       "      <th>4</th>\n",
       "      <td>버스</td>\n",
       "      <td>201803</td>\n",
       "      <td>166177855</td>\n",
       "    </tr>\n",
       "  </tbody>\n",
       "</table>\n",
       "</div>"
      ],
      "text/plain": [
       "  대중교통구분      년월     승차총승객수\n",
       "0     버스  201711  163443126\n",
       "1     버스  201712  162521011\n",
       "2     버스  201801  153335185\n",
       "3     버스  201802  134768582\n",
       "4     버스  201803  166177855"
      ]
     },
     "execution_count": 12,
     "metadata": {},
     "output_type": "execute_result"
    }
   ],
   "source": [
    "# 'data/seoul_transportation.xlsx' 파일의 '버스' 시트를 가져와 첫 5개 행을 출력합니다.\n",
    "excel = pd.read_excel('data/seoul_transportation.xlsx', sheet_name='버스', engine='openpyxl')\n",
    "excel.head()"
   ]
  },
  {
   "cell_type": "markdown",
   "metadata": {},
   "source": [
    "`sheet_name`을 None으로 지정하면, 모든 sheet를 가지고 옵니다.\n",
    "\n",
    "가지고 올 때는 OrderedDict로 가져오며, `keys()`로 **시트명을 조회**할 수 있습니다."
   ]
  },
  {
   "cell_type": "code",
   "execution_count": 13,
   "metadata": {},
   "outputs": [
    {
     "data": {
      "text/plain": [
       "{'철도':     대중교통구분    노선명      년월   승차총승객수\n",
       " 0      지하철    1호선  201711  8633618\n",
       " 1      지하철    1호선  201712  8737235\n",
       " 2      지하철    1호선  201801  8145989\n",
       " 3      지하철    1호선  201802  7273309\n",
       " 4      지하철    1호선  201803  8692551\n",
       " ..     ...    ...     ...      ...\n",
       " 596    지하철  우이신설선  201901  1263643\n",
       " 597    지하철  우이신설선  201902  1102109\n",
       " 598    지하철  우이신설선  201903  1402393\n",
       " 599    지하철  우이신설선  201904  1403115\n",
       " 600    지하철  우이신설선  201905  1469681\n",
       " \n",
       " [601 rows x 4 columns], '버스':    대중교통구분      년월     승차총승객수\n",
       " 0      버스  201711  163443126\n",
       " 1      버스  201712  162521011\n",
       " 2      버스  201801  153335185\n",
       " 3      버스  201802  134768582\n",
       " 4      버스  201803  166177855\n",
       " 5      버스  201804  160452595\n",
       " 6      버스  201805  164390595\n",
       " 7      버스  201806  156999747\n",
       " 8      버스  201807  163736112\n",
       " 9      버스  201808  160240197\n",
       " 10     버스  201809  151311657\n",
       " 11     버스  201810  165820934\n",
       " 12     버스  201811  163017758\n",
       " 13     버스  201812  158049446\n",
       " 14     버스  201901  153037549\n",
       " 15     버스  201902  131621925\n",
       " 16     버스  201903  161694445\n",
       " 17     버스  201904  161900273\n",
       " 18     버스  201905  166587933}"
      ]
     },
     "execution_count": 13,
     "metadata": {},
     "output_type": "execute_result"
    }
   ],
   "source": [
    "# 'data/seoul_transportation.xlsx' 파일의 모든 시트를 OrderedDict로 가져와 출력합니다.\n",
    "excels = pd.read_excel('data/seoul_transportation.xlsx', sheet_name=None, engine='openpyxl')\n",
    "excels"
   ]
  },
  {
   "cell_type": "code",
   "execution_count": 14,
   "metadata": {},
   "outputs": [
    {
     "data": {
      "text/plain": [
       "dict_keys(['철도', '버스'])"
      ]
     },
     "execution_count": 14,
     "metadata": {},
     "output_type": "execute_result"
    }
   ],
   "source": [
    "# excels의 시트이름 목록 조회\n",
    "excels.keys()"
   ]
  },
  {
   "cell_type": "code",
   "execution_count": 16,
   "metadata": {},
   "outputs": [
    {
     "data": {
      "text/html": [
       "<div>\n",
       "<style scoped>\n",
       "    .dataframe tbody tr th:only-of-type {\n",
       "        vertical-align: middle;\n",
       "    }\n",
       "\n",
       "    .dataframe tbody tr th {\n",
       "        vertical-align: top;\n",
       "    }\n",
       "\n",
       "    .dataframe thead th {\n",
       "        text-align: right;\n",
       "    }\n",
       "</style>\n",
       "<table border=\"1\" class=\"dataframe\">\n",
       "  <thead>\n",
       "    <tr style=\"text-align: right;\">\n",
       "      <th></th>\n",
       "      <th>대중교통구분</th>\n",
       "      <th>노선명</th>\n",
       "      <th>년월</th>\n",
       "      <th>승차총승객수</th>\n",
       "    </tr>\n",
       "  </thead>\n",
       "  <tbody>\n",
       "    <tr>\n",
       "      <th>0</th>\n",
       "      <td>지하철</td>\n",
       "      <td>1호선</td>\n",
       "      <td>201711</td>\n",
       "      <td>8633618</td>\n",
       "    </tr>\n",
       "    <tr>\n",
       "      <th>1</th>\n",
       "      <td>지하철</td>\n",
       "      <td>1호선</td>\n",
       "      <td>201712</td>\n",
       "      <td>8737235</td>\n",
       "    </tr>\n",
       "    <tr>\n",
       "      <th>2</th>\n",
       "      <td>지하철</td>\n",
       "      <td>1호선</td>\n",
       "      <td>201801</td>\n",
       "      <td>8145989</td>\n",
       "    </tr>\n",
       "    <tr>\n",
       "      <th>3</th>\n",
       "      <td>지하철</td>\n",
       "      <td>1호선</td>\n",
       "      <td>201802</td>\n",
       "      <td>7273309</td>\n",
       "    </tr>\n",
       "    <tr>\n",
       "      <th>4</th>\n",
       "      <td>지하철</td>\n",
       "      <td>1호선</td>\n",
       "      <td>201803</td>\n",
       "      <td>8692551</td>\n",
       "    </tr>\n",
       "  </tbody>\n",
       "</table>\n",
       "</div>"
      ],
      "text/plain": [
       "  대중교통구분  노선명      년월   승차총승객수\n",
       "0    지하철  1호선  201711  8633618\n",
       "1    지하철  1호선  201712  8737235\n",
       "2    지하철  1호선  201801  8145989\n",
       "3    지하철  1호선  201802  7273309\n",
       "4    지하철  1호선  201803  8692551"
      ]
     },
     "execution_count": 16,
     "metadata": {},
     "output_type": "execute_result"
    }
   ],
   "source": [
    "# excels의 '철도' 시트에 대한 DataFrame에서 첫 5개 행을 출력합니다.\n",
    "excels['철도'].head()"
   ]
  },
  {
   "cell_type": "code",
   "execution_count": 17,
   "metadata": {},
   "outputs": [
    {
     "data": {
      "text/html": [
       "<div>\n",
       "<style scoped>\n",
       "    .dataframe tbody tr th:only-of-type {\n",
       "        vertical-align: middle;\n",
       "    }\n",
       "\n",
       "    .dataframe tbody tr th {\n",
       "        vertical-align: top;\n",
       "    }\n",
       "\n",
       "    .dataframe thead th {\n",
       "        text-align: right;\n",
       "    }\n",
       "</style>\n",
       "<table border=\"1\" class=\"dataframe\">\n",
       "  <thead>\n",
       "    <tr style=\"text-align: right;\">\n",
       "      <th></th>\n",
       "      <th>대중교통구분</th>\n",
       "      <th>년월</th>\n",
       "      <th>승차총승객수</th>\n",
       "    </tr>\n",
       "  </thead>\n",
       "  <tbody>\n",
       "    <tr>\n",
       "      <th>0</th>\n",
       "      <td>버스</td>\n",
       "      <td>201711</td>\n",
       "      <td>163443126</td>\n",
       "    </tr>\n",
       "    <tr>\n",
       "      <th>1</th>\n",
       "      <td>버스</td>\n",
       "      <td>201712</td>\n",
       "      <td>162521011</td>\n",
       "    </tr>\n",
       "    <tr>\n",
       "      <th>2</th>\n",
       "      <td>버스</td>\n",
       "      <td>201801</td>\n",
       "      <td>153335185</td>\n",
       "    </tr>\n",
       "    <tr>\n",
       "      <th>3</th>\n",
       "      <td>버스</td>\n",
       "      <td>201802</td>\n",
       "      <td>134768582</td>\n",
       "    </tr>\n",
       "    <tr>\n",
       "      <th>4</th>\n",
       "      <td>버스</td>\n",
       "      <td>201803</td>\n",
       "      <td>166177855</td>\n",
       "    </tr>\n",
       "  </tbody>\n",
       "</table>\n",
       "</div>"
      ],
      "text/plain": [
       "  대중교통구분      년월     승차총승객수\n",
       "0     버스  201711  163443126\n",
       "1     버스  201712  162521011\n",
       "2     버스  201801  153335185\n",
       "3     버스  201802  134768582\n",
       "4     버스  201803  166177855"
      ]
     },
     "execution_count": 17,
     "metadata": {},
     "output_type": "execute_result"
    }
   ],
   "source": [
    "# excels의 '버스' 시트에 대한 DataFrame에서 첫 5개 행을 출력합니다.\n",
    "excels['버스'].head(5)"
   ]
  },
  {
   "cell_type": "markdown",
   "metadata": {},
   "source": [
    "### Excel - 저장하기"
   ]
  },
  {
   "cell_type": "markdown",
   "metadata": {},
   "source": [
    "DataFrame을 Excel로 저장할 수 있으며, Excel로 저장시 **파일명**을 지정합니다.\n",
    "\n",
    "- `index=False` 옵션은 가급적 꼭 지정하는 옵션입니다. 지정을 안하면 **index가 별도의 컬럼으로 저장**되게 됩니다.\n",
    "- `sheet_name`을 지정하여, 저장할 시트의 이름을 변경할 수 있습니다.\n"
   ]
  },
  {
   "cell_type": "code",
   "execution_count": null,
   "metadata": {},
   "outputs": [],
   "source": [
    "import openpyxl \n",
    "dir(openpyxl)"
   ]
  },
  {
   "cell_type": "code",
   "execution_count": 18,
   "metadata": {},
   "outputs": [],
   "source": [
    "# DataFrame excel을 'sample.xlsx' 로 저장합니다. 이때 index도 함께 저장 합니다.\n",
    "excel.to_excel('sample.xlsx')"
   ]
  },
  {
   "cell_type": "code",
   "execution_count": 19,
   "metadata": {},
   "outputs": [],
   "source": [
    "# DataFrame excel을 'sample1.xlsx' 로 저장합니다. 이때 index는 저장하지 않고, sheet_name은 '샘플'로 저장 합니다.\n",
    "excel.to_excel('sample1.xlsx', sheet_name='샘플', index=False)"
   ]
  },
  {
   "cell_type": "markdown",
   "metadata": {},
   "source": [
    "### Excel - 여러개의 시트에 저장"
   ]
  },
  {
   "cell_type": "markdown",
   "metadata": {},
   "source": [
    "여래 개의 시트에 저장하기 위해서는 **ExcelWriter를 사용**해야 합니다."
   ]
  },
  {
   "cell_type": "code",
   "execution_count": 21,
   "metadata": {},
   "outputs": [],
   "source": [
    "writer = pd.ExcelWriter('sample2.xlsx')\n",
    "excel.to_excel(writer, index=False, sheet_name='샘플1')\n",
    "excel.to_excel(writer, index=False, sheet_name='샘플2')\n",
    "excel.to_excel(writer, index=False, sheet_name='샘플3')\n",
    "writer.close()"
   ]
  },
  {
   "cell_type": "code",
   "execution_count": 22,
   "metadata": {},
   "outputs": [],
   "source": [
    "# 리소스를 자동 반환하도록 함 (with)\n",
    "with pd.ExcelWriter('sample3.xlsx') as writer:\n",
    "    excel.to_excel(writer, index=False, sheet_name='샘플1')\n",
    "    excel.to_excel(writer, index=False, sheet_name='샘플2')\n",
    "    excel.to_excel(writer, index=False, sheet_name='샘플3')\n"
   ]
  },
  {
   "cell_type": "markdown",
   "metadata": {},
   "source": [
    "### 연습문제"
   ]
  },
  {
   "cell_type": "markdown",
   "metadata": {},
   "source": [
    "data 폴더에 있는 mySUNI.xlsx 파일을 읽어서 df에 저장하세요.\n",
    "- 모든 시트를 읽어오세요."
   ]
  },
  {
   "cell_type": "code",
   "execution_count": 24,
   "metadata": {},
   "outputs": [],
   "source": [
    "# 코드를 입력하세요.\n",
    "df = pd.read_excel('data/mySUNI.xlsx', sheet_name=None, engine='openpyxl')"
   ]
  },
  {
   "cell_type": "markdown",
   "metadata": {},
   "source": [
    "시트명을 조회하세요."
   ]
  },
  {
   "cell_type": "code",
   "execution_count": 25,
   "metadata": {},
   "outputs": [
    {
     "data": {
      "text/plain": [
       "dict_keys(['2020년 01월', '2020년 02월', '2020년 03월', '2020년 04월', '2020년 05월', '2020년 06월', '2020년 07월', '2020년 08월', '2020년 09월', '2020년 10월', '2020년 11월', '2020년 12월'])"
      ]
     },
     "execution_count": 25,
     "metadata": {},
     "output_type": "execute_result"
    }
   ],
   "source": [
    "# 코드를 입력하세요.\n",
    "df.keys()"
   ]
  },
  {
   "cell_type": "markdown",
   "metadata": {},
   "source": [
    "시트명이 2020년 07월인 데이터 프레임을 df_07에 저장하세요."
   ]
  },
  {
   "cell_type": "code",
   "execution_count": 26,
   "metadata": {},
   "outputs": [],
   "source": [
    "# 코드를 입력하세요.\n",
    "df_07 = df['2020년 07월']"
   ]
  },
  {
   "cell_type": "markdown",
   "metadata": {},
   "source": [
    "해당 시트를 '2020년 07월 서울 브랜드별 평균 휘발유 가격.xlsx'으로 저장하세요. 인덱스는 저장하지 않습니다."
   ]
  },
  {
   "cell_type": "code",
   "execution_count": 27,
   "metadata": {},
   "outputs": [],
   "source": [
    "# 코드를 입력하세요.\n",
    "df_07.to_excel('2020년 07월 서울 브랜드별 평균 휘발유 가격.xlsx', index=False)"
   ]
  },
  {
   "cell_type": "markdown",
   "metadata": {
    "id": "DnLxL9rUzOE6"
   },
   "source": [
    "## CSV (Comma Separated Values)"
   ]
  },
  {
   "cell_type": "markdown",
   "metadata": {},
   "source": [
    "- 한 줄이 한 개의 행에 해당하며, 열 사이에는** 쉼표(,)를 넣어 구분**합니다.\n",
    "- Excel보다는 훨씬 가볍고 **차지하는 용량이 적기 때문에 대부분의 파일데이터는 csv 형태**로 제공됩니다.\n",
    "\n",
    "(참고) 쉼표를 찍어 놓은 금액 데이터(100,000)를 CSV에 직접 집어넣으면 나중에 해석할 때 서로 다른 열로 취급되므로 문제가 될 수 있습니다. 해결책으로 쉼표 대신 탭 문자(\\t)를 구분자로 사용하는 것이다. 이러한 경우 **Tab Separated Values(TSV)**라고 부른다."
   ]
  },
  {
   "cell_type": "markdown",
   "metadata": {},
   "source": [
    "### CSV - 불러오기"
   ]
  },
  {
   "cell_type": "code",
   "execution_count": 29,
   "metadata": {
    "id": "nJjhVyNgzOE8"
   },
   "outputs": [],
   "source": [
    "# 'data/seoul_population.csv' 파일을 읽어 df라는 이름을 부여합니다\n",
    "df = pd.read_csv('data/seoul_population.csv')"
   ]
  },
  {
   "cell_type": "code",
   "execution_count": 30,
   "metadata": {},
   "outputs": [
    {
     "data": {
      "text/html": [
       "<div>\n",
       "<style scoped>\n",
       "    .dataframe tbody tr th:only-of-type {\n",
       "        vertical-align: middle;\n",
       "    }\n",
       "\n",
       "    .dataframe tbody tr th {\n",
       "        vertical-align: top;\n",
       "    }\n",
       "\n",
       "    .dataframe thead th {\n",
       "        text-align: right;\n",
       "    }\n",
       "</style>\n",
       "<table border=\"1\" class=\"dataframe\">\n",
       "  <thead>\n",
       "    <tr style=\"text-align: right;\">\n",
       "      <th></th>\n",
       "      <th>연도</th>\n",
       "      <th>자치구</th>\n",
       "      <th>세대수</th>\n",
       "      <th>인구 합계</th>\n",
       "      <th>남자 인구 합계</th>\n",
       "      <th>여자 인구 합계</th>\n",
       "      <th>한국인 인구 합계</th>\n",
       "      <th>한국인 남자 인구수</th>\n",
       "      <th>한국인 여자 인구수</th>\n",
       "      <th>등록 외국인 인구 합계</th>\n",
       "      <th>등록 외국인 인구 남자수</th>\n",
       "      <th>등록 외국인 인구 여자수</th>\n",
       "      <th>세대당 인구</th>\n",
       "      <th>65세 이상 고령자 수</th>\n",
       "    </tr>\n",
       "  </thead>\n",
       "  <tbody>\n",
       "    <tr>\n",
       "      <th>0</th>\n",
       "      <td>2020</td>\n",
       "      <td>합계</td>\n",
       "      <td>4,417,954</td>\n",
       "      <td>9,911,088</td>\n",
       "      <td>4,816,522</td>\n",
       "      <td>5,094,566</td>\n",
       "      <td>9,668,465</td>\n",
       "      <td>4,701,723</td>\n",
       "      <td>4,966,742</td>\n",
       "      <td>242,623</td>\n",
       "      <td>114,799</td>\n",
       "      <td>127,824</td>\n",
       "      <td>2.19</td>\n",
       "      <td>1,568,331</td>\n",
       "    </tr>\n",
       "    <tr>\n",
       "      <th>1</th>\n",
       "      <td>2020</td>\n",
       "      <td>종로구</td>\n",
       "      <td>75,003</td>\n",
       "      <td>158,996</td>\n",
       "      <td>76,876</td>\n",
       "      <td>82,120</td>\n",
       "      <td>149,384</td>\n",
       "      <td>72,635</td>\n",
       "      <td>76,749</td>\n",
       "      <td>9,612</td>\n",
       "      <td>4,241</td>\n",
       "      <td>5,371</td>\n",
       "      <td>1.99</td>\n",
       "      <td>28,507</td>\n",
       "    </tr>\n",
       "    <tr>\n",
       "      <th>2</th>\n",
       "      <td>2020</td>\n",
       "      <td>중구</td>\n",
       "      <td>63,686</td>\n",
       "      <td>134,635</td>\n",
       "      <td>65,776</td>\n",
       "      <td>68,859</td>\n",
       "      <td>125,240</td>\n",
       "      <td>61,222</td>\n",
       "      <td>64,018</td>\n",
       "      <td>9,395</td>\n",
       "      <td>4,554</td>\n",
       "      <td>4,841</td>\n",
       "      <td>1.97</td>\n",
       "      <td>24,495</td>\n",
       "    </tr>\n",
       "    <tr>\n",
       "      <th>3</th>\n",
       "      <td>2020</td>\n",
       "      <td>용산구</td>\n",
       "      <td>113,093</td>\n",
       "      <td>244,645</td>\n",
       "      <td>118,835</td>\n",
       "      <td>125,810</td>\n",
       "      <td>230,040</td>\n",
       "      <td>110,722</td>\n",
       "      <td>119,318</td>\n",
       "      <td>14,605</td>\n",
       "      <td>8,113</td>\n",
       "      <td>6,492</td>\n",
       "      <td>2.03</td>\n",
       "      <td>40,247</td>\n",
       "    </tr>\n",
       "    <tr>\n",
       "      <th>4</th>\n",
       "      <td>2020</td>\n",
       "      <td>성동구</td>\n",
       "      <td>135,870</td>\n",
       "      <td>300,505</td>\n",
       "      <td>146,424</td>\n",
       "      <td>154,081</td>\n",
       "      <td>293,556</td>\n",
       "      <td>143,387</td>\n",
       "      <td>150,169</td>\n",
       "      <td>6,949</td>\n",
       "      <td>3,037</td>\n",
       "      <td>3,912</td>\n",
       "      <td>2.16</td>\n",
       "      <td>45,603</td>\n",
       "    </tr>\n",
       "  </tbody>\n",
       "</table>\n",
       "</div>"
      ],
      "text/plain": [
       "     연도  자치구        세대수      인구 합계   남자 인구 합계   여자 인구 합계  한국인 인구 합계  \\\n",
       "0  2020   합계  4,417,954  9,911,088  4,816,522  5,094,566  9,668,465   \n",
       "1  2020  종로구     75,003    158,996     76,876     82,120    149,384   \n",
       "2  2020   중구     63,686    134,635     65,776     68,859    125,240   \n",
       "3  2020  용산구    113,093    244,645    118,835    125,810    230,040   \n",
       "4  2020  성동구    135,870    300,505    146,424    154,081    293,556   \n",
       "\n",
       "  한국인 남자 인구수 한국인 여자 인구수 등록 외국인 인구 합계 등록 외국인 인구 남자수 등록 외국인 인구 여자수  세대당 인구  \\\n",
       "0  4,701,723  4,966,742      242,623       114,799       127,824    2.19   \n",
       "1     72,635     76,749        9,612         4,241         5,371    1.99   \n",
       "2     61,222     64,018        9,395         4,554         4,841    1.97   \n",
       "3    110,722    119,318       14,605         8,113         6,492    2.03   \n",
       "4    143,387    150,169        6,949         3,037         3,912    2.16   \n",
       "\n",
       "  65세 이상 고령자 수  \n",
       "0    1,568,331  \n",
       "1       28,507  \n",
       "2       24,495  \n",
       "3       40,247  \n",
       "4       45,603  "
      ]
     },
     "execution_count": 30,
     "metadata": {},
     "output_type": "execute_result"
    }
   ],
   "source": [
    "df.head()"
   ]
  },
  {
   "cell_type": "code",
   "execution_count": 36,
   "metadata": {},
   "outputs": [
    {
     "data": {
      "text/plain": [
       "세대수              int32\n",
       "인구 합계            int32\n",
       "남자 인구 합계         int32\n",
       "여자 인구 합계         int32\n",
       "한국인 인구 합계        int32\n",
       "한국인 남자 인구수       int32\n",
       "한국인 여자 인구수       int32\n",
       "등록 외국인 인구 합계     int32\n",
       "등록 외국인 인구 남자수    int32\n",
       "등록 외국인 인구 여자수    int32\n",
       "dtype: object"
      ]
     },
     "execution_count": 36,
     "metadata": {},
     "output_type": "execute_result"
    }
   ],
   "source": [
    "df2 = df.replace(',', '', regex=True)\n",
    "df3 = df2.loc[:, '세대수':'등록 외국인 인구 여자수'].astype('int32')\n",
    "df3.dtypes"
   ]
  },
  {
   "cell_type": "markdown",
   "metadata": {},
   "source": [
    "때때로 한글데이터를 불러올 때 다른 인코딩을 사용해야하는 경우도 있습니다.그럴 땐 `encoding` 옵션을 지정해주면 됩니다."
   ]
  },
  {
   "cell_type": "code",
   "execution_count": 50,
   "metadata": {},
   "outputs": [],
   "source": [
    "def getEncoding(filename):\n",
    "    import chardet\n",
    "    with open(filename, 'rb') as f:\n",
    "        result = chardet.detect(f.readline())  \n",
    "    return result['encoding']"
   ]
  },
  {
   "cell_type": "code",
   "execution_count": 52,
   "metadata": {},
   "outputs": [],
   "source": [
    "# 'data/seoul_population.csv' 파일을 encoding을 'utf8'로 지정하여 읽어 df라는 이름을 부여합니다.\n",
    "filename = 'data/seoul_population.csv'\n",
    "df = pd.read_csv(filename, encoding=getEncoding(filename))"
   ]
  },
  {
   "cell_type": "code",
   "execution_count": 40,
   "metadata": {},
   "outputs": [
    {
     "data": {
      "text/html": [
       "<div>\n",
       "<style scoped>\n",
       "    .dataframe tbody tr th:only-of-type {\n",
       "        vertical-align: middle;\n",
       "    }\n",
       "\n",
       "    .dataframe tbody tr th {\n",
       "        vertical-align: top;\n",
       "    }\n",
       "\n",
       "    .dataframe thead th {\n",
       "        text-align: right;\n",
       "    }\n",
       "</style>\n",
       "<table border=\"1\" class=\"dataframe\">\n",
       "  <thead>\n",
       "    <tr style=\"text-align: right;\">\n",
       "      <th></th>\n",
       "      <th>연도</th>\n",
       "      <th>자치구</th>\n",
       "      <th>세대수</th>\n",
       "      <th>인구 합계</th>\n",
       "      <th>남자 인구 합계</th>\n",
       "      <th>여자 인구 합계</th>\n",
       "      <th>한국인 인구 합계</th>\n",
       "      <th>한국인 남자 인구수</th>\n",
       "      <th>한국인 여자 인구수</th>\n",
       "      <th>등록 외국인 인구 합계</th>\n",
       "      <th>등록 외국인 인구 남자수</th>\n",
       "      <th>등록 외국인 인구 여자수</th>\n",
       "      <th>세대당 인구</th>\n",
       "      <th>65세 이상 고령자 수</th>\n",
       "    </tr>\n",
       "  </thead>\n",
       "  <tbody>\n",
       "    <tr>\n",
       "      <th>0</th>\n",
       "      <td>2020</td>\n",
       "      <td>합계</td>\n",
       "      <td>4,417,954</td>\n",
       "      <td>9,911,088</td>\n",
       "      <td>4,816,522</td>\n",
       "      <td>5,094,566</td>\n",
       "      <td>9,668,465</td>\n",
       "      <td>4,701,723</td>\n",
       "      <td>4,966,742</td>\n",
       "      <td>242,623</td>\n",
       "      <td>114,799</td>\n",
       "      <td>127,824</td>\n",
       "      <td>2.19</td>\n",
       "      <td>1,568,331</td>\n",
       "    </tr>\n",
       "    <tr>\n",
       "      <th>1</th>\n",
       "      <td>2020</td>\n",
       "      <td>종로구</td>\n",
       "      <td>75,003</td>\n",
       "      <td>158,996</td>\n",
       "      <td>76,876</td>\n",
       "      <td>82,120</td>\n",
       "      <td>149,384</td>\n",
       "      <td>72,635</td>\n",
       "      <td>76,749</td>\n",
       "      <td>9,612</td>\n",
       "      <td>4,241</td>\n",
       "      <td>5,371</td>\n",
       "      <td>1.99</td>\n",
       "      <td>28,507</td>\n",
       "    </tr>\n",
       "    <tr>\n",
       "      <th>2</th>\n",
       "      <td>2020</td>\n",
       "      <td>중구</td>\n",
       "      <td>63,686</td>\n",
       "      <td>134,635</td>\n",
       "      <td>65,776</td>\n",
       "      <td>68,859</td>\n",
       "      <td>125,240</td>\n",
       "      <td>61,222</td>\n",
       "      <td>64,018</td>\n",
       "      <td>9,395</td>\n",
       "      <td>4,554</td>\n",
       "      <td>4,841</td>\n",
       "      <td>1.97</td>\n",
       "      <td>24,495</td>\n",
       "    </tr>\n",
       "    <tr>\n",
       "      <th>3</th>\n",
       "      <td>2020</td>\n",
       "      <td>용산구</td>\n",
       "      <td>113,093</td>\n",
       "      <td>244,645</td>\n",
       "      <td>118,835</td>\n",
       "      <td>125,810</td>\n",
       "      <td>230,040</td>\n",
       "      <td>110,722</td>\n",
       "      <td>119,318</td>\n",
       "      <td>14,605</td>\n",
       "      <td>8,113</td>\n",
       "      <td>6,492</td>\n",
       "      <td>2.03</td>\n",
       "      <td>40,247</td>\n",
       "    </tr>\n",
       "    <tr>\n",
       "      <th>4</th>\n",
       "      <td>2020</td>\n",
       "      <td>성동구</td>\n",
       "      <td>135,870</td>\n",
       "      <td>300,505</td>\n",
       "      <td>146,424</td>\n",
       "      <td>154,081</td>\n",
       "      <td>293,556</td>\n",
       "      <td>143,387</td>\n",
       "      <td>150,169</td>\n",
       "      <td>6,949</td>\n",
       "      <td>3,037</td>\n",
       "      <td>3,912</td>\n",
       "      <td>2.16</td>\n",
       "      <td>45,603</td>\n",
       "    </tr>\n",
       "  </tbody>\n",
       "</table>\n",
       "</div>"
      ],
      "text/plain": [
       "     연도  자치구        세대수      인구 합계   남자 인구 합계   여자 인구 합계  한국인 인구 합계  \\\n",
       "0  2020   합계  4,417,954  9,911,088  4,816,522  5,094,566  9,668,465   \n",
       "1  2020  종로구     75,003    158,996     76,876     82,120    149,384   \n",
       "2  2020   중구     63,686    134,635     65,776     68,859    125,240   \n",
       "3  2020  용산구    113,093    244,645    118,835    125,810    230,040   \n",
       "4  2020  성동구    135,870    300,505    146,424    154,081    293,556   \n",
       "\n",
       "  한국인 남자 인구수 한국인 여자 인구수 등록 외국인 인구 합계 등록 외국인 인구 남자수 등록 외국인 인구 여자수  세대당 인구  \\\n",
       "0  4,701,723  4,966,742      242,623       114,799       127,824    2.19   \n",
       "1     72,635     76,749        9,612         4,241         5,371    1.99   \n",
       "2     61,222     64,018        9,395         4,554         4,841    1.97   \n",
       "3    110,722    119,318       14,605         8,113         6,492    2.03   \n",
       "4    143,387    150,169        6,949         3,037         3,912    2.16   \n",
       "\n",
       "  65세 이상 고령자 수  \n",
       "0    1,568,331  \n",
       "1       28,507  \n",
       "2       24,495  \n",
       "3       40,247  \n",
       "4       45,603  "
      ]
     },
     "execution_count": 40,
     "metadata": {},
     "output_type": "execute_result"
    }
   ],
   "source": [
    "df.head()"
   ]
  },
  {
   "cell_type": "markdown",
   "metadata": {},
   "source": [
    "### CSV - 큰 파일 데이터 끊어서 불러오기"
   ]
  },
  {
   "cell_type": "markdown",
   "metadata": {},
   "source": [
    "데이터의 크기가 매우 큰 경우 memory에 한 번에 로드할 수 없습니다.\n",
    "\n",
    "`chunksize`를 지정하고 `chunksize`만큼 끊어서 불러와서 처리하게 되면 용량이 매우 큰 데이터도 처리할 수 있습니다.\n",
    "\n",
    "예시) `chunksize=10`: 10개의 데이터를 로드합니다."
   ]
  },
  {
   "cell_type": "code",
   "execution_count": 43,
   "metadata": {},
   "outputs": [],
   "source": [
    "# 'data/seoul_population.csv' 파일을 10개 만큼씩 끊어 읽어 옵니다\n",
    "df = pd.read_csv('data/seoul_population.csv', chunksize=10)"
   ]
  },
  {
   "cell_type": "code",
   "execution_count": 46,
   "metadata": {},
   "outputs": [
    {
     "data": {
      "text/plain": [
       "10"
      ]
     },
     "metadata": {},
     "output_type": "display_data"
    },
    {
     "data": {
      "text/html": [
       "<div>\n",
       "<style scoped>\n",
       "    .dataframe tbody tr th:only-of-type {\n",
       "        vertical-align: middle;\n",
       "    }\n",
       "\n",
       "    .dataframe tbody tr th {\n",
       "        vertical-align: top;\n",
       "    }\n",
       "\n",
       "    .dataframe thead th {\n",
       "        text-align: right;\n",
       "    }\n",
       "</style>\n",
       "<table border=\"1\" class=\"dataframe\">\n",
       "  <thead>\n",
       "    <tr style=\"text-align: right;\">\n",
       "      <th></th>\n",
       "      <th>연도</th>\n",
       "      <th>자치구</th>\n",
       "      <th>세대수</th>\n",
       "      <th>인구 합계</th>\n",
       "      <th>남자 인구 합계</th>\n",
       "      <th>여자 인구 합계</th>\n",
       "      <th>한국인 인구 합계</th>\n",
       "      <th>한국인 남자 인구수</th>\n",
       "      <th>한국인 여자 인구수</th>\n",
       "      <th>등록 외국인 인구 합계</th>\n",
       "      <th>등록 외국인 인구 남자수</th>\n",
       "      <th>등록 외국인 인구 여자수</th>\n",
       "      <th>세대당 인구</th>\n",
       "      <th>65세 이상 고령자 수</th>\n",
       "    </tr>\n",
       "  </thead>\n",
       "  <tbody>\n",
       "    <tr>\n",
       "      <th>0</th>\n",
       "      <td>2020</td>\n",
       "      <td>합계</td>\n",
       "      <td>4,417,954</td>\n",
       "      <td>9,911,088</td>\n",
       "      <td>4,816,522</td>\n",
       "      <td>5,094,566</td>\n",
       "      <td>9,668,465</td>\n",
       "      <td>4,701,723</td>\n",
       "      <td>4,966,742</td>\n",
       "      <td>242,623</td>\n",
       "      <td>114,799</td>\n",
       "      <td>127,824</td>\n",
       "      <td>2.19</td>\n",
       "      <td>1,568,331</td>\n",
       "    </tr>\n",
       "    <tr>\n",
       "      <th>1</th>\n",
       "      <td>2020</td>\n",
       "      <td>종로구</td>\n",
       "      <td>75,003</td>\n",
       "      <td>158,996</td>\n",
       "      <td>76,876</td>\n",
       "      <td>82,120</td>\n",
       "      <td>149,384</td>\n",
       "      <td>72,635</td>\n",
       "      <td>76,749</td>\n",
       "      <td>9,612</td>\n",
       "      <td>4,241</td>\n",
       "      <td>5,371</td>\n",
       "      <td>1.99</td>\n",
       "      <td>28,507</td>\n",
       "    </tr>\n",
       "    <tr>\n",
       "      <th>2</th>\n",
       "      <td>2020</td>\n",
       "      <td>중구</td>\n",
       "      <td>63,686</td>\n",
       "      <td>134,635</td>\n",
       "      <td>65,776</td>\n",
       "      <td>68,859</td>\n",
       "      <td>125,240</td>\n",
       "      <td>61,222</td>\n",
       "      <td>64,018</td>\n",
       "      <td>9,395</td>\n",
       "      <td>4,554</td>\n",
       "      <td>4,841</td>\n",
       "      <td>1.97</td>\n",
       "      <td>24,495</td>\n",
       "    </tr>\n",
       "    <tr>\n",
       "      <th>3</th>\n",
       "      <td>2020</td>\n",
       "      <td>용산구</td>\n",
       "      <td>113,093</td>\n",
       "      <td>244,645</td>\n",
       "      <td>118,835</td>\n",
       "      <td>125,810</td>\n",
       "      <td>230,040</td>\n",
       "      <td>110,722</td>\n",
       "      <td>119,318</td>\n",
       "      <td>14,605</td>\n",
       "      <td>8,113</td>\n",
       "      <td>6,492</td>\n",
       "      <td>2.03</td>\n",
       "      <td>40,247</td>\n",
       "    </tr>\n",
       "    <tr>\n",
       "      <th>4</th>\n",
       "      <td>2020</td>\n",
       "      <td>성동구</td>\n",
       "      <td>135,870</td>\n",
       "      <td>300,505</td>\n",
       "      <td>146,424</td>\n",
       "      <td>154,081</td>\n",
       "      <td>293,556</td>\n",
       "      <td>143,387</td>\n",
       "      <td>150,169</td>\n",
       "      <td>6,949</td>\n",
       "      <td>3,037</td>\n",
       "      <td>3,912</td>\n",
       "      <td>2.16</td>\n",
       "      <td>45,603</td>\n",
       "    </tr>\n",
       "    <tr>\n",
       "      <th>5</th>\n",
       "      <td>2020</td>\n",
       "      <td>광진구</td>\n",
       "      <td>167,427</td>\n",
       "      <td>360,109</td>\n",
       "      <td>173,000</td>\n",
       "      <td>187,109</td>\n",
       "      <td>346,682</td>\n",
       "      <td>167,310</td>\n",
       "      <td>179,372</td>\n",
       "      <td>13,427</td>\n",
       "      <td>5,690</td>\n",
       "      <td>7,737</td>\n",
       "      <td>2.07</td>\n",
       "      <td>50,560</td>\n",
       "    </tr>\n",
       "    <tr>\n",
       "      <th>6</th>\n",
       "      <td>2020</td>\n",
       "      <td>동대문구</td>\n",
       "      <td>167,598</td>\n",
       "      <td>357,014</td>\n",
       "      <td>175,322</td>\n",
       "      <td>181,692</td>\n",
       "      <td>342,837</td>\n",
       "      <td>169,769</td>\n",
       "      <td>173,068</td>\n",
       "      <td>14,177</td>\n",
       "      <td>5,553</td>\n",
       "      <td>8,624</td>\n",
       "      <td>2.05</td>\n",
       "      <td>61,796</td>\n",
       "    </tr>\n",
       "    <tr>\n",
       "      <th>7</th>\n",
       "      <td>2020</td>\n",
       "      <td>중랑구</td>\n",
       "      <td>185,920</td>\n",
       "      <td>399,562</td>\n",
       "      <td>197,118</td>\n",
       "      <td>202,444</td>\n",
       "      <td>394,702</td>\n",
       "      <td>195,165</td>\n",
       "      <td>199,537</td>\n",
       "      <td>4,860</td>\n",
       "      <td>1,953</td>\n",
       "      <td>2,907</td>\n",
       "      <td>2.12</td>\n",
       "      <td>69,447</td>\n",
       "    </tr>\n",
       "    <tr>\n",
       "      <th>8</th>\n",
       "      <td>2020</td>\n",
       "      <td>성북구</td>\n",
       "      <td>195,396</td>\n",
       "      <td>447,056</td>\n",
       "      <td>214,658</td>\n",
       "      <td>232,398</td>\n",
       "      <td>437,153</td>\n",
       "      <td>210,810</td>\n",
       "      <td>226,343</td>\n",
       "      <td>9,903</td>\n",
       "      <td>3,848</td>\n",
       "      <td>6,055</td>\n",
       "      <td>2.24</td>\n",
       "      <td>73,770</td>\n",
       "    </tr>\n",
       "    <tr>\n",
       "      <th>9</th>\n",
       "      <td>2020</td>\n",
       "      <td>강북구</td>\n",
       "      <td>145,896</td>\n",
       "      <td>311,569</td>\n",
       "      <td>151,466</td>\n",
       "      <td>160,103</td>\n",
       "      <td>308,055</td>\n",
       "      <td>150,143</td>\n",
       "      <td>157,912</td>\n",
       "      <td>3,514</td>\n",
       "      <td>1,323</td>\n",
       "      <td>2,191</td>\n",
       "      <td>2.11</td>\n",
       "      <td>63,422</td>\n",
       "    </tr>\n",
       "  </tbody>\n",
       "</table>\n",
       "</div>"
      ],
      "text/plain": [
       "     연도   자치구        세대수      인구 합계   남자 인구 합계   여자 인구 합계  한국인 인구 합계  \\\n",
       "0  2020    합계  4,417,954  9,911,088  4,816,522  5,094,566  9,668,465   \n",
       "1  2020   종로구     75,003    158,996     76,876     82,120    149,384   \n",
       "2  2020    중구     63,686    134,635     65,776     68,859    125,240   \n",
       "3  2020   용산구    113,093    244,645    118,835    125,810    230,040   \n",
       "4  2020   성동구    135,870    300,505    146,424    154,081    293,556   \n",
       "5  2020   광진구    167,427    360,109    173,000    187,109    346,682   \n",
       "6  2020  동대문구    167,598    357,014    175,322    181,692    342,837   \n",
       "7  2020   중랑구    185,920    399,562    197,118    202,444    394,702   \n",
       "8  2020   성북구    195,396    447,056    214,658    232,398    437,153   \n",
       "9  2020   강북구    145,896    311,569    151,466    160,103    308,055   \n",
       "\n",
       "  한국인 남자 인구수 한국인 여자 인구수 등록 외국인 인구 합계 등록 외국인 인구 남자수 등록 외국인 인구 여자수  세대당 인구  \\\n",
       "0  4,701,723  4,966,742      242,623       114,799       127,824    2.19   \n",
       "1     72,635     76,749        9,612         4,241         5,371    1.99   \n",
       "2     61,222     64,018        9,395         4,554         4,841    1.97   \n",
       "3    110,722    119,318       14,605         8,113         6,492    2.03   \n",
       "4    143,387    150,169        6,949         3,037         3,912    2.16   \n",
       "5    167,310    179,372       13,427         5,690         7,737    2.07   \n",
       "6    169,769    173,068       14,177         5,553         8,624    2.05   \n",
       "7    195,165    199,537        4,860         1,953         2,907    2.12   \n",
       "8    210,810    226,343        9,903         3,848         6,055    2.24   \n",
       "9    150,143    157,912        3,514         1,323         2,191    2.11   \n",
       "\n",
       "  65세 이상 고령자 수  \n",
       "0    1,568,331  \n",
       "1       28,507  \n",
       "2       24,495  \n",
       "3       40,247  \n",
       "4       45,603  \n",
       "5       50,560  \n",
       "6       61,796  \n",
       "7       69,447  \n",
       "8       73,770  \n",
       "9       63,422  "
      ]
     },
     "metadata": {},
     "output_type": "display_data"
    },
    {
     "data": {
      "text/plain": [
       "10"
      ]
     },
     "metadata": {},
     "output_type": "display_data"
    },
    {
     "data": {
      "text/html": [
       "<div>\n",
       "<style scoped>\n",
       "    .dataframe tbody tr th:only-of-type {\n",
       "        vertical-align: middle;\n",
       "    }\n",
       "\n",
       "    .dataframe tbody tr th {\n",
       "        vertical-align: top;\n",
       "    }\n",
       "\n",
       "    .dataframe thead th {\n",
       "        text-align: right;\n",
       "    }\n",
       "</style>\n",
       "<table border=\"1\" class=\"dataframe\">\n",
       "  <thead>\n",
       "    <tr style=\"text-align: right;\">\n",
       "      <th></th>\n",
       "      <th>연도</th>\n",
       "      <th>자치구</th>\n",
       "      <th>세대수</th>\n",
       "      <th>인구 합계</th>\n",
       "      <th>남자 인구 합계</th>\n",
       "      <th>여자 인구 합계</th>\n",
       "      <th>한국인 인구 합계</th>\n",
       "      <th>한국인 남자 인구수</th>\n",
       "      <th>한국인 여자 인구수</th>\n",
       "      <th>등록 외국인 인구 합계</th>\n",
       "      <th>등록 외국인 인구 남자수</th>\n",
       "      <th>등록 외국인 인구 여자수</th>\n",
       "      <th>세대당 인구</th>\n",
       "      <th>65세 이상 고령자 수</th>\n",
       "    </tr>\n",
       "  </thead>\n",
       "  <tbody>\n",
       "    <tr>\n",
       "      <th>10</th>\n",
       "      <td>2020</td>\n",
       "      <td>도봉구</td>\n",
       "      <td>139,114</td>\n",
       "      <td>327,361</td>\n",
       "      <td>159,420</td>\n",
       "      <td>167,941</td>\n",
       "      <td>325,257</td>\n",
       "      <td>158,620</td>\n",
       "      <td>166,637</td>\n",
       "      <td>2,104</td>\n",
       "      <td>800</td>\n",
       "      <td>1,304</td>\n",
       "      <td>2.34</td>\n",
       "      <td>62,059</td>\n",
       "    </tr>\n",
       "    <tr>\n",
       "      <th>11</th>\n",
       "      <td>2020</td>\n",
       "      <td>노원구</td>\n",
       "      <td>218,270</td>\n",
       "      <td>527,032</td>\n",
       "      <td>254,188</td>\n",
       "      <td>272,844</td>\n",
       "      <td>523,037</td>\n",
       "      <td>252,383</td>\n",
       "      <td>270,654</td>\n",
       "      <td>3,995</td>\n",
       "      <td>1,805</td>\n",
       "      <td>2,190</td>\n",
       "      <td>2.40</td>\n",
       "      <td>85,489</td>\n",
       "    </tr>\n",
       "    <tr>\n",
       "      <th>12</th>\n",
       "      <td>2020</td>\n",
       "      <td>은평구</td>\n",
       "      <td>213,914</td>\n",
       "      <td>484,043</td>\n",
       "      <td>231,998</td>\n",
       "      <td>252,045</td>\n",
       "      <td>479,835</td>\n",
       "      <td>230,279</td>\n",
       "      <td>249,556</td>\n",
       "      <td>4,208</td>\n",
       "      <td>1,719</td>\n",
       "      <td>2,489</td>\n",
       "      <td>2.24</td>\n",
       "      <td>85,187</td>\n",
       "    </tr>\n",
       "    <tr>\n",
       "      <th>13</th>\n",
       "      <td>2020</td>\n",
       "      <td>서대문구</td>\n",
       "      <td>144,838</td>\n",
       "      <td>322,952</td>\n",
       "      <td>153,152</td>\n",
       "      <td>169,800</td>\n",
       "      <td>312,173</td>\n",
       "      <td>149,360</td>\n",
       "      <td>162,813</td>\n",
       "      <td>10,779</td>\n",
       "      <td>3,792</td>\n",
       "      <td>6,987</td>\n",
       "      <td>2.16</td>\n",
       "      <td>54,204</td>\n",
       "    </tr>\n",
       "    <tr>\n",
       "      <th>14</th>\n",
       "      <td>2020</td>\n",
       "      <td>마포구</td>\n",
       "      <td>178,482</td>\n",
       "      <td>381,858</td>\n",
       "      <td>178,977</td>\n",
       "      <td>202,881</td>\n",
       "      <td>371,890</td>\n",
       "      <td>175,150</td>\n",
       "      <td>196,740</td>\n",
       "      <td>9,968</td>\n",
       "      <td>3,827</td>\n",
       "      <td>6,141</td>\n",
       "      <td>2.08</td>\n",
       "      <td>54,331</td>\n",
       "    </tr>\n",
       "    <tr>\n",
       "      <th>15</th>\n",
       "      <td>2020</td>\n",
       "      <td>양천구</td>\n",
       "      <td>180,633</td>\n",
       "      <td>457,781</td>\n",
       "      <td>224,379</td>\n",
       "      <td>233,402</td>\n",
       "      <td>454,251</td>\n",
       "      <td>222,824</td>\n",
       "      <td>231,427</td>\n",
       "      <td>3,530</td>\n",
       "      <td>1,555</td>\n",
       "      <td>1,975</td>\n",
       "      <td>2.51</td>\n",
       "      <td>65,670</td>\n",
       "    </tr>\n",
       "    <tr>\n",
       "      <th>16</th>\n",
       "      <td>2020</td>\n",
       "      <td>강서구</td>\n",
       "      <td>266,982</td>\n",
       "      <td>585,901</td>\n",
       "      <td>282,686</td>\n",
       "      <td>303,215</td>\n",
       "      <td>580,185</td>\n",
       "      <td>280,034</td>\n",
       "      <td>300,151</td>\n",
       "      <td>5,716</td>\n",
       "      <td>2,652</td>\n",
       "      <td>3,064</td>\n",
       "      <td>2.17</td>\n",
       "      <td>88,984</td>\n",
       "    </tr>\n",
       "    <tr>\n",
       "      <th>17</th>\n",
       "      <td>2020</td>\n",
       "      <td>구로구</td>\n",
       "      <td>180,531</td>\n",
       "      <td>432,488</td>\n",
       "      <td>215,424</td>\n",
       "      <td>217,064</td>\n",
       "      <td>404,408</td>\n",
       "      <td>199,673</td>\n",
       "      <td>204,735</td>\n",
       "      <td>28,080</td>\n",
       "      <td>15,751</td>\n",
       "      <td>12,329</td>\n",
       "      <td>2.24</td>\n",
       "      <td>70,198</td>\n",
       "    </tr>\n",
       "    <tr>\n",
       "      <th>18</th>\n",
       "      <td>2020</td>\n",
       "      <td>금천구</td>\n",
       "      <td>114,715</td>\n",
       "      <td>247,835</td>\n",
       "      <td>126,141</td>\n",
       "      <td>121,694</td>\n",
       "      <td>231,733</td>\n",
       "      <td>117,226</td>\n",
       "      <td>114,507</td>\n",
       "      <td>16,102</td>\n",
       "      <td>8,915</td>\n",
       "      <td>7,187</td>\n",
       "      <td>2.02</td>\n",
       "      <td>39,842</td>\n",
       "    </tr>\n",
       "    <tr>\n",
       "      <th>19</th>\n",
       "      <td>2020</td>\n",
       "      <td>영등포구</td>\n",
       "      <td>184,714</td>\n",
       "      <td>407,367</td>\n",
       "      <td>202,969</td>\n",
       "      <td>204,398</td>\n",
       "      <td>379,480</td>\n",
       "      <td>187,647</td>\n",
       "      <td>191,833</td>\n",
       "      <td>27,887</td>\n",
       "      <td>15,322</td>\n",
       "      <td>12,565</td>\n",
       "      <td>2.05</td>\n",
       "      <td>61,688</td>\n",
       "    </tr>\n",
       "  </tbody>\n",
       "</table>\n",
       "</div>"
      ],
      "text/plain": [
       "      연도   자치구      세대수    인구 합계 남자 인구 합계 여자 인구 합계 한국인 인구 합계 한국인 남자 인구수  \\\n",
       "10  2020   도봉구  139,114  327,361  159,420  167,941   325,257    158,620   \n",
       "11  2020   노원구  218,270  527,032  254,188  272,844   523,037    252,383   \n",
       "12  2020   은평구  213,914  484,043  231,998  252,045   479,835    230,279   \n",
       "13  2020  서대문구  144,838  322,952  153,152  169,800   312,173    149,360   \n",
       "14  2020   마포구  178,482  381,858  178,977  202,881   371,890    175,150   \n",
       "15  2020   양천구  180,633  457,781  224,379  233,402   454,251    222,824   \n",
       "16  2020   강서구  266,982  585,901  282,686  303,215   580,185    280,034   \n",
       "17  2020   구로구  180,531  432,488  215,424  217,064   404,408    199,673   \n",
       "18  2020   금천구  114,715  247,835  126,141  121,694   231,733    117,226   \n",
       "19  2020  영등포구  184,714  407,367  202,969  204,398   379,480    187,647   \n",
       "\n",
       "   한국인 여자 인구수 등록 외국인 인구 합계 등록 외국인 인구 남자수 등록 외국인 인구 여자수  세대당 인구 65세 이상 고령자 수  \n",
       "10    166,637        2,104           800         1,304    2.34       62,059  \n",
       "11    270,654        3,995         1,805         2,190    2.40       85,489  \n",
       "12    249,556        4,208         1,719         2,489    2.24       85,187  \n",
       "13    162,813       10,779         3,792         6,987    2.16       54,204  \n",
       "14    196,740        9,968         3,827         6,141    2.08       54,331  \n",
       "15    231,427        3,530         1,555         1,975    2.51       65,670  \n",
       "16    300,151        5,716         2,652         3,064    2.17       88,984  \n",
       "17    204,735       28,080        15,751        12,329    2.24       70,198  \n",
       "18    114,507       16,102         8,915         7,187    2.02       39,842  \n",
       "19    191,833       27,887        15,322        12,565    2.05       61,688  "
      ]
     },
     "metadata": {},
     "output_type": "display_data"
    },
    {
     "data": {
      "text/plain": [
       "6"
      ]
     },
     "metadata": {},
     "output_type": "display_data"
    },
    {
     "data": {
      "text/html": [
       "<div>\n",
       "<style scoped>\n",
       "    .dataframe tbody tr th:only-of-type {\n",
       "        vertical-align: middle;\n",
       "    }\n",
       "\n",
       "    .dataframe tbody tr th {\n",
       "        vertical-align: top;\n",
       "    }\n",
       "\n",
       "    .dataframe thead th {\n",
       "        text-align: right;\n",
       "    }\n",
       "</style>\n",
       "<table border=\"1\" class=\"dataframe\">\n",
       "  <thead>\n",
       "    <tr style=\"text-align: right;\">\n",
       "      <th></th>\n",
       "      <th>연도</th>\n",
       "      <th>자치구</th>\n",
       "      <th>세대수</th>\n",
       "      <th>인구 합계</th>\n",
       "      <th>남자 인구 합계</th>\n",
       "      <th>여자 인구 합계</th>\n",
       "      <th>한국인 인구 합계</th>\n",
       "      <th>한국인 남자 인구수</th>\n",
       "      <th>한국인 여자 인구수</th>\n",
       "      <th>등록 외국인 인구 합계</th>\n",
       "      <th>등록 외국인 인구 남자수</th>\n",
       "      <th>등록 외국인 인구 여자수</th>\n",
       "      <th>세대당 인구</th>\n",
       "      <th>65세 이상 고령자 수</th>\n",
       "    </tr>\n",
       "  </thead>\n",
       "  <tbody>\n",
       "    <tr>\n",
       "      <th>20</th>\n",
       "      <td>2020</td>\n",
       "      <td>동작구</td>\n",
       "      <td>184,229</td>\n",
       "      <td>401,572</td>\n",
       "      <td>193,718</td>\n",
       "      <td>207,854</td>\n",
       "      <td>391,220</td>\n",
       "      <td>189,152</td>\n",
       "      <td>202,068</td>\n",
       "      <td>10,352</td>\n",
       "      <td>4,566</td>\n",
       "      <td>5,786</td>\n",
       "      <td>2.12</td>\n",
       "      <td>65,190</td>\n",
       "    </tr>\n",
       "    <tr>\n",
       "      <th>21</th>\n",
       "      <td>2020</td>\n",
       "      <td>관악구</td>\n",
       "      <td>274,811</td>\n",
       "      <td>509,803</td>\n",
       "      <td>255,211</td>\n",
       "      <td>254,592</td>\n",
       "      <td>495,060</td>\n",
       "      <td>248,339</td>\n",
       "      <td>246,721</td>\n",
       "      <td>14,743</td>\n",
       "      <td>6,872</td>\n",
       "      <td>7,871</td>\n",
       "      <td>1.80</td>\n",
       "      <td>78,875</td>\n",
       "    </tr>\n",
       "    <tr>\n",
       "      <th>22</th>\n",
       "      <td>2020</td>\n",
       "      <td>서초구</td>\n",
       "      <td>173,502</td>\n",
       "      <td>429,025</td>\n",
       "      <td>205,282</td>\n",
       "      <td>223,743</td>\n",
       "      <td>425,126</td>\n",
       "      <td>203,359</td>\n",
       "      <td>221,767</td>\n",
       "      <td>3,899</td>\n",
       "      <td>1,923</td>\n",
       "      <td>1,976</td>\n",
       "      <td>2.45</td>\n",
       "      <td>60,169</td>\n",
       "    </tr>\n",
       "    <tr>\n",
       "      <th>23</th>\n",
       "      <td>2020</td>\n",
       "      <td>강남구</td>\n",
       "      <td>234,872</td>\n",
       "      <td>544,055</td>\n",
       "      <td>260,378</td>\n",
       "      <td>283,677</td>\n",
       "      <td>539,231</td>\n",
       "      <td>257,999</td>\n",
       "      <td>281,232</td>\n",
       "      <td>4,824</td>\n",
       "      <td>2,379</td>\n",
       "      <td>2,445</td>\n",
       "      <td>2.30</td>\n",
       "      <td>75,096</td>\n",
       "    </tr>\n",
       "    <tr>\n",
       "      <th>24</th>\n",
       "      <td>2020</td>\n",
       "      <td>송파구</td>\n",
       "      <td>281,959</td>\n",
       "      <td>673,926</td>\n",
       "      <td>325,080</td>\n",
       "      <td>348,846</td>\n",
       "      <td>667,960</td>\n",
       "      <td>322,299</td>\n",
       "      <td>345,661</td>\n",
       "      <td>5,966</td>\n",
       "      <td>2,781</td>\n",
       "      <td>3,185</td>\n",
       "      <td>2.37</td>\n",
       "      <td>93,483</td>\n",
       "    </tr>\n",
       "    <tr>\n",
       "      <th>25</th>\n",
       "      <td>2020</td>\n",
       "      <td>강동구</td>\n",
       "      <td>196,499</td>\n",
       "      <td>463,998</td>\n",
       "      <td>228,044</td>\n",
       "      <td>235,954</td>\n",
       "      <td>459,970</td>\n",
       "      <td>226,216</td>\n",
       "      <td>233,754</td>\n",
       "      <td>4,028</td>\n",
       "      <td>1,828</td>\n",
       "      <td>2,200</td>\n",
       "      <td>2.34</td>\n",
       "      <td>70,019</td>\n",
       "    </tr>\n",
       "  </tbody>\n",
       "</table>\n",
       "</div>"
      ],
      "text/plain": [
       "      연도  자치구      세대수    인구 합계 남자 인구 합계 여자 인구 합계 한국인 인구 합계 한국인 남자 인구수  \\\n",
       "20  2020  동작구  184,229  401,572  193,718  207,854   391,220    189,152   \n",
       "21  2020  관악구  274,811  509,803  255,211  254,592   495,060    248,339   \n",
       "22  2020  서초구  173,502  429,025  205,282  223,743   425,126    203,359   \n",
       "23  2020  강남구  234,872  544,055  260,378  283,677   539,231    257,999   \n",
       "24  2020  송파구  281,959  673,926  325,080  348,846   667,960    322,299   \n",
       "25  2020  강동구  196,499  463,998  228,044  235,954   459,970    226,216   \n",
       "\n",
       "   한국인 여자 인구수 등록 외국인 인구 합계 등록 외국인 인구 남자수 등록 외국인 인구 여자수  세대당 인구 65세 이상 고령자 수  \n",
       "20    202,068       10,352         4,566         5,786    2.12       65,190  \n",
       "21    246,721       14,743         6,872         7,871    1.80       78,875  \n",
       "22    221,767        3,899         1,923         1,976    2.45       60,169  \n",
       "23    281,232        4,824         2,379         2,445    2.30       75,096  \n",
       "24    345,661        5,966         2,781         3,185    2.37       93,483  \n",
       "25    233,754        4,028         1,828         2,200    2.34       70,019  "
      ]
     },
     "metadata": {},
     "output_type": "display_data"
    }
   ],
   "source": [
    "for d in df:\n",
    "    display(len(d), d)"
   ]
  },
  {
   "cell_type": "markdown",
   "metadata": {},
   "source": [
    "### CSV - 저장하기"
   ]
  },
  {
   "cell_type": "markdown",
   "metadata": {},
   "source": [
    "저장하는 방법은 excel과 유사합니다. 다만, csv파일 형식에는 `sheet_name` 옵션은 없습니다."
   ]
  },
  {
   "cell_type": "code",
   "execution_count": 47,
   "metadata": {},
   "outputs": [],
   "source": [
    "df = pd.read_csv('data/seoul_population.csv')"
   ]
  },
  {
   "cell_type": "code",
   "execution_count": 48,
   "metadata": {},
   "outputs": [],
   "source": [
    "# df를 'sample.csv'로 저장합니다. 이때 index는 저장되지 않도록 합니다.\n",
    "df.to_csv('sample.csv', index=False)"
   ]
  },
  {
   "cell_type": "markdown",
   "metadata": {},
   "source": [
    "읽어들인 **Excel 파일도 Csv로 저장**할 수 있습니다."
   ]
  },
  {
   "cell_type": "code",
   "execution_count": 15,
   "metadata": {},
   "outputs": [
    {
     "data": {
      "text/html": [
       "<div>\n",
       "<style scoped>\n",
       "    .dataframe tbody tr th:only-of-type {\n",
       "        vertical-align: middle;\n",
       "    }\n",
       "\n",
       "    .dataframe tbody tr th {\n",
       "        vertical-align: top;\n",
       "    }\n",
       "\n",
       "    .dataframe thead th {\n",
       "        text-align: right;\n",
       "    }\n",
       "</style>\n",
       "<table border=\"1\" class=\"dataframe\">\n",
       "  <thead>\n",
       "    <tr style=\"text-align: right;\">\n",
       "      <th></th>\n",
       "      <th>대중교통구분</th>\n",
       "      <th>년월</th>\n",
       "      <th>승차총승객수</th>\n",
       "    </tr>\n",
       "  </thead>\n",
       "  <tbody>\n",
       "    <tr>\n",
       "      <th>0</th>\n",
       "      <td>버스</td>\n",
       "      <td>201711</td>\n",
       "      <td>163443126</td>\n",
       "    </tr>\n",
       "    <tr>\n",
       "      <th>1</th>\n",
       "      <td>버스</td>\n",
       "      <td>201712</td>\n",
       "      <td>162521011</td>\n",
       "    </tr>\n",
       "    <tr>\n",
       "      <th>2</th>\n",
       "      <td>버스</td>\n",
       "      <td>201801</td>\n",
       "      <td>153335185</td>\n",
       "    </tr>\n",
       "    <tr>\n",
       "      <th>3</th>\n",
       "      <td>버스</td>\n",
       "      <td>201802</td>\n",
       "      <td>134768582</td>\n",
       "    </tr>\n",
       "    <tr>\n",
       "      <th>4</th>\n",
       "      <td>버스</td>\n",
       "      <td>201803</td>\n",
       "      <td>166177855</td>\n",
       "    </tr>\n",
       "  </tbody>\n",
       "</table>\n",
       "</div>"
      ],
      "text/plain": [
       "  대중교통구분      년월     승차총승객수\n",
       "0     버스  201711  163443126\n",
       "1     버스  201712  162521011\n",
       "2     버스  201801  153335185\n",
       "3     버스  201802  134768582\n",
       "4     버스  201803  166177855"
      ]
     },
     "execution_count": 15,
     "metadata": {},
     "output_type": "execute_result"
    }
   ],
   "source": [
    "excel = pd.read_excel('data/seoul_transportation.xlsx', sheet_name='버스')\n",
    "excel.head()"
   ]
  },
  {
   "cell_type": "code",
   "execution_count": 49,
   "metadata": {},
   "outputs": [],
   "source": [
    "# excel을 'sample1.csv'로 저장합니다. 이때 index는 저장되지 않도록 합니다.\n",
    "excel.to_csv('sample1.csv', index=False)"
   ]
  },
  {
   "cell_type": "markdown",
   "metadata": {},
   "source": [
    "### 연습문제"
   ]
  },
  {
   "cell_type": "markdown",
   "metadata": {},
   "source": [
    "data 폴더에 있는 mySUNI_1.csv 파일을 읽어서 df에 저장하세요."
   ]
  },
  {
   "cell_type": "code",
   "execution_count": 55,
   "metadata": {},
   "outputs": [
    {
     "name": "stdout",
     "output_type": "stream",
     "text": [
      "data/mySUNI_1.csv\n"
     ]
    },
    {
     "data": {
      "text/html": [
       "<div>\n",
       "<style scoped>\n",
       "    .dataframe tbody tr th:only-of-type {\n",
       "        vertical-align: middle;\n",
       "    }\n",
       "\n",
       "    .dataframe tbody tr th {\n",
       "        vertical-align: top;\n",
       "    }\n",
       "\n",
       "    .dataframe thead th {\n",
       "        text-align: right;\n",
       "    }\n",
       "</style>\n",
       "<table border=\"1\" class=\"dataframe\">\n",
       "  <thead>\n",
       "    <tr style=\"text-align: right;\">\n",
       "      <th></th>\n",
       "      <th>지역</th>\n",
       "      <th>GS칼텍스_셀프</th>\n",
       "      <th>GS칼텍스_일반</th>\n",
       "      <th>S-OIL_셀프</th>\n",
       "      <th>S-OIL_일반</th>\n",
       "      <th>SK에너지_셀프</th>\n",
       "      <th>SK에너지_일반</th>\n",
       "      <th>알뜰(ex)_셀프</th>\n",
       "      <th>알뜰주유소_셀프</th>\n",
       "      <th>알뜰주유소_일반</th>\n",
       "      <th>자가상표_셀프</th>\n",
       "      <th>자가상표_일반</th>\n",
       "      <th>현대오일뱅크_셀프</th>\n",
       "      <th>현대오일뱅크_일반</th>\n",
       "    </tr>\n",
       "  </thead>\n",
       "  <tbody>\n",
       "    <tr>\n",
       "      <th>0</th>\n",
       "      <td>서울 강남구</td>\n",
       "      <td>1479.628286</td>\n",
       "      <td>1647.372500</td>\n",
       "      <td>1459.241304</td>\n",
       "      <td>1641.747917</td>\n",
       "      <td>1452.455417</td>\n",
       "      <td>1790.737444</td>\n",
       "      <td>NaN</td>\n",
       "      <td>NaN</td>\n",
       "      <td>NaN</td>\n",
       "      <td>NaN</td>\n",
       "      <td>NaN</td>\n",
       "      <td>1408.822500</td>\n",
       "      <td>1604.995806</td>\n",
       "    </tr>\n",
       "    <tr>\n",
       "      <th>1</th>\n",
       "      <td>서울 강동구</td>\n",
       "      <td>1451.558750</td>\n",
       "      <td>1472.213056</td>\n",
       "      <td>1456.763333</td>\n",
       "      <td>1528.702500</td>\n",
       "      <td>1457.974359</td>\n",
       "      <td>1666.781667</td>\n",
       "      <td>NaN</td>\n",
       "      <td>NaN</td>\n",
       "      <td>NaN</td>\n",
       "      <td>NaN</td>\n",
       "      <td>NaN</td>\n",
       "      <td>1412.656667</td>\n",
       "      <td>1441.861667</td>\n",
       "    </tr>\n",
       "  </tbody>\n",
       "</table>\n",
       "</div>"
      ],
      "text/plain": [
       "       지역     GS칼텍스_셀프     GS칼텍스_일반     S-OIL_셀프     S-OIL_일반     SK에너지_셀프  \\\n",
       "0  서울 강남구  1479.628286  1647.372500  1459.241304  1641.747917  1452.455417   \n",
       "1  서울 강동구  1451.558750  1472.213056  1456.763333  1528.702500  1457.974359   \n",
       "\n",
       "      SK에너지_일반  알뜰(ex)_셀프  알뜰주유소_셀프  알뜰주유소_일반  자가상표_셀프  자가상표_일반    현대오일뱅크_셀프  \\\n",
       "0  1790.737444        NaN       NaN       NaN      NaN      NaN  1408.822500   \n",
       "1  1666.781667        NaN       NaN       NaN      NaN      NaN  1412.656667   \n",
       "\n",
       "     현대오일뱅크_일반  \n",
       "0  1604.995806  \n",
       "1  1441.861667  "
      ]
     },
     "execution_count": 55,
     "metadata": {},
     "output_type": "execute_result"
    }
   ],
   "source": [
    "# 코드를 입력하세요.\n",
    "import os\n",
    "dirname = 'data'\n",
    "basename = 'mySUNI_1.csv'\n",
    "filename = os.path.join(dirname, basename)\n",
    "print(filename)\n",
    "df = pd.read_csv(filename)\n",
    "df.head(2)"
   ]
  },
  {
   "cell_type": "markdown",
   "metadata": {},
   "source": [
    "data 폴더에 있는 mySUNI_2.csv 파일을 읽어서 df에 저장하세요.\n",
    "- encoding은 cp949로 되어있습니다."
   ]
  },
  {
   "cell_type": "code",
   "execution_count": 61,
   "metadata": {},
   "outputs": [
    {
     "data": {
      "text/html": [
       "<div>\n",
       "<style scoped>\n",
       "    .dataframe tbody tr th:only-of-type {\n",
       "        vertical-align: middle;\n",
       "    }\n",
       "\n",
       "    .dataframe tbody tr th {\n",
       "        vertical-align: top;\n",
       "    }\n",
       "\n",
       "    .dataframe thead th {\n",
       "        text-align: right;\n",
       "    }\n",
       "</style>\n",
       "<table border=\"1\" class=\"dataframe\">\n",
       "  <thead>\n",
       "    <tr style=\"text-align: right;\">\n",
       "      <th></th>\n",
       "      <th>지역</th>\n",
       "      <th>GS칼텍스_셀프</th>\n",
       "      <th>GS칼텍스_일반</th>\n",
       "      <th>S-OIL_셀프</th>\n",
       "      <th>S-OIL_일반</th>\n",
       "      <th>SK에너지_셀프</th>\n",
       "      <th>SK에너지_일반</th>\n",
       "      <th>알뜰(ex)_셀프</th>\n",
       "      <th>알뜰주유소_셀프</th>\n",
       "      <th>알뜰주유소_일반</th>\n",
       "      <th>자가상표_셀프</th>\n",
       "      <th>자가상표_일반</th>\n",
       "      <th>현대오일뱅크_셀프</th>\n",
       "      <th>현대오일뱅크_일반</th>\n",
       "    </tr>\n",
       "  </thead>\n",
       "  <tbody>\n",
       "    <tr>\n",
       "      <th>0</th>\n",
       "      <td>서울 강남구</td>\n",
       "      <td>1479.628286</td>\n",
       "      <td>1647.372500</td>\n",
       "      <td>1459.241304</td>\n",
       "      <td>1641.747917</td>\n",
       "      <td>1452.455417</td>\n",
       "      <td>1790.737444</td>\n",
       "      <td>NaN</td>\n",
       "      <td>NaN</td>\n",
       "      <td>NaN</td>\n",
       "      <td>NaN</td>\n",
       "      <td>NaN</td>\n",
       "      <td>1408.822500</td>\n",
       "      <td>1604.995806</td>\n",
       "    </tr>\n",
       "    <tr>\n",
       "      <th>1</th>\n",
       "      <td>서울 강동구</td>\n",
       "      <td>1451.558750</td>\n",
       "      <td>1472.213056</td>\n",
       "      <td>1456.763333</td>\n",
       "      <td>1528.702500</td>\n",
       "      <td>1457.974359</td>\n",
       "      <td>1666.781667</td>\n",
       "      <td>NaN</td>\n",
       "      <td>NaN</td>\n",
       "      <td>NaN</td>\n",
       "      <td>NaN</td>\n",
       "      <td>NaN</td>\n",
       "      <td>1412.656667</td>\n",
       "      <td>1441.861667</td>\n",
       "    </tr>\n",
       "  </tbody>\n",
       "</table>\n",
       "</div>"
      ],
      "text/plain": [
       "       지역     GS칼텍스_셀프     GS칼텍스_일반     S-OIL_셀프     S-OIL_일반     SK에너지_셀프  \\\n",
       "0  서울 강남구  1479.628286  1647.372500  1459.241304  1641.747917  1452.455417   \n",
       "1  서울 강동구  1451.558750  1472.213056  1456.763333  1528.702500  1457.974359   \n",
       "\n",
       "      SK에너지_일반  알뜰(ex)_셀프  알뜰주유소_셀프  알뜰주유소_일반  자가상표_셀프  자가상표_일반    현대오일뱅크_셀프  \\\n",
       "0  1790.737444        NaN       NaN       NaN      NaN      NaN  1408.822500   \n",
       "1  1666.781667        NaN       NaN       NaN      NaN      NaN  1412.656667   \n",
       "\n",
       "     현대오일뱅크_일반  \n",
       "0  1604.995806  \n",
       "1  1441.861667  "
      ]
     },
     "execution_count": 61,
     "metadata": {},
     "output_type": "execute_result"
    }
   ],
   "source": [
    "# 코드를 입력하세요.\n",
    "#df = pd.read_csv('data/mySUNI_2.csv', encoding='EUC-KR')   # encoding='cp949'\n",
    "filename = 'data/mySUNI_2.csv'\n",
    "df = pd.read_csv(filename, encoding=getEncoding(filename))\n",
    "df.head(2)"
   ]
  },
  {
   "cell_type": "markdown",
   "metadata": {},
   "source": [
    "data 폴더에 있는 mySUNI_3.csv 파일을 읽어서 df에 저장하세요.\n",
    "- encoding은 cp949로 되어있습니다."
   ]
  },
  {
   "cell_type": "code",
   "execution_count": 62,
   "metadata": {},
   "outputs": [
    {
     "data": {
      "text/html": [
       "<div>\n",
       "<style scoped>\n",
       "    .dataframe tbody tr th:only-of-type {\n",
       "        vertical-align: middle;\n",
       "    }\n",
       "\n",
       "    .dataframe tbody tr th {\n",
       "        vertical-align: top;\n",
       "    }\n",
       "\n",
       "    .dataframe thead th {\n",
       "        text-align: right;\n",
       "    }\n",
       "</style>\n",
       "<table border=\"1\" class=\"dataframe\">\n",
       "  <thead>\n",
       "    <tr style=\"text-align: right;\">\n",
       "      <th></th>\n",
       "      <th>지역|GS칼텍스_셀프|GS칼텍스_일반|S-OIL_셀프|S-OIL_일반|SK에너지_셀프|SK에너지_일반|알뜰(ex)_셀프|알뜰주유소_셀프|알뜰주유소_일반|자가상표_셀프|자가상표_일반|현대오일뱅크_셀프|현대오일뱅크_일반</th>\n",
       "    </tr>\n",
       "  </thead>\n",
       "  <tbody>\n",
       "    <tr>\n",
       "      <th>0</th>\n",
       "      <td>서울 강남구|1479.6282857142858|1647.3725000000002|1...</td>\n",
       "    </tr>\n",
       "    <tr>\n",
       "      <th>1</th>\n",
       "      <td>서울 강동구|1451.5587500000001|1472.2130555555555|1...</td>\n",
       "    </tr>\n",
       "  </tbody>\n",
       "</table>\n",
       "</div>"
      ],
      "text/plain": [
       "  지역|GS칼텍스_셀프|GS칼텍스_일반|S-OIL_셀프|S-OIL_일반|SK에너지_셀프|SK에너지_일반|알뜰(ex)_셀프|알뜰주유소_셀프|알뜰주유소_일반|자가상표_셀프|자가상표_일반|현대오일뱅크_셀프|현대오일뱅크_일반\n",
       "0  서울 강남구|1479.6282857142858|1647.3725000000002|1...                                                                      \n",
       "1  서울 강동구|1451.5587500000001|1472.2130555555555|1...                                                                      "
      ]
     },
     "execution_count": 62,
     "metadata": {},
     "output_type": "execute_result"
    }
   ],
   "source": [
    "# 코드를 입력하세요.\n",
    "filename = 'data/mySUNI_3.csv'\n",
    "df = pd.read_csv(filename, encoding=getEncoding(filename))\n",
    "df.head(2)"
   ]
  },
  {
   "cell_type": "code",
   "execution_count": 63,
   "metadata": {},
   "outputs": [
    {
     "data": {
      "text/plain": [
       "(25, 1)"
      ]
     },
     "execution_count": 63,
     "metadata": {},
     "output_type": "execute_result"
    }
   ],
   "source": [
    "df.shape"
   ]
  },
  {
   "cell_type": "markdown",
   "metadata": {},
   "source": [
    "- 구분자(sep)는 ,가 아닌 |로 되어있습니다 다시 파일을 읽어오세요."
   ]
  },
  {
   "cell_type": "code",
   "execution_count": 64,
   "metadata": {},
   "outputs": [
    {
     "data": {
      "text/html": [
       "<div>\n",
       "<style scoped>\n",
       "    .dataframe tbody tr th:only-of-type {\n",
       "        vertical-align: middle;\n",
       "    }\n",
       "\n",
       "    .dataframe tbody tr th {\n",
       "        vertical-align: top;\n",
       "    }\n",
       "\n",
       "    .dataframe thead th {\n",
       "        text-align: right;\n",
       "    }\n",
       "</style>\n",
       "<table border=\"1\" class=\"dataframe\">\n",
       "  <thead>\n",
       "    <tr style=\"text-align: right;\">\n",
       "      <th></th>\n",
       "      <th>지역</th>\n",
       "      <th>GS칼텍스_셀프</th>\n",
       "      <th>GS칼텍스_일반</th>\n",
       "      <th>S-OIL_셀프</th>\n",
       "      <th>S-OIL_일반</th>\n",
       "      <th>SK에너지_셀프</th>\n",
       "      <th>SK에너지_일반</th>\n",
       "      <th>알뜰(ex)_셀프</th>\n",
       "      <th>알뜰주유소_셀프</th>\n",
       "      <th>알뜰주유소_일반</th>\n",
       "      <th>자가상표_셀프</th>\n",
       "      <th>자가상표_일반</th>\n",
       "      <th>현대오일뱅크_셀프</th>\n",
       "      <th>현대오일뱅크_일반</th>\n",
       "    </tr>\n",
       "  </thead>\n",
       "  <tbody>\n",
       "    <tr>\n",
       "      <th>0</th>\n",
       "      <td>서울 강남구</td>\n",
       "      <td>1479.628286</td>\n",
       "      <td>1647.372500</td>\n",
       "      <td>1459.241304</td>\n",
       "      <td>1641.747917</td>\n",
       "      <td>1452.455417</td>\n",
       "      <td>1790.737444</td>\n",
       "      <td>NaN</td>\n",
       "      <td>NaN</td>\n",
       "      <td>NaN</td>\n",
       "      <td>NaN</td>\n",
       "      <td>NaN</td>\n",
       "      <td>1408.822500</td>\n",
       "      <td>1604.995806</td>\n",
       "    </tr>\n",
       "    <tr>\n",
       "      <th>1</th>\n",
       "      <td>서울 강동구</td>\n",
       "      <td>1451.558750</td>\n",
       "      <td>1472.213056</td>\n",
       "      <td>1456.763333</td>\n",
       "      <td>1528.702500</td>\n",
       "      <td>1457.974359</td>\n",
       "      <td>1666.781667</td>\n",
       "      <td>NaN</td>\n",
       "      <td>NaN</td>\n",
       "      <td>NaN</td>\n",
       "      <td>NaN</td>\n",
       "      <td>NaN</td>\n",
       "      <td>1412.656667</td>\n",
       "      <td>1441.861667</td>\n",
       "    </tr>\n",
       "  </tbody>\n",
       "</table>\n",
       "</div>"
      ],
      "text/plain": [
       "       지역     GS칼텍스_셀프     GS칼텍스_일반     S-OIL_셀프     S-OIL_일반     SK에너지_셀프  \\\n",
       "0  서울 강남구  1479.628286  1647.372500  1459.241304  1641.747917  1452.455417   \n",
       "1  서울 강동구  1451.558750  1472.213056  1456.763333  1528.702500  1457.974359   \n",
       "\n",
       "      SK에너지_일반  알뜰(ex)_셀프  알뜰주유소_셀프  알뜰주유소_일반  자가상표_셀프  자가상표_일반    현대오일뱅크_셀프  \\\n",
       "0  1790.737444        NaN       NaN       NaN      NaN      NaN  1408.822500   \n",
       "1  1666.781667        NaN       NaN       NaN      NaN      NaN  1412.656667   \n",
       "\n",
       "     현대오일뱅크_일반  \n",
       "0  1604.995806  \n",
       "1  1441.861667  "
      ]
     },
     "execution_count": 64,
     "metadata": {},
     "output_type": "execute_result"
    }
   ],
   "source": [
    "# 코드를 입력하세요.\n",
    "filename = 'data/mySUNI_3.csv'\n",
    "df = pd.read_csv(filename, sep='|', encoding=getEncoding(filename))\n",
    "df.head(2)"
   ]
  },
  {
   "cell_type": "markdown",
   "metadata": {},
   "source": [
    "데이터를 5개씩 끊어서 읽어오세요."
   ]
  },
  {
   "cell_type": "code",
   "execution_count": 70,
   "metadata": {},
   "outputs": [],
   "source": [
    "# 코드를 입력하세요.\n",
    "filename = 'data/mySUNI_3.csv'\n",
    "df = pd.read_csv(filename, chunksize=5, sep='|', encoding=getEncoding(filename))"
   ]
  },
  {
   "cell_type": "code",
   "execution_count": 74,
   "metadata": {},
   "outputs": [
    {
     "data": {
      "text/plain": [
       "pandas.io.parsers.TextFileReader"
      ]
     },
     "execution_count": 74,
     "metadata": {},
     "output_type": "execute_result"
    }
   ],
   "source": [
    "type(df)  # pandas.io.parsers.TextFileReader    - iterator"
   ]
  },
  {
   "cell_type": "code",
   "execution_count": 72,
   "metadata": {},
   "outputs": [],
   "source": [
    "for d in df:\n",
    "    print(len(d))"
   ]
  }
 ],
 "metadata": {
  "colab": {
   "collapsed_sections": [],
   "name": "01-pandas-자료구조 (해설)",
   "provenance": []
  },
  "kernelspec": {
   "display_name": "Python 3",
   "language": "python",
   "name": "python3"
  },
  "language_info": {
   "codemirror_mode": {
    "name": "ipython",
    "version": 3
   },
   "file_extension": ".py",
   "mimetype": "text/x-python",
   "name": "python",
   "nbconvert_exporter": "python",
   "pygments_lexer": "ipython3",
   "version": "3.6.6"
  }
 },
 "nbformat": 4,
 "nbformat_minor": 1
}
